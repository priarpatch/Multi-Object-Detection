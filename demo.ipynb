{
 "cells": [
  {
   "cell_type": "code",
   "execution_count": 1,
   "metadata": {},
   "outputs": [
    {
     "name": "stdout",
     "output_type": "stream",
     "text": [
      "cuda\n"
     ]
    }
   ],
   "source": [
    "%matplotlib notebook\n",
    "from utils.dataloader import PascalVOCDataset\n",
    "from utils.dataloader import myimshow\n",
    "import torch\n",
    "import torch.nn as nn\n",
    "import torch.nn.functional as F\n",
    "import torch.utils.data as td\n",
    "import torchvision as tv\n",
    "import numpy as np\n",
    "from matplotlib import pyplot as plt\n",
    "from utils.PositionSensitiveScoreMap import PositionSensitiveScoreMap\n",
    "\n",
    "device = 'cuda' if torch.cuda.is_available() else 'cpu'\n",
    "print(device)"
   ]
  },
  {
   "cell_type": "code",
   "execution_count": 2,
   "metadata": {},
   "outputs": [],
   "source": [
    "dataset_root_dir = \"/datasets/ee285f-public/PascalVOC2012/\"\n",
    "# dataset_root_dir = \"../Datasets/VOCtrainval_11-May-2012/VOCdevkit/VOC2012\"\n",
    "\n",
    "#Creating training and validation sets. Go to utils/dataloader.py for info on important PascalVOCDataset arguments & attributes\n",
    "train_set = PascalVOCDataset(dataset_root_dir, mode= 'train')\n",
    "val_set = PascalVOCDataset(dataset_root_dir, mode= 'val')\n",
    "\n",
    "#Create dataloaders\n",
    "B = 1\n",
    "train_loader = td.DataLoader(train_set, batch_size = B, pin_memory = True, shuffle = True)\n",
    "val_loader = td.DataLoader(val_set, batch_size = B, pin_memory = True)"
   ]
  },
  {
   "cell_type": "code",
   "execution_count": 3,
   "metadata": {},
   "outputs": [
    {
     "data": {
      "application/javascript": [
       "/* Put everything inside the global mpl namespace */\n",
       "window.mpl = {};\n",
       "\n",
       "\n",
       "mpl.get_websocket_type = function() {\n",
       "    if (typeof(WebSocket) !== 'undefined') {\n",
       "        return WebSocket;\n",
       "    } else if (typeof(MozWebSocket) !== 'undefined') {\n",
       "        return MozWebSocket;\n",
       "    } else {\n",
       "        alert('Your browser does not have WebSocket support.' +\n",
       "              'Please try Chrome, Safari or Firefox ≥ 6. ' +\n",
       "              'Firefox 4 and 5 are also supported but you ' +\n",
       "              'have to enable WebSockets in about:config.');\n",
       "    };\n",
       "}\n",
       "\n",
       "mpl.figure = function(figure_id, websocket, ondownload, parent_element) {\n",
       "    this.id = figure_id;\n",
       "\n",
       "    this.ws = websocket;\n",
       "\n",
       "    this.supports_binary = (this.ws.binaryType != undefined);\n",
       "\n",
       "    if (!this.supports_binary) {\n",
       "        var warnings = document.getElementById(\"mpl-warnings\");\n",
       "        if (warnings) {\n",
       "            warnings.style.display = 'block';\n",
       "            warnings.textContent = (\n",
       "                \"This browser does not support binary websocket messages. \" +\n",
       "                    \"Performance may be slow.\");\n",
       "        }\n",
       "    }\n",
       "\n",
       "    this.imageObj = new Image();\n",
       "\n",
       "    this.context = undefined;\n",
       "    this.message = undefined;\n",
       "    this.canvas = undefined;\n",
       "    this.rubberband_canvas = undefined;\n",
       "    this.rubberband_context = undefined;\n",
       "    this.format_dropdown = undefined;\n",
       "\n",
       "    this.image_mode = 'full';\n",
       "\n",
       "    this.root = $('<div/>');\n",
       "    this._root_extra_style(this.root)\n",
       "    this.root.attr('style', 'display: inline-block');\n",
       "\n",
       "    $(parent_element).append(this.root);\n",
       "\n",
       "    this._init_header(this);\n",
       "    this._init_canvas(this);\n",
       "    this._init_toolbar(this);\n",
       "\n",
       "    var fig = this;\n",
       "\n",
       "    this.waiting = false;\n",
       "\n",
       "    this.ws.onopen =  function () {\n",
       "            fig.send_message(\"supports_binary\", {value: fig.supports_binary});\n",
       "            fig.send_message(\"send_image_mode\", {});\n",
       "            if (mpl.ratio != 1) {\n",
       "                fig.send_message(\"set_dpi_ratio\", {'dpi_ratio': mpl.ratio});\n",
       "            }\n",
       "            fig.send_message(\"refresh\", {});\n",
       "        }\n",
       "\n",
       "    this.imageObj.onload = function() {\n",
       "            if (fig.image_mode == 'full') {\n",
       "                // Full images could contain transparency (where diff images\n",
       "                // almost always do), so we need to clear the canvas so that\n",
       "                // there is no ghosting.\n",
       "                fig.context.clearRect(0, 0, fig.canvas.width, fig.canvas.height);\n",
       "            }\n",
       "            fig.context.drawImage(fig.imageObj, 0, 0);\n",
       "        };\n",
       "\n",
       "    this.imageObj.onunload = function() {\n",
       "        fig.ws.close();\n",
       "    }\n",
       "\n",
       "    this.ws.onmessage = this._make_on_message_function(this);\n",
       "\n",
       "    this.ondownload = ondownload;\n",
       "}\n",
       "\n",
       "mpl.figure.prototype._init_header = function() {\n",
       "    var titlebar = $(\n",
       "        '<div class=\"ui-dialog-titlebar ui-widget-header ui-corner-all ' +\n",
       "        'ui-helper-clearfix\"/>');\n",
       "    var titletext = $(\n",
       "        '<div class=\"ui-dialog-title\" style=\"width: 100%; ' +\n",
       "        'text-align: center; padding: 3px;\"/>');\n",
       "    titlebar.append(titletext)\n",
       "    this.root.append(titlebar);\n",
       "    this.header = titletext[0];\n",
       "}\n",
       "\n",
       "\n",
       "\n",
       "mpl.figure.prototype._canvas_extra_style = function(canvas_div) {\n",
       "\n",
       "}\n",
       "\n",
       "\n",
       "mpl.figure.prototype._root_extra_style = function(canvas_div) {\n",
       "\n",
       "}\n",
       "\n",
       "mpl.figure.prototype._init_canvas = function() {\n",
       "    var fig = this;\n",
       "\n",
       "    var canvas_div = $('<div/>');\n",
       "\n",
       "    canvas_div.attr('style', 'position: relative; clear: both; outline: 0');\n",
       "\n",
       "    function canvas_keyboard_event(event) {\n",
       "        return fig.key_event(event, event['data']);\n",
       "    }\n",
       "\n",
       "    canvas_div.keydown('key_press', canvas_keyboard_event);\n",
       "    canvas_div.keyup('key_release', canvas_keyboard_event);\n",
       "    this.canvas_div = canvas_div\n",
       "    this._canvas_extra_style(canvas_div)\n",
       "    this.root.append(canvas_div);\n",
       "\n",
       "    var canvas = $('<canvas/>');\n",
       "    canvas.addClass('mpl-canvas');\n",
       "    canvas.attr('style', \"left: 0; top: 0; z-index: 0; outline: 0\")\n",
       "\n",
       "    this.canvas = canvas[0];\n",
       "    this.context = canvas[0].getContext(\"2d\");\n",
       "\n",
       "    var backingStore = this.context.backingStorePixelRatio ||\n",
       "\tthis.context.webkitBackingStorePixelRatio ||\n",
       "\tthis.context.mozBackingStorePixelRatio ||\n",
       "\tthis.context.msBackingStorePixelRatio ||\n",
       "\tthis.context.oBackingStorePixelRatio ||\n",
       "\tthis.context.backingStorePixelRatio || 1;\n",
       "\n",
       "    mpl.ratio = (window.devicePixelRatio || 1) / backingStore;\n",
       "\n",
       "    var rubberband = $('<canvas/>');\n",
       "    rubberband.attr('style', \"position: absolute; left: 0; top: 0; z-index: 1;\")\n",
       "\n",
       "    var pass_mouse_events = true;\n",
       "\n",
       "    canvas_div.resizable({\n",
       "        start: function(event, ui) {\n",
       "            pass_mouse_events = false;\n",
       "        },\n",
       "        resize: function(event, ui) {\n",
       "            fig.request_resize(ui.size.width, ui.size.height);\n",
       "        },\n",
       "        stop: function(event, ui) {\n",
       "            pass_mouse_events = true;\n",
       "            fig.request_resize(ui.size.width, ui.size.height);\n",
       "        },\n",
       "    });\n",
       "\n",
       "    function mouse_event_fn(event) {\n",
       "        if (pass_mouse_events)\n",
       "            return fig.mouse_event(event, event['data']);\n",
       "    }\n",
       "\n",
       "    rubberband.mousedown('button_press', mouse_event_fn);\n",
       "    rubberband.mouseup('button_release', mouse_event_fn);\n",
       "    // Throttle sequential mouse events to 1 every 20ms.\n",
       "    rubberband.mousemove('motion_notify', mouse_event_fn);\n",
       "\n",
       "    rubberband.mouseenter('figure_enter', mouse_event_fn);\n",
       "    rubberband.mouseleave('figure_leave', mouse_event_fn);\n",
       "\n",
       "    canvas_div.on(\"wheel\", function (event) {\n",
       "        event = event.originalEvent;\n",
       "        event['data'] = 'scroll'\n",
       "        if (event.deltaY < 0) {\n",
       "            event.step = 1;\n",
       "        } else {\n",
       "            event.step = -1;\n",
       "        }\n",
       "        mouse_event_fn(event);\n",
       "    });\n",
       "\n",
       "    canvas_div.append(canvas);\n",
       "    canvas_div.append(rubberband);\n",
       "\n",
       "    this.rubberband = rubberband;\n",
       "    this.rubberband_canvas = rubberband[0];\n",
       "    this.rubberband_context = rubberband[0].getContext(\"2d\");\n",
       "    this.rubberband_context.strokeStyle = \"#000000\";\n",
       "\n",
       "    this._resize_canvas = function(width, height) {\n",
       "        // Keep the size of the canvas, canvas container, and rubber band\n",
       "        // canvas in synch.\n",
       "        canvas_div.css('width', width)\n",
       "        canvas_div.css('height', height)\n",
       "\n",
       "        canvas.attr('width', width * mpl.ratio);\n",
       "        canvas.attr('height', height * mpl.ratio);\n",
       "        canvas.attr('style', 'width: ' + width + 'px; height: ' + height + 'px;');\n",
       "\n",
       "        rubberband.attr('width', width);\n",
       "        rubberband.attr('height', height);\n",
       "    }\n",
       "\n",
       "    // Set the figure to an initial 600x600px, this will subsequently be updated\n",
       "    // upon first draw.\n",
       "    this._resize_canvas(600, 600);\n",
       "\n",
       "    // Disable right mouse context menu.\n",
       "    $(this.rubberband_canvas).bind(\"contextmenu\",function(e){\n",
       "        return false;\n",
       "    });\n",
       "\n",
       "    function set_focus () {\n",
       "        canvas.focus();\n",
       "        canvas_div.focus();\n",
       "    }\n",
       "\n",
       "    window.setTimeout(set_focus, 100);\n",
       "}\n",
       "\n",
       "mpl.figure.prototype._init_toolbar = function() {\n",
       "    var fig = this;\n",
       "\n",
       "    var nav_element = $('<div/>')\n",
       "    nav_element.attr('style', 'width: 100%');\n",
       "    this.root.append(nav_element);\n",
       "\n",
       "    // Define a callback function for later on.\n",
       "    function toolbar_event(event) {\n",
       "        return fig.toolbar_button_onclick(event['data']);\n",
       "    }\n",
       "    function toolbar_mouse_event(event) {\n",
       "        return fig.toolbar_button_onmouseover(event['data']);\n",
       "    }\n",
       "\n",
       "    for(var toolbar_ind in mpl.toolbar_items) {\n",
       "        var name = mpl.toolbar_items[toolbar_ind][0];\n",
       "        var tooltip = mpl.toolbar_items[toolbar_ind][1];\n",
       "        var image = mpl.toolbar_items[toolbar_ind][2];\n",
       "        var method_name = mpl.toolbar_items[toolbar_ind][3];\n",
       "\n",
       "        if (!name) {\n",
       "            // put a spacer in here.\n",
       "            continue;\n",
       "        }\n",
       "        var button = $('<button/>');\n",
       "        button.addClass('ui-button ui-widget ui-state-default ui-corner-all ' +\n",
       "                        'ui-button-icon-only');\n",
       "        button.attr('role', 'button');\n",
       "        button.attr('aria-disabled', 'false');\n",
       "        button.click(method_name, toolbar_event);\n",
       "        button.mouseover(tooltip, toolbar_mouse_event);\n",
       "\n",
       "        var icon_img = $('<span/>');\n",
       "        icon_img.addClass('ui-button-icon-primary ui-icon');\n",
       "        icon_img.addClass(image);\n",
       "        icon_img.addClass('ui-corner-all');\n",
       "\n",
       "        var tooltip_span = $('<span/>');\n",
       "        tooltip_span.addClass('ui-button-text');\n",
       "        tooltip_span.html(tooltip);\n",
       "\n",
       "        button.append(icon_img);\n",
       "        button.append(tooltip_span);\n",
       "\n",
       "        nav_element.append(button);\n",
       "    }\n",
       "\n",
       "    var fmt_picker_span = $('<span/>');\n",
       "\n",
       "    var fmt_picker = $('<select/>');\n",
       "    fmt_picker.addClass('mpl-toolbar-option ui-widget ui-widget-content');\n",
       "    fmt_picker_span.append(fmt_picker);\n",
       "    nav_element.append(fmt_picker_span);\n",
       "    this.format_dropdown = fmt_picker[0];\n",
       "\n",
       "    for (var ind in mpl.extensions) {\n",
       "        var fmt = mpl.extensions[ind];\n",
       "        var option = $(\n",
       "            '<option/>', {selected: fmt === mpl.default_extension}).html(fmt);\n",
       "        fmt_picker.append(option)\n",
       "    }\n",
       "\n",
       "    // Add hover states to the ui-buttons\n",
       "    $( \".ui-button\" ).hover(\n",
       "        function() { $(this).addClass(\"ui-state-hover\");},\n",
       "        function() { $(this).removeClass(\"ui-state-hover\");}\n",
       "    );\n",
       "\n",
       "    var status_bar = $('<span class=\"mpl-message\"/>');\n",
       "    nav_element.append(status_bar);\n",
       "    this.message = status_bar[0];\n",
       "}\n",
       "\n",
       "mpl.figure.prototype.request_resize = function(x_pixels, y_pixels) {\n",
       "    // Request matplotlib to resize the figure. Matplotlib will then trigger a resize in the client,\n",
       "    // which will in turn request a refresh of the image.\n",
       "    this.send_message('resize', {'width': x_pixels, 'height': y_pixels});\n",
       "}\n",
       "\n",
       "mpl.figure.prototype.send_message = function(type, properties) {\n",
       "    properties['type'] = type;\n",
       "    properties['figure_id'] = this.id;\n",
       "    this.ws.send(JSON.stringify(properties));\n",
       "}\n",
       "\n",
       "mpl.figure.prototype.send_draw_message = function() {\n",
       "    if (!this.waiting) {\n",
       "        this.waiting = true;\n",
       "        this.ws.send(JSON.stringify({type: \"draw\", figure_id: this.id}));\n",
       "    }\n",
       "}\n",
       "\n",
       "\n",
       "mpl.figure.prototype.handle_save = function(fig, msg) {\n",
       "    var format_dropdown = fig.format_dropdown;\n",
       "    var format = format_dropdown.options[format_dropdown.selectedIndex].value;\n",
       "    fig.ondownload(fig, format);\n",
       "}\n",
       "\n",
       "\n",
       "mpl.figure.prototype.handle_resize = function(fig, msg) {\n",
       "    var size = msg['size'];\n",
       "    if (size[0] != fig.canvas.width || size[1] != fig.canvas.height) {\n",
       "        fig._resize_canvas(size[0], size[1]);\n",
       "        fig.send_message(\"refresh\", {});\n",
       "    };\n",
       "}\n",
       "\n",
       "mpl.figure.prototype.handle_rubberband = function(fig, msg) {\n",
       "    var x0 = msg['x0'] / mpl.ratio;\n",
       "    var y0 = (fig.canvas.height - msg['y0']) / mpl.ratio;\n",
       "    var x1 = msg['x1'] / mpl.ratio;\n",
       "    var y1 = (fig.canvas.height - msg['y1']) / mpl.ratio;\n",
       "    x0 = Math.floor(x0) + 0.5;\n",
       "    y0 = Math.floor(y0) + 0.5;\n",
       "    x1 = Math.floor(x1) + 0.5;\n",
       "    y1 = Math.floor(y1) + 0.5;\n",
       "    var min_x = Math.min(x0, x1);\n",
       "    var min_y = Math.min(y0, y1);\n",
       "    var width = Math.abs(x1 - x0);\n",
       "    var height = Math.abs(y1 - y0);\n",
       "\n",
       "    fig.rubberband_context.clearRect(\n",
       "        0, 0, fig.canvas.width, fig.canvas.height);\n",
       "\n",
       "    fig.rubberband_context.strokeRect(min_x, min_y, width, height);\n",
       "}\n",
       "\n",
       "mpl.figure.prototype.handle_figure_label = function(fig, msg) {\n",
       "    // Updates the figure title.\n",
       "    fig.header.textContent = msg['label'];\n",
       "}\n",
       "\n",
       "mpl.figure.prototype.handle_cursor = function(fig, msg) {\n",
       "    var cursor = msg['cursor'];\n",
       "    switch(cursor)\n",
       "    {\n",
       "    case 0:\n",
       "        cursor = 'pointer';\n",
       "        break;\n",
       "    case 1:\n",
       "        cursor = 'default';\n",
       "        break;\n",
       "    case 2:\n",
       "        cursor = 'crosshair';\n",
       "        break;\n",
       "    case 3:\n",
       "        cursor = 'move';\n",
       "        break;\n",
       "    }\n",
       "    fig.rubberband_canvas.style.cursor = cursor;\n",
       "}\n",
       "\n",
       "mpl.figure.prototype.handle_message = function(fig, msg) {\n",
       "    fig.message.textContent = msg['message'];\n",
       "}\n",
       "\n",
       "mpl.figure.prototype.handle_draw = function(fig, msg) {\n",
       "    // Request the server to send over a new figure.\n",
       "    fig.send_draw_message();\n",
       "}\n",
       "\n",
       "mpl.figure.prototype.handle_image_mode = function(fig, msg) {\n",
       "    fig.image_mode = msg['mode'];\n",
       "}\n",
       "\n",
       "mpl.figure.prototype.updated_canvas_event = function() {\n",
       "    // Called whenever the canvas gets updated.\n",
       "    this.send_message(\"ack\", {});\n",
       "}\n",
       "\n",
       "// A function to construct a web socket function for onmessage handling.\n",
       "// Called in the figure constructor.\n",
       "mpl.figure.prototype._make_on_message_function = function(fig) {\n",
       "    return function socket_on_message(evt) {\n",
       "        if (evt.data instanceof Blob) {\n",
       "            /* FIXME: We get \"Resource interpreted as Image but\n",
       "             * transferred with MIME type text/plain:\" errors on\n",
       "             * Chrome.  But how to set the MIME type?  It doesn't seem\n",
       "             * to be part of the websocket stream */\n",
       "            evt.data.type = \"image/png\";\n",
       "\n",
       "            /* Free the memory for the previous frames */\n",
       "            if (fig.imageObj.src) {\n",
       "                (window.URL || window.webkitURL).revokeObjectURL(\n",
       "                    fig.imageObj.src);\n",
       "            }\n",
       "\n",
       "            fig.imageObj.src = (window.URL || window.webkitURL).createObjectURL(\n",
       "                evt.data);\n",
       "            fig.updated_canvas_event();\n",
       "            fig.waiting = false;\n",
       "            return;\n",
       "        }\n",
       "        else if (typeof evt.data === 'string' && evt.data.slice(0, 21) == \"data:image/png;base64\") {\n",
       "            fig.imageObj.src = evt.data;\n",
       "            fig.updated_canvas_event();\n",
       "            fig.waiting = false;\n",
       "            return;\n",
       "        }\n",
       "\n",
       "        var msg = JSON.parse(evt.data);\n",
       "        var msg_type = msg['type'];\n",
       "\n",
       "        // Call the  \"handle_{type}\" callback, which takes\n",
       "        // the figure and JSON message as its only arguments.\n",
       "        try {\n",
       "            var callback = fig[\"handle_\" + msg_type];\n",
       "        } catch (e) {\n",
       "            console.log(\"No handler for the '\" + msg_type + \"' message type: \", msg);\n",
       "            return;\n",
       "        }\n",
       "\n",
       "        if (callback) {\n",
       "            try {\n",
       "                // console.log(\"Handling '\" + msg_type + \"' message: \", msg);\n",
       "                callback(fig, msg);\n",
       "            } catch (e) {\n",
       "                console.log(\"Exception inside the 'handler_\" + msg_type + \"' callback:\", e, e.stack, msg);\n",
       "            }\n",
       "        }\n",
       "    };\n",
       "}\n",
       "\n",
       "// from http://stackoverflow.com/questions/1114465/getting-mouse-location-in-canvas\n",
       "mpl.findpos = function(e) {\n",
       "    //this section is from http://www.quirksmode.org/js/events_properties.html\n",
       "    var targ;\n",
       "    if (!e)\n",
       "        e = window.event;\n",
       "    if (e.target)\n",
       "        targ = e.target;\n",
       "    else if (e.srcElement)\n",
       "        targ = e.srcElement;\n",
       "    if (targ.nodeType == 3) // defeat Safari bug\n",
       "        targ = targ.parentNode;\n",
       "\n",
       "    // jQuery normalizes the pageX and pageY\n",
       "    // pageX,Y are the mouse positions relative to the document\n",
       "    // offset() returns the position of the element relative to the document\n",
       "    var x = e.pageX - $(targ).offset().left;\n",
       "    var y = e.pageY - $(targ).offset().top;\n",
       "\n",
       "    return {\"x\": x, \"y\": y};\n",
       "};\n",
       "\n",
       "/*\n",
       " * return a copy of an object with only non-object keys\n",
       " * we need this to avoid circular references\n",
       " * http://stackoverflow.com/a/24161582/3208463\n",
       " */\n",
       "function simpleKeys (original) {\n",
       "  return Object.keys(original).reduce(function (obj, key) {\n",
       "    if (typeof original[key] !== 'object')\n",
       "        obj[key] = original[key]\n",
       "    return obj;\n",
       "  }, {});\n",
       "}\n",
       "\n",
       "mpl.figure.prototype.mouse_event = function(event, name) {\n",
       "    var canvas_pos = mpl.findpos(event)\n",
       "\n",
       "    if (name === 'button_press')\n",
       "    {\n",
       "        this.canvas.focus();\n",
       "        this.canvas_div.focus();\n",
       "    }\n",
       "\n",
       "    var x = canvas_pos.x * mpl.ratio;\n",
       "    var y = canvas_pos.y * mpl.ratio;\n",
       "\n",
       "    this.send_message(name, {x: x, y: y, button: event.button,\n",
       "                             step: event.step,\n",
       "                             guiEvent: simpleKeys(event)});\n",
       "\n",
       "    /* This prevents the web browser from automatically changing to\n",
       "     * the text insertion cursor when the button is pressed.  We want\n",
       "     * to control all of the cursor setting manually through the\n",
       "     * 'cursor' event from matplotlib */\n",
       "    event.preventDefault();\n",
       "    return false;\n",
       "}\n",
       "\n",
       "mpl.figure.prototype._key_event_extra = function(event, name) {\n",
       "    // Handle any extra behaviour associated with a key event\n",
       "}\n",
       "\n",
       "mpl.figure.prototype.key_event = function(event, name) {\n",
       "\n",
       "    // Prevent repeat events\n",
       "    if (name == 'key_press')\n",
       "    {\n",
       "        if (event.which === this._key)\n",
       "            return;\n",
       "        else\n",
       "            this._key = event.which;\n",
       "    }\n",
       "    if (name == 'key_release')\n",
       "        this._key = null;\n",
       "\n",
       "    var value = '';\n",
       "    if (event.ctrlKey && event.which != 17)\n",
       "        value += \"ctrl+\";\n",
       "    if (event.altKey && event.which != 18)\n",
       "        value += \"alt+\";\n",
       "    if (event.shiftKey && event.which != 16)\n",
       "        value += \"shift+\";\n",
       "\n",
       "    value += 'k';\n",
       "    value += event.which.toString();\n",
       "\n",
       "    this._key_event_extra(event, name);\n",
       "\n",
       "    this.send_message(name, {key: value,\n",
       "                             guiEvent: simpleKeys(event)});\n",
       "    return false;\n",
       "}\n",
       "\n",
       "mpl.figure.prototype.toolbar_button_onclick = function(name) {\n",
       "    if (name == 'download') {\n",
       "        this.handle_save(this, null);\n",
       "    } else {\n",
       "        this.send_message(\"toolbar_button\", {name: name});\n",
       "    }\n",
       "};\n",
       "\n",
       "mpl.figure.prototype.toolbar_button_onmouseover = function(tooltip) {\n",
       "    this.message.textContent = tooltip;\n",
       "};\n",
       "mpl.toolbar_items = [[\"Home\", \"Reset original view\", \"fa fa-home icon-home\", \"home\"], [\"Back\", \"Back to previous view\", \"fa fa-arrow-left icon-arrow-left\", \"back\"], [\"Forward\", \"Forward to next view\", \"fa fa-arrow-right icon-arrow-right\", \"forward\"], [\"\", \"\", \"\", \"\"], [\"Pan\", \"Pan axes with left mouse, zoom with right\", \"fa fa-arrows icon-move\", \"pan\"], [\"Zoom\", \"Zoom to rectangle\", \"fa fa-square-o icon-check-empty\", \"zoom\"], [\"\", \"\", \"\", \"\"], [\"Download\", \"Download plot\", \"fa fa-floppy-o icon-save\", \"download\"]];\n",
       "\n",
       "mpl.extensions = [\"eps\", \"jpeg\", \"pdf\", \"png\", \"ps\", \"raw\", \"svg\", \"tif\"];\n",
       "\n",
       "mpl.default_extension = \"png\";var comm_websocket_adapter = function(comm) {\n",
       "    // Create a \"websocket\"-like object which calls the given IPython comm\n",
       "    // object with the appropriate methods. Currently this is a non binary\n",
       "    // socket, so there is still some room for performance tuning.\n",
       "    var ws = {};\n",
       "\n",
       "    ws.close = function() {\n",
       "        comm.close()\n",
       "    };\n",
       "    ws.send = function(m) {\n",
       "        //console.log('sending', m);\n",
       "        comm.send(m);\n",
       "    };\n",
       "    // Register the callback with on_msg.\n",
       "    comm.on_msg(function(msg) {\n",
       "        //console.log('receiving', msg['content']['data'], msg);\n",
       "        // Pass the mpl event to the overridden (by mpl) onmessage function.\n",
       "        ws.onmessage(msg['content']['data'])\n",
       "    });\n",
       "    return ws;\n",
       "}\n",
       "\n",
       "mpl.mpl_figure_comm = function(comm, msg) {\n",
       "    // This is the function which gets called when the mpl process\n",
       "    // starts-up an IPython Comm through the \"matplotlib\" channel.\n",
       "\n",
       "    var id = msg.content.data.id;\n",
       "    // Get hold of the div created by the display call when the Comm\n",
       "    // socket was opened in Python.\n",
       "    var element = $(\"#\" + id);\n",
       "    var ws_proxy = comm_websocket_adapter(comm)\n",
       "\n",
       "    function ondownload(figure, format) {\n",
       "        window.open(figure.imageObj.src);\n",
       "    }\n",
       "\n",
       "    var fig = new mpl.figure(id, ws_proxy,\n",
       "                           ondownload,\n",
       "                           element.get(0));\n",
       "\n",
       "    // Call onopen now - mpl needs it, as it is assuming we've passed it a real\n",
       "    // web socket which is closed, not our websocket->open comm proxy.\n",
       "    ws_proxy.onopen();\n",
       "\n",
       "    fig.parent_element = element.get(0);\n",
       "    fig.cell_info = mpl.find_output_cell(\"<div id='\" + id + \"'></div>\");\n",
       "    if (!fig.cell_info) {\n",
       "        console.error(\"Failed to find cell for figure\", id, fig);\n",
       "        return;\n",
       "    }\n",
       "\n",
       "    var output_index = fig.cell_info[2]\n",
       "    var cell = fig.cell_info[0];\n",
       "\n",
       "};\n",
       "\n",
       "mpl.figure.prototype.handle_close = function(fig, msg) {\n",
       "    var width = fig.canvas.width/mpl.ratio\n",
       "    fig.root.unbind('remove')\n",
       "\n",
       "    // Update the output cell to use the data from the current canvas.\n",
       "    fig.push_to_output();\n",
       "    var dataURL = fig.canvas.toDataURL();\n",
       "    // Re-enable the keyboard manager in IPython - without this line, in FF,\n",
       "    // the notebook keyboard shortcuts fail.\n",
       "    IPython.keyboard_manager.enable()\n",
       "    $(fig.parent_element).html('<img src=\"' + dataURL + '\" width=\"' + width + '\">');\n",
       "    fig.close_ws(fig, msg);\n",
       "}\n",
       "\n",
       "mpl.figure.prototype.close_ws = function(fig, msg){\n",
       "    fig.send_message('closing', msg);\n",
       "    // fig.ws.close()\n",
       "}\n",
       "\n",
       "mpl.figure.prototype.push_to_output = function(remove_interactive) {\n",
       "    // Turn the data on the canvas into data in the output cell.\n",
       "    var width = this.canvas.width/mpl.ratio\n",
       "    var dataURL = this.canvas.toDataURL();\n",
       "    this.cell_info[1]['text/html'] = '<img src=\"' + dataURL + '\" width=\"' + width + '\">';\n",
       "}\n",
       "\n",
       "mpl.figure.prototype.updated_canvas_event = function() {\n",
       "    // Tell IPython that the notebook contents must change.\n",
       "    IPython.notebook.set_dirty(true);\n",
       "    this.send_message(\"ack\", {});\n",
       "    var fig = this;\n",
       "    // Wait a second, then push the new image to the DOM so\n",
       "    // that it is saved nicely (might be nice to debounce this).\n",
       "    setTimeout(function () { fig.push_to_output() }, 1000);\n",
       "}\n",
       "\n",
       "mpl.figure.prototype._init_toolbar = function() {\n",
       "    var fig = this;\n",
       "\n",
       "    var nav_element = $('<div/>')\n",
       "    nav_element.attr('style', 'width: 100%');\n",
       "    this.root.append(nav_element);\n",
       "\n",
       "    // Define a callback function for later on.\n",
       "    function toolbar_event(event) {\n",
       "        return fig.toolbar_button_onclick(event['data']);\n",
       "    }\n",
       "    function toolbar_mouse_event(event) {\n",
       "        return fig.toolbar_button_onmouseover(event['data']);\n",
       "    }\n",
       "\n",
       "    for(var toolbar_ind in mpl.toolbar_items){\n",
       "        var name = mpl.toolbar_items[toolbar_ind][0];\n",
       "        var tooltip = mpl.toolbar_items[toolbar_ind][1];\n",
       "        var image = mpl.toolbar_items[toolbar_ind][2];\n",
       "        var method_name = mpl.toolbar_items[toolbar_ind][3];\n",
       "\n",
       "        if (!name) { continue; };\n",
       "\n",
       "        var button = $('<button class=\"btn btn-default\" href=\"#\" title=\"' + name + '\"><i class=\"fa ' + image + ' fa-lg\"></i></button>');\n",
       "        button.click(method_name, toolbar_event);\n",
       "        button.mouseover(tooltip, toolbar_mouse_event);\n",
       "        nav_element.append(button);\n",
       "    }\n",
       "\n",
       "    // Add the status bar.\n",
       "    var status_bar = $('<span class=\"mpl-message\" style=\"text-align:right; float: right;\"/>');\n",
       "    nav_element.append(status_bar);\n",
       "    this.message = status_bar[0];\n",
       "\n",
       "    // Add the close button to the window.\n",
       "    var buttongrp = $('<div class=\"btn-group inline pull-right\"></div>');\n",
       "    var button = $('<button class=\"btn btn-mini btn-primary\" href=\"#\" title=\"Stop Interaction\"><i class=\"fa fa-power-off icon-remove icon-large\"></i></button>');\n",
       "    button.click(function (evt) { fig.handle_close(fig, {}); } );\n",
       "    button.mouseover('Stop Interaction', toolbar_mouse_event);\n",
       "    buttongrp.append(button);\n",
       "    var titlebar = this.root.find($('.ui-dialog-titlebar'));\n",
       "    titlebar.prepend(buttongrp);\n",
       "}\n",
       "\n",
       "mpl.figure.prototype._root_extra_style = function(el){\n",
       "    var fig = this\n",
       "    el.on(\"remove\", function(){\n",
       "\tfig.close_ws(fig, {});\n",
       "    });\n",
       "}\n",
       "\n",
       "mpl.figure.prototype._canvas_extra_style = function(el){\n",
       "    // this is important to make the div 'focusable\n",
       "    el.attr('tabindex', 0)\n",
       "    // reach out to IPython and tell the keyboard manager to turn it's self\n",
       "    // off when our div gets focus\n",
       "\n",
       "    // location in version 3\n",
       "    if (IPython.notebook.keyboard_manager) {\n",
       "        IPython.notebook.keyboard_manager.register_events(el);\n",
       "    }\n",
       "    else {\n",
       "        // location in version 2\n",
       "        IPython.keyboard_manager.register_events(el);\n",
       "    }\n",
       "\n",
       "}\n",
       "\n",
       "mpl.figure.prototype._key_event_extra = function(event, name) {\n",
       "    var manager = IPython.notebook.keyboard_manager;\n",
       "    if (!manager)\n",
       "        manager = IPython.keyboard_manager;\n",
       "\n",
       "    // Check for shift+enter\n",
       "    if (event.shiftKey && event.which == 13) {\n",
       "        this.canvas_div.blur();\n",
       "        event.shiftKey = false;\n",
       "        // Send a \"J\" for go to next cell\n",
       "        event.which = 74;\n",
       "        event.keyCode = 74;\n",
       "        manager.command_mode();\n",
       "        manager.handle_keydown(event);\n",
       "    }\n",
       "}\n",
       "\n",
       "mpl.figure.prototype.handle_save = function(fig, msg) {\n",
       "    fig.ondownload(fig, null);\n",
       "}\n",
       "\n",
       "\n",
       "mpl.find_output_cell = function(html_output) {\n",
       "    // Return the cell and output element which can be found *uniquely* in the notebook.\n",
       "    // Note - this is a bit hacky, but it is done because the \"notebook_saving.Notebook\"\n",
       "    // IPython event is triggered only after the cells have been serialised, which for\n",
       "    // our purposes (turning an active figure into a static one), is too late.\n",
       "    var cells = IPython.notebook.get_cells();\n",
       "    var ncells = cells.length;\n",
       "    for (var i=0; i<ncells; i++) {\n",
       "        var cell = cells[i];\n",
       "        if (cell.cell_type === 'code'){\n",
       "            for (var j=0; j<cell.output_area.outputs.length; j++) {\n",
       "                var data = cell.output_area.outputs[j];\n",
       "                if (data.data) {\n",
       "                    // IPython >= 3 moved mimebundle to data attribute of output\n",
       "                    data = data.data;\n",
       "                }\n",
       "                if (data['text/html'] == html_output) {\n",
       "                    return [cell, data, j];\n",
       "                }\n",
       "            }\n",
       "        }\n",
       "    }\n",
       "}\n",
       "\n",
       "// Register the function which deals with the matplotlib target/channel.\n",
       "// The kernel may be null if the page has been refreshed.\n",
       "if (IPython.notebook.kernel != null) {\n",
       "    IPython.notebook.kernel.comm_manager.register_target('matplotlib', mpl.mpl_figure_comm);\n",
       "}\n"
      ],
      "text/plain": [
       "<IPython.core.display.Javascript object>"
      ]
     },
     "metadata": {},
     "output_type": "display_data"
    },
    {
     "data": {
      "text/html": [
       "<img src=\"data:image/png;base64,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\" width=\"640\">"
      ],
      "text/plain": [
       "<IPython.core.display.HTML object>"
      ]
     },
     "metadata": {},
     "output_type": "display_data"
    },
    {
     "name": "stdout",
     "output_type": "stream",
     "text": [
      "Bounding box corners tensor([[  0,   0, 250, 197]])\n"
     ]
    }
   ],
   "source": [
    "#Training set image demo\n",
    "fig, ax = plt.subplots()\n",
    "x, bbox, bbox_labels, scale = train_set.__getitem__(15)\n",
    "h = myimshow(x, ax)\n",
    "\n",
    "print(\"Bounding box corners\", bbox)"
   ]
  },
  {
   "cell_type": "code",
   "execution_count": 5,
   "metadata": {},
   "outputs": [
    {
     "name": "stderr",
     "output_type": "stream",
     "text": [
      "/datasets/home/home-02/50/150/prvo/Multi-Object-Detection/model/rfcn_resnet101.py:83: UserWarning: nn.init.normal is now deprecated in favor of nn.init.normal_.\n",
      "  nn.init.normal(self.cls_layer.weight.data, 0.0, 0.01)\n",
      "/datasets/home/home-02/50/150/prvo/Multi-Object-Detection/model/rfcn_resnet101.py:87: UserWarning: nn.init.normal is now deprecated in favor of nn.init.normal_.\n",
      "  nn.init.normal(self.reg_layer.weight.data, 0.0, 0.01)\n"
     ]
    }
   ],
   "source": [
    "#before running, $cd Multi-Object-Detection/model/utils/nms\n",
    "#then            $python3 build.py build_ext --inplace\n",
    "\n",
    "from model.region_proposal_network import RegionProposalNetwork\n",
    "from model.resnet101extractor import Resnet101Extractor\n",
    "from model.rfcn_resnet101 import Resnet101RoIHead\n",
    "from model.rfcn_resnet101 import RFCNResnet101\n",
    "\n",
    "n_fg_class = 20\n",
    "feat_stride = 520//16\n",
    "extractor = Resnet101Extractor().to(device)\n",
    "rpn = RegionProposalNetwork(in_channels=1024, mid_channels = 1024).to(device)\n",
    "head = Resnet101RoIHead( #Main class to change\n",
    "            n_class=n_fg_class + 1,\n",
    "            roi_size=7,\n",
    "            spatial_scale=(1. / feat_stride)\n",
    "        ).to(device)\n",
    "\n",
    "rfcn = RFCNResnet101().to(device)"
   ]
  },
  {
   "cell_type": "code",
   "execution_count": 6,
   "metadata": {},
   "outputs": [
    {
     "name": "stderr",
     "output_type": "stream",
     "text": [
      "/datasets/home/home-02/50/150/prvo/Multi-Object-Detection/utils/PositionSensitiveScoreMap_V2.py:60: UserWarning: Implicit dimension choice for softmax has been deprecated. Change the call to include dim=X as an argument.\n",
      "  scores = self.softmax(F.adaptive_avg_pool2d(pooling_track.float(),(1,1))[:,:])\n"
     ]
    }
   ],
   "source": [
    "tensor_im = x.to(device).unsqueeze(0)\n",
    "out = rfcn(tensor_im)"
   ]
  },
  {
   "cell_type": "code",
   "execution_count": 8,
   "metadata": {},
   "outputs": [
    {
     "name": "stderr",
     "output_type": "stream",
     "text": [
      "WARNING:root:Setting up a new session...\n",
      "WARNING:visdom:Without the incoming socket you cannot receive events from the server or register event handlers to your Visdom client.\n"
     ]
    }
   ],
   "source": [
    "from trainer import FasterRCNNTrainer\n",
    "trainer = FasterRCNNTrainer(rfcn).to(device)\n",
    "train_loader = td.DataLoader(train_set, batch_size=1, pin_memory = True, shuffle = True)\n",
    "val_loader  = td.DataLoader(val_set, batch_size=1, pin_memory = True, shuffle = False)"
   ]
  },
  {
   "cell_type": "code",
   "execution_count": null,
   "metadata": {},
   "outputs": [
    {
     "name": "stderr",
     "output_type": "stream",
     "text": [
      "/datasets/home/home-02/50/150/prvo/Multi-Object-Detection/utils/PositionSensitiveScoreMap_V2.py:61: UserWarning: Implicit dimension choice for softmax has been deprecated. Change the call to include dim=X as an argument.\n",
      "  scores = self.softmax(F.adaptive_avg_pool2d(pooling_track.float(),(1,1))[:,:])\n"
     ]
    },
    {
     "name": "stdout",
     "output_type": "stream",
     "text": [
      "LossTuple(rpn_loc_loss=tensor(5.0048, device='cuda:0', grad_fn=<CopyBackwards>), rpn_cls_loss=tensor(4.8224, device='cuda:0', grad_fn=<NllLossBackward>), roi_loc_loss=tensor(2.2565, device='cuda:0', grad_fn=<CopyBackwards>), roi_cls_loss=tensor(3.0617, device='cuda:0', grad_fn=<NllLossBackward>), total_loss=tensor(15.1455, device='cuda:0', grad_fn=<AddBackward0>))\n",
      "tensor(15.1455, device='cuda:0', grad_fn=<AddBackward0>)\n",
      "<class 'torch.Tensor'>\n",
      "Elapsed time:  2.562675714492798\n",
      "Loss tuple:  LossTuple(rpn_loc_loss=tensor(5.0048, device='cuda:0', grad_fn=<CopyBackwards>), rpn_cls_loss=tensor(4.8224, device='cuda:0', grad_fn=<NllLossBackward>), roi_loc_loss=tensor(2.2565, device='cuda:0', grad_fn=<CopyBackwards>), roi_cls_loss=tensor(3.0617, device='cuda:0', grad_fn=<NllLossBackward>), total_loss=tensor(15.1455, device='cuda:0', grad_fn=<AddBackward0>))\n"
     ]
    }
   ],
   "source": [
    "import time\n",
    "t = time.time()\n",
    "img, bboxes, lbls, scale = next(iter(train_loader))\n",
    "img = img.to(device)\n",
    "bboxes = bboxes.to(device)\n",
    "lbls = lbls.to(device)\n",
    "scale = scale.item()\n",
    "loss =trainer.train_step(img, bboxes, lbls, scale)\n",
    "elapsed = time.time() - t\n",
    "print(\"Elapsed time: \", elapsed)\n",
    "print(\"Loss tuple: \", loss)"
   ]
  },
  {
   "cell_type": "code",
   "execution_count": 9,
   "metadata": {},
   "outputs": [],
   "source": [
    "out = extractor(tensor_im)"
   ]
  },
  {
   "cell_type": "code",
   "execution_count": 28,
   "metadata": {},
   "outputs": [],
   "source": [
    "from __future__ import  absolute_import\n",
    "# though cupy is not used but without this line, it raise errors...\n",
    "import cupy as cp\n",
    "import os\n",
    "\n",
    "import matplotlib\n",
    "from tqdm import tqdm\n",
    "\n",
    "import torch as t\n",
    "from utils.config import opt\n",
    "from model.rfcn_resnet101 import RFCNResnet101\n",
    "from torch.utils import data as data_\n",
    "from trainer import FasterRCNNTrainer\n",
    "from utils import array_tool as at\n",
    "from utils.vis_tool import visdom_bbox\n",
    "from utils.eval_tool import eval_detection_voc\n",
    "\n",
    "# fix for ulimit\n",
    "# https://github.com/pytorch/pytorch/issues/973#issuecomment-346405667\n",
    "import resource\n",
    "\n",
    "rlimit = resource.getrlimit(resource.RLIMIT_NOFILE)\n",
    "resource.setrlimit(resource.RLIMIT_NOFILE, (20480, rlimit[1]))\n",
    "\n",
    "matplotlib.use('agg')\n",
    "\n",
    "\n",
    "def eval(dataloader, faster_rcnn, test_num=10000):\n",
    "    gt_difficults = False\n",
    "    pred_bboxes, pred_labels, pred_scores = list(), list(), list()\n",
    "    gt_bboxes, gt_labels, gt_difficults = list(), list(), list()\n",
    "    for ii, (imgs, sizes, gt_bboxes_, gt_labels_) in tqdm(enumerate(dataloader)):\n",
    "        pred_bboxes_, pred_labels_, pred_scores_ = faster_rcnn.predict(imgs)\n",
    "        gt_bboxes += list(gt_bboxes_.numpy())\n",
    "        gt_labels += list(gt_labels_.numpy())\n",
    "        pred_bboxes += pred_bboxes_\n",
    "        pred_labels += pred_labels_\n",
    "        pred_scores += pred_scores_\n",
    "        if ii == test_num: break\n",
    "\n",
    "    result = eval_detection_voc(\n",
    "        pred_bboxes, pred_labels, pred_scores,\n",
    "        gt_bboxes, gt_labels, gt_difficults,\n",
    "        use_07_metric=True)\n",
    "    return result\n",
    "\n",
    "\n",
    "def train(train_set, val_set, load_path = False, epochs = 1, lr=1e-3, record_every = 300, lr_decay = 1e-3,test_num=500):\n",
    "\n",
    "    train_dataloader = td.DataLoader(train_set, batch_size = 1, pin_memory = False, shuffle = True)\n",
    "    test_dataloader = td.DataLoader(val_set, batch_size = 1, pin_memory = True)\n",
    "    faster_rcnn = RFCNResnet101().cuda()\n",
    "    print('model construct completed')\n",
    "    trainer = FasterRCNNTrainer(faster_rcnn).cuda()\n",
    "    saved_loss = []\n",
    "    iterations = []\n",
    "    if load_path:\n",
    "        trainer.load(load_path)\n",
    "        print('load pretrained model from %s' % load_path)\n",
    "        state_dict = t.load(load_path)\n",
    "        saved_loss = state_dict['losses']\n",
    "        iterations = state_dict['iterations']\n",
    "        \n",
    "    best_map = 0\n",
    "    lr_ = lr\n",
    "    for epoch in range(epochs):\n",
    "        trainer.reset_meters()\n",
    "        for ii, (img, bbox_, label_, scale) in tqdm(enumerate(train_dataloader)):\n",
    "            scale = at.scalar(scale)\n",
    "            img, bbox, label = img.cuda().float(), bbox_.cuda(), label_.cuda()\n",
    "            losses = trainer.train_step(img, bbox, label, scale)\n",
    "            loss_info = 'Iter {}; Losses: RPN loc {}, RPN cls: {}, ROI loc {}, ROI cls {}, Total:{}'.format(\n",
    "                                                str(ii),\n",
    "                                                \"%.3f\" % losses[0].cpu().data.numpy(),\n",
    "                                                \"%.3f\" % losses[1].cpu().data.numpy(),\n",
    "                                                \"%.3f\" % losses[2].cpu().data.numpy(),\n",
    "                                                \"%.3f\" % losses[3].cpu().data.numpy(),                                \n",
    "                                                \"%.3f\" % losses[4].cpu().data.numpy())\n",
    "            print(loss_info)\n",
    "            if (ii + 1) % record_every == 0:\n",
    "                \n",
    "                iterations.append(ii + 1) \n",
    "                saved_loss.append([losses[0].cpu().data.numpy(),losses[1].cpu().data.numpy(),\n",
    "                              losses[2].cpu().data.numpy(),losses[3].cpu().data.numpy(),\n",
    "                              losses[4].cpu().data.numpy()])\n",
    "                kwargs = {\"losses\": saved_loss, \"iterations\": iterations}\n",
    "                trainer.save(kwargs)\n",
    "                "
   ]
  },
  {
   "cell_type": "code",
   "execution_count": 30,
   "metadata": {
    "scrolled": true
   },
   "outputs": [
    {
     "name": "stderr",
     "output_type": "stream",
     "text": [
      "/datasets/home/home-02/50/150/prvo/Multi-Object-Detection/model/rfcn_resnet101.py:83: UserWarning: nn.init.normal is now deprecated in favor of nn.init.normal_.\n",
      "  nn.init.normal(self.cls_layer.weight.data, 0.0, 0.01)\n",
      "/datasets/home/home-02/50/150/prvo/Multi-Object-Detection/model/rfcn_resnet101.py:87: UserWarning: nn.init.normal is now deprecated in favor of nn.init.normal_.\n",
      "  nn.init.normal(self.reg_layer.weight.data, 0.0, 0.01)\n",
      "WARNING:root:Setting up a new session...\n",
      "WARNING:visdom:Without the incoming socket you cannot receive events from the server or register event handlers to your Visdom client.\n",
      "0it [00:00, ?it/s]"
     ]
    },
    {
     "name": "stdout",
     "output_type": "stream",
     "text": [
      "model construct completed\n"
     ]
    },
    {
     "name": "stderr",
     "output_type": "stream",
     "text": [
      "/datasets/home/home-02/50/150/prvo/Multi-Object-Detection/utils/PositionSensitiveScoreMap_V2.py:60: UserWarning: Implicit dimension choice for softmax has been deprecated. Change the call to include dim=X as an argument.\n",
      "  scores = self.softmax(F.adaptive_avg_pool2d(pooling_track.float(),(1,1))[:,:])\n",
      "1it [00:00,  1.35it/s]"
     ]
    },
    {
     "name": "stdout",
     "output_type": "stream",
     "text": [
      "Iter 0; Losses: RPN loc 11.8355, RPN cls: 1.9032, ROI loc 20.6643, ROI cls 3.0841, Total:37.4872\n"
     ]
    },
    {
     "name": "stderr",
     "output_type": "stream",
     "text": [
      "/datasets/home/home-02/50/150/prvo/Multi-Object-Detection/model/utils/bbox_tools.py:69: RuntimeWarning: overflow encountered in multiply\n",
      "  w = xp.exp(dw) * src_width[:, xp.newaxis]\n",
      "2it [00:01,  1.54it/s]"
     ]
    },
    {
     "name": "stdout",
     "output_type": "stream",
     "text": [
      "Iter 1; Losses: RPN loc 8.5648, RPN cls: 23.2731, ROI loc 100.9865, ROI cls 3.0039, Total:135.8282\n"
     ]
    },
    {
     "name": "stderr",
     "output_type": "stream",
     "text": [
      "/datasets/home/home-02/50/150/prvo/Multi-Object-Detection/model/utils/bbox_tools.py:68: RuntimeWarning: overflow encountered in multiply\n",
      "  h = xp.exp(dh) * src_height[:, xp.newaxis]\n",
      "3it [00:01,  1.80it/s]"
     ]
    },
    {
     "name": "stdout",
     "output_type": "stream",
     "text": [
      "Iter 2; Losses: RPN loc 7.8322, RPN cls: 29.0642, ROI loc 178.4571, ROI cls 2.7675, Total:218.1209\n"
     ]
    },
    {
     "name": "stderr",
     "output_type": "stream",
     "text": [
      "\r",
      "4it [00:02,  1.63it/s]"
     ]
    },
    {
     "name": "stdout",
     "output_type": "stream",
     "text": [
      "Iter 3; Losses: RPN loc 762.4644, RPN cls: 400.0385, ROI loc 630.7748, ROI cls 2.9658, Total:1796.2437\n"
     ]
    },
    {
     "name": "stderr",
     "output_type": "stream",
     "text": [
      "\r",
      "5it [00:03,  1.43it/s]"
     ]
    },
    {
     "name": "stdout",
     "output_type": "stream",
     "text": [
      "Iter 4; Losses: RPN loc 26.8024, RPN cls: 6.5437, ROI loc 16.3026, ROI cls 2.2992, Total:51.9478\n"
     ]
    },
    {
     "name": "stderr",
     "output_type": "stream",
     "text": [
      "\r",
      "6it [00:04,  1.09it/s]"
     ]
    },
    {
     "name": "stdout",
     "output_type": "stream",
     "text": [
      "Iter 5; Losses: RPN loc 27.5711, RPN cls: 0.5144, ROI loc 172.1894, ROI cls 2.2811, Total:202.5560\n"
     ]
    },
    {
     "name": "stderr",
     "output_type": "stream",
     "text": [
      "\r",
      "7it [00:06,  1.32s/it]"
     ]
    },
    {
     "name": "stdout",
     "output_type": "stream",
     "text": [
      "Iter 6; Losses: RPN loc 18.8648, RPN cls: 0.4337, ROI loc 558.7438, ROI cls 2.4346, Total:580.4769\n"
     ]
    },
    {
     "name": "stderr",
     "output_type": "stream",
     "text": [
      "\r",
      "8it [00:08,  1.43s/it]"
     ]
    },
    {
     "name": "stdout",
     "output_type": "stream",
     "text": [
      "Iter 7; Losses: RPN loc 3.4193, RPN cls: 2.1452, ROI loc 40.2301, ROI cls 2.1470, Total:47.9416\n"
     ]
    },
    {
     "name": "stderr",
     "output_type": "stream",
     "text": [
      "\r",
      "9it [00:09,  1.24s/it]"
     ]
    },
    {
     "name": "stdout",
     "output_type": "stream",
     "text": [
      "Iter 8; Losses: RPN loc 16.4587, RPN cls: 14.7336, ROI loc 155.4300, ROI cls 2.2811, Total:188.9034\n"
     ]
    },
    {
     "name": "stderr",
     "output_type": "stream",
     "text": [
      "\r",
      "10it [00:10,  1.35s/it]"
     ]
    },
    {
     "name": "stdout",
     "output_type": "stream",
     "text": [
      "Iter 9; Losses: RPN loc 2.9477, RPN cls: 1.3599, ROI loc 22.2344, ROI cls 2.1946, Total:28.7367\n"
     ]
    },
    {
     "name": "stderr",
     "output_type": "stream",
     "text": [
      "\r",
      "11it [00:12,  1.36s/it]"
     ]
    },
    {
     "name": "stdout",
     "output_type": "stream",
     "text": [
      "Iter 10; Losses: RPN loc 16.3854, RPN cls: 18.3576, ROI loc 37.0934, ROI cls 2.2089, Total:74.0452\n"
     ]
    },
    {
     "name": "stderr",
     "output_type": "stream",
     "text": [
      "\r",
      "12it [00:14,  1.57s/it]"
     ]
    },
    {
     "name": "stdout",
     "output_type": "stream",
     "text": [
      "Iter 11; Losses: RPN loc 2.1825, RPN cls: 12.0843, ROI loc 17.5612, ROI cls 2.1420, Total:33.9701\n"
     ]
    },
    {
     "name": "stderr",
     "output_type": "stream",
     "text": [
      "\r",
      "13it [00:15,  1.40s/it]"
     ]
    },
    {
     "name": "stdout",
     "output_type": "stream",
     "text": [
      "Iter 12; Losses: RPN loc 19.7233, RPN cls: 30.0924, ROI loc 125.8153, ROI cls 2.2032, Total:177.8342\n"
     ]
    },
    {
     "name": "stderr",
     "output_type": "stream",
     "text": [
      "\r",
      "14it [00:19,  2.21s/it]"
     ]
    },
    {
     "name": "stdout",
     "output_type": "stream",
     "text": [
      "Iter 13; Losses: RPN loc 1.1121, RPN cls: 0.6987, ROI loc 155.2006, ROI cls 2.2343, Total:159.2457\n"
     ]
    },
    {
     "name": "stderr",
     "output_type": "stream",
     "text": [
      "\r",
      "15it [00:23,  2.86s/it]"
     ]
    },
    {
     "name": "stdout",
     "output_type": "stream",
     "text": [
      "Iter 14; Losses: RPN loc 1.5710, RPN cls: 0.8463, ROI loc 79.5348, ROI cls 2.1963, Total:84.1485\n"
     ]
    },
    {
     "name": "stderr",
     "output_type": "stream",
     "text": [
      "\r",
      "16it [00:28,  3.35s/it]"
     ]
    },
    {
     "name": "stdout",
     "output_type": "stream",
     "text": [
      "Iter 15; Losses: RPN loc 0.7028, RPN cls: 0.7363, ROI loc 92.0187, ROI cls 2.2013, Total:95.6590\n"
     ]
    },
    {
     "name": "stderr",
     "output_type": "stream",
     "text": [
      "\r",
      "17it [00:33,  3.75s/it]"
     ]
    },
    {
     "name": "stdout",
     "output_type": "stream",
     "text": [
      "Iter 16; Losses: RPN loc 0.0372, RPN cls: 0.6208, ROI loc 35.0944, ROI cls 2.1857, Total:37.9380\n"
     ]
    },
    {
     "name": "stderr",
     "output_type": "stream",
     "text": [
      "\r",
      "18it [00:37,  4.01s/it]"
     ]
    },
    {
     "name": "stdout",
     "output_type": "stream",
     "text": [
      "Iter 17; Losses: RPN loc 0.6293, RPN cls: 0.6273, ROI loc 4.6482, ROI cls 2.1857, Total:8.0905\n"
     ]
    },
    {
     "name": "stderr",
     "output_type": "stream",
     "text": [
      "\r",
      "19it [00:42,  4.14s/it]"
     ]
    },
    {
     "name": "stdout",
     "output_type": "stream",
     "text": [
      "Iter 18; Losses: RPN loc 0.1106, RPN cls: 0.5447, ROI loc 38.7884, ROI cls 2.1622, Total:41.6059\n"
     ]
    },
    {
     "name": "stderr",
     "output_type": "stream",
     "text": [
      "\r",
      "20it [00:46,  4.24s/it]"
     ]
    },
    {
     "name": "stdout",
     "output_type": "stream",
     "text": [
      "Iter 19; Losses: RPN loc 0.2304, RPN cls: 0.4776, ROI loc 48.2274, ROI cls 2.1935, Total:51.1288\n"
     ]
    },
    {
     "name": "stderr",
     "output_type": "stream",
     "text": [
      "\r",
      "21it [00:50,  4.28s/it]"
     ]
    },
    {
     "name": "stdout",
     "output_type": "stream",
     "text": [
      "Iter 20; Losses: RPN loc 0.4931, RPN cls: 0.7940, ROI loc 70.5147, ROI cls 2.1935, Total:73.9952\n"
     ]
    },
    {
     "name": "stderr",
     "output_type": "stream",
     "text": [
      "\r",
      "22it [00:55,  4.29s/it]"
     ]
    },
    {
     "name": "stdout",
     "output_type": "stream",
     "text": [
      "Iter 21; Losses: RPN loc 1.1931, RPN cls: 1.2026, ROI loc 60.7243, ROI cls 2.2025, Total:65.3226\n"
     ]
    },
    {
     "name": "stderr",
     "output_type": "stream",
     "text": [
      "\r",
      "23it [00:59,  4.32s/it]"
     ]
    },
    {
     "name": "stdout",
     "output_type": "stream",
     "text": [
      "Iter 22; Losses: RPN loc 0.0074, RPN cls: 0.6480, ROI loc 11.1343, ROI cls 2.1388, Total:13.9285\n"
     ]
    },
    {
     "name": "stderr",
     "output_type": "stream",
     "text": [
      "\r",
      "24it [01:04,  4.39s/it]"
     ]
    },
    {
     "name": "stdout",
     "output_type": "stream",
     "text": [
      "Iter 23; Losses: RPN loc 0.0797, RPN cls: 0.6527, ROI loc 23.0242, ROI cls 2.2091, Total:25.9657\n"
     ]
    },
    {
     "name": "stderr",
     "output_type": "stream",
     "text": [
      "\r",
      "25it [01:08,  4.41s/it]"
     ]
    },
    {
     "name": "stdout",
     "output_type": "stream",
     "text": [
      "Iter 24; Losses: RPN loc 0.5043, RPN cls: 0.6091, ROI loc 14.5555, ROI cls 2.1310, Total:17.7999\n"
     ]
    },
    {
     "name": "stderr",
     "output_type": "stream",
     "text": [
      "\r",
      "26it [01:12,  4.33s/it]"
     ]
    },
    {
     "name": "stdout",
     "output_type": "stream",
     "text": [
      "Iter 25; Losses: RPN loc 0.2436, RPN cls: 0.5136, ROI loc 2.5764, ROI cls 2.1310, Total:5.4645\n"
     ]
    },
    {
     "name": "stderr",
     "output_type": "stream",
     "text": [
      "\r",
      "27it [01:17,  4.30s/it]"
     ]
    },
    {
     "name": "stdout",
     "output_type": "stream",
     "text": [
      "Iter 26; Losses: RPN loc 0.4281, RPN cls: 0.6701, ROI loc 14.2697, ROI cls 2.1466, Total:17.5145\n"
     ]
    },
    {
     "name": "stderr",
     "output_type": "stream",
     "text": [
      "\r",
      "28it [01:21,  4.28s/it]"
     ]
    },
    {
     "name": "stdout",
     "output_type": "stream",
     "text": [
      "Iter 27; Losses: RPN loc 0.5071, RPN cls: 0.7367, ROI loc 109.3626, ROI cls 2.2482, Total:112.8546\n"
     ]
    },
    {
     "name": "stderr",
     "output_type": "stream",
     "text": [
      "\r",
      "29it [01:25,  4.31s/it]"
     ]
    },
    {
     "name": "stdout",
     "output_type": "stream",
     "text": [
      "Iter 28; Losses: RPN loc 0.1898, RPN cls: 0.2701, ROI loc 28.6916, ROI cls 2.1622, Total:31.3138\n"
     ]
    },
    {
     "name": "stderr",
     "output_type": "stream",
     "text": [
      "\r",
      "30it [01:30,  4.41s/it]"
     ]
    },
    {
     "name": "stdout",
     "output_type": "stream",
     "text": [
      "Iter 29; Losses: RPN loc 1.7506, RPN cls: 1.8774, ROI loc 44.3854, ROI cls 2.1544, Total:50.1678\n"
     ]
    },
    {
     "name": "stderr",
     "output_type": "stream",
     "text": [
      "\r",
      "31it [01:35,  4.62s/it]"
     ]
    },
    {
     "name": "stdout",
     "output_type": "stream",
     "text": [
      "Iter 30; Losses: RPN loc 0.2202, RPN cls: 1.0962, ROI loc 31.5589, ROI cls 2.2247, Total:35.1001\n"
     ]
    },
    {
     "name": "stderr",
     "output_type": "stream",
     "text": [
      "\r",
      "32it [01:39,  4.61s/it]"
     ]
    },
    {
     "name": "stdout",
     "output_type": "stream",
     "text": [
      "Iter 31; Losses: RPN loc 0.0851, RPN cls: 0.5309, ROI loc 13.4312, ROI cls 2.1935, Total:16.2406\n"
     ]
    },
    {
     "name": "stderr",
     "output_type": "stream",
     "text": [
      "\r",
      "33it [01:44,  4.61s/it]"
     ]
    },
    {
     "name": "stdout",
     "output_type": "stream",
     "text": [
      "Iter 32; Losses: RPN loc 1.7300, RPN cls: 0.6246, ROI loc 6.6894, ROI cls 2.1310, Total:11.1750\n"
     ]
    },
    {
     "name": "stderr",
     "output_type": "stream",
     "text": [
      "\r",
      "34it [01:49,  4.62s/it]"
     ]
    },
    {
     "name": "stdout",
     "output_type": "stream",
     "text": [
      "Iter 33; Losses: RPN loc 2.5574, RPN cls: 0.9984, ROI loc 91.2973, ROI cls 2.2482, Total:97.1012\n"
     ]
    },
    {
     "name": "stderr",
     "output_type": "stream",
     "text": [
      "\r",
      "35it [01:53,  4.54s/it]"
     ]
    },
    {
     "name": "stdout",
     "output_type": "stream",
     "text": [
      "Iter 34; Losses: RPN loc 0.0758, RPN cls: 0.7676, ROI loc 54.2511, ROI cls 2.1779, Total:57.2723\n"
     ]
    },
    {
     "name": "stderr",
     "output_type": "stream",
     "text": [
      "\r",
      "36it [01:57,  4.47s/it]"
     ]
    },
    {
     "name": "stdout",
     "output_type": "stream",
     "text": [
      "Iter 35; Losses: RPN loc 0.4516, RPN cls: 0.6689, ROI loc 54.4017, ROI cls 2.2013, Total:57.7235\n"
     ]
    },
    {
     "name": "stderr",
     "output_type": "stream",
     "text": [
      "\r",
      "37it [02:02,  4.43s/it]"
     ]
    },
    {
     "name": "stdout",
     "output_type": "stream",
     "text": [
      "Iter 36; Losses: RPN loc 0.3756, RPN cls: 0.6758, ROI loc 43.8335, ROI cls 2.2091, Total:47.0939\n"
     ]
    },
    {
     "name": "stderr",
     "output_type": "stream",
     "text": [
      "\r",
      "38it [02:06,  4.50s/it]"
     ]
    },
    {
     "name": "stdout",
     "output_type": "stream",
     "text": [
      "Iter 37; Losses: RPN loc 0.3333, RPN cls: 0.7080, ROI loc 18.6687, ROI cls 2.1700, Total:21.8800\n"
     ]
    },
    {
     "name": "stderr",
     "output_type": "stream",
     "text": [
      "\r",
      "39it [02:11,  4.57s/it]"
     ]
    },
    {
     "name": "stdout",
     "output_type": "stream",
     "text": [
      "Iter 38; Losses: RPN loc 0.0847, RPN cls: 0.6438, ROI loc 2.5749, ROI cls 2.1310, Total:5.4343\n"
     ]
    },
    {
     "name": "stderr",
     "output_type": "stream",
     "text": [
      "\r",
      "40it [02:16,  4.65s/it]"
     ]
    },
    {
     "name": "stdout",
     "output_type": "stream",
     "text": [
      "Iter 39; Losses: RPN loc 0.0650, RPN cls: 0.6208, ROI loc 3.2460, ROI cls 2.1310, Total:6.0628\n"
     ]
    },
    {
     "name": "stderr",
     "output_type": "stream",
     "text": [
      "\r",
      "41it [02:21,  4.64s/it]"
     ]
    },
    {
     "name": "stdout",
     "output_type": "stream",
     "text": [
      "Iter 40; Losses: RPN loc 0.1119, RPN cls: 0.5214, ROI loc 2.7211, ROI cls 2.1310, Total:5.4854\n"
     ]
    },
    {
     "name": "stderr",
     "output_type": "stream",
     "text": [
      "\r",
      "42it [02:25,  4.60s/it]"
     ]
    },
    {
     "name": "stdout",
     "output_type": "stream",
     "text": [
      "Iter 41; Losses: RPN loc 0.2497, RPN cls: 0.5931, ROI loc 65.2495, ROI cls 2.1857, Total:68.2780\n"
     ]
    },
    {
     "name": "stderr",
     "output_type": "stream",
     "text": [
      "\r",
      "43it [02:30,  4.62s/it]"
     ]
    },
    {
     "name": "stdout",
     "output_type": "stream",
     "text": [
      "Iter 42; Losses: RPN loc 0.0229, RPN cls: 0.5146, ROI loc 105.7073, ROI cls 2.1935, Total:108.4382\n"
     ]
    },
    {
     "name": "stderr",
     "output_type": "stream",
     "text": [
      "\r",
      "44it [02:34,  4.59s/it]"
     ]
    },
    {
     "name": "stdout",
     "output_type": "stream",
     "text": [
      "Iter 43; Losses: RPN loc 0.0128, RPN cls: 0.4209, ROI loc 21.0914, ROI cls 2.1388, Total:23.6638\n"
     ]
    },
    {
     "name": "stderr",
     "output_type": "stream",
     "text": [
      "\r",
      "45it [02:39,  4.51s/it]"
     ]
    },
    {
     "name": "stdout",
     "output_type": "stream",
     "text": [
      "Iter 44; Losses: RPN loc 0.2550, RPN cls: 0.3611, ROI loc 70.5918, ROI cls 2.1935, Total:73.4014\n"
     ]
    },
    {
     "name": "stderr",
     "output_type": "stream",
     "text": [
      "\r",
      "46it [02:43,  4.53s/it]"
     ]
    },
    {
     "name": "stdout",
     "output_type": "stream",
     "text": [
      "Iter 45; Losses: RPN loc 0.5251, RPN cls: 0.3090, ROI loc 26.9152, ROI cls 2.1622, Total:29.9116\n"
     ]
    },
    {
     "name": "stderr",
     "output_type": "stream",
     "text": [
      "\r",
      "47it [02:48,  4.60s/it]"
     ]
    },
    {
     "name": "stdout",
     "output_type": "stream",
     "text": [
      "Iter 46; Losses: RPN loc 0.4138, RPN cls: 0.5739, ROI loc 31.7823, ROI cls 2.1935, Total:34.9634\n"
     ]
    },
    {
     "name": "stderr",
     "output_type": "stream",
     "text": [
      "\r",
      "48it [02:53,  4.63s/it]"
     ]
    },
    {
     "name": "stdout",
     "output_type": "stream",
     "text": [
      "Iter 47; Losses: RPN loc 0.3705, RPN cls: 0.7191, ROI loc 37.2408, ROI cls 2.2950, Total:40.6255\n"
     ]
    },
    {
     "name": "stderr",
     "output_type": "stream",
     "text": [
      "\r",
      "49it [02:57,  4.70s/it]"
     ]
    },
    {
     "name": "stdout",
     "output_type": "stream",
     "text": [
      "Iter 48; Losses: RPN loc 0.5723, RPN cls: 0.5787, ROI loc 37.0611, ROI cls 2.2169, Total:40.4291\n"
     ]
    },
    {
     "name": "stderr",
     "output_type": "stream",
     "text": [
      "\r",
      "50it [03:02,  4.70s/it]"
     ]
    },
    {
     "name": "stdout",
     "output_type": "stream",
     "text": [
      "Iter 49; Losses: RPN loc 0.4564, RPN cls: 0.5051, ROI loc 74.7284, ROI cls 2.2169, Total:77.9069\n"
     ]
    },
    {
     "name": "stderr",
     "output_type": "stream",
     "text": [
      "\r",
      "51it [03:07,  4.70s/it]"
     ]
    },
    {
     "name": "stdout",
     "output_type": "stream",
     "text": [
      "Iter 50; Losses: RPN loc 0.5593, RPN cls: 0.7178, ROI loc 63.1529, ROI cls 2.2091, Total:66.6391\n"
     ]
    },
    {
     "name": "stderr",
     "output_type": "stream",
     "text": [
      "\r",
      "52it [03:11,  4.67s/it]"
     ]
    },
    {
     "name": "stdout",
     "output_type": "stream",
     "text": [
      "Iter 51; Losses: RPN loc 0.2387, RPN cls: 0.5551, ROI loc 68.1399, ROI cls 2.2091, Total:71.1428\n"
     ]
    },
    {
     "name": "stderr",
     "output_type": "stream",
     "text": [
      "\r",
      "53it [03:16,  4.74s/it]"
     ]
    },
    {
     "name": "stdout",
     "output_type": "stream",
     "text": [
      "Iter 52; Losses: RPN loc 0.5985, RPN cls: 0.8461, ROI loc 71.6111, ROI cls 2.2872, Total:75.3429\n"
     ]
    },
    {
     "name": "stderr",
     "output_type": "stream",
     "text": [
      "\r",
      "54it [03:22,  4.87s/it]"
     ]
    },
    {
     "name": "stdout",
     "output_type": "stream",
     "text": [
      "Iter 53; Losses: RPN loc 0.1087, RPN cls: 0.8318, ROI loc 43.4716, ROI cls 2.2404, Total:46.6525\n"
     ]
    },
    {
     "name": "stderr",
     "output_type": "stream",
     "text": [
      "\r",
      "55it [03:26,  4.88s/it]"
     ]
    },
    {
     "name": "stdout",
     "output_type": "stream",
     "text": [
      "Iter 54; Losses: RPN loc 0.6252, RPN cls: 0.6861, ROI loc 19.3764, ROI cls 2.1622, Total:22.8500\n"
     ]
    },
    {
     "name": "stderr",
     "output_type": "stream",
     "text": [
      "\r",
      "56it [03:31,  4.81s/it]"
     ]
    },
    {
     "name": "stdout",
     "output_type": "stream",
     "text": [
      "Iter 55; Losses: RPN loc 0.8043, RPN cls: 0.6949, ROI loc 59.2134, ROI cls 2.2247, Total:62.9373\n"
     ]
    },
    {
     "name": "stderr",
     "output_type": "stream",
     "text": [
      "\r",
      "57it [03:36,  4.82s/it]"
     ]
    },
    {
     "name": "stdout",
     "output_type": "stream",
     "text": [
      "Iter 56; Losses: RPN loc 0.6578, RPN cls: 0.7367, ROI loc 117.2072, ROI cls 2.3263, Total:120.9280\n"
     ]
    },
    {
     "name": "stderr",
     "output_type": "stream",
     "text": [
      "\r",
      "58it [03:40,  4.60s/it]"
     ]
    },
    {
     "name": "stdout",
     "output_type": "stream",
     "text": [
      "Iter 57; Losses: RPN loc 0.1771, RPN cls: 0.7250, ROI loc 71.3597, ROI cls 2.2503, Total:74.5120\n"
     ]
    },
    {
     "name": "stderr",
     "output_type": "stream",
     "text": [
      "\r",
      "59it [03:45,  4.57s/it]"
     ]
    },
    {
     "name": "stdout",
     "output_type": "stream",
     "text": [
      "Iter 58; Losses: RPN loc 0.1630, RPN cls: 0.6322, ROI loc 13.9400, ROI cls 2.1857, Total:16.9208\n"
     ]
    },
    {
     "name": "stderr",
     "output_type": "stream",
     "text": [
      "\r",
      "60it [03:49,  4.59s/it]"
     ]
    },
    {
     "name": "stdout",
     "output_type": "stream",
     "text": [
      "Iter 59; Losses: RPN loc 0.3488, RPN cls: 0.6070, ROI loc 11.6990, ROI cls 2.1544, Total:14.8093\n"
     ]
    },
    {
     "name": "stderr",
     "output_type": "stream",
     "text": [
      "\r",
      "61it [03:54,  4.52s/it]"
     ]
    },
    {
     "name": "stdout",
     "output_type": "stream",
     "text": [
      "Iter 60; Losses: RPN loc 0.6832, RPN cls: 0.7796, ROI loc 89.9139, ROI cls 2.2950, Total:93.6717\n"
     ]
    },
    {
     "name": "stderr",
     "output_type": "stream",
     "text": [
      "\r",
      "62it [03:58,  4.53s/it]"
     ]
    },
    {
     "name": "stdout",
     "output_type": "stream",
     "text": [
      "Iter 61; Losses: RPN loc 0.0256, RPN cls: 0.5824, ROI loc 4.2927, ROI cls 2.1310, Total:7.0317\n"
     ]
    },
    {
     "name": "stderr",
     "output_type": "stream",
     "text": [
      "\r",
      "63it [04:03,  4.54s/it]"
     ]
    },
    {
     "name": "stdout",
     "output_type": "stream",
     "text": [
      "Iter 62; Losses: RPN loc 0.4776, RPN cls: 0.6265, ROI loc 50.8920, ROI cls 2.2482, Total:54.2443\n"
     ]
    },
    {
     "name": "stderr",
     "output_type": "stream",
     "text": [
      "\r",
      "64it [04:07,  4.44s/it]"
     ]
    },
    {
     "name": "stdout",
     "output_type": "stream",
     "text": [
      "Iter 63; Losses: RPN loc 0.0092, RPN cls: 0.6429, ROI loc 24.3228, ROI cls 2.1560, Total:27.1309\n"
     ]
    },
    {
     "name": "stderr",
     "output_type": "stream",
     "text": [
      "\r",
      "65it [04:12,  4.52s/it]"
     ]
    },
    {
     "name": "stdout",
     "output_type": "stream",
     "text": [
      "Iter 64; Losses: RPN loc 0.2132, RPN cls: 0.7848, ROI loc 17.9565, ROI cls 2.1700, Total:21.1245\n"
     ]
    },
    {
     "name": "stderr",
     "output_type": "stream",
     "text": [
      "\r",
      "66it [04:16,  4.54s/it]"
     ]
    },
    {
     "name": "stdout",
     "output_type": "stream",
     "text": [
      "Iter 65; Losses: RPN loc 0.0990, RPN cls: 0.6311, ROI loc 39.2323, ROI cls 2.2105, Total:42.1728\n"
     ]
    },
    {
     "name": "stderr",
     "output_type": "stream",
     "text": [
      "\r",
      "67it [04:21,  4.52s/it]"
     ]
    },
    {
     "name": "stdout",
     "output_type": "stream",
     "text": [
      "Iter 66; Losses: RPN loc 0.1789, RPN cls: 0.6556, ROI loc 33.9821, ROI cls 2.2169, Total:37.0334\n"
     ]
    },
    {
     "name": "stderr",
     "output_type": "stream",
     "text": [
      "\r",
      "68it [04:25,  4.41s/it]"
     ]
    },
    {
     "name": "stdout",
     "output_type": "stream",
     "text": [
      "Iter 67; Losses: RPN loc 0.6186, RPN cls: 0.6932, ROI loc 30.0016, ROI cls 2.2543, Total:33.5678\n"
     ]
    },
    {
     "name": "stderr",
     "output_type": "stream",
     "text": [
      "\r",
      "69it [04:29,  4.37s/it]"
     ]
    },
    {
     "name": "stdout",
     "output_type": "stream",
     "text": [
      "Iter 68; Losses: RPN loc 0.2587, RPN cls: 0.6666, ROI loc 8.1379, ROI cls 2.1388, Total:11.2021\n"
     ]
    },
    {
     "name": "stderr",
     "output_type": "stream",
     "text": [
      "\r",
      "70it [04:34,  4.41s/it]"
     ]
    },
    {
     "name": "stdout",
     "output_type": "stream",
     "text": [
      "Iter 69; Losses: RPN loc 0.5418, RPN cls: 0.6950, ROI loc 53.3778, ROI cls 2.2325, Total:56.8471\n"
     ]
    },
    {
     "name": "stderr",
     "output_type": "stream",
     "text": [
      "\r",
      "71it [04:39,  4.69s/it]"
     ]
    },
    {
     "name": "stdout",
     "output_type": "stream",
     "text": [
      "Iter 70; Losses: RPN loc 0.2602, RPN cls: 0.6766, ROI loc 45.0846, ROI cls 2.1982, Total:48.2196\n"
     ]
    },
    {
     "name": "stderr",
     "output_type": "stream",
     "text": [
      "\r",
      "72it [04:44,  4.87s/it]"
     ]
    },
    {
     "name": "stdout",
     "output_type": "stream",
     "text": [
      "Iter 71; Losses: RPN loc 0.7741, RPN cls: 0.7250, ROI loc 146.4366, ROI cls 2.3732, Total:150.3088\n"
     ]
    },
    {
     "name": "stderr",
     "output_type": "stream",
     "text": [
      "\r",
      "73it [04:49,  4.79s/it]"
     ]
    },
    {
     "name": "stdout",
     "output_type": "stream",
     "text": [
      "Iter 72; Losses: RPN loc 0.8958, RPN cls: 0.6741, ROI loc 2.9515, ROI cls 2.1314, Total:6.6527\n"
     ]
    },
    {
     "name": "stderr",
     "output_type": "stream",
     "text": [
      "\r",
      "74it [04:53,  4.64s/it]"
     ]
    },
    {
     "name": "stdout",
     "output_type": "stream",
     "text": [
      "Iter 73; Losses: RPN loc 0.7004, RPN cls: 0.7133, ROI loc 73.6104, ROI cls 2.3732, Total:77.3972\n"
     ]
    },
    {
     "name": "stderr",
     "output_type": "stream",
     "text": [
      "\r",
      "75it [04:58,  4.58s/it]"
     ]
    },
    {
     "name": "stdout",
     "output_type": "stream",
     "text": [
      "Iter 74; Losses: RPN loc 0.5825, RPN cls: 0.6855, ROI loc 42.3800, ROI cls 2.2058, Total:45.8538\n"
     ]
    },
    {
     "name": "stderr",
     "output_type": "stream",
     "text": [
      "\r",
      "76it [05:02,  4.55s/it]"
     ]
    },
    {
     "name": "stdout",
     "output_type": "stream",
     "text": [
      "Iter 75; Losses: RPN loc 0.2296, RPN cls: 0.6683, ROI loc 25.1110, ROI cls 2.1862, Total:28.1950\n"
     ]
    },
    {
     "name": "stderr",
     "output_type": "stream",
     "text": [
      "\r",
      "77it [05:07,  4.64s/it]"
     ]
    },
    {
     "name": "stdout",
     "output_type": "stream",
     "text": [
      "Iter 76; Losses: RPN loc 0.3172, RPN cls: 0.6865, ROI loc 55.4085, ROI cls 2.2169, Total:58.6291\n"
     ]
    },
    {
     "name": "stderr",
     "output_type": "stream",
     "text": [
      "\r",
      "78it [05:11,  4.62s/it]"
     ]
    },
    {
     "name": "stdout",
     "output_type": "stream",
     "text": [
      "Iter 77; Losses: RPN loc 0.1686, RPN cls: 0.6736, ROI loc 31.7683, ROI cls 2.1801, Total:34.7906\n"
     ]
    },
    {
     "name": "stderr",
     "output_type": "stream",
     "text": [
      "\r",
      "79it [05:16,  4.59s/it]"
     ]
    },
    {
     "name": "stdout",
     "output_type": "stream",
     "text": [
      "Iter 78; Losses: RPN loc 0.3813, RPN cls: 0.6801, ROI loc 50.8125, ROI cls 2.2025, Total:54.0765\n"
     ]
    },
    {
     "name": "stderr",
     "output_type": "stream",
     "text": [
      "\r",
      "80it [05:20,  4.54s/it]"
     ]
    },
    {
     "name": "stdout",
     "output_type": "stream",
     "text": [
      "Iter 79; Losses: RPN loc 0.7476, RPN cls: 0.7361, ROI loc 96.6709, ROI cls 2.3315, Total:100.4860\n"
     ]
    },
    {
     "name": "stderr",
     "output_type": "stream",
     "text": [
      "\r",
      "81it [05:25,  4.47s/it]"
     ]
    },
    {
     "name": "stdout",
     "output_type": "stream",
     "text": [
      "Iter 80; Losses: RPN loc 0.4637, RPN cls: 0.6665, ROI loc 53.9161, ROI cls 2.3185, Total:57.3648\n"
     ]
    },
    {
     "name": "stderr",
     "output_type": "stream",
     "text": [
      "\r",
      "82it [05:29,  4.49s/it]"
     ]
    },
    {
     "name": "stdout",
     "output_type": "stream",
     "text": [
      "Iter 81; Losses: RPN loc 0.3727, RPN cls: 0.6944, ROI loc 50.7130, ROI cls 2.2413, Total:54.0214\n"
     ]
    },
    {
     "name": "stderr",
     "output_type": "stream",
     "text": [
      "\r",
      "83it [05:33,  4.42s/it]"
     ]
    },
    {
     "name": "stdout",
     "output_type": "stream",
     "text": [
      "Iter 82; Losses: RPN loc 0.1348, RPN cls: 0.6264, ROI loc 63.2664, ROI cls 2.1975, Total:66.2252\n"
     ]
    },
    {
     "name": "stderr",
     "output_type": "stream",
     "text": [
      "\r",
      "84it [05:38,  4.44s/it]"
     ]
    },
    {
     "name": "stdout",
     "output_type": "stream",
     "text": [
      "Iter 83; Losses: RPN loc 0.1371, RPN cls: 0.6221, ROI loc 89.5456, ROI cls 2.1988, Total:92.5036\n"
     ]
    },
    {
     "name": "stderr",
     "output_type": "stream",
     "text": [
      "\r",
      "85it [05:43,  4.50s/it]"
     ]
    },
    {
     "name": "stdout",
     "output_type": "stream",
     "text": [
      "Iter 84; Losses: RPN loc 2.0448, RPN cls: 0.9641, ROI loc 76.2036, ROI cls 2.1935, Total:81.4060\n"
     ]
    },
    {
     "name": "stderr",
     "output_type": "stream",
     "text": [
      "\r",
      "86it [05:47,  4.51s/it]"
     ]
    },
    {
     "name": "stdout",
     "output_type": "stream",
     "text": [
      "Iter 85; Losses: RPN loc 0.2346, RPN cls: 0.6714, ROI loc 83.5490, ROI cls 2.1893, Total:86.6443\n"
     ]
    },
    {
     "name": "stderr",
     "output_type": "stream",
     "text": [
      "\r",
      "87it [05:51,  4.40s/it]"
     ]
    },
    {
     "name": "stdout",
     "output_type": "stream",
     "text": [
      "Iter 86; Losses: RPN loc 0.1444, RPN cls: 0.6700, ROI loc 82.1066, ROI cls 2.2164, Total:85.1373\n"
     ]
    },
    {
     "name": "stderr",
     "output_type": "stream",
     "text": [
      "\r",
      "88it [05:56,  4.41s/it]"
     ]
    },
    {
     "name": "stdout",
     "output_type": "stream",
     "text": [
      "Iter 87; Losses: RPN loc 0.5327, RPN cls: 0.6963, ROI loc 54.5725, ROI cls 2.2051, Total:58.0065\n"
     ]
    },
    {
     "name": "stderr",
     "output_type": "stream",
     "text": [
      "\r",
      "89it [06:00,  4.47s/it]"
     ]
    },
    {
     "name": "stdout",
     "output_type": "stream",
     "text": [
      "Iter 88; Losses: RPN loc 0.1129, RPN cls: 0.6525, ROI loc 7.5904, ROI cls 2.1312, Total:10.4871\n"
     ]
    },
    {
     "name": "stderr",
     "output_type": "stream",
     "text": [
      "\r",
      "90it [06:04,  4.33s/it]"
     ]
    },
    {
     "name": "stdout",
     "output_type": "stream",
     "text": [
      "Iter 89; Losses: RPN loc 0.0311, RPN cls: 0.6485, ROI loc 40.4729, ROI cls 2.1857, Total:43.3382\n"
     ]
    },
    {
     "name": "stderr",
     "output_type": "stream",
     "text": [
      "\r",
      "91it [06:08,  4.27s/it]"
     ]
    },
    {
     "name": "stdout",
     "output_type": "stream",
     "text": [
      "Iter 90; Losses: RPN loc 0.0759, RPN cls: 0.6515, ROI loc 5.7872, ROI cls 2.1319, Total:8.6465\n"
     ]
    },
    {
     "name": "stderr",
     "output_type": "stream",
     "text": [
      "\r",
      "92it [06:12,  4.20s/it]"
     ]
    },
    {
     "name": "stdout",
     "output_type": "stream",
     "text": [
      "Iter 91; Losses: RPN loc 0.0161, RPN cls: 0.6498, ROI loc 13.4364, ROI cls 2.1560, Total:16.2582\n"
     ]
    },
    {
     "name": "stderr",
     "output_type": "stream",
     "text": [
      "\r",
      "93it [06:17,  4.16s/it]"
     ]
    },
    {
     "name": "stdout",
     "output_type": "stream",
     "text": [
      "Iter 92; Losses: RPN loc 0.1257, RPN cls: 0.6543, ROI loc 8.5518, ROI cls 2.1312, Total:11.4630\n"
     ]
    },
    {
     "name": "stderr",
     "output_type": "stream",
     "text": [
      "\r",
      "94it [06:21,  4.35s/it]"
     ]
    },
    {
     "name": "stdout",
     "output_type": "stream",
     "text": [
      "Iter 93; Losses: RPN loc 0.5649, RPN cls: 0.6669, ROI loc 10.7814, ROI cls 2.1310, Total:14.1442\n"
     ]
    },
    {
     "name": "stderr",
     "output_type": "stream",
     "text": [
      "\r",
      "95it [06:26,  4.31s/it]"
     ]
    },
    {
     "name": "stdout",
     "output_type": "stream",
     "text": [
      "Iter 94; Losses: RPN loc 0.3487, RPN cls: 0.6500, ROI loc 7.2465, ROI cls 2.1315, Total:10.3768\n"
     ]
    },
    {
     "name": "stderr",
     "output_type": "stream",
     "text": [
      "\r",
      "96it [06:30,  4.35s/it]"
     ]
    },
    {
     "name": "stdout",
     "output_type": "stream",
     "text": [
      "Iter 95; Losses: RPN loc 0.0994, RPN cls: 0.6530, ROI loc 8.5539, ROI cls 2.1315, Total:11.4378\n"
     ]
    },
    {
     "name": "stderr",
     "output_type": "stream",
     "text": [
      "\r",
      "97it [06:34,  4.34s/it]"
     ]
    },
    {
     "name": "stdout",
     "output_type": "stream",
     "text": [
      "Iter 96; Losses: RPN loc 0.0098, RPN cls: 0.6396, ROI loc 103.7490, ROI cls 2.2197, Total:106.6181\n"
     ]
    },
    {
     "name": "stderr",
     "output_type": "stream",
     "text": [
      "\r",
      "98it [06:39,  4.30s/it]"
     ]
    },
    {
     "name": "stdout",
     "output_type": "stream",
     "text": [
      "Iter 97; Losses: RPN loc 0.0538, RPN cls: 0.6420, ROI loc 45.0261, ROI cls 2.1732, Total:47.8951\n"
     ]
    },
    {
     "name": "stderr",
     "output_type": "stream",
     "text": [
      "\r",
      "99it [06:43,  4.27s/it]"
     ]
    },
    {
     "name": "stdout",
     "output_type": "stream",
     "text": [
      "Iter 98; Losses: RPN loc 0.3545, RPN cls: 0.6839, ROI loc 68.4056, ROI cls 2.2408, Total:71.6848\n"
     ]
    },
    {
     "name": "stderr",
     "output_type": "stream",
     "text": [
      "\r",
      "100it [06:47,  4.36s/it]"
     ]
    },
    {
     "name": "stdout",
     "output_type": "stream",
     "text": [
      "Iter 99; Losses: RPN loc 0.0095, RPN cls: 0.6308, ROI loc 68.2702, ROI cls 2.2461, Total:71.1567\n"
     ]
    },
    {
     "name": "stderr",
     "output_type": "stream",
     "text": [
      "\r",
      "101it [06:51,  4.29s/it]"
     ]
    },
    {
     "name": "stdout",
     "output_type": "stream",
     "text": [
      "Iter 100; Losses: RPN loc 0.0506, RPN cls: 0.6418, ROI loc 55.6458, ROI cls 2.2257, Total:58.5640\n"
     ]
    },
    {
     "name": "stderr",
     "output_type": "stream",
     "text": [
      "\r",
      "102it [06:56,  4.38s/it]"
     ]
    },
    {
     "name": "stdout",
     "output_type": "stream",
     "text": [
      "Iter 101; Losses: RPN loc 0.0398, RPN cls: 0.6436, ROI loc 35.7443, ROI cls 2.1969, Total:38.6246\n"
     ]
    },
    {
     "name": "stderr",
     "output_type": "stream",
     "text": [
      "\r",
      "103it [07:00,  4.33s/it]"
     ]
    },
    {
     "name": "stdout",
     "output_type": "stream",
     "text": [
      "Iter 102; Losses: RPN loc 0.1188, RPN cls: 0.6603, ROI loc 154.8219, ROI cls 2.3006, Total:157.9016\n"
     ]
    },
    {
     "name": "stderr",
     "output_type": "stream",
     "text": [
      "\r",
      "104it [07:05,  4.41s/it]"
     ]
    },
    {
     "name": "stdout",
     "output_type": "stream",
     "text": [
      "Iter 103; Losses: RPN loc 0.0754, RPN cls: 0.6580, ROI loc 73.2440, ROI cls 2.2098, Total:76.1872\n"
     ]
    },
    {
     "name": "stderr",
     "output_type": "stream",
     "text": [
      "\r",
      "105it [07:10,  4.53s/it]"
     ]
    },
    {
     "name": "stdout",
     "output_type": "stream",
     "text": [
      "Iter 104; Losses: RPN loc 0.1260, RPN cls: 0.6377, ROI loc 4.8990, ROI cls 2.1316, Total:7.7944\n"
     ]
    },
    {
     "name": "stderr",
     "output_type": "stream",
     "text": [
      "\r",
      "106it [07:14,  4.48s/it]"
     ]
    },
    {
     "name": "stdout",
     "output_type": "stream",
     "text": [
      "Iter 105; Losses: RPN loc 0.2368, RPN cls: 0.6820, ROI loc 81.3887, ROI cls 2.3117, Total:84.6192\n"
     ]
    },
    {
     "name": "stderr",
     "output_type": "stream",
     "text": [
      "\r",
      "107it [07:18,  4.45s/it]"
     ]
    },
    {
     "name": "stdout",
     "output_type": "stream",
     "text": [
      "Iter 106; Losses: RPN loc 0.0502, RPN cls: 0.6314, ROI loc 41.7152, ROI cls 2.2188, Total:44.6157\n"
     ]
    },
    {
     "name": "stderr",
     "output_type": "stream",
     "text": [
      "\r",
      "108it [07:23,  4.53s/it]"
     ]
    },
    {
     "name": "stdout",
     "output_type": "stream",
     "text": [
      "Iter 107; Losses: RPN loc 0.5161, RPN cls: 0.6672, ROI loc 42.5565, ROI cls 2.2019, Total:45.9417\n"
     ]
    },
    {
     "name": "stderr",
     "output_type": "stream",
     "text": [
      "\r",
      "109it [07:28,  4.69s/it]"
     ]
    },
    {
     "name": "stdout",
     "output_type": "stream",
     "text": [
      "Iter 108; Losses: RPN loc 0.5664, RPN cls: 0.7582, ROI loc 194.9530, ROI cls 2.3855, Total:198.6631\n"
     ]
    },
    {
     "name": "stderr",
     "output_type": "stream",
     "text": [
      "\r",
      "110it [07:33,  4.85s/it]"
     ]
    },
    {
     "name": "stdout",
     "output_type": "stream",
     "text": [
      "Iter 109; Losses: RPN loc 0.3181, RPN cls: 0.6377, ROI loc 16.4833, ROI cls 2.1394, Total:19.5784\n"
     ]
    },
    {
     "name": "stderr",
     "output_type": "stream",
     "text": [
      "\r",
      "111it [07:38,  4.69s/it]"
     ]
    },
    {
     "name": "stdout",
     "output_type": "stream",
     "text": [
      "Iter 110; Losses: RPN loc 0.5529, RPN cls: 0.6479, ROI loc 14.4757, ROI cls 2.1482, Total:17.8246\n"
     ]
    },
    {
     "name": "stderr",
     "output_type": "stream",
     "text": [
      "\r",
      "112it [07:42,  4.61s/it]"
     ]
    },
    {
     "name": "stdout",
     "output_type": "stream",
     "text": [
      "Iter 111; Losses: RPN loc 0.0779, RPN cls: 0.6411, ROI loc 145.2895, ROI cls 2.3215, Total:148.3300\n"
     ]
    },
    {
     "name": "stderr",
     "output_type": "stream",
     "text": [
      "\r",
      "113it [07:47,  4.62s/it]"
     ]
    },
    {
     "name": "stdout",
     "output_type": "stream",
     "text": [
      "Iter 112; Losses: RPN loc 0.8764, RPN cls: 0.6907, ROI loc 46.0739, ROI cls 2.1632, Total:49.8041\n"
     ]
    },
    {
     "name": "stderr",
     "output_type": "stream",
     "text": [
      "\r",
      "114it [07:51,  4.55s/it]"
     ]
    },
    {
     "name": "stdout",
     "output_type": "stream",
     "text": [
      "Iter 113; Losses: RPN loc 0.4162, RPN cls: 0.7234, ROI loc 97.1989, ROI cls 2.2728, Total:100.6114\n"
     ]
    },
    {
     "name": "stderr",
     "output_type": "stream",
     "text": [
      "\r",
      "115it [07:55,  4.44s/it]"
     ]
    },
    {
     "name": "stdout",
     "output_type": "stream",
     "text": [
      "Iter 114; Losses: RPN loc 0.2311, RPN cls: 0.6977, ROI loc 93.9706, ROI cls 2.2707, Total:97.1701\n"
     ]
    },
    {
     "name": "stderr",
     "output_type": "stream",
     "text": [
      "\r",
      "116it [07:59,  4.34s/it]"
     ]
    },
    {
     "name": "stdout",
     "output_type": "stream",
     "text": [
      "Iter 115; Losses: RPN loc 0.0674, RPN cls: 0.6173, ROI loc 3.9538, ROI cls 2.1318, Total:6.7703\n"
     ]
    },
    {
     "name": "stderr",
     "output_type": "stream",
     "text": [
      "\r",
      "117it [08:04,  4.35s/it]"
     ]
    },
    {
     "name": "stdout",
     "output_type": "stream",
     "text": [
      "Iter 116; Losses: RPN loc 0.2490, RPN cls: 0.6263, ROI loc 2.5103, ROI cls 2.1315, Total:5.5171\n"
     ]
    },
    {
     "name": "stderr",
     "output_type": "stream",
     "text": [
      "\r",
      "118it [08:08,  4.38s/it]"
     ]
    },
    {
     "name": "stdout",
     "output_type": "stream",
     "text": [
      "Iter 117; Losses: RPN loc 0.0860, RPN cls: 0.6731, ROI loc 57.9329, ROI cls 2.3035, Total:60.9955\n"
     ]
    },
    {
     "name": "stderr",
     "output_type": "stream",
     "text": [
      "\r",
      "119it [08:13,  4.35s/it]"
     ]
    },
    {
     "name": "stdout",
     "output_type": "stream",
     "text": [
      "Iter 118; Losses: RPN loc 0.1859, RPN cls: 0.6503, ROI loc 16.2534, ROI cls 2.2172, Total:19.3068\n"
     ]
    },
    {
     "name": "stderr",
     "output_type": "stream",
     "text": [
      "\r",
      "120it [08:17,  4.35s/it]"
     ]
    },
    {
     "name": "stdout",
     "output_type": "stream",
     "text": [
      "Iter 119; Losses: RPN loc 0.1530, RPN cls: 0.6407, ROI loc 54.6402, ROI cls 2.2625, Total:57.6964\n"
     ]
    },
    {
     "name": "stderr",
     "output_type": "stream",
     "text": [
      "\r",
      "121it [08:21,  4.35s/it]"
     ]
    },
    {
     "name": "stdout",
     "output_type": "stream",
     "text": [
      "Iter 120; Losses: RPN loc 0.3340, RPN cls: 0.6520, ROI loc 21.3237, ROI cls 2.2058, Total:24.5155\n"
     ]
    },
    {
     "name": "stderr",
     "output_type": "stream",
     "text": [
      "\r",
      "122it [08:25,  4.29s/it]"
     ]
    },
    {
     "name": "stdout",
     "output_type": "stream",
     "text": [
      "Iter 121; Losses: RPN loc 1.6281, RPN cls: 0.6805, ROI loc 22.2919, ROI cls 2.1560, Total:26.7565\n"
     ]
    },
    {
     "name": "stderr",
     "output_type": "stream",
     "text": [
      "\r",
      "123it [08:30,  4.36s/it]"
     ]
    },
    {
     "name": "stdout",
     "output_type": "stream",
     "text": [
      "Iter 122; Losses: RPN loc 0.3737, RPN cls: 0.6831, ROI loc 67.0471, ROI cls 2.2716, Total:70.3755\n"
     ]
    },
    {
     "name": "stderr",
     "output_type": "stream",
     "text": [
      "\r",
      "124it [08:34,  4.35s/it]"
     ]
    },
    {
     "name": "stdout",
     "output_type": "stream",
     "text": [
      "Iter 123; Losses: RPN loc 0.0091, RPN cls: 0.6121, ROI loc 22.8234, ROI cls 2.1704, Total:25.6150\n"
     ]
    },
    {
     "name": "stderr",
     "output_type": "stream",
     "text": [
      "\r",
      "125it [08:39,  4.34s/it]"
     ]
    },
    {
     "name": "stdout",
     "output_type": "stream",
     "text": [
      "Iter 124; Losses: RPN loc 0.9592, RPN cls: 0.7956, ROI loc 76.1576, ROI cls 2.3732, Total:80.2855\n"
     ]
    },
    {
     "name": "stderr",
     "output_type": "stream",
     "text": [
      "\r",
      "126it [08:43,  4.40s/it]"
     ]
    },
    {
     "name": "stdout",
     "output_type": "stream",
     "text": [
      "Iter 125; Losses: RPN loc 0.2644, RPN cls: 0.6985, ROI loc 77.5114, ROI cls 2.3380, Total:80.8123\n"
     ]
    },
    {
     "name": "stderr",
     "output_type": "stream",
     "text": [
      "\r",
      "127it [08:48,  4.52s/it]"
     ]
    },
    {
     "name": "stdout",
     "output_type": "stream",
     "text": [
      "Iter 126; Losses: RPN loc 0.3630, RPN cls: 0.6977, ROI loc 57.6575, ROI cls 2.2764, Total:60.9946\n"
     ]
    },
    {
     "name": "stderr",
     "output_type": "stream",
     "text": [
      "\r",
      "128it [08:53,  4.66s/it]"
     ]
    },
    {
     "name": "stdout",
     "output_type": "stream",
     "text": [
      "Iter 127; Losses: RPN loc 0.3654, RPN cls: 0.6593, ROI loc 24.2549, ROI cls 2.2091, Total:27.4888\n"
     ]
    },
    {
     "name": "stderr",
     "output_type": "stream",
     "text": [
      "\r",
      "129it [08:57,  4.60s/it]"
     ]
    },
    {
     "name": "stdout",
     "output_type": "stream",
     "text": [
      "Iter 128; Losses: RPN loc 0.0581, RPN cls: 0.5919, ROI loc 3.2940, ROI cls 2.1311, Total:6.0752\n"
     ]
    },
    {
     "name": "stderr",
     "output_type": "stream",
     "text": [
      "\r",
      "130it [09:02,  4.51s/it]"
     ]
    },
    {
     "name": "stdout",
     "output_type": "stream",
     "text": [
      "Iter 129; Losses: RPN loc 1.2814, RPN cls: 0.6872, ROI loc 17.4817, ROI cls 2.1474, Total:21.5978\n"
     ]
    },
    {
     "name": "stderr",
     "output_type": "stream",
     "text": [
      "\r",
      "131it [09:06,  4.48s/it]"
     ]
    },
    {
     "name": "stdout",
     "output_type": "stream",
     "text": [
      "Iter 130; Losses: RPN loc 0.9851, RPN cls: 0.7550, ROI loc 49.8159, ROI cls 2.2471, Total:53.8031\n"
     ]
    },
    {
     "name": "stderr",
     "output_type": "stream",
     "text": [
      "\r",
      "132it [09:11,  4.46s/it]"
     ]
    },
    {
     "name": "stdout",
     "output_type": "stream",
     "text": [
      "Iter 131; Losses: RPN loc 0.7976, RPN cls: 0.7062, ROI loc 53.5575, ROI cls 2.2789, Total:57.3401\n"
     ]
    },
    {
     "name": "stderr",
     "output_type": "stream",
     "text": [
      "\r",
      "133it [09:15,  4.43s/it]"
     ]
    },
    {
     "name": "stdout",
     "output_type": "stream",
     "text": [
      "Iter 132; Losses: RPN loc 1.3294, RPN cls: 0.6664, ROI loc 4.8968, ROI cls 2.1484, Total:9.0410\n"
     ]
    },
    {
     "name": "stderr",
     "output_type": "stream",
     "text": [
      "\r",
      "134it [09:19,  4.46s/it]"
     ]
    },
    {
     "name": "stdout",
     "output_type": "stream",
     "text": [
      "Iter 133; Losses: RPN loc 0.0559, RPN cls: 0.6128, ROI loc 3.8357, ROI cls 2.1315, Total:6.6359\n"
     ]
    },
    {
     "name": "stderr",
     "output_type": "stream",
     "text": [
      "\r",
      "135it [09:24,  4.52s/it]"
     ]
    },
    {
     "name": "stdout",
     "output_type": "stream",
     "text": [
      "Iter 134; Losses: RPN loc 0.9051, RPN cls: 0.7661, ROI loc 32.7393, ROI cls 2.2141, Total:36.6246\n"
     ]
    },
    {
     "name": "stderr",
     "output_type": "stream",
     "text": [
      "\r",
      "136it [09:29,  4.56s/it]"
     ]
    },
    {
     "name": "stdout",
     "output_type": "stream",
     "text": [
      "Iter 135; Losses: RPN loc 0.1470, RPN cls: 0.6407, ROI loc 26.8937, ROI cls 2.2105, Total:29.8919\n"
     ]
    },
    {
     "name": "stderr",
     "output_type": "stream",
     "text": [
      "\r",
      "137it [09:33,  4.41s/it]"
     ]
    },
    {
     "name": "stdout",
     "output_type": "stream",
     "text": [
      "Iter 136; Losses: RPN loc 0.2204, RPN cls: 0.6895, ROI loc 38.1705, ROI cls 2.2770, Total:41.3574\n"
     ]
    },
    {
     "name": "stderr",
     "output_type": "stream",
     "text": [
      "\r",
      "138it [09:37,  4.46s/it]"
     ]
    },
    {
     "name": "stdout",
     "output_type": "stream",
     "text": [
      "Iter 137; Losses: RPN loc 0.1434, RPN cls: 0.6502, ROI loc 19.8463, ROI cls 2.1898, Total:22.8298\n"
     ]
    },
    {
     "name": "stderr",
     "output_type": "stream",
     "text": [
      "\r",
      "139it [09:41,  4.36s/it]"
     ]
    },
    {
     "name": "stdout",
     "output_type": "stream",
     "text": [
      "Iter 138; Losses: RPN loc 0.9140, RPN cls: 0.7769, ROI loc 86.9592, ROI cls 2.3050, Total:90.9551\n"
     ]
    },
    {
     "name": "stderr",
     "output_type": "stream",
     "text": [
      "\r",
      "140it [09:46,  4.37s/it]"
     ]
    },
    {
     "name": "stdout",
     "output_type": "stream",
     "text": [
      "Iter 139; Losses: RPN loc 0.3173, RPN cls: 0.6538, ROI loc 9.0677, ROI cls 2.1393, Total:12.1781\n"
     ]
    },
    {
     "name": "stderr",
     "output_type": "stream",
     "text": [
      "\r",
      "141it [09:50,  4.34s/it]"
     ]
    },
    {
     "name": "stdout",
     "output_type": "stream",
     "text": [
      "Iter 140; Losses: RPN loc 0.4541, RPN cls: 0.6659, ROI loc 29.8338, ROI cls 2.2180, Total:33.1718\n"
     ]
    },
    {
     "name": "stderr",
     "output_type": "stream",
     "text": [
      "\r",
      "142it [09:55,  4.36s/it]"
     ]
    },
    {
     "name": "stdout",
     "output_type": "stream",
     "text": [
      "Iter 141; Losses: RPN loc 0.4268, RPN cls: 0.6862, ROI loc 9.9138, ROI cls 2.2156, Total:13.2424\n"
     ]
    },
    {
     "name": "stderr",
     "output_type": "stream",
     "text": [
      "\r",
      "143it [09:59,  4.32s/it]"
     ]
    },
    {
     "name": "stdout",
     "output_type": "stream",
     "text": [
      "Iter 142; Losses: RPN loc 0.4669, RPN cls: 0.6843, ROI loc 37.1863, ROI cls 2.2492, Total:40.5867\n"
     ]
    },
    {
     "name": "stderr",
     "output_type": "stream",
     "text": [
      "\r",
      "144it [10:04,  4.45s/it]"
     ]
    },
    {
     "name": "stdout",
     "output_type": "stream",
     "text": [
      "Iter 143; Losses: RPN loc 0.1792, RPN cls: 0.6499, ROI loc 22.2376, ROI cls 2.1940, Total:25.2608\n"
     ]
    },
    {
     "name": "stderr",
     "output_type": "stream",
     "text": [
      "\r",
      "145it [10:08,  4.47s/it]"
     ]
    },
    {
     "name": "stdout",
     "output_type": "stream",
     "text": [
      "Iter 144; Losses: RPN loc 0.4666, RPN cls: 0.7018, ROI loc 34.9800, ROI cls 2.2091, Total:38.3575\n"
     ]
    },
    {
     "name": "stderr",
     "output_type": "stream",
     "text": [
      "\r",
      "146it [10:13,  4.49s/it]"
     ]
    },
    {
     "name": "stdout",
     "output_type": "stream",
     "text": [
      "Iter 145; Losses: RPN loc 0.1127, RPN cls: 0.5585, ROI loc 28.2633, ROI cls 2.2086, Total:31.1432\n"
     ]
    },
    {
     "name": "stderr",
     "output_type": "stream",
     "text": [
      "\r",
      "147it [10:17,  4.51s/it]"
     ]
    },
    {
     "name": "stdout",
     "output_type": "stream",
     "text": [
      "Iter 146; Losses: RPN loc 0.3985, RPN cls: 0.6642, ROI loc 32.4388, ROI cls 2.1779, Total:35.6793\n"
     ]
    },
    {
     "name": "stderr",
     "output_type": "stream",
     "text": [
      "\r",
      "148it [10:21,  4.44s/it]"
     ]
    },
    {
     "name": "stdout",
     "output_type": "stream",
     "text": [
      "Iter 147; Losses: RPN loc 0.0692, RPN cls: 0.5937, ROI loc 36.0961, ROI cls 2.2119, Total:38.9709\n"
     ]
    },
    {
     "name": "stderr",
     "output_type": "stream",
     "text": [
      "\r",
      "149it [10:26,  4.39s/it]"
     ]
    },
    {
     "name": "stdout",
     "output_type": "stream",
     "text": [
      "Iter 148; Losses: RPN loc 0.1565, RPN cls: 0.5421, ROI loc 26.0182, ROI cls 2.1857, Total:28.9025\n"
     ]
    },
    {
     "name": "stderr",
     "output_type": "stream",
     "text": [
      "\r",
      "150it [10:30,  4.44s/it]"
     ]
    },
    {
     "name": "stdout",
     "output_type": "stream",
     "text": [
      "Iter 149; Losses: RPN loc 0.6503, RPN cls: 0.4461, ROI loc 58.3931, ROI cls 2.3263, Total:61.8159\n"
     ]
    },
    {
     "name": "stderr",
     "output_type": "stream",
     "text": [
      "\r",
      "151it [10:34,  4.38s/it]"
     ]
    },
    {
     "name": "stdout",
     "output_type": "stream",
     "text": [
      "Iter 150; Losses: RPN loc 0.1029, RPN cls: 0.4905, ROI loc 15.2692, ROI cls 2.1872, Total:18.0497\n"
     ]
    },
    {
     "name": "stderr",
     "output_type": "stream",
     "text": [
      "\r",
      "152it [10:39,  4.47s/it]"
     ]
    },
    {
     "name": "stdout",
     "output_type": "stream",
     "text": [
      "Iter 151; Losses: RPN loc 1.0430, RPN cls: 1.1689, ROI loc 57.5907, ROI cls 2.1700, Total:61.9726\n"
     ]
    },
    {
     "name": "stderr",
     "output_type": "stream",
     "text": [
      "\r",
      "153it [10:44,  4.44s/it]"
     ]
    },
    {
     "name": "stdout",
     "output_type": "stream",
     "text": [
      "Iter 152; Losses: RPN loc 0.2352, RPN cls: 0.6518, ROI loc 76.8741, ROI cls 2.2045, Total:79.9655\n"
     ]
    },
    {
     "name": "stderr",
     "output_type": "stream",
     "text": [
      "\r",
      "154it [10:48,  4.36s/it]"
     ]
    },
    {
     "name": "stdout",
     "output_type": "stream",
     "text": [
      "Iter 153; Losses: RPN loc 0.2000, RPN cls: 0.6657, ROI loc 77.3498, ROI cls 2.2101, Total:80.4256\n"
     ]
    },
    {
     "name": "stderr",
     "output_type": "stream",
     "text": [
      "\r",
      "155it [10:52,  4.29s/it]"
     ]
    },
    {
     "name": "stdout",
     "output_type": "stream",
     "text": [
      "Iter 154; Losses: RPN loc 0.0241, RPN cls: 0.6038, ROI loc 39.5752, ROI cls 2.1635, Total:42.3666\n"
     ]
    },
    {
     "name": "stderr",
     "output_type": "stream",
     "text": [
      "\r",
      "156it [10:56,  4.21s/it]"
     ]
    },
    {
     "name": "stdout",
     "output_type": "stream",
     "text": [
      "Iter 155; Losses: RPN loc 0.3964, RPN cls: 0.6846, ROI loc 46.2252, ROI cls 2.2051, Total:49.5113\n"
     ]
    },
    {
     "name": "stderr",
     "output_type": "stream",
     "text": [
      "\r",
      "157it [11:00,  4.17s/it]"
     ]
    },
    {
     "name": "stdout",
     "output_type": "stream",
     "text": [
      "Iter 156; Losses: RPN loc 0.5333, RPN cls: 0.6501, ROI loc 38.0544, ROI cls 2.2014, Total:41.4392\n"
     ]
    },
    {
     "name": "stderr",
     "output_type": "stream",
     "text": [
      "\r",
      "158it [11:05,  4.29s/it]"
     ]
    },
    {
     "name": "stdout",
     "output_type": "stream",
     "text": [
      "Iter 157; Losses: RPN loc 0.0737, RPN cls: 0.6211, ROI loc 69.9920, ROI cls 2.2819, Total:72.9686\n"
     ]
    },
    {
     "name": "stderr",
     "output_type": "stream",
     "text": [
      "\r",
      "159it [11:09,  4.31s/it]"
     ]
    },
    {
     "name": "stdout",
     "output_type": "stream",
     "text": [
      "Iter 158; Losses: RPN loc 0.0569, RPN cls: 0.5946, ROI loc 47.8599, ROI cls 2.2297, Total:50.7411\n"
     ]
    },
    {
     "name": "stderr",
     "output_type": "stream",
     "text": [
      "\r",
      "160it [11:13,  4.36s/it]"
     ]
    },
    {
     "name": "stdout",
     "output_type": "stream",
     "text": [
      "Iter 159; Losses: RPN loc 0.7588, RPN cls: 0.7297, ROI loc 24.6650, ROI cls 2.1975, Total:28.3510\n"
     ]
    },
    {
     "name": "stderr",
     "output_type": "stream",
     "text": [
      "\r",
      "161it [11:17,  4.23s/it]"
     ]
    },
    {
     "name": "stdout",
     "output_type": "stream",
     "text": [
      "Iter 160; Losses: RPN loc 0.0077, RPN cls: 0.5026, ROI loc 13.4216, ROI cls 2.1577, Total:16.0896\n"
     ]
    },
    {
     "name": "stderr",
     "output_type": "stream",
     "text": [
      "\r",
      "162it [11:21,  4.19s/it]"
     ]
    },
    {
     "name": "stdout",
     "output_type": "stream",
     "text": [
      "Iter 161; Losses: RPN loc 0.4633, RPN cls: 0.6356, ROI loc 12.3551, ROI cls 2.1318, Total:15.5858\n"
     ]
    },
    {
     "name": "stderr",
     "output_type": "stream",
     "text": [
      "\r",
      "163it [11:26,  4.37s/it]"
     ]
    },
    {
     "name": "stdout",
     "output_type": "stream",
     "text": [
      "Iter 162; Losses: RPN loc 0.0506, RPN cls: 0.5881, ROI loc 83.7573, ROI cls 2.2045, Total:86.6005\n"
     ]
    },
    {
     "name": "stderr",
     "output_type": "stream",
     "text": [
      "\r",
      "164it [11:31,  4.38s/it]"
     ]
    },
    {
     "name": "stdout",
     "output_type": "stream",
     "text": [
      "Iter 163; Losses: RPN loc 0.7797, RPN cls: 0.7612, ROI loc 110.2560, ROI cls 2.2471, Total:114.0440\n"
     ]
    },
    {
     "name": "stderr",
     "output_type": "stream",
     "text": [
      "\r",
      "165it [11:35,  4.38s/it]"
     ]
    },
    {
     "name": "stdout",
     "output_type": "stream",
     "text": [
      "Iter 164; Losses: RPN loc 0.4566, RPN cls: 0.6645, ROI loc 77.4559, ROI cls 2.2126, Total:80.7897\n"
     ]
    },
    {
     "name": "stderr",
     "output_type": "stream",
     "text": [
      "\r",
      "166it [11:39,  4.39s/it]"
     ]
    },
    {
     "name": "stdout",
     "output_type": "stream",
     "text": [
      "Iter 165; Losses: RPN loc 0.1402, RPN cls: 0.6160, ROI loc 49.0456, ROI cls 2.1933, Total:51.9951\n"
     ]
    },
    {
     "name": "stderr",
     "output_type": "stream",
     "text": [
      "\r",
      "167it [11:44,  4.39s/it]"
     ]
    },
    {
     "name": "stdout",
     "output_type": "stream",
     "text": [
      "Iter 166; Losses: RPN loc 0.9638, RPN cls: 0.6707, ROI loc 29.2588, ROI cls 2.1554, Total:33.0486\n"
     ]
    },
    {
     "name": "stderr",
     "output_type": "stream",
     "text": [
      "\r",
      "168it [11:48,  4.47s/it]"
     ]
    },
    {
     "name": "stdout",
     "output_type": "stream",
     "text": [
      "Iter 167; Losses: RPN loc 0.1773, RPN cls: 0.5952, ROI loc 20.7375, ROI cls 2.1472, Total:23.6572\n"
     ]
    },
    {
     "name": "stderr",
     "output_type": "stream",
     "text": [
      "\r",
      "169it [11:53,  4.50s/it]"
     ]
    },
    {
     "name": "stdout",
     "output_type": "stream",
     "text": [
      "Iter 168; Losses: RPN loc 0.0061, RPN cls: 0.5919, ROI loc 55.3351, ROI cls 2.2141, Total:58.1472\n"
     ]
    },
    {
     "name": "stderr",
     "output_type": "stream",
     "text": [
      "\r",
      "170it [11:57,  4.43s/it]"
     ]
    },
    {
     "name": "stdout",
     "output_type": "stream",
     "text": [
      "Iter 169; Losses: RPN loc 0.3350, RPN cls: 0.7022, ROI loc 101.3863, ROI cls 2.2588, Total:104.6823\n"
     ]
    },
    {
     "name": "stderr",
     "output_type": "stream",
     "text": [
      "\r",
      "171it [12:01,  4.36s/it]"
     ]
    },
    {
     "name": "stdout",
     "output_type": "stream",
     "text": [
      "Iter 170; Losses: RPN loc 0.2826, RPN cls: 0.6418, ROI loc 60.6522, ROI cls 2.2172, Total:63.7938\n"
     ]
    },
    {
     "name": "stderr",
     "output_type": "stream",
     "text": [
      "\r",
      "172it [12:05,  4.23s/it]"
     ]
    },
    {
     "name": "stdout",
     "output_type": "stream",
     "text": [
      "Iter 171; Losses: RPN loc 0.0906, RPN cls: 0.6267, ROI loc 52.1726, ROI cls 2.2149, Total:55.1049\n"
     ]
    },
    {
     "name": "stderr",
     "output_type": "stream",
     "text": [
      "\r",
      "173it [12:10,  4.25s/it]"
     ]
    },
    {
     "name": "stdout",
     "output_type": "stream",
     "text": [
      "Iter 172; Losses: RPN loc 0.2601, RPN cls: 0.6583, ROI loc 69.3578, ROI cls 2.2868, Total:72.5630\n"
     ]
    },
    {
     "name": "stderr",
     "output_type": "stream",
     "text": [
      "\r",
      "174it [12:14,  4.34s/it]"
     ]
    },
    {
     "name": "stdout",
     "output_type": "stream",
     "text": [
      "Iter 173; Losses: RPN loc 0.2265, RPN cls: 0.6780, ROI loc 78.8903, ROI cls 2.2806, Total:82.0755\n"
     ]
    },
    {
     "name": "stderr",
     "output_type": "stream",
     "text": [
      "\r",
      "175it [12:19,  4.40s/it]"
     ]
    },
    {
     "name": "stdout",
     "output_type": "stream",
     "text": [
      "Iter 174; Losses: RPN loc 0.0116, RPN cls: 0.5955, ROI loc 40.8902, ROI cls 2.2223, Total:43.7196\n"
     ]
    },
    {
     "name": "stderr",
     "output_type": "stream",
     "text": [
      "\r",
      "176it [12:23,  4.43s/it]"
     ]
    },
    {
     "name": "stdout",
     "output_type": "stream",
     "text": [
      "Iter 175; Losses: RPN loc 0.0656, RPN cls: 0.6098, ROI loc 33.1812, ROI cls 2.2148, Total:36.0713\n"
     ]
    },
    {
     "name": "stderr",
     "output_type": "stream",
     "text": [
      "\r",
      "177it [12:28,  4.46s/it]"
     ]
    },
    {
     "name": "stdout",
     "output_type": "stream",
     "text": [
      "Iter 176; Losses: RPN loc 0.5467, RPN cls: 0.7173, ROI loc 86.1751, ROI cls 2.3183, Total:89.7575\n"
     ]
    },
    {
     "name": "stderr",
     "output_type": "stream",
     "text": [
      "\r",
      "178it [12:32,  4.46s/it]"
     ]
    },
    {
     "name": "stdout",
     "output_type": "stream",
     "text": [
      "Iter 177; Losses: RPN loc 0.3072, RPN cls: 0.6433, ROI loc 22.7846, ROI cls 2.2094, Total:25.9445\n"
     ]
    },
    {
     "name": "stderr",
     "output_type": "stream",
     "text": [
      "\r",
      "179it [12:36,  4.24s/it]"
     ]
    },
    {
     "name": "stdout",
     "output_type": "stream",
     "text": [
      "Iter 178; Losses: RPN loc 1.9082, RPN cls: 0.6898, ROI loc 5.2635, ROI cls 2.1325, Total:9.9939\n"
     ]
    },
    {
     "name": "stderr",
     "output_type": "stream",
     "text": [
      "\r",
      "180it [12:40,  4.14s/it]"
     ]
    },
    {
     "name": "stdout",
     "output_type": "stream",
     "text": [
      "Iter 179; Losses: RPN loc 0.3188, RPN cls: 0.6870, ROI loc 51.8977, ROI cls 2.2362, Total:55.1397\n"
     ]
    },
    {
     "name": "stderr",
     "output_type": "stream",
     "text": [
      "\r",
      "181it [12:44,  4.20s/it]"
     ]
    },
    {
     "name": "stdout",
     "output_type": "stream",
     "text": [
      "Iter 180; Losses: RPN loc 0.4617, RPN cls: 0.7085, ROI loc 16.2437, ROI cls 2.1825, Total:19.5965\n"
     ]
    },
    {
     "name": "stderr",
     "output_type": "stream",
     "text": [
      "\r",
      "182it [12:49,  4.25s/it]"
     ]
    },
    {
     "name": "stdout",
     "output_type": "stream",
     "text": [
      "Iter 181; Losses: RPN loc 0.1407, RPN cls: 0.6164, ROI loc 51.1792, ROI cls 2.2898, Total:54.2262\n"
     ]
    },
    {
     "name": "stderr",
     "output_type": "stream",
     "text": [
      "\r",
      "183it [12:53,  4.17s/it]"
     ]
    },
    {
     "name": "stdout",
     "output_type": "stream",
     "text": [
      "Iter 182; Losses: RPN loc 1.0141, RPN cls: 0.8265, ROI loc 31.2329, ROI cls 2.2777, Total:35.3512\n"
     ]
    },
    {
     "name": "stderr",
     "output_type": "stream",
     "text": [
      "\r",
      "184it [12:57,  4.19s/it]"
     ]
    },
    {
     "name": "stdout",
     "output_type": "stream",
     "text": [
      "Iter 183; Losses: RPN loc 0.3468, RPN cls: 0.6445, ROI loc 33.7187, ROI cls 2.2275, Total:36.9374\n"
     ]
    },
    {
     "name": "stderr",
     "output_type": "stream",
     "text": [
      "\r",
      "185it [13:01,  4.15s/it]"
     ]
    },
    {
     "name": "stdout",
     "output_type": "stream",
     "text": [
      "Iter 184; Losses: RPN loc 0.0720, RPN cls: 0.6224, ROI loc 88.6895, ROI cls 2.3269, Total:91.7107\n"
     ]
    },
    {
     "name": "stderr",
     "output_type": "stream",
     "text": [
      "\r",
      "186it [13:05,  4.15s/it]"
     ]
    },
    {
     "name": "stdout",
     "output_type": "stream",
     "text": [
      "Iter 185; Losses: RPN loc 0.0671, RPN cls: 0.6215, ROI loc 39.8559, ROI cls 2.2172, Total:42.7617\n"
     ]
    },
    {
     "name": "stderr",
     "output_type": "stream",
     "text": [
      "\r",
      "187it [13:09,  4.20s/it]"
     ]
    },
    {
     "name": "stdout",
     "output_type": "stream",
     "text": [
      "Iter 186; Losses: RPN loc 0.3091, RPN cls: 0.6298, ROI loc 24.5262, ROI cls 2.2172, Total:27.6822\n"
     ]
    },
    {
     "name": "stderr",
     "output_type": "stream",
     "text": [
      "\r",
      "188it [13:13,  4.19s/it]"
     ]
    },
    {
     "name": "stdout",
     "output_type": "stream",
     "text": [
      "Iter 187; Losses: RPN loc 0.6301, RPN cls: 0.7088, ROI loc 69.0033, ROI cls 2.2943, Total:72.6365\n"
     ]
    },
    {
     "name": "stderr",
     "output_type": "stream",
     "text": [
      "\r",
      "189it [13:17,  4.12s/it]"
     ]
    },
    {
     "name": "stdout",
     "output_type": "stream",
     "text": [
      "Iter 188; Losses: RPN loc 0.0701, RPN cls: 0.5746, ROI loc 5.6461, ROI cls 2.1412, Total:8.4320\n"
     ]
    },
    {
     "name": "stderr",
     "output_type": "stream",
     "text": [
      "\r",
      "190it [13:21,  4.05s/it]"
     ]
    },
    {
     "name": "stdout",
     "output_type": "stream",
     "text": [
      "Iter 189; Losses: RPN loc 0.0824, RPN cls: 0.5910, ROI loc 27.6574, ROI cls 2.1952, Total:30.5260\n"
     ]
    },
    {
     "name": "stderr",
     "output_type": "stream",
     "text": [
      "\r",
      "191it [13:25,  4.04s/it]"
     ]
    },
    {
     "name": "stdout",
     "output_type": "stream",
     "text": [
      "Iter 190; Losses: RPN loc 0.1039, RPN cls: 0.5997, ROI loc 44.9887, ROI cls 2.2205, Total:47.9129\n"
     ]
    },
    {
     "name": "stderr",
     "output_type": "stream",
     "text": [
      "\r",
      "192it [13:29,  4.00s/it]"
     ]
    },
    {
     "name": "stdout",
     "output_type": "stream",
     "text": [
      "Iter 191; Losses: RPN loc 0.0929, RPN cls: 0.5769, ROI loc 13.8238, ROI cls 2.1500, Total:16.6436\n"
     ]
    },
    {
     "name": "stderr",
     "output_type": "stream",
     "text": [
      "\r",
      "193it [13:33,  3.94s/it]"
     ]
    },
    {
     "name": "stdout",
     "output_type": "stream",
     "text": [
      "Iter 192; Losses: RPN loc 0.2787, RPN cls: 0.6329, ROI loc 20.6163, ROI cls 2.1695, Total:23.6974\n"
     ]
    },
    {
     "name": "stderr",
     "output_type": "stream",
     "text": [
      "\r",
      "194it [13:37,  3.98s/it]"
     ]
    },
    {
     "name": "stdout",
     "output_type": "stream",
     "text": [
      "Iter 193; Losses: RPN loc 0.1550, RPN cls: 0.6916, ROI loc 96.0015, ROI cls 2.3315, Total:99.1796\n"
     ]
    },
    {
     "name": "stderr",
     "output_type": "stream",
     "text": [
      "\r",
      "195it [13:41,  3.96s/it]"
     ]
    },
    {
     "name": "stdout",
     "output_type": "stream",
     "text": [
      "Iter 194; Losses: RPN loc 0.4953, RPN cls: 0.6801, ROI loc 28.6690, ROI cls 2.2249, Total:32.0693\n"
     ]
    },
    {
     "name": "stderr",
     "output_type": "stream",
     "text": [
      "\r",
      "196it [13:45,  4.09s/it]"
     ]
    },
    {
     "name": "stdout",
     "output_type": "stream",
     "text": [
      "Iter 195; Losses: RPN loc 0.1012, RPN cls: 0.5930, ROI loc 22.1716, ROI cls 2.1927, Total:25.0586\n"
     ]
    },
    {
     "name": "stderr",
     "output_type": "stream",
     "text": [
      "\r",
      "197it [13:50,  4.11s/it]"
     ]
    },
    {
     "name": "stdout",
     "output_type": "stream",
     "text": [
      "Iter 196; Losses: RPN loc 0.9359, RPN cls: 0.6266, ROI loc 71.9271, ROI cls 2.1988, Total:75.6883\n"
     ]
    },
    {
     "name": "stderr",
     "output_type": "stream",
     "text": [
      "\r",
      "198it [13:54,  4.17s/it]"
     ]
    },
    {
     "name": "stdout",
     "output_type": "stream",
     "text": [
      "Iter 197; Losses: RPN loc 0.3838, RPN cls: 0.6824, ROI loc 43.0411, ROI cls 2.2156, Total:46.3230\n"
     ]
    },
    {
     "name": "stderr",
     "output_type": "stream",
     "text": [
      "\r",
      "199it [13:58,  4.25s/it]"
     ]
    },
    {
     "name": "stdout",
     "output_type": "stream",
     "text": [
      "Iter 198; Losses: RPN loc 0.5455, RPN cls: 0.7169, ROI loc 117.0927, ROI cls 2.3533, Total:120.7085\n"
     ]
    },
    {
     "name": "stderr",
     "output_type": "stream",
     "text": [
      "\r",
      "200it [14:02,  4.20s/it]"
     ]
    },
    {
     "name": "stdout",
     "output_type": "stream",
     "text": [
      "Iter 199; Losses: RPN loc 0.6918, RPN cls: 0.7796, ROI loc 47.3512, ROI cls 2.2611, Total:51.0837\n"
     ]
    },
    {
     "name": "stderr",
     "output_type": "stream",
     "text": [
      "\r",
      "201it [14:07,  4.20s/it]"
     ]
    },
    {
     "name": "stdout",
     "output_type": "stream",
     "text": [
      "Iter 200; Losses: RPN loc 0.0267, RPN cls: 0.5959, ROI loc 46.2532, ROI cls 2.2482, Total:49.1240\n"
     ]
    },
    {
     "name": "stderr",
     "output_type": "stream",
     "text": [
      "\r",
      "202it [14:11,  4.26s/it]"
     ]
    },
    {
     "name": "stdout",
     "output_type": "stream",
     "text": [
      "Iter 201; Losses: RPN loc 1.4140, RPN cls: 0.9208, ROI loc 62.1037, ROI cls 2.2148, Total:66.6533\n"
     ]
    },
    {
     "name": "stderr",
     "output_type": "stream",
     "text": [
      "\r",
      "203it [14:15,  4.27s/it]"
     ]
    },
    {
     "name": "stdout",
     "output_type": "stream",
     "text": [
      "Iter 202; Losses: RPN loc 0.2503, RPN cls: 0.6253, ROI loc 114.5028, ROI cls 2.2732, Total:117.6515\n"
     ]
    },
    {
     "name": "stderr",
     "output_type": "stream",
     "text": [
      "\r",
      "204it [14:19,  4.18s/it]"
     ]
    },
    {
     "name": "stdout",
     "output_type": "stream",
     "text": [
      "Iter 203; Losses: RPN loc 0.3761, RPN cls: 0.6733, ROI loc 89.4556, ROI cls 2.2884, Total:92.7933\n"
     ]
    },
    {
     "name": "stderr",
     "output_type": "stream",
     "text": [
      "\r",
      "205it [14:23,  4.16s/it]"
     ]
    },
    {
     "name": "stdout",
     "output_type": "stream",
     "text": [
      "Iter 204; Losses: RPN loc 0.1163, RPN cls: 0.6018, ROI loc 29.1530, ROI cls 2.1599, Total:32.0310\n"
     ]
    },
    {
     "name": "stderr",
     "output_type": "stream",
     "text": [
      "\r",
      "206it [14:28,  4.19s/it]"
     ]
    },
    {
     "name": "stdout",
     "output_type": "stream",
     "text": [
      "Iter 205; Losses: RPN loc 0.5559, RPN cls: 0.6770, ROI loc 90.2269, ROI cls 2.2828, Total:93.7427\n"
     ]
    },
    {
     "name": "stderr",
     "output_type": "stream",
     "text": [
      "\r",
      "207it [14:32,  4.18s/it]"
     ]
    },
    {
     "name": "stdout",
     "output_type": "stream",
     "text": [
      "Iter 206; Losses: RPN loc 0.0609, RPN cls: 0.6162, ROI loc 49.4103, ROI cls 2.3232, Total:52.4105\n"
     ]
    },
    {
     "name": "stderr",
     "output_type": "stream",
     "text": [
      "\r",
      "208it [14:36,  4.15s/it]"
     ]
    },
    {
     "name": "stdout",
     "output_type": "stream",
     "text": [
      "Iter 207; Losses: RPN loc 0.9562, RPN cls: 0.7566, ROI loc 41.0168, ROI cls 2.2559, Total:44.9855\n"
     ]
    },
    {
     "name": "stderr",
     "output_type": "stream",
     "text": [
      "\r",
      "209it [14:40,  4.11s/it]"
     ]
    },
    {
     "name": "stdout",
     "output_type": "stream",
     "text": [
      "Iter 208; Losses: RPN loc 0.4008, RPN cls: 0.7261, ROI loc 52.9982, ROI cls 2.2811, Total:56.4061\n"
     ]
    },
    {
     "name": "stderr",
     "output_type": "stream",
     "text": [
      "\r",
      "210it [14:44,  4.04s/it]"
     ]
    },
    {
     "name": "stdout",
     "output_type": "stream",
     "text": [
      "Iter 209; Losses: RPN loc 0.0603, RPN cls: 0.6341, ROI loc 80.1473, ROI cls 2.3176, Total:83.1593\n"
     ]
    },
    {
     "name": "stderr",
     "output_type": "stream",
     "text": [
      "\r",
      "211it [14:48,  4.04s/it]"
     ]
    },
    {
     "name": "stdout",
     "output_type": "stream",
     "text": [
      "Iter 210; Losses: RPN loc 0.0711, RPN cls: 0.6086, ROI loc 58.5813, ROI cls 2.2333, Total:61.4944\n"
     ]
    },
    {
     "name": "stderr",
     "output_type": "stream",
     "text": [
      "\r",
      "212it [14:52,  4.04s/it]"
     ]
    },
    {
     "name": "stdout",
     "output_type": "stream",
     "text": [
      "Iter 211; Losses: RPN loc 0.3155, RPN cls: 0.6375, ROI loc 17.1609, ROI cls 2.2250, Total:20.3390\n"
     ]
    },
    {
     "name": "stderr",
     "output_type": "stream",
     "text": [
      "\r",
      "213it [14:56,  4.03s/it]"
     ]
    },
    {
     "name": "stdout",
     "output_type": "stream",
     "text": [
      "Iter 212; Losses: RPN loc 0.0554, RPN cls: 0.5773, ROI loc 23.2662, ROI cls 2.1862, Total:26.0851\n"
     ]
    },
    {
     "name": "stderr",
     "output_type": "stream",
     "text": [
      "\r",
      "214it [15:00,  4.03s/it]"
     ]
    },
    {
     "name": "stdout",
     "output_type": "stream",
     "text": [
      "Iter 213; Losses: RPN loc 0.1220, RPN cls: 0.5916, ROI loc 47.4788, ROI cls 2.2372, Total:50.4296\n"
     ]
    },
    {
     "name": "stderr",
     "output_type": "stream",
     "text": [
      "\r",
      "215it [15:04,  4.10s/it]"
     ]
    },
    {
     "name": "stdout",
     "output_type": "stream",
     "text": [
      "Iter 214; Losses: RPN loc 0.3286, RPN cls: 0.7030, ROI loc 87.8080, ROI cls 2.3472, Total:91.1867\n"
     ]
    },
    {
     "name": "stderr",
     "output_type": "stream",
     "text": [
      "\r",
      "216it [15:08,  4.03s/it]"
     ]
    },
    {
     "name": "stdout",
     "output_type": "stream",
     "text": [
      "Iter 215; Losses: RPN loc 0.2903, RPN cls: 0.7794, ROI loc 51.2970, ROI cls 2.4064, Total:54.7731\n"
     ]
    },
    {
     "name": "stderr",
     "output_type": "stream",
     "text": [
      "\r",
      "217it [15:12,  4.07s/it]"
     ]
    },
    {
     "name": "stdout",
     "output_type": "stream",
     "text": [
      "Iter 216; Losses: RPN loc 0.0164, RPN cls: 0.5607, ROI loc 18.3498, ROI cls 2.1504, Total:21.0773\n"
     ]
    },
    {
     "name": "stderr",
     "output_type": "stream",
     "text": [
      "\r",
      "218it [15:17,  4.15s/it]"
     ]
    },
    {
     "name": "stdout",
     "output_type": "stream",
     "text": [
      "Iter 217; Losses: RPN loc 0.4242, RPN cls: 0.6687, ROI loc 117.2314, ROI cls 2.2482, Total:120.5725\n"
     ]
    },
    {
     "name": "stderr",
     "output_type": "stream",
     "text": [
      "\r",
      "219it [15:20,  4.09s/it]"
     ]
    },
    {
     "name": "stdout",
     "output_type": "stream",
     "text": [
      "Iter 218; Losses: RPN loc 0.3397, RPN cls: 0.6682, ROI loc 199.5350, ROI cls 2.3158, Total:202.8588\n"
     ]
    },
    {
     "name": "stderr",
     "output_type": "stream",
     "text": [
      "\r",
      "220it [15:25,  4.20s/it]"
     ]
    },
    {
     "name": "stdout",
     "output_type": "stream",
     "text": [
      "Iter 219; Losses: RPN loc 0.1029, RPN cls: 0.5860, ROI loc 100.5485, ROI cls 2.2289, Total:103.4662\n"
     ]
    },
    {
     "name": "stderr",
     "output_type": "stream",
     "text": [
      "\r",
      "221it [15:29,  4.16s/it]"
     ]
    },
    {
     "name": "stdout",
     "output_type": "stream",
     "text": [
      "Iter 220; Losses: RPN loc 0.0561, RPN cls: 0.5714, ROI loc 7.6475, ROI cls 2.1322, Total:10.4072\n"
     ]
    },
    {
     "name": "stderr",
     "output_type": "stream",
     "text": [
      "\r",
      "222it [15:33,  4.03s/it]"
     ]
    },
    {
     "name": "stdout",
     "output_type": "stream",
     "text": [
      "Iter 221; Losses: RPN loc 0.2667, RPN cls: 0.6301, ROI loc 59.6572, ROI cls 2.2386, Total:62.7925\n"
     ]
    },
    {
     "name": "stderr",
     "output_type": "stream",
     "text": [
      "\r",
      "223it [15:36,  3.94s/it]"
     ]
    },
    {
     "name": "stdout",
     "output_type": "stream",
     "text": [
      "Iter 222; Losses: RPN loc 0.1529, RPN cls: 0.5674, ROI loc 6.1247, ROI cls 2.1323, Total:8.9774\n"
     ]
    },
    {
     "name": "stderr",
     "output_type": "stream",
     "text": [
      "\r",
      "224it [15:40,  3.93s/it]"
     ]
    },
    {
     "name": "stdout",
     "output_type": "stream",
     "text": [
      "Iter 223; Losses: RPN loc 0.0932, RPN cls: 0.6109, ROI loc 51.8264, ROI cls 2.2158, Total:54.7462\n"
     ]
    },
    {
     "name": "stderr",
     "output_type": "stream",
     "text": [
      "\r",
      "225it [15:45,  4.05s/it]"
     ]
    },
    {
     "name": "stdout",
     "output_type": "stream",
     "text": [
      "Iter 224; Losses: RPN loc 0.0467, RPN cls: 0.5851, ROI loc 82.7014, ROI cls 2.2482, Total:85.5814\n"
     ]
    },
    {
     "name": "stderr",
     "output_type": "stream",
     "text": [
      "\r",
      "226it [15:49,  4.06s/it]"
     ]
    },
    {
     "name": "stdout",
     "output_type": "stream",
     "text": [
      "Iter 225; Losses: RPN loc 0.4274, RPN cls: 0.6899, ROI loc 53.0259, ROI cls 2.2266, Total:56.3698\n"
     ]
    },
    {
     "name": "stderr",
     "output_type": "stream",
     "text": [
      "\r",
      "227it [15:53,  4.06s/it]"
     ]
    },
    {
     "name": "stdout",
     "output_type": "stream",
     "text": [
      "Iter 226; Losses: RPN loc 0.2064, RPN cls: 0.6158, ROI loc 22.2874, ROI cls 2.2065, Total:25.3161\n"
     ]
    },
    {
     "name": "stderr",
     "output_type": "stream",
     "text": [
      "\r",
      "228it [15:57,  4.09s/it]"
     ]
    },
    {
     "name": "stdout",
     "output_type": "stream",
     "text": [
      "Iter 227; Losses: RPN loc 0.4306, RPN cls: 0.7353, ROI loc 112.0670, ROI cls 2.3863, Total:115.6192\n"
     ]
    },
    {
     "name": "stderr",
     "output_type": "stream",
     "text": [
      "\r",
      "229it [16:01,  3.99s/it]"
     ]
    },
    {
     "name": "stdout",
     "output_type": "stream",
     "text": [
      "Iter 228; Losses: RPN loc 0.1899, RPN cls: 0.6061, ROI loc 28.4261, ROI cls 2.2141, Total:31.4362\n"
     ]
    },
    {
     "name": "stderr",
     "output_type": "stream",
     "text": [
      "\r",
      "230it [16:05,  3.99s/it]"
     ]
    },
    {
     "name": "stdout",
     "output_type": "stream",
     "text": [
      "Iter 229; Losses: RPN loc 0.5339, RPN cls: 0.7617, ROI loc 39.7295, ROI cls 2.2266, Total:43.2517\n"
     ]
    },
    {
     "name": "stderr",
     "output_type": "stream",
     "text": [
      "\r",
      "231it [16:09,  3.98s/it]"
     ]
    },
    {
     "name": "stdout",
     "output_type": "stream",
     "text": [
      "Iter 230; Losses: RPN loc 0.4398, RPN cls: 0.6847, ROI loc 135.7856, ROI cls 2.3128, Total:139.2229\n"
     ]
    },
    {
     "name": "stderr",
     "output_type": "stream",
     "text": [
      "\r",
      "232it [16:13,  3.97s/it]"
     ]
    },
    {
     "name": "stdout",
     "output_type": "stream",
     "text": [
      "Iter 231; Losses: RPN loc 0.2737, RPN cls: 0.6328, ROI loc 49.8520, ROI cls 2.2043, Total:52.9628\n"
     ]
    },
    {
     "name": "stderr",
     "output_type": "stream",
     "text": [
      "\r",
      "233it [16:17,  3.98s/it]"
     ]
    },
    {
     "name": "stdout",
     "output_type": "stream",
     "text": [
      "Iter 232; Losses: RPN loc 0.0065, RPN cls: 0.5598, ROI loc 46.6210, ROI cls 2.2117, Total:49.3989\n"
     ]
    },
    {
     "name": "stderr",
     "output_type": "stream",
     "text": [
      "\r",
      "234it [16:21,  4.00s/it]"
     ]
    },
    {
     "name": "stdout",
     "output_type": "stream",
     "text": [
      "Iter 233; Losses: RPN loc 0.1063, RPN cls: 0.5731, ROI loc 11.6234, ROI cls 2.1577, Total:14.4604\n"
     ]
    },
    {
     "name": "stderr",
     "output_type": "stream",
     "text": [
      "\r",
      "235it [16:25,  4.09s/it]"
     ]
    },
    {
     "name": "stdout",
     "output_type": "stream",
     "text": [
      "Iter 234; Losses: RPN loc 0.1485, RPN cls: 0.5626, ROI loc 6.8674, ROI cls 2.1406, Total:9.7191\n"
     ]
    },
    {
     "name": "stderr",
     "output_type": "stream",
     "text": [
      "\r",
      "236it [16:29,  4.00s/it]"
     ]
    },
    {
     "name": "stdout",
     "output_type": "stream",
     "text": [
      "Iter 235; Losses: RPN loc 0.2924, RPN cls: 0.6278, ROI loc 33.6374, ROI cls 2.2333, Total:36.7909\n"
     ]
    },
    {
     "name": "stderr",
     "output_type": "stream",
     "text": [
      "\r",
      "237it [16:33,  3.97s/it]"
     ]
    },
    {
     "name": "stdout",
     "output_type": "stream",
     "text": [
      "Iter 236; Losses: RPN loc 0.1701, RPN cls: 0.6779, ROI loc 95.3895, ROI cls 2.3821, Total:98.6196\n"
     ]
    },
    {
     "name": "stderr",
     "output_type": "stream",
     "text": [
      "\r",
      "238it [16:37,  3.95s/it]"
     ]
    },
    {
     "name": "stdout",
     "output_type": "stream",
     "text": [
      "Iter 237; Losses: RPN loc 0.0191, RPN cls: 0.5528, ROI loc 6.4870, ROI cls 2.1500, Total:9.2088\n"
     ]
    },
    {
     "name": "stderr",
     "output_type": "stream",
     "text": [
      "\r",
      "239it [16:40,  3.92s/it]"
     ]
    },
    {
     "name": "stdout",
     "output_type": "stream",
     "text": [
      "Iter 238; Losses: RPN loc 0.0102, RPN cls: 0.5754, ROI loc 25.6530, ROI cls 2.2073, Total:28.4459\n"
     ]
    },
    {
     "name": "stderr",
     "output_type": "stream",
     "text": [
      "\r",
      "240it [16:45,  4.20s/it]"
     ]
    },
    {
     "name": "stdout",
     "output_type": "stream",
     "text": [
      "Iter 239; Losses: RPN loc 0.6059, RPN cls: 0.6611, ROI loc 29.6089, ROI cls 2.1957, Total:33.0716\n"
     ]
    },
    {
     "name": "stderr",
     "output_type": "stream",
     "text": [
      "\r",
      "241it [16:49,  4.16s/it]"
     ]
    },
    {
     "name": "stdout",
     "output_type": "stream",
     "text": [
      "Iter 240; Losses: RPN loc 0.6869, RPN cls: 0.7504, ROI loc 129.7326, ROI cls 2.3575, Total:133.5275\n"
     ]
    },
    {
     "name": "stderr",
     "output_type": "stream",
     "text": [
      "\r",
      "242it [16:53,  4.06s/it]"
     ]
    },
    {
     "name": "stdout",
     "output_type": "stream",
     "text": [
      "Iter 241; Losses: RPN loc 0.3744, RPN cls: 0.5945, ROI loc 11.3499, ROI cls 2.1324, Total:14.4512\n"
     ]
    },
    {
     "name": "stderr",
     "output_type": "stream",
     "text": [
      "\r",
      "243it [16:58,  4.15s/it]"
     ]
    },
    {
     "name": "stdout",
     "output_type": "stream",
     "text": [
      "Iter 242; Losses: RPN loc 0.0188, RPN cls: 0.5520, ROI loc 12.8287, ROI cls 2.1840, Total:15.5836\n"
     ]
    },
    {
     "name": "stderr",
     "output_type": "stream",
     "text": [
      "\r",
      "244it [17:02,  4.13s/it]"
     ]
    },
    {
     "name": "stdout",
     "output_type": "stream",
     "text": [
      "Iter 243; Losses: RPN loc 0.2414, RPN cls: 0.6665, ROI loc 18.1518, ROI cls 2.2439, Total:21.3035\n"
     ]
    },
    {
     "name": "stderr",
     "output_type": "stream",
     "text": [
      "\r",
      "245it [17:06,  4.06s/it]"
     ]
    },
    {
     "name": "stdout",
     "output_type": "stream",
     "text": [
      "Iter 244; Losses: RPN loc 0.0944, RPN cls: 0.5766, ROI loc 35.5988, ROI cls 2.2382, Total:38.5080\n"
     ]
    },
    {
     "name": "stderr",
     "output_type": "stream",
     "text": [
      "\r",
      "246it [17:10,  4.13s/it]"
     ]
    },
    {
     "name": "stdout",
     "output_type": "stream",
     "text": [
      "Iter 245; Losses: RPN loc 0.7450, RPN cls: 0.7631, ROI loc 30.3007, ROI cls 2.2482, Total:34.0570\n"
     ]
    },
    {
     "name": "stderr",
     "output_type": "stream",
     "text": [
      "\r",
      "247it [17:14,  4.10s/it]"
     ]
    },
    {
     "name": "stdout",
     "output_type": "stream",
     "text": [
      "Iter 246; Losses: RPN loc 0.4558, RPN cls: 0.7099, ROI loc 42.6049, ROI cls 2.2660, Total:46.0366\n"
     ]
    },
    {
     "name": "stderr",
     "output_type": "stream",
     "text": [
      "\r",
      "248it [17:18,  4.07s/it]"
     ]
    },
    {
     "name": "stdout",
     "output_type": "stream",
     "text": [
      "Iter 247; Losses: RPN loc 0.0878, RPN cls: 0.5795, ROI loc 26.6378, ROI cls 2.2471, Total:29.5521\n"
     ]
    },
    {
     "name": "stderr",
     "output_type": "stream",
     "text": [
      "\r",
      "249it [17:22,  4.02s/it]"
     ]
    },
    {
     "name": "stdout",
     "output_type": "stream",
     "text": [
      "Iter 248; Losses: RPN loc 0.3331, RPN cls: 0.6028, ROI loc 6.5696, ROI cls 2.1414, Total:9.6469\n"
     ]
    },
    {
     "name": "stderr",
     "output_type": "stream",
     "text": [
      "\r",
      "250it [17:26,  4.02s/it]"
     ]
    },
    {
     "name": "stdout",
     "output_type": "stream",
     "text": [
      "Iter 249; Losses: RPN loc 0.0067, RPN cls: 0.5522, ROI loc 16.8561, ROI cls 2.1940, Total:19.6089\n"
     ]
    },
    {
     "name": "stderr",
     "output_type": "stream",
     "text": [
      "\r",
      "251it [17:30,  3.97s/it]"
     ]
    },
    {
     "name": "stdout",
     "output_type": "stream",
     "text": [
      "Iter 250; Losses: RPN loc 0.8916, RPN cls: 0.6573, ROI loc 30.2404, ROI cls 2.1686, Total:33.9579\n"
     ]
    },
    {
     "name": "stderr",
     "output_type": "stream",
     "text": [
      "\r",
      "252it [17:34,  4.03s/it]"
     ]
    },
    {
     "name": "stdout",
     "output_type": "stream",
     "text": [
      "Iter 251; Losses: RPN loc 0.2501, RPN cls: 0.6062, ROI loc 69.1600, ROI cls 2.3050, Total:72.3212\n"
     ]
    },
    {
     "name": "stderr",
     "output_type": "stream",
     "text": [
      "\r",
      "253it [17:38,  3.99s/it]"
     ]
    },
    {
     "name": "stdout",
     "output_type": "stream",
     "text": [
      "Iter 252; Losses: RPN loc 0.1528, RPN cls: 0.6854, ROI loc 32.4817, ROI cls 2.2392, Total:35.5591\n"
     ]
    },
    {
     "name": "stderr",
     "output_type": "stream",
     "text": [
      "\r",
      "254it [17:42,  4.02s/it]"
     ]
    },
    {
     "name": "stdout",
     "output_type": "stream",
     "text": [
      "Iter 253; Losses: RPN loc 0.2072, RPN cls: 0.6943, ROI loc 28.7981, ROI cls 2.2927, Total:31.9923\n"
     ]
    },
    {
     "name": "stderr",
     "output_type": "stream",
     "text": [
      "\r",
      "255it [17:46,  4.01s/it]"
     ]
    },
    {
     "name": "stdout",
     "output_type": "stream",
     "text": [
      "Iter 254; Losses: RPN loc 0.2439, RPN cls: 0.6371, ROI loc 28.4167, ROI cls 2.2392, Total:31.5370\n"
     ]
    },
    {
     "name": "stderr",
     "output_type": "stream",
     "text": [
      "\r",
      "256it [17:50,  3.98s/it]"
     ]
    },
    {
     "name": "stdout",
     "output_type": "stream",
     "text": [
      "Iter 255; Losses: RPN loc 0.3652, RPN cls: 0.7092, ROI loc 20.1678, ROI cls 2.2428, Total:23.4850\n"
     ]
    },
    {
     "name": "stderr",
     "output_type": "stream",
     "text": [
      "\r",
      "257it [17:54,  3.94s/it]"
     ]
    },
    {
     "name": "stdout",
     "output_type": "stream",
     "text": [
      "Iter 256; Losses: RPN loc 0.1070, RPN cls: 0.6059, ROI loc 32.5028, ROI cls 2.2853, Total:35.5011\n"
     ]
    },
    {
     "name": "stderr",
     "output_type": "stream",
     "text": [
      "\r",
      "258it [17:58,  3.98s/it]"
     ]
    },
    {
     "name": "stdout",
     "output_type": "stream",
     "text": [
      "Iter 257; Losses: RPN loc 0.0220, RPN cls: 0.5440, ROI loc 9.7716, ROI cls 2.1904, Total:12.5280\n"
     ]
    },
    {
     "name": "stderr",
     "output_type": "stream",
     "text": [
      "\r",
      "259it [18:02,  3.95s/it]"
     ]
    },
    {
     "name": "stdout",
     "output_type": "stream",
     "text": [
      "Iter 258; Losses: RPN loc 0.3638, RPN cls: 0.6486, ROI loc 42.8472, ROI cls 2.2811, Total:46.1406\n"
     ]
    },
    {
     "name": "stderr",
     "output_type": "stream",
     "text": [
      "\r",
      "260it [18:06,  3.97s/it]"
     ]
    },
    {
     "name": "stdout",
     "output_type": "stream",
     "text": [
      "Iter 259; Losses: RPN loc 1.1817, RPN cls: 0.9046, ROI loc 47.1876, ROI cls 2.2536, Total:51.5275\n"
     ]
    },
    {
     "name": "stderr",
     "output_type": "stream",
     "text": [
      "\r",
      "261it [18:09,  3.90s/it]"
     ]
    },
    {
     "name": "stdout",
     "output_type": "stream",
     "text": [
      "Iter 260; Losses: RPN loc 0.6467, RPN cls: 0.6390, ROI loc 14.8847, ROI cls 2.1782, Total:18.3485\n"
     ]
    },
    {
     "name": "stderr",
     "output_type": "stream",
     "text": [
      "\r",
      "262it [18:13,  3.95s/it]"
     ]
    },
    {
     "name": "stdout",
     "output_type": "stream",
     "text": [
      "Iter 261; Losses: RPN loc 0.3336, RPN cls: 0.6994, ROI loc 61.0707, ROI cls 2.3050, Total:64.4087\n"
     ]
    },
    {
     "name": "stderr",
     "output_type": "stream",
     "text": [
      "\r",
      "263it [18:17,  3.95s/it]"
     ]
    },
    {
     "name": "stdout",
     "output_type": "stream",
     "text": [
      "Iter 262; Losses: RPN loc 0.0248, RPN cls: 0.5969, ROI loc 23.3518, ROI cls 2.2471, Total:26.2205\n"
     ]
    },
    {
     "name": "stderr",
     "output_type": "stream",
     "text": [
      "\r",
      "264it [18:21,  3.97s/it]"
     ]
    },
    {
     "name": "stdout",
     "output_type": "stream",
     "text": [
      "Iter 263; Losses: RPN loc 0.4721, RPN cls: 0.6737, ROI loc 21.7366, ROI cls 2.2086, Total:25.0910\n"
     ]
    },
    {
     "name": "stderr",
     "output_type": "stream",
     "text": [
      "\r",
      "265it [18:25,  3.96s/it]"
     ]
    },
    {
     "name": "stdout",
     "output_type": "stream",
     "text": [
      "Iter 264; Losses: RPN loc 0.5890, RPN cls: 0.8053, ROI loc 31.6715, ROI cls 2.2362, Total:35.3020\n"
     ]
    },
    {
     "name": "stderr",
     "output_type": "stream",
     "text": [
      "\r",
      "266it [18:29,  3.98s/it]"
     ]
    },
    {
     "name": "stdout",
     "output_type": "stream",
     "text": [
      "Iter 265; Losses: RPN loc 2.8084, RPN cls: 0.9060, ROI loc 11.2615, ROI cls 2.1490, Total:17.1249\n"
     ]
    },
    {
     "name": "stderr",
     "output_type": "stream",
     "text": [
      "\r",
      "267it [18:33,  4.00s/it]"
     ]
    },
    {
     "name": "stdout",
     "output_type": "stream",
     "text": [
      "Iter 266; Losses: RPN loc 0.1030, RPN cls: 0.5504, ROI loc 7.1509, ROI cls 2.1316, Total:9.9360\n"
     ]
    },
    {
     "name": "stderr",
     "output_type": "stream",
     "text": [
      "\r",
      "268it [18:37,  3.99s/it]"
     ]
    },
    {
     "name": "stdout",
     "output_type": "stream",
     "text": [
      "Iter 267; Losses: RPN loc 0.0657, RPN cls: 0.5726, ROI loc 10.6442, ROI cls 2.1577, Total:13.4402\n"
     ]
    },
    {
     "name": "stderr",
     "output_type": "stream",
     "text": [
      "\r",
      "269it [18:41,  3.98s/it]"
     ]
    },
    {
     "name": "stdout",
     "output_type": "stream",
     "text": [
      "Iter 268; Losses: RPN loc 0.1120, RPN cls: 0.5788, ROI loc 73.5183, ROI cls 2.3101, Total:76.5192\n"
     ]
    },
    {
     "name": "stderr",
     "output_type": "stream",
     "text": [
      "\r",
      "270it [18:45,  3.91s/it]"
     ]
    },
    {
     "name": "stdout",
     "output_type": "stream",
     "text": [
      "Iter 269; Losses: RPN loc 0.2966, RPN cls: 0.6625, ROI loc 28.2336, ROI cls 2.2050, Total:31.3976\n"
     ]
    },
    {
     "name": "stderr",
     "output_type": "stream",
     "text": [
      "\r",
      "271it [18:49,  3.85s/it]"
     ]
    },
    {
     "name": "stdout",
     "output_type": "stream",
     "text": [
      "Iter 270; Losses: RPN loc 0.1328, RPN cls: 0.5459, ROI loc 14.1054, ROI cls 2.1497, Total:16.9338\n"
     ]
    },
    {
     "name": "stderr",
     "output_type": "stream",
     "text": [
      "\r",
      "272it [18:52,  3.83s/it]"
     ]
    },
    {
     "name": "stdout",
     "output_type": "stream",
     "text": [
      "Iter 271; Losses: RPN loc 0.8658, RPN cls: 0.6096, ROI loc 19.9137, ROI cls 2.1495, Total:23.5387\n"
     ]
    },
    {
     "name": "stderr",
     "output_type": "stream",
     "text": [
      "\r",
      "273it [18:57,  3.94s/it]"
     ]
    },
    {
     "name": "stdout",
     "output_type": "stream",
     "text": [
      "Iter 272; Losses: RPN loc 0.4234, RPN cls: 0.6969, ROI loc 34.5306, ROI cls 2.2025, Total:37.8533\n"
     ]
    },
    {
     "name": "stderr",
     "output_type": "stream",
     "text": [
      "\r",
      "274it [19:00,  3.87s/it]"
     ]
    },
    {
     "name": "stdout",
     "output_type": "stream",
     "text": [
      "Iter 273; Losses: RPN loc 0.2983, RPN cls: 0.6593, ROI loc 48.1831, ROI cls 2.2424, Total:51.3831\n"
     ]
    },
    {
     "name": "stderr",
     "output_type": "stream",
     "text": [
      "\r",
      "275it [19:04,  3.90s/it]"
     ]
    },
    {
     "name": "stdout",
     "output_type": "stream",
     "text": [
      "Iter 274; Losses: RPN loc 0.2788, RPN cls: 0.6154, ROI loc 32.4935, ROI cls 2.1952, Total:35.5830\n"
     ]
    },
    {
     "name": "stderr",
     "output_type": "stream",
     "text": [
      "\r",
      "276it [19:08,  3.95s/it]"
     ]
    },
    {
     "name": "stdout",
     "output_type": "stream",
     "text": [
      "Iter 275; Losses: RPN loc 0.2716, RPN cls: 0.6037, ROI loc 28.4364, ROI cls 2.2449, Total:31.5565\n"
     ]
    },
    {
     "name": "stderr",
     "output_type": "stream",
     "text": [
      "\r",
      "277it [19:12,  3.99s/it]"
     ]
    },
    {
     "name": "stdout",
     "output_type": "stream",
     "text": [
      "Iter 276; Losses: RPN loc 0.4217, RPN cls: 0.6233, ROI loc 32.7116, ROI cls 2.2148, Total:35.9714\n"
     ]
    },
    {
     "name": "stderr",
     "output_type": "stream",
     "text": [
      "\r",
      "278it [19:16,  3.92s/it]"
     ]
    },
    {
     "name": "stdout",
     "output_type": "stream",
     "text": [
      "Iter 277; Losses: RPN loc 0.4224, RPN cls: 0.7473, ROI loc 28.5239, ROI cls 2.2158, Total:31.9094\n"
     ]
    },
    {
     "name": "stderr",
     "output_type": "stream",
     "text": [
      "\r",
      "279it [19:20,  3.85s/it]"
     ]
    },
    {
     "name": "stdout",
     "output_type": "stream",
     "text": [
      "Iter 278; Losses: RPN loc 0.0390, RPN cls: 0.5652, ROI loc 61.4082, ROI cls 2.3041, Total:64.3165\n"
     ]
    },
    {
     "name": "stderr",
     "output_type": "stream",
     "text": [
      "\r",
      "280it [19:24,  3.90s/it]"
     ]
    },
    {
     "name": "stdout",
     "output_type": "stream",
     "text": [
      "Iter 279; Losses: RPN loc 0.3837, RPN cls: 0.6424, ROI loc 16.8963, ROI cls 2.2184, Total:20.1409\n"
     ]
    },
    {
     "name": "stderr",
     "output_type": "stream",
     "text": [
      "\r",
      "281it [19:28,  3.90s/it]"
     ]
    },
    {
     "name": "stdout",
     "output_type": "stream",
     "text": [
      "Iter 280; Losses: RPN loc 0.3330, RPN cls: 0.6874, ROI loc 29.7004, ROI cls 2.2842, Total:33.0050\n"
     ]
    },
    {
     "name": "stderr",
     "output_type": "stream",
     "text": [
      "\r",
      "282it [19:32,  3.91s/it]"
     ]
    },
    {
     "name": "stdout",
     "output_type": "stream",
     "text": [
      "Iter 281; Losses: RPN loc 0.2603, RPN cls: 0.6634, ROI loc 64.4386, ROI cls 2.3565, Total:67.7189\n"
     ]
    },
    {
     "name": "stderr",
     "output_type": "stream",
     "text": [
      "\r",
      "283it [19:36,  3.87s/it]"
     ]
    },
    {
     "name": "stdout",
     "output_type": "stream",
     "text": [
      "Iter 282; Losses: RPN loc 0.3803, RPN cls: 0.6437, ROI loc 26.4043, ROI cls 2.2166, Total:29.6449\n"
     ]
    },
    {
     "name": "stderr",
     "output_type": "stream",
     "text": [
      "\r",
      "284it [19:39,  3.81s/it]"
     ]
    },
    {
     "name": "stdout",
     "output_type": "stream",
     "text": [
      "Iter 283; Losses: RPN loc 0.1144, RPN cls: 0.6773, ROI loc 71.3097, ROI cls 2.4076, Total:74.5090\n"
     ]
    },
    {
     "name": "stderr",
     "output_type": "stream",
     "text": [
      "\r",
      "285it [19:43,  3.88s/it]"
     ]
    },
    {
     "name": "stdout",
     "output_type": "stream",
     "text": [
      "Iter 284; Losses: RPN loc 0.5537, RPN cls: 0.7737, ROI loc 39.8546, ROI cls 2.2660, Total:43.4481\n"
     ]
    },
    {
     "name": "stderr",
     "output_type": "stream",
     "text": [
      "\r",
      "286it [19:47,  3.84s/it]"
     ]
    },
    {
     "name": "stdout",
     "output_type": "stream",
     "text": [
      "Iter 285; Losses: RPN loc 0.4627, RPN cls: 0.6606, ROI loc 31.8323, ROI cls 2.2101, Total:35.1657\n"
     ]
    },
    {
     "name": "stderr",
     "output_type": "stream",
     "text": [
      "\r",
      "287it [19:51,  3.84s/it]"
     ]
    },
    {
     "name": "stdout",
     "output_type": "stream",
     "text": [
      "Iter 286; Losses: RPN loc 0.4398, RPN cls: 0.5840, ROI loc 25.4818, ROI cls 2.1509, Total:28.6566\n"
     ]
    },
    {
     "name": "stderr",
     "output_type": "stream",
     "text": [
      "\r",
      "288it [19:55,  3.89s/it]"
     ]
    },
    {
     "name": "stdout",
     "output_type": "stream",
     "text": [
      "Iter 287; Losses: RPN loc 0.5604, RPN cls: 0.7470, ROI loc 170.7670, ROI cls 2.3818, Total:174.4562\n"
     ]
    },
    {
     "name": "stderr",
     "output_type": "stream",
     "text": [
      "\r",
      "289it [19:59,  3.83s/it]"
     ]
    },
    {
     "name": "stdout",
     "output_type": "stream",
     "text": [
      "Iter 288; Losses: RPN loc 0.0925, RPN cls: 0.5753, ROI loc 112.9676, ROI cls 2.3158, Total:115.9512\n"
     ]
    },
    {
     "name": "stderr",
     "output_type": "stream",
     "text": [
      "\r",
      "290it [20:02,  3.74s/it]"
     ]
    },
    {
     "name": "stdout",
     "output_type": "stream",
     "text": [
      "Iter 289; Losses: RPN loc 0.5145, RPN cls: 0.6425, ROI loc 24.9197, ROI cls 2.1712, Total:28.2479\n"
     ]
    },
    {
     "name": "stderr",
     "output_type": "stream",
     "text": [
      "\r",
      "291it [20:06,  3.90s/it]"
     ]
    },
    {
     "name": "stdout",
     "output_type": "stream",
     "text": [
      "Iter 290; Losses: RPN loc 0.3794, RPN cls: 0.8053, ROI loc 73.9751, ROI cls 2.3107, Total:77.4705\n"
     ]
    },
    {
     "name": "stderr",
     "output_type": "stream",
     "text": [
      "\r",
      "292it [20:10,  3.91s/it]"
     ]
    },
    {
     "name": "stdout",
     "output_type": "stream",
     "text": [
      "Iter 291; Losses: RPN loc 0.1064, RPN cls: 0.5383, ROI loc 49.0783, ROI cls 2.2050, Total:51.9280\n"
     ]
    },
    {
     "name": "stderr",
     "output_type": "stream",
     "text": [
      "\r",
      "293it [20:14,  3.84s/it]"
     ]
    },
    {
     "name": "stdout",
     "output_type": "stream",
     "text": [
      "Iter 292; Losses: RPN loc 0.1160, RPN cls: 0.5187, ROI loc 9.7602, ROI cls 2.1323, Total:12.5271\n"
     ]
    },
    {
     "name": "stderr",
     "output_type": "stream",
     "text": [
      "\r",
      "294it [20:18,  3.91s/it]"
     ]
    },
    {
     "name": "stdout",
     "output_type": "stream",
     "text": [
      "Iter 293; Losses: RPN loc 0.0178, RPN cls: 0.5369, ROI loc 47.6123, ROI cls 2.1777, Total:50.3447\n"
     ]
    },
    {
     "name": "stderr",
     "output_type": "stream",
     "text": [
      "\r",
      "295it [20:22,  4.02s/it]"
     ]
    },
    {
     "name": "stdout",
     "output_type": "stream",
     "text": [
      "Iter 294; Losses: RPN loc 0.2587, RPN cls: 0.5909, ROI loc 90.0346, ROI cls 2.2257, Total:93.1099\n"
     ]
    },
    {
     "name": "stderr",
     "output_type": "stream",
     "text": [
      "\r",
      "296it [20:26,  4.02s/it]"
     ]
    },
    {
     "name": "stdout",
     "output_type": "stream",
     "text": [
      "Iter 295; Losses: RPN loc 0.2585, RPN cls: 0.5877, ROI loc 86.9686, ROI cls 2.2257, Total:90.0405\n"
     ]
    },
    {
     "name": "stderr",
     "output_type": "stream",
     "text": [
      "\r",
      "297it [20:30,  4.03s/it]"
     ]
    },
    {
     "name": "stdout",
     "output_type": "stream",
     "text": [
      "Iter 296; Losses: RPN loc 0.0112, RPN cls: 0.5373, ROI loc 33.0981, ROI cls 2.1820, Total:35.8285\n"
     ]
    },
    {
     "name": "stderr",
     "output_type": "stream",
     "text": [
      "\r",
      "298it [20:34,  3.93s/it]"
     ]
    },
    {
     "name": "stdout",
     "output_type": "stream",
     "text": [
      "Iter 297; Losses: RPN loc 0.2260, RPN cls: 0.6287, ROI loc 38.1939, ROI cls 2.2343, Total:41.2829\n"
     ]
    },
    {
     "name": "stderr",
     "output_type": "stream",
     "text": [
      "\r",
      "299it [20:38,  3.89s/it]"
     ]
    },
    {
     "name": "stdout",
     "output_type": "stream",
     "text": [
      "Iter 298; Losses: RPN loc 0.3678, RPN cls: 0.6412, ROI loc 14.3353, ROI cls 2.2166, Total:17.5610\n"
     ]
    },
    {
     "name": "stderr",
     "output_type": "stream",
     "text": [
      "\r",
      "300it [20:42,  3.92s/it]"
     ]
    },
    {
     "name": "stdout",
     "output_type": "stream",
     "text": [
      "Iter 299; Losses: RPN loc 0.3493, RPN cls: 0.6172, ROI loc 8.7563, ROI cls 2.1410, Total:11.8639\n"
     ]
    },
    {
     "name": "stderr",
     "output_type": "stream",
     "text": [
      "\r",
      "301it [20:46,  4.06s/it]"
     ]
    },
    {
     "name": "stdout",
     "output_type": "stream",
     "text": [
      "Iter 300; Losses: RPN loc 0.7186, RPN cls: 0.8520, ROI loc 178.0888, ROI cls 2.3671, Total:182.0264\n"
     ]
    },
    {
     "name": "stderr",
     "output_type": "stream",
     "text": [
      "\r",
      "302it [20:50,  4.06s/it]"
     ]
    },
    {
     "name": "stdout",
     "output_type": "stream",
     "text": [
      "Iter 301; Losses: RPN loc 0.3034, RPN cls: 0.7262, ROI loc 107.4904, ROI cls 2.3050, Total:110.8250\n"
     ]
    },
    {
     "name": "stderr",
     "output_type": "stream",
     "text": [
      "\r",
      "303it [20:55,  4.10s/it]"
     ]
    },
    {
     "name": "stdout",
     "output_type": "stream",
     "text": [
      "Iter 302; Losses: RPN loc 0.7816, RPN cls: 0.7047, ROI loc 60.4108, ROI cls 2.2156, Total:64.1127\n"
     ]
    },
    {
     "name": "stderr",
     "output_type": "stream",
     "text": [
      "\r",
      "304it [20:59,  4.15s/it]"
     ]
    },
    {
     "name": "stdout",
     "output_type": "stream",
     "text": [
      "Iter 303; Losses: RPN loc 0.1724, RPN cls: 0.5890, ROI loc 35.4010, ROI cls 2.2571, Total:38.4195\n"
     ]
    },
    {
     "name": "stderr",
     "output_type": "stream",
     "text": [
      "\r",
      "305it [21:03,  4.08s/it]"
     ]
    },
    {
     "name": "stdout",
     "output_type": "stream",
     "text": [
      "Iter 304; Losses: RPN loc 0.3655, RPN cls: 0.6420, ROI loc 58.4405, ROI cls 2.2214, Total:61.6694\n"
     ]
    },
    {
     "name": "stderr",
     "output_type": "stream",
     "text": [
      "\r",
      "306it [21:07,  4.02s/it]"
     ]
    },
    {
     "name": "stdout",
     "output_type": "stream",
     "text": [
      "Iter 305; Losses: RPN loc 0.6656, RPN cls: 0.7850, ROI loc 111.3413, ROI cls 2.2710, Total:115.0629\n"
     ]
    },
    {
     "name": "stderr",
     "output_type": "stream",
     "text": [
      "\r",
      "307it [21:10,  3.98s/it]"
     ]
    },
    {
     "name": "stdout",
     "output_type": "stream",
     "text": [
      "Iter 306; Losses: RPN loc 0.3846, RPN cls: 0.6705, ROI loc 30.7664, ROI cls 2.1678, Total:33.9893\n"
     ]
    },
    {
     "name": "stderr",
     "output_type": "stream",
     "text": [
      "\r",
      "308it [21:14,  3.90s/it]"
     ]
    },
    {
     "name": "stdout",
     "output_type": "stream",
     "text": [
      "Iter 307; Losses: RPN loc 0.0660, RPN cls: 0.5855, ROI loc 64.4613, ROI cls 2.2470, Total:67.3599\n"
     ]
    },
    {
     "name": "stderr",
     "output_type": "stream",
     "text": [
      "\r",
      "309it [21:18,  3.87s/it]"
     ]
    },
    {
     "name": "stdout",
     "output_type": "stream",
     "text": [
      "Iter 308; Losses: RPN loc 0.0893, RPN cls: 0.5232, ROI loc 8.3125, ROI cls 2.1409, Total:11.0659\n"
     ]
    },
    {
     "name": "stderr",
     "output_type": "stream",
     "text": [
      "\r",
      "310it [21:22,  3.87s/it]"
     ]
    },
    {
     "name": "stdout",
     "output_type": "stream",
     "text": [
      "Iter 309; Losses: RPN loc 0.0399, RPN cls: 0.5555, ROI loc 102.8596, ROI cls 2.3007, Total:105.7557\n"
     ]
    },
    {
     "name": "stderr",
     "output_type": "stream",
     "text": [
      "\r",
      "311it [21:26,  3.99s/it]"
     ]
    },
    {
     "name": "stdout",
     "output_type": "stream",
     "text": [
      "Iter 310; Losses: RPN loc 0.2733, RPN cls: 0.5355, ROI loc 9.1230, ROI cls 2.1311, Total:12.0629\n"
     ]
    },
    {
     "name": "stderr",
     "output_type": "stream",
     "text": [
      "\r",
      "312it [21:30,  4.09s/it]"
     ]
    },
    {
     "name": "stdout",
     "output_type": "stream",
     "text": [
      "Iter 311; Losses: RPN loc 1.3115, RPN cls: 0.8938, ROI loc 91.5561, ROI cls 2.3035, Total:96.0649\n"
     ]
    },
    {
     "name": "stderr",
     "output_type": "stream",
     "text": [
      "\r",
      "313it [21:34,  4.02s/it]"
     ]
    },
    {
     "name": "stdout",
     "output_type": "stream",
     "text": [
      "Iter 312; Losses: RPN loc 0.0329, RPN cls: 0.5520, ROI loc 84.4123, ROI cls 2.2504, Total:87.2476\n"
     ]
    },
    {
     "name": "stderr",
     "output_type": "stream",
     "text": [
      "\r",
      "314it [21:38,  3.94s/it]"
     ]
    },
    {
     "name": "stdout",
     "output_type": "stream",
     "text": [
      "Iter 313; Losses: RPN loc 0.3819, RPN cls: 0.5802, ROI loc 8.1078, ROI cls 2.1509, Total:11.2209\n"
     ]
    },
    {
     "name": "stderr",
     "output_type": "stream",
     "text": [
      "\r",
      "315it [21:42,  3.96s/it]"
     ]
    },
    {
     "name": "stdout",
     "output_type": "stream",
     "text": [
      "Iter 314; Losses: RPN loc 0.2285, RPN cls: 0.6360, ROI loc 77.8729, ROI cls 2.2503, Total:80.9877\n"
     ]
    },
    {
     "name": "stderr",
     "output_type": "stream",
     "text": [
      "\r",
      "316it [21:46,  3.96s/it]"
     ]
    },
    {
     "name": "stdout",
     "output_type": "stream",
     "text": [
      "Iter 315; Losses: RPN loc 0.2125, RPN cls: 0.5922, ROI loc 61.9633, ROI cls 2.2175, Total:64.9855\n"
     ]
    },
    {
     "name": "stderr",
     "output_type": "stream",
     "text": [
      "\r",
      "317it [21:50,  4.00s/it]"
     ]
    },
    {
     "name": "stdout",
     "output_type": "stream",
     "text": [
      "Iter 316; Losses: RPN loc 0.1020, RPN cls: 0.5441, ROI loc 9.9147, ROI cls 2.1319, Total:12.6927\n"
     ]
    },
    {
     "name": "stderr",
     "output_type": "stream",
     "text": [
      "\r",
      "318it [21:54,  3.92s/it]"
     ]
    },
    {
     "name": "stdout",
     "output_type": "stream",
     "text": [
      "Iter 317; Losses: RPN loc 0.5238, RPN cls: 0.7013, ROI loc 113.8063, ROI cls 2.2702, Total:117.3016\n"
     ]
    },
    {
     "name": "stderr",
     "output_type": "stream",
     "text": [
      "\r",
      "319it [21:57,  3.83s/it]"
     ]
    },
    {
     "name": "stdout",
     "output_type": "stream",
     "text": [
      "Iter 318; Losses: RPN loc 0.0786, RPN cls: 0.5282, ROI loc 52.4807, ROI cls 2.2300, Total:55.3175\n"
     ]
    },
    {
     "name": "stderr",
     "output_type": "stream",
     "text": [
      "\r",
      "320it [22:01,  3.85s/it]"
     ]
    },
    {
     "name": "stdout",
     "output_type": "stream",
     "text": [
      "Iter 319; Losses: RPN loc 0.0465, RPN cls: 0.5312, ROI loc 4.2163, ROI cls 2.1327, Total:6.9267\n"
     ]
    },
    {
     "name": "stderr",
     "output_type": "stream",
     "text": [
      "\r",
      "321it [22:05,  3.82s/it]"
     ]
    },
    {
     "name": "stdout",
     "output_type": "stream",
     "text": [
      "Iter 320; Losses: RPN loc 0.5459, RPN cls: 0.7245, ROI loc 44.5112, ROI cls 2.2547, Total:48.0364\n"
     ]
    },
    {
     "name": "stderr",
     "output_type": "stream",
     "text": [
      "\r",
      "322it [22:09,  3.86s/it]"
     ]
    },
    {
     "name": "stdout",
     "output_type": "stream",
     "text": [
      "Iter 321; Losses: RPN loc 0.0484, RPN cls: 0.5078, ROI loc 5.7425, ROI cls 2.1316, Total:8.4303\n"
     ]
    },
    {
     "name": "stderr",
     "output_type": "stream",
     "text": [
      "\r",
      "323it [22:13,  3.92s/it]"
     ]
    },
    {
     "name": "stdout",
     "output_type": "stream",
     "text": [
      "Iter 322; Losses: RPN loc 0.0440, RPN cls: 0.5395, ROI loc 24.3320, ROI cls 2.1500, Total:27.0654\n"
     ]
    },
    {
     "name": "stderr",
     "output_type": "stream",
     "text": [
      "\r",
      "324it [22:17,  3.90s/it]"
     ]
    },
    {
     "name": "stdout",
     "output_type": "stream",
     "text": [
      "Iter 323; Losses: RPN loc 0.1665, RPN cls: 0.5851, ROI loc 87.6557, ROI cls 2.2260, Total:90.6333\n"
     ]
    },
    {
     "name": "stderr",
     "output_type": "stream",
     "text": [
      "\r",
      "325it [22:21,  3.93s/it]"
     ]
    },
    {
     "name": "stdout",
     "output_type": "stream",
     "text": [
      "Iter 324; Losses: RPN loc 0.5547, RPN cls: 0.6741, ROI loc 46.8002, ROI cls 2.1840, Total:50.2130\n"
     ]
    },
    {
     "name": "stderr",
     "output_type": "stream",
     "text": [
      "\r",
      "326it [22:25,  3.93s/it]"
     ]
    },
    {
     "name": "stdout",
     "output_type": "stream",
     "text": [
      "Iter 325; Losses: RPN loc 0.1574, RPN cls: 0.6467, ROI loc 60.0754, ROI cls 2.2141, Total:63.0936\n"
     ]
    },
    {
     "name": "stderr",
     "output_type": "stream",
     "text": [
      "\r",
      "327it [22:29,  3.84s/it]"
     ]
    },
    {
     "name": "stdout",
     "output_type": "stream",
     "text": [
      "Iter 326; Losses: RPN loc 0.8916, RPN cls: 0.6102, ROI loc 6.3702, ROI cls 2.1327, Total:10.0046\n"
     ]
    },
    {
     "name": "stderr",
     "output_type": "stream",
     "text": [
      "\r",
      "328it [22:32,  3.78s/it]"
     ]
    },
    {
     "name": "stdout",
     "output_type": "stream",
     "text": [
      "Iter 327; Losses: RPN loc 0.4906, RPN cls: 0.7789, ROI loc 65.2044, ROI cls 2.2713, Total:68.7453\n"
     ]
    },
    {
     "name": "stderr",
     "output_type": "stream",
     "text": [
      "\r",
      "329it [22:36,  3.79s/it]"
     ]
    },
    {
     "name": "stdout",
     "output_type": "stream",
     "text": [
      "Iter 328; Losses: RPN loc 0.1719, RPN cls: 0.6385, ROI loc 59.8129, ROI cls 2.2578, Total:62.8811\n"
     ]
    },
    {
     "name": "stderr",
     "output_type": "stream",
     "text": [
      "\r",
      "330it [22:40,  3.95s/it]"
     ]
    },
    {
     "name": "stdout",
     "output_type": "stream",
     "text": [
      "Iter 329; Losses: RPN loc 0.0195, RPN cls: 0.5226, ROI loc 12.4946, ROI cls 2.1666, Total:15.2035\n"
     ]
    },
    {
     "name": "stderr",
     "output_type": "stream",
     "text": [
      "\r",
      "331it [22:44,  3.96s/it]"
     ]
    },
    {
     "name": "stdout",
     "output_type": "stream",
     "text": [
      "Iter 330; Losses: RPN loc 0.1431, RPN cls: 0.6001, ROI loc 60.4090, ROI cls 2.3984, Total:63.5507\n"
     ]
    },
    {
     "name": "stderr",
     "output_type": "stream",
     "text": [
      "\r",
      "332it [22:48,  4.00s/it]"
     ]
    },
    {
     "name": "stdout",
     "output_type": "stream",
     "text": [
      "Iter 331; Losses: RPN loc 0.1869, RPN cls: 0.5928, ROI loc 25.7092, ROI cls 2.2313, Total:28.7202\n"
     ]
    },
    {
     "name": "stderr",
     "output_type": "stream",
     "text": [
      "\r",
      "333it [22:53,  4.05s/it]"
     ]
    },
    {
     "name": "stdout",
     "output_type": "stream",
     "text": [
      "Iter 332; Losses: RPN loc 0.0932, RPN cls: 0.5178, ROI loc 3.9001, ROI cls 2.1319, Total:6.6429\n"
     ]
    },
    {
     "name": "stderr",
     "output_type": "stream",
     "text": [
      "\r",
      "334it [22:56,  3.95s/it]"
     ]
    },
    {
     "name": "stdout",
     "output_type": "stream",
     "text": [
      "Iter 333; Losses: RPN loc 0.0144, RPN cls: 0.5666, ROI loc 49.0828, ROI cls 2.2184, Total:51.8822\n"
     ]
    },
    {
     "name": "stderr",
     "output_type": "stream",
     "text": [
      "\r",
      "335it [23:00,  3.90s/it]"
     ]
    },
    {
     "name": "stdout",
     "output_type": "stream",
     "text": [
      "Iter 334; Losses: RPN loc 0.0724, RPN cls: 0.5242, ROI loc 46.7577, ROI cls 2.2073, Total:49.5616\n"
     ]
    },
    {
     "name": "stderr",
     "output_type": "stream",
     "text": [
      "\r",
      "336it [23:04,  3.80s/it]"
     ]
    },
    {
     "name": "stdout",
     "output_type": "stream",
     "text": [
      "Iter 335; Losses: RPN loc 0.4771, RPN cls: 0.7525, ROI loc 50.4025, ROI cls 2.2343, Total:53.8663\n"
     ]
    },
    {
     "name": "stderr",
     "output_type": "stream",
     "text": [
      "\r",
      "337it [23:07,  3.78s/it]"
     ]
    },
    {
     "name": "stdout",
     "output_type": "stream",
     "text": [
      "Iter 336; Losses: RPN loc 0.0739, RPN cls: 0.5672, ROI loc 20.7987, ROI cls 2.1616, Total:23.6014\n"
     ]
    },
    {
     "name": "stderr",
     "output_type": "stream",
     "text": [
      "\r",
      "338it [23:11,  3.77s/it]"
     ]
    },
    {
     "name": "stdout",
     "output_type": "stream",
     "text": [
      "Iter 337; Losses: RPN loc 0.0131, RPN cls: 0.5211, ROI loc 38.6187, ROI cls 2.2057, Total:41.3586\n"
     ]
    },
    {
     "name": "stderr",
     "output_type": "stream",
     "text": [
      "\r",
      "339it [23:15,  3.81s/it]"
     ]
    },
    {
     "name": "stdout",
     "output_type": "stream",
     "text": [
      "Iter 338; Losses: RPN loc 0.0577, RPN cls: 0.5484, ROI loc 35.2502, ROI cls 2.2403, Total:38.0965\n"
     ]
    },
    {
     "name": "stderr",
     "output_type": "stream",
     "text": [
      "\r",
      "340it [23:19,  3.78s/it]"
     ]
    },
    {
     "name": "stdout",
     "output_type": "stream",
     "text": [
      "Iter 339; Losses: RPN loc 0.4431, RPN cls: 0.7622, ROI loc 115.2250, ROI cls 2.4141, Total:118.8443\n"
     ]
    },
    {
     "name": "stderr",
     "output_type": "stream",
     "text": [
      "\r",
      "341it [23:23,  4.07s/it]"
     ]
    },
    {
     "name": "stdout",
     "output_type": "stream",
     "text": [
      "Iter 340; Losses: RPN loc 0.6989, RPN cls: 0.5829, ROI loc 64.8406, ROI cls 2.2065, Total:68.3289\n"
     ]
    },
    {
     "name": "stderr",
     "output_type": "stream",
     "text": [
      "\r",
      "342it [23:28,  4.17s/it]"
     ]
    },
    {
     "name": "stdout",
     "output_type": "stream",
     "text": [
      "Iter 341; Losses: RPN loc 0.1058, RPN cls: 0.5919, ROI loc 88.2824, ROI cls 2.2866, Total:91.2667\n"
     ]
    },
    {
     "name": "stderr",
     "output_type": "stream",
     "text": [
      "\r",
      "343it [23:33,  4.36s/it]"
     ]
    },
    {
     "name": "stdout",
     "output_type": "stream",
     "text": [
      "Iter 342; Losses: RPN loc 0.3213, RPN cls: 0.5809, ROI loc 19.7837, ROI cls 2.1670, Total:22.8529\n"
     ]
    },
    {
     "name": "stderr",
     "output_type": "stream",
     "text": [
      "\r",
      "344it [23:37,  4.40s/it]"
     ]
    },
    {
     "name": "stdout",
     "output_type": "stream",
     "text": [
      "Iter 343; Losses: RPN loc 0.2078, RPN cls: 0.6193, ROI loc 138.3507, ROI cls 2.3898, Total:141.5676\n"
     ]
    },
    {
     "name": "stderr",
     "output_type": "stream",
     "text": [
      "\r",
      "345it [23:42,  4.52s/it]"
     ]
    },
    {
     "name": "stdout",
     "output_type": "stream",
     "text": [
      "Iter 344; Losses: RPN loc 0.2624, RPN cls: 0.7164, ROI loc 51.6282, ROI cls 2.2559, Total:54.8629\n"
     ]
    },
    {
     "name": "stderr",
     "output_type": "stream",
     "text": [
      "\r",
      "346it [23:46,  4.53s/it]"
     ]
    },
    {
     "name": "stdout",
     "output_type": "stream",
     "text": [
      "Iter 345; Losses: RPN loc 0.2808, RPN cls: 0.6923, ROI loc 34.1661, ROI cls 2.2506, Total:37.3899\n"
     ]
    },
    {
     "name": "stderr",
     "output_type": "stream",
     "text": [
      "\r",
      "347it [23:51,  4.61s/it]"
     ]
    },
    {
     "name": "stdout",
     "output_type": "stream",
     "text": [
      "Iter 346; Losses: RPN loc 0.3230, RPN cls: 0.6750, ROI loc 90.0250, ROI cls 2.3512, Total:93.3742\n"
     ]
    },
    {
     "name": "stderr",
     "output_type": "stream",
     "text": [
      "\r",
      "348it [23:56,  4.55s/it]"
     ]
    },
    {
     "name": "stdout",
     "output_type": "stream",
     "text": [
      "Iter 347; Losses: RPN loc 0.3046, RPN cls: 0.6993, ROI loc 20.7328, ROI cls 2.1787, Total:23.9155\n"
     ]
    },
    {
     "name": "stderr",
     "output_type": "stream",
     "text": [
      "\r",
      "349it [24:00,  4.50s/it]"
     ]
    },
    {
     "name": "stdout",
     "output_type": "stream",
     "text": [
      "Iter 348; Losses: RPN loc 0.2407, RPN cls: 0.6096, ROI loc 21.2312, ROI cls 2.2105, Total:24.2920\n"
     ]
    },
    {
     "name": "stderr",
     "output_type": "stream",
     "text": [
      "\r",
      "350it [24:04,  4.41s/it]"
     ]
    },
    {
     "name": "stdout",
     "output_type": "stream",
     "text": [
      "Iter 349; Losses: RPN loc 0.3094, RPN cls: 0.6954, ROI loc 63.6743, ROI cls 2.2870, Total:66.9661\n"
     ]
    },
    {
     "name": "stderr",
     "output_type": "stream",
     "text": [
      "\r",
      "351it [24:08,  4.15s/it]"
     ]
    },
    {
     "name": "stdout",
     "output_type": "stream",
     "text": [
      "Iter 350; Losses: RPN loc 0.2995, RPN cls: 0.5660, ROI loc 5.8493, ROI cls 2.1328, Total:8.8476\n"
     ]
    },
    {
     "name": "stderr",
     "output_type": "stream",
     "text": [
      "\r",
      "352it [24:11,  4.00s/it]"
     ]
    },
    {
     "name": "stdout",
     "output_type": "stream",
     "text": [
      "Iter 351; Losses: RPN loc 0.5265, RPN cls: 0.7598, ROI loc 33.8488, ROI cls 2.2269, Total:37.3620\n"
     ]
    },
    {
     "name": "stderr",
     "output_type": "stream",
     "text": [
      "\r",
      "353it [24:16,  4.05s/it]"
     ]
    },
    {
     "name": "stdout",
     "output_type": "stream",
     "text": [
      "Iter 352; Losses: RPN loc 0.5891, RPN cls: 0.7502, ROI loc 37.1757, ROI cls 2.2313, Total:40.7463\n"
     ]
    },
    {
     "name": "stderr",
     "output_type": "stream",
     "text": [
      "\r",
      "354it [24:20,  4.06s/it]"
     ]
    },
    {
     "name": "stdout",
     "output_type": "stream",
     "text": [
      "Iter 353; Losses: RPN loc 0.0053, RPN cls: 0.4873, ROI loc 7.3141, ROI cls 2.1682, Total:9.9750\n"
     ]
    },
    {
     "name": "stderr",
     "output_type": "stream",
     "text": [
      "\r",
      "355it [24:24,  4.02s/it]"
     ]
    },
    {
     "name": "stdout",
     "output_type": "stream",
     "text": [
      "Iter 354; Losses: RPN loc 0.7665, RPN cls: 0.9262, ROI loc 43.5921, ROI cls 2.3269, Total:47.6117\n"
     ]
    },
    {
     "name": "stderr",
     "output_type": "stream",
     "text": [
      "\r",
      "356it [24:28,  3.99s/it]"
     ]
    },
    {
     "name": "stdout",
     "output_type": "stream",
     "text": [
      "Iter 355; Losses: RPN loc 0.1054, RPN cls: 0.5454, ROI loc 18.7512, ROI cls 2.1787, Total:21.5807\n"
     ]
    },
    {
     "name": "stderr",
     "output_type": "stream",
     "text": [
      "\r",
      "357it [24:32,  4.02s/it]"
     ]
    },
    {
     "name": "stdout",
     "output_type": "stream",
     "text": [
      "Iter 356; Losses: RPN loc 0.0025, RPN cls: 0.5021, ROI loc 17.6111, ROI cls 2.1868, Total:20.3025\n"
     ]
    },
    {
     "name": "stderr",
     "output_type": "stream",
     "text": [
      "\r",
      "358it [24:35,  3.96s/it]"
     ]
    },
    {
     "name": "stdout",
     "output_type": "stream",
     "text": [
      "Iter 357; Losses: RPN loc 0.1486, RPN cls: 0.6082, ROI loc 77.6148, ROI cls 2.3158, Total:80.6874\n"
     ]
    },
    {
     "name": "stderr",
     "output_type": "stream",
     "text": [
      "\r",
      "359it [24:39,  3.94s/it]"
     ]
    },
    {
     "name": "stdout",
     "output_type": "stream",
     "text": [
      "Iter 358; Losses: RPN loc 0.0345, RPN cls: 0.5129, ROI loc 10.2834, ROI cls 2.1599, Total:12.9906\n"
     ]
    },
    {
     "name": "stderr",
     "output_type": "stream",
     "text": [
      "\r",
      "360it [24:44,  4.02s/it]"
     ]
    },
    {
     "name": "stdout",
     "output_type": "stream",
     "text": [
      "Iter 359; Losses: RPN loc 0.5555, RPN cls: 0.7568, ROI loc 29.8637, ROI cls 2.2223, Total:33.3983\n"
     ]
    },
    {
     "name": "stderr",
     "output_type": "stream",
     "text": [
      "\r",
      "361it [24:47,  3.91s/it]"
     ]
    },
    {
     "name": "stdout",
     "output_type": "stream",
     "text": [
      "Iter 360; Losses: RPN loc 0.1655, RPN cls: 0.5859, ROI loc 24.6093, ROI cls 2.2141, Total:27.5748\n"
     ]
    },
    {
     "name": "stderr",
     "output_type": "stream",
     "text": [
      "\r",
      "362it [24:51,  3.93s/it]"
     ]
    },
    {
     "name": "stdout",
     "output_type": "stream",
     "text": [
      "Iter 361; Losses: RPN loc 0.2898, RPN cls: 0.5605, ROI loc 25.9841, ROI cls 2.2554, Total:29.0898\n"
     ]
    },
    {
     "name": "stderr",
     "output_type": "stream",
     "text": [
      "\r",
      "363it [24:55,  4.03s/it]"
     ]
    },
    {
     "name": "stdout",
     "output_type": "stream",
     "text": [
      "Iter 362; Losses: RPN loc 0.2971, RPN cls: 0.6448, ROI loc 40.9926, ROI cls 2.2051, Total:44.1397\n"
     ]
    },
    {
     "name": "stderr",
     "output_type": "stream",
     "text": [
      "\r",
      "364it [24:59,  4.02s/it]"
     ]
    },
    {
     "name": "stdout",
     "output_type": "stream",
     "text": [
      "Iter 363; Losses: RPN loc 0.0944, RPN cls: 0.5256, ROI loc 40.5140, ROI cls 2.2072, Total:43.3412\n"
     ]
    },
    {
     "name": "stderr",
     "output_type": "stream",
     "text": [
      "\r",
      "365it [25:04,  4.03s/it]"
     ]
    },
    {
     "name": "stdout",
     "output_type": "stream",
     "text": [
      "Iter 364; Losses: RPN loc 0.5607, RPN cls: 0.8095, ROI loc 71.5270, ROI cls 2.3283, Total:75.2255\n"
     ]
    },
    {
     "name": "stderr",
     "output_type": "stream",
     "text": [
      "\r",
      "366it [25:07,  4.00s/it]"
     ]
    },
    {
     "name": "stdout",
     "output_type": "stream",
     "text": [
      "Iter 365; Losses: RPN loc 0.3365, RPN cls: 0.6060, ROI loc 10.1529, ROI cls 2.1495, Total:13.2449\n"
     ]
    },
    {
     "name": "stderr",
     "output_type": "stream",
     "text": [
      "\r",
      "367it [25:11,  3.91s/it]"
     ]
    },
    {
     "name": "stdout",
     "output_type": "stream",
     "text": [
      "Iter 366; Losses: RPN loc 0.0224, RPN cls: 0.4427, ROI loc 13.7705, ROI cls 2.1712, Total:16.4068\n"
     ]
    },
    {
     "name": "stderr",
     "output_type": "stream",
     "text": [
      "\r",
      "368it [25:15,  3.99s/it]"
     ]
    },
    {
     "name": "stdout",
     "output_type": "stream",
     "text": [
      "Iter 367; Losses: RPN loc 1.9965, RPN cls: 1.0828, ROI loc 44.1795, ROI cls 2.2635, Total:49.5223\n"
     ]
    },
    {
     "name": "stderr",
     "output_type": "stream",
     "text": [
      "\r",
      "369it [25:20,  4.09s/it]"
     ]
    },
    {
     "name": "stdout",
     "output_type": "stream",
     "text": [
      "Iter 368; Losses: RPN loc 0.5500, RPN cls: 0.5972, ROI loc 66.8165, ROI cls 2.2398, Total:70.2036\n"
     ]
    },
    {
     "name": "stderr",
     "output_type": "stream",
     "text": [
      "\r",
      "370it [25:24,  4.04s/it]"
     ]
    },
    {
     "name": "stdout",
     "output_type": "stream",
     "text": [
      "Iter 369; Losses: RPN loc 0.2640, RPN cls: 0.8739, ROI loc 106.6032, ROI cls 2.3553, Total:110.0965\n"
     ]
    },
    {
     "name": "stderr",
     "output_type": "stream",
     "text": [
      "\r",
      "371it [25:27,  3.90s/it]"
     ]
    },
    {
     "name": "stdout",
     "output_type": "stream",
     "text": [
      "Iter 370; Losses: RPN loc 0.2411, RPN cls: 0.5398, ROI loc 3.3953, ROI cls 2.1329, Total:6.3091\n"
     ]
    },
    {
     "name": "stderr",
     "output_type": "stream",
     "text": [
      "\r",
      "372it [25:31,  3.93s/it]"
     ]
    },
    {
     "name": "stdout",
     "output_type": "stream",
     "text": [
      "Iter 371; Losses: RPN loc 0.5997, RPN cls: 0.7290, ROI loc 53.3463, ROI cls 2.3944, Total:57.0693\n"
     ]
    },
    {
     "name": "stderr",
     "output_type": "stream",
     "text": [
      "\r",
      "373it [25:35,  3.90s/it]"
     ]
    },
    {
     "name": "stdout",
     "output_type": "stream",
     "text": [
      "Iter 372; Losses: RPN loc 0.1934, RPN cls: 0.6690, ROI loc 20.5691, ROI cls 2.2343, Total:23.6657\n"
     ]
    },
    {
     "name": "stderr",
     "output_type": "stream",
     "text": [
      "\r",
      "374it [25:40,  4.12s/it]"
     ]
    },
    {
     "name": "stdout",
     "output_type": "stream",
     "text": [
      "Iter 373; Losses: RPN loc 0.1189, RPN cls: 0.5491, ROI loc 6.9667, ROI cls 2.1486, Total:9.7833\n"
     ]
    },
    {
     "name": "stderr",
     "output_type": "stream",
     "text": [
      "\r",
      "375it [25:44,  4.10s/it]"
     ]
    },
    {
     "name": "stdout",
     "output_type": "stream",
     "text": [
      "Iter 374; Losses: RPN loc 0.1116, RPN cls: 0.5304, ROI loc 14.9469, ROI cls 2.2149, Total:17.8038\n"
     ]
    },
    {
     "name": "stderr",
     "output_type": "stream",
     "text": [
      "\r",
      "376it [25:48,  4.11s/it]"
     ]
    },
    {
     "name": "stdout",
     "output_type": "stream",
     "text": [
      "Iter 375; Losses: RPN loc 0.6057, RPN cls: 0.8796, ROI loc 82.5176, ROI cls 2.3710, Total:86.3739\n"
     ]
    },
    {
     "name": "stderr",
     "output_type": "stream",
     "text": [
      "\r",
      "377it [25:52,  4.01s/it]"
     ]
    },
    {
     "name": "stdout",
     "output_type": "stream",
     "text": [
      "Iter 376; Losses: RPN loc 0.1355, RPN cls: 0.6154, ROI loc 25.0988, ROI cls 2.2806, Total:28.1303\n"
     ]
    },
    {
     "name": "stderr",
     "output_type": "stream",
     "text": [
      "\r",
      "378it [25:55,  3.96s/it]"
     ]
    },
    {
     "name": "stdout",
     "output_type": "stream",
     "text": [
      "Iter 377; Losses: RPN loc 0.0610, RPN cls: 0.5484, ROI loc 22.6604, ROI cls 2.2313, Total:25.5010\n"
     ]
    },
    {
     "name": "stderr",
     "output_type": "stream",
     "text": [
      "\r",
      "379it [25:59,  3.93s/it]"
     ]
    },
    {
     "name": "stdout",
     "output_type": "stream",
     "text": [
      "Iter 378; Losses: RPN loc 0.1473, RPN cls: 0.5166, ROI loc 12.1241, ROI cls 2.1409, Total:14.9289\n"
     ]
    },
    {
     "name": "stderr",
     "output_type": "stream",
     "text": [
      "\r",
      "380it [26:03,  3.96s/it]"
     ]
    },
    {
     "name": "stdout",
     "output_type": "stream",
     "text": [
      "Iter 379; Losses: RPN loc 0.0456, RPN cls: 0.5920, ROI loc 64.0600, ROI cls 2.3141, Total:67.0117\n"
     ]
    },
    {
     "name": "stderr",
     "output_type": "stream",
     "text": [
      "\r",
      "381it [26:07,  3.90s/it]"
     ]
    },
    {
     "name": "stdout",
     "output_type": "stream",
     "text": [
      "Iter 380; Losses: RPN loc 0.7595, RPN cls: 0.7649, ROI loc 32.5925, ROI cls 2.1905, Total:36.3074\n"
     ]
    },
    {
     "name": "stderr",
     "output_type": "stream",
     "text": [
      "\r",
      "382it [26:11,  3.81s/it]"
     ]
    },
    {
     "name": "stdout",
     "output_type": "stream",
     "text": [
      "Iter 381; Losses: RPN loc 0.1105, RPN cls: 0.5536, ROI loc 49.3798, ROI cls 2.2770, Total:52.3208\n"
     ]
    },
    {
     "name": "stderr",
     "output_type": "stream",
     "text": [
      "\r",
      "383it [26:14,  3.77s/it]"
     ]
    },
    {
     "name": "stdout",
     "output_type": "stream",
     "text": [
      "Iter 382; Losses: RPN loc 0.0658, RPN cls: 0.5709, ROI loc 42.4721, ROI cls 2.2516, Total:45.3603\n"
     ]
    },
    {
     "name": "stderr",
     "output_type": "stream",
     "text": [
      "\r",
      "384it [26:18,  3.88s/it]"
     ]
    },
    {
     "name": "stdout",
     "output_type": "stream",
     "text": [
      "Iter 383; Losses: RPN loc 0.1676, RPN cls: 0.5857, ROI loc 43.6416, ROI cls 2.2599, Total:46.6548\n"
     ]
    },
    {
     "name": "stderr",
     "output_type": "stream",
     "text": [
      "\r",
      "385it [26:22,  3.89s/it]"
     ]
    },
    {
     "name": "stdout",
     "output_type": "stream",
     "text": [
      "Iter 384; Losses: RPN loc 0.1882, RPN cls: 0.6515, ROI loc 30.9133, ROI cls 2.2571, Total:34.0101\n"
     ]
    },
    {
     "name": "stderr",
     "output_type": "stream",
     "text": [
      "\r",
      "386it [26:26,  3.83s/it]"
     ]
    },
    {
     "name": "stdout",
     "output_type": "stream",
     "text": [
      "Iter 385; Losses: RPN loc 0.6204, RPN cls: 0.6963, ROI loc 35.9020, ROI cls 2.2408, Total:39.4596\n"
     ]
    },
    {
     "name": "stderr",
     "output_type": "stream",
     "text": [
      "\r",
      "387it [26:30,  3.77s/it]"
     ]
    },
    {
     "name": "stdout",
     "output_type": "stream",
     "text": [
      "Iter 386; Losses: RPN loc 0.0312, RPN cls: 0.5173, ROI loc 43.0876, ROI cls 2.2482, Total:45.8842\n"
     ]
    },
    {
     "name": "stderr",
     "output_type": "stream",
     "text": [
      "\r",
      "388it [26:34,  3.86s/it]"
     ]
    },
    {
     "name": "stdout",
     "output_type": "stream",
     "text": [
      "Iter 387; Losses: RPN loc 0.0871, RPN cls: 0.5075, ROI loc 12.1256, ROI cls 2.1882, Total:14.9084\n"
     ]
    },
    {
     "name": "stderr",
     "output_type": "stream",
     "text": [
      "\r",
      "389it [26:38,  3.92s/it]"
     ]
    },
    {
     "name": "stdout",
     "output_type": "stream",
     "text": [
      "Iter 388; Losses: RPN loc 0.0346, RPN cls: 0.4898, ROI loc 9.6602, ROI cls 2.1502, Total:12.3348\n"
     ]
    },
    {
     "name": "stderr",
     "output_type": "stream",
     "text": [
      "\r",
      "390it [26:42,  3.92s/it]"
     ]
    },
    {
     "name": "stdout",
     "output_type": "stream",
     "text": [
      "Iter 389; Losses: RPN loc 0.0323, RPN cls: 0.5275, ROI loc 27.0239, ROI cls 2.2232, Total:29.8069\n"
     ]
    },
    {
     "name": "stderr",
     "output_type": "stream",
     "text": [
      "\r",
      "391it [26:46,  3.88s/it]"
     ]
    },
    {
     "name": "stdout",
     "output_type": "stream",
     "text": [
      "Iter 390; Losses: RPN loc 0.3257, RPN cls: 0.6568, ROI loc 22.3775, ROI cls 2.2364, Total:25.5964\n"
     ]
    },
    {
     "name": "stderr",
     "output_type": "stream",
     "text": [
      "\r",
      "392it [26:50,  3.99s/it]"
     ]
    },
    {
     "name": "stdout",
     "output_type": "stream",
     "text": [
      "Iter 391; Losses: RPN loc 0.7931, RPN cls: 0.7439, ROI loc 32.0234, ROI cls 2.2428, Total:35.8033\n"
     ]
    },
    {
     "name": "stderr",
     "output_type": "stream",
     "text": [
      "\r",
      "393it [26:54,  4.08s/it]"
     ]
    },
    {
     "name": "stdout",
     "output_type": "stream",
     "text": [
      "Iter 392; Losses: RPN loc 0.0431, RPN cls: 0.5305, ROI loc 11.1824, ROI cls 2.1745, Total:13.9305\n"
     ]
    },
    {
     "name": "stderr",
     "output_type": "stream",
     "text": [
      "\r",
      "394it [26:58,  4.16s/it]"
     ]
    },
    {
     "name": "stdout",
     "output_type": "stream",
     "text": [
      "Iter 393; Losses: RPN loc 0.6962, RPN cls: 0.7807, ROI loc 44.1622, ROI cls 2.2913, Total:47.9304\n"
     ]
    },
    {
     "name": "stderr",
     "output_type": "stream",
     "text": [
      "\r",
      "395it [27:03,  4.34s/it]"
     ]
    },
    {
     "name": "stdout",
     "output_type": "stream",
     "text": [
      "Iter 394; Losses: RPN loc 0.0208, RPN cls: 0.4894, ROI loc 22.3061, ROI cls 2.2021, Total:25.0185\n"
     ]
    },
    {
     "name": "stderr",
     "output_type": "stream",
     "text": [
      "\r",
      "396it [27:08,  4.48s/it]"
     ]
    },
    {
     "name": "stdout",
     "output_type": "stream",
     "text": [
      "Iter 395; Losses: RPN loc 0.3495, RPN cls: 0.6395, ROI loc 18.2181, ROI cls 2.2101, Total:21.4171\n"
     ]
    },
    {
     "name": "stderr",
     "output_type": "stream",
     "text": [
      "\r",
      "397it [27:12,  4.30s/it]"
     ]
    },
    {
     "name": "stdout",
     "output_type": "stream",
     "text": [
      "Iter 396; Losses: RPN loc 0.5433, RPN cls: 0.6934, ROI loc 36.6898, ROI cls 2.2839, Total:40.2104\n"
     ]
    },
    {
     "name": "stderr",
     "output_type": "stream",
     "text": [
      "\r",
      "398it [27:16,  4.14s/it]"
     ]
    },
    {
     "name": "stdout",
     "output_type": "stream",
     "text": [
      "Iter 397; Losses: RPN loc 0.9688, RPN cls: 0.6412, ROI loc 8.2557, ROI cls 2.1415, Total:12.0072\n"
     ]
    },
    {
     "name": "stderr",
     "output_type": "stream",
     "text": [
      "\r",
      "399it [27:19,  4.03s/it]"
     ]
    },
    {
     "name": "stdout",
     "output_type": "stream",
     "text": [
      "Iter 398; Losses: RPN loc 0.0476, RPN cls: 0.5848, ROI loc 48.0348, ROI cls 2.3017, Total:50.9689\n"
     ]
    },
    {
     "name": "stderr",
     "output_type": "stream",
     "text": [
      "\r",
      "400it [27:23,  3.91s/it]"
     ]
    },
    {
     "name": "stdout",
     "output_type": "stream",
     "text": [
      "Iter 399; Losses: RPN loc 0.1968, RPN cls: 0.6059, ROI loc 43.4380, ROI cls 2.2632, Total:46.5038\n"
     ]
    },
    {
     "name": "stderr",
     "output_type": "stream",
     "text": [
      "\r",
      "401it [27:27,  3.89s/it]"
     ]
    },
    {
     "name": "stdout",
     "output_type": "stream",
     "text": [
      "Iter 400; Losses: RPN loc 0.2448, RPN cls: 0.5440, ROI loc 13.2815, ROI cls 2.1753, Total:16.2457\n"
     ]
    },
    {
     "name": "stderr",
     "output_type": "stream",
     "text": [
      "\r",
      "402it [27:31,  3.95s/it]"
     ]
    },
    {
     "name": "stdout",
     "output_type": "stream",
     "text": [
      "Iter 401; Losses: RPN loc 0.2733, RPN cls: 0.6856, ROI loc 57.9634, ROI cls 2.3368, Total:61.2591\n"
     ]
    },
    {
     "name": "stderr",
     "output_type": "stream",
     "text": [
      "\r",
      "403it [27:35,  4.00s/it]"
     ]
    },
    {
     "name": "stdout",
     "output_type": "stream",
     "text": [
      "Iter 402; Losses: RPN loc 0.1178, RPN cls: 0.5733, ROI loc 17.5487, ROI cls 2.2408, Total:20.4807\n"
     ]
    },
    {
     "name": "stderr",
     "output_type": "stream",
     "text": [
      "\r",
      "404it [27:39,  4.12s/it]"
     ]
    },
    {
     "name": "stdout",
     "output_type": "stream",
     "text": [
      "Iter 403; Losses: RPN loc 0.2156, RPN cls: 0.6089, ROI loc 50.4068, ROI cls 2.3096, Total:53.5409\n"
     ]
    },
    {
     "name": "stderr",
     "output_type": "stream",
     "text": [
      "\r",
      "405it [27:43,  4.07s/it]"
     ]
    },
    {
     "name": "stdout",
     "output_type": "stream",
     "text": [
      "Iter 404; Losses: RPN loc 0.0088, RPN cls: 0.5797, ROI loc 37.5972, ROI cls 2.2141, Total:40.3998\n"
     ]
    },
    {
     "name": "stderr",
     "output_type": "stream",
     "text": [
      "\r",
      "406it [27:47,  3.99s/it]"
     ]
    },
    {
     "name": "stdout",
     "output_type": "stream",
     "text": [
      "Iter 405; Losses: RPN loc 0.0483, RPN cls: 0.4916, ROI loc 56.2138, ROI cls 2.2447, Total:58.9984\n"
     ]
    },
    {
     "name": "stderr",
     "output_type": "stream",
     "text": [
      "\r",
      "407it [27:51,  3.96s/it]"
     ]
    },
    {
     "name": "stdout",
     "output_type": "stream",
     "text": [
      "Iter 406; Losses: RPN loc 0.0728, RPN cls: 0.4898, ROI loc 10.6437, ROI cls 2.1512, Total:13.3575\n"
     ]
    },
    {
     "name": "stderr",
     "output_type": "stream",
     "text": [
      "\r",
      "408it [27:55,  4.03s/it]"
     ]
    },
    {
     "name": "stdout",
     "output_type": "stream",
     "text": [
      "Iter 407; Losses: RPN loc 0.7008, RPN cls: 0.7266, ROI loc 47.5413, ROI cls 2.2660, Total:51.2347\n"
     ]
    },
    {
     "name": "stderr",
     "output_type": "stream",
     "text": [
      "\r",
      "409it [28:00,  4.08s/it]"
     ]
    },
    {
     "name": "stdout",
     "output_type": "stream",
     "text": [
      "Iter 408; Losses: RPN loc 0.4564, RPN cls: 0.5351, ROI loc 31.5509, ROI cls 2.1910, Total:34.7333\n"
     ]
    },
    {
     "name": "stderr",
     "output_type": "stream",
     "text": [
      "\r",
      "410it [28:03,  4.04s/it]"
     ]
    },
    {
     "name": "stdout",
     "output_type": "stream",
     "text": [
      "Iter 409; Losses: RPN loc 0.2731, RPN cls: 0.6045, ROI loc 41.2141, ROI cls 2.2403, Total:44.3320\n"
     ]
    },
    {
     "name": "stderr",
     "output_type": "stream",
     "text": [
      "\r",
      "411it [28:08,  4.10s/it]"
     ]
    },
    {
     "name": "stdout",
     "output_type": "stream",
     "text": [
      "Iter 410; Losses: RPN loc 0.3490, RPN cls: 0.7333, ROI loc 104.0849, ROI cls 2.3333, Total:107.5004\n"
     ]
    },
    {
     "name": "stderr",
     "output_type": "stream",
     "text": [
      "\r",
      "412it [28:11,  3.97s/it]"
     ]
    },
    {
     "name": "stdout",
     "output_type": "stream",
     "text": [
      "Iter 411; Losses: RPN loc 0.0780, RPN cls: 0.4709, ROI loc 14.0526, ROI cls 2.1417, Total:16.7431\n"
     ]
    },
    {
     "name": "stderr",
     "output_type": "stream",
     "text": [
      "\r",
      "413it [28:15,  3.97s/it]"
     ]
    },
    {
     "name": "stdout",
     "output_type": "stream",
     "text": [
      "Iter 412; Losses: RPN loc 0.0324, RPN cls: 0.4903, ROI loc 23.8931, ROI cls 2.1846, Total:26.6003\n"
     ]
    },
    {
     "name": "stderr",
     "output_type": "stream",
     "text": [
      "\r",
      "414it [28:19,  3.93s/it]"
     ]
    },
    {
     "name": "stdout",
     "output_type": "stream",
     "text": [
      "Iter 413; Losses: RPN loc 0.0188, RPN cls: 0.4955, ROI loc 31.5770, ROI cls 2.2175, Total:34.3088\n"
     ]
    },
    {
     "name": "stderr",
     "output_type": "stream",
     "text": [
      "\r",
      "415it [28:23,  4.01s/it]"
     ]
    },
    {
     "name": "stdout",
     "output_type": "stream",
     "text": [
      "Iter 414; Losses: RPN loc 0.3607, RPN cls: 0.6606, ROI loc 36.2073, ROI cls 2.2266, Total:39.4551\n"
     ]
    },
    {
     "name": "stderr",
     "output_type": "stream",
     "text": [
      "\r",
      "416it [28:27,  3.98s/it]"
     ]
    },
    {
     "name": "stdout",
     "output_type": "stream",
     "text": [
      "Iter 415; Losses: RPN loc 0.5828, RPN cls: 0.5475, ROI loc 3.6549, ROI cls 2.1319, Total:6.9171\n"
     ]
    },
    {
     "name": "stderr",
     "output_type": "stream",
     "text": [
      "\r",
      "417it [28:32,  4.08s/it]"
     ]
    },
    {
     "name": "stdout",
     "output_type": "stream",
     "text": [
      "Iter 416; Losses: RPN loc 0.0100, RPN cls: 0.4708, ROI loc 14.3619, ROI cls 2.1880, Total:17.0307\n"
     ]
    },
    {
     "name": "stderr",
     "output_type": "stream",
     "text": [
      "\r",
      "418it [28:35,  3.99s/it]"
     ]
    },
    {
     "name": "stdout",
     "output_type": "stream",
     "text": [
      "Iter 417; Losses: RPN loc 0.0251, RPN cls: 0.5142, ROI loc 35.8726, ROI cls 2.3084, Total:38.7202\n"
     ]
    },
    {
     "name": "stderr",
     "output_type": "stream",
     "text": [
      "\r",
      "419it [28:40,  4.07s/it]"
     ]
    },
    {
     "name": "stdout",
     "output_type": "stream",
     "text": [
      "Iter 418; Losses: RPN loc 0.5556, RPN cls: 0.5986, ROI loc 16.9350, ROI cls 2.1655, Total:20.2548\n"
     ]
    },
    {
     "name": "stderr",
     "output_type": "stream",
     "text": [
      "\r",
      "420it [28:44,  4.02s/it]"
     ]
    },
    {
     "name": "stdout",
     "output_type": "stream",
     "text": [
      "Iter 419; Losses: RPN loc 0.0454, RPN cls: 0.5049, ROI loc 3.0029, ROI cls 2.1404, Total:5.6936\n"
     ]
    },
    {
     "name": "stderr",
     "output_type": "stream",
     "text": [
      "\r",
      "421it [28:48,  4.01s/it]"
     ]
    },
    {
     "name": "stdout",
     "output_type": "stream",
     "text": [
      "Iter 420; Losses: RPN loc 0.0283, RPN cls: 0.5553, ROI loc 43.2276, ROI cls 2.2382, Total:46.0493\n"
     ]
    },
    {
     "name": "stderr",
     "output_type": "stream",
     "text": [
      "\r",
      "422it [28:52,  4.11s/it]"
     ]
    },
    {
     "name": "stdout",
     "output_type": "stream",
     "text": [
      "Iter 421; Losses: RPN loc 0.4848, RPN cls: 0.6685, ROI loc 55.9828, ROI cls 2.2700, Total:59.4061\n"
     ]
    },
    {
     "name": "stderr",
     "output_type": "stream",
     "text": [
      "\r",
      "423it [28:57,  4.30s/it]"
     ]
    },
    {
     "name": "stdout",
     "output_type": "stream",
     "text": [
      "Iter 422; Losses: RPN loc 2.1102, RPN cls: 1.0164, ROI loc 48.1495, ROI cls 2.2672, Total:53.5433\n"
     ]
    },
    {
     "name": "stderr",
     "output_type": "stream",
     "text": [
      "\r",
      "424it [29:01,  4.24s/it]"
     ]
    },
    {
     "name": "stdout",
     "output_type": "stream",
     "text": [
      "Iter 423; Losses: RPN loc 1.4397, RPN cls: 0.7019, ROI loc 2.4706, ROI cls 2.1322, Total:6.7444\n"
     ]
    },
    {
     "name": "stderr",
     "output_type": "stream",
     "text": [
      "\r",
      "425it [29:05,  4.15s/it]"
     ]
    },
    {
     "name": "stdout",
     "output_type": "stream",
     "text": [
      "Iter 424; Losses: RPN loc 0.2205, RPN cls: 0.5989, ROI loc 19.2514, ROI cls 2.2353, Total:22.3061\n"
     ]
    },
    {
     "name": "stderr",
     "output_type": "stream",
     "text": [
      "\r",
      "426it [29:09,  4.07s/it]"
     ]
    },
    {
     "name": "stdout",
     "output_type": "stream",
     "text": [
      "Iter 425; Losses: RPN loc 0.1181, RPN cls: 0.5455, ROI loc 28.6562, ROI cls 2.2260, Total:31.5458\n"
     ]
    },
    {
     "name": "stderr",
     "output_type": "stream",
     "text": [
      "\r",
      "427it [29:13,  4.18s/it]"
     ]
    },
    {
     "name": "stdout",
     "output_type": "stream",
     "text": [
      "Iter 426; Losses: RPN loc 0.5639, RPN cls: 0.6158, ROI loc 18.7879, ROI cls 2.1552, Total:22.1227\n"
     ]
    },
    {
     "name": "stderr",
     "output_type": "stream",
     "text": [
      "\r",
      "428it [29:17,  4.19s/it]"
     ]
    },
    {
     "name": "stdout",
     "output_type": "stream",
     "text": [
      "Iter 427; Losses: RPN loc 0.7781, RPN cls: 0.6380, ROI loc 15.3216, ROI cls 2.1493, Total:18.8869\n"
     ]
    },
    {
     "name": "stderr",
     "output_type": "stream",
     "text": [
      "\r",
      "429it [29:21,  4.11s/it]"
     ]
    },
    {
     "name": "stdout",
     "output_type": "stream",
     "text": [
      "Iter 428; Losses: RPN loc 0.0542, RPN cls: 0.5615, ROI loc 30.9120, ROI cls 2.1972, Total:33.7249\n"
     ]
    },
    {
     "name": "stderr",
     "output_type": "stream",
     "text": [
      "\r",
      "430it [29:25,  4.06s/it]"
     ]
    },
    {
     "name": "stdout",
     "output_type": "stream",
     "text": [
      "Iter 429; Losses: RPN loc 0.0814, RPN cls: 0.5857, ROI loc 36.7150, ROI cls 2.2313, Total:39.6134\n"
     ]
    },
    {
     "name": "stderr",
     "output_type": "stream",
     "text": [
      "\r",
      "431it [29:29,  4.10s/it]"
     ]
    },
    {
     "name": "stdout",
     "output_type": "stream",
     "text": [
      "Iter 430; Losses: RPN loc 1.6672, RPN cls: 0.7830, ROI loc 35.9774, ROI cls 2.2051, Total:40.6327\n"
     ]
    },
    {
     "name": "stderr",
     "output_type": "stream",
     "text": [
      "\r",
      "432it [29:33,  4.09s/it]"
     ]
    },
    {
     "name": "stdout",
     "output_type": "stream",
     "text": [
      "Iter 431; Losses: RPN loc 0.2441, RPN cls: 0.5452, ROI loc 31.3055, ROI cls 2.1840, Total:34.2788\n"
     ]
    },
    {
     "name": "stderr",
     "output_type": "stream",
     "text": [
      "\r",
      "433it [29:37,  4.10s/it]"
     ]
    },
    {
     "name": "stdout",
     "output_type": "stream",
     "text": [
      "Iter 432; Losses: RPN loc 0.2121, RPN cls: 0.5896, ROI loc 7.4198, ROI cls 2.1580, Total:10.3794\n"
     ]
    },
    {
     "name": "stderr",
     "output_type": "stream",
     "text": [
      "\r",
      "434it [29:41,  4.07s/it]"
     ]
    },
    {
     "name": "stdout",
     "output_type": "stream",
     "text": [
      "Iter 433; Losses: RPN loc 0.3412, RPN cls: 0.7358, ROI loc 45.9769, ROI cls 2.3042, Total:49.3581\n"
     ]
    },
    {
     "name": "stderr",
     "output_type": "stream",
     "text": [
      "\r",
      "435it [29:45,  4.06s/it]"
     ]
    },
    {
     "name": "stdout",
     "output_type": "stream",
     "text": [
      "Iter 434; Losses: RPN loc 0.0586, RPN cls: 0.5275, ROI loc 37.4671, ROI cls 2.2595, Total:40.3128\n"
     ]
    },
    {
     "name": "stderr",
     "output_type": "stream",
     "text": [
      "\r",
      "436it [29:49,  4.01s/it]"
     ]
    },
    {
     "name": "stdout",
     "output_type": "stream",
     "text": [
      "Iter 435; Losses: RPN loc 0.3263, RPN cls: 0.6451, ROI loc 20.1259, ROI cls 2.2493, Total:23.3466\n"
     ]
    },
    {
     "name": "stderr",
     "output_type": "stream",
     "text": [
      "\r",
      "437it [29:53,  4.02s/it]"
     ]
    },
    {
     "name": "stdout",
     "output_type": "stream",
     "text": [
      "Iter 436; Losses: RPN loc 0.2255, RPN cls: 0.5308, ROI loc 23.7645, ROI cls 2.1753, Total:26.6961\n"
     ]
    },
    {
     "name": "stderr",
     "output_type": "stream",
     "text": [
      "\r",
      "438it [29:57,  3.95s/it]"
     ]
    },
    {
     "name": "stdout",
     "output_type": "stream",
     "text": [
      "Iter 437; Losses: RPN loc 0.0465, RPN cls: 0.5182, ROI loc 9.7487, ROI cls 2.1504, Total:12.4638\n"
     ]
    },
    {
     "name": "stderr",
     "output_type": "stream",
     "text": [
      "\r",
      "439it [30:01,  3.85s/it]"
     ]
    },
    {
     "name": "stdout",
     "output_type": "stream",
     "text": [
      "Iter 438; Losses: RPN loc 1.0152, RPN cls: 0.5878, ROI loc 12.2205, ROI cls 2.1517, Total:15.9752\n"
     ]
    },
    {
     "name": "stderr",
     "output_type": "stream",
     "text": [
      "\r",
      "440it [30:05,  3.87s/it]"
     ]
    },
    {
     "name": "stdout",
     "output_type": "stream",
     "text": [
      "Iter 439; Losses: RPN loc 0.2511, RPN cls: 0.6202, ROI loc 20.9741, ROI cls 2.1659, Total:24.0112\n"
     ]
    },
    {
     "name": "stderr",
     "output_type": "stream",
     "text": [
      "\r",
      "441it [30:08,  3.84s/it]"
     ]
    },
    {
     "name": "stdout",
     "output_type": "stream",
     "text": [
      "Iter 440; Losses: RPN loc 0.0429, RPN cls: 0.6085, ROI loc 91.1063, ROI cls 2.3269, Total:94.0846\n"
     ]
    },
    {
     "name": "stderr",
     "output_type": "stream",
     "text": [
      "\r",
      "442it [30:13,  3.89s/it]"
     ]
    },
    {
     "name": "stdout",
     "output_type": "stream",
     "text": [
      "Iter 441; Losses: RPN loc 0.3474, RPN cls: 0.6329, ROI loc 39.1924, ROI cls 2.2471, Total:42.4199\n"
     ]
    },
    {
     "name": "stderr",
     "output_type": "stream",
     "text": [
      "\r",
      "443it [30:17,  3.94s/it]"
     ]
    },
    {
     "name": "stdout",
     "output_type": "stream",
     "text": [
      "Iter 442; Losses: RPN loc 0.6878, RPN cls: 0.8130, ROI loc 17.9275, ROI cls 2.2554, Total:21.6837\n"
     ]
    },
    {
     "name": "stderr",
     "output_type": "stream",
     "text": [
      "\r",
      "444it [30:21,  4.05s/it]"
     ]
    },
    {
     "name": "stdout",
     "output_type": "stream",
     "text": [
      "Iter 443; Losses: RPN loc 0.0597, RPN cls: 0.4819, ROI loc 1.7653, ROI cls 2.1313, Total:4.4383\n"
     ]
    },
    {
     "name": "stderr",
     "output_type": "stream",
     "text": [
      "\r",
      "445it [30:25,  4.01s/it]"
     ]
    },
    {
     "name": "stdout",
     "output_type": "stream",
     "text": [
      "Iter 444; Losses: RPN loc 0.0090, RPN cls: 0.5045, ROI loc 36.8896, ROI cls 2.1952, Total:39.5983\n"
     ]
    },
    {
     "name": "stderr",
     "output_type": "stream",
     "text": [
      "\r",
      "446it [30:29,  3.98s/it]"
     ]
    },
    {
     "name": "stdout",
     "output_type": "stream",
     "text": [
      "Iter 445; Losses: RPN loc 0.1182, RPN cls: 0.6269, ROI loc 54.9873, ROI cls 2.2284, Total:57.9609\n"
     ]
    },
    {
     "name": "stderr",
     "output_type": "stream",
     "text": [
      "\r",
      "447it [30:33,  3.96s/it]"
     ]
    },
    {
     "name": "stdout",
     "output_type": "stream",
     "text": [
      "Iter 446; Losses: RPN loc 0.0736, RPN cls: 0.5511, ROI loc 64.2244, ROI cls 2.2333, Total:67.0824\n"
     ]
    },
    {
     "name": "stderr",
     "output_type": "stream",
     "text": [
      "\r",
      "448it [30:36,  3.93s/it]"
     ]
    },
    {
     "name": "stdout",
     "output_type": "stream",
     "text": [
      "Iter 447; Losses: RPN loc 0.3619, RPN cls: 0.8417, ROI loc 67.5649, ROI cls 2.2635, Total:71.0320\n"
     ]
    },
    {
     "name": "stderr",
     "output_type": "stream",
     "text": [
      "\r",
      "449it [30:40,  3.92s/it]"
     ]
    },
    {
     "name": "stdout",
     "output_type": "stream",
     "text": [
      "Iter 448; Losses: RPN loc 0.3502, RPN cls: 0.6688, ROI loc 76.0762, ROI cls 2.2898, Total:79.3850\n"
     ]
    },
    {
     "name": "stderr",
     "output_type": "stream",
     "text": [
      "\r",
      "450it [30:44,  3.92s/it]"
     ]
    },
    {
     "name": "stdout",
     "output_type": "stream",
     "text": [
      "Iter 449; Losses: RPN loc 0.1649, RPN cls: 0.5298, ROI loc 39.7064, ROI cls 2.2313, Total:42.6325\n"
     ]
    },
    {
     "name": "stderr",
     "output_type": "stream",
     "text": [
      "\r",
      "451it [30:48,  3.98s/it]"
     ]
    },
    {
     "name": "stdout",
     "output_type": "stream",
     "text": [
      "Iter 450; Losses: RPN loc 0.3386, RPN cls: 0.6176, ROI loc 52.3484, ROI cls 2.2871, Total:55.5918\n"
     ]
    },
    {
     "name": "stderr",
     "output_type": "stream",
     "text": [
      "\r",
      "452it [30:52,  3.95s/it]"
     ]
    },
    {
     "name": "stdout",
     "output_type": "stream",
     "text": [
      "Iter 451; Losses: RPN loc 0.4115, RPN cls: 0.5399, ROI loc 3.3096, ROI cls 2.1322, Total:6.3931\n"
     ]
    },
    {
     "name": "stderr",
     "output_type": "stream",
     "text": [
      "\r",
      "453it [30:56,  3.94s/it]"
     ]
    },
    {
     "name": "stdout",
     "output_type": "stream",
     "text": [
      "Iter 452; Losses: RPN loc 0.0152, RPN cls: 0.5133, ROI loc 54.4194, ROI cls 2.2284, Total:57.1763\n"
     ]
    },
    {
     "name": "stderr",
     "output_type": "stream",
     "text": [
      "\r",
      "454it [31:00,  3.84s/it]"
     ]
    },
    {
     "name": "stdout",
     "output_type": "stream",
     "text": [
      "Iter 453; Losses: RPN loc 0.0729, RPN cls: 0.4722, ROI loc 6.1223, ROI cls 2.1323, Total:8.7998\n"
     ]
    },
    {
     "name": "stderr",
     "output_type": "stream",
     "text": [
      "\r",
      "455it [31:04,  3.82s/it]"
     ]
    },
    {
     "name": "stdout",
     "output_type": "stream",
     "text": [
      "Iter 454; Losses: RPN loc 0.1084, RPN cls: 0.5912, ROI loc 101.2622, ROI cls 2.3214, Total:104.2831\n"
     ]
    },
    {
     "name": "stderr",
     "output_type": "stream",
     "text": [
      "\r",
      "456it [31:07,  3.84s/it]"
     ]
    },
    {
     "name": "stdout",
     "output_type": "stream",
     "text": [
      "Iter 455; Losses: RPN loc 1.1880, RPN cls: 0.6355, ROI loc 52.0433, ROI cls 2.2008, Total:56.0675\n"
     ]
    },
    {
     "name": "stderr",
     "output_type": "stream",
     "text": [
      "\r",
      "457it [31:11,  3.80s/it]"
     ]
    },
    {
     "name": "stdout",
     "output_type": "stream",
     "text": [
      "Iter 456; Losses: RPN loc 0.2293, RPN cls: 0.5836, ROI loc 54.3771, ROI cls 2.2313, Total:57.4213\n"
     ]
    },
    {
     "name": "stderr",
     "output_type": "stream",
     "text": [
      "\r",
      "458it [31:15,  3.86s/it]"
     ]
    },
    {
     "name": "stdout",
     "output_type": "stream",
     "text": [
      "Iter 457; Losses: RPN loc 0.2662, RPN cls: 0.6712, ROI loc 60.5758, ROI cls 2.2382, Total:63.7514\n"
     ]
    },
    {
     "name": "stderr",
     "output_type": "stream",
     "text": [
      "\r",
      "459it [31:19,  3.95s/it]"
     ]
    },
    {
     "name": "stdout",
     "output_type": "stream",
     "text": [
      "Iter 458; Losses: RPN loc 0.0046, RPN cls: 0.4466, ROI loc 29.7791, ROI cls 2.1933, Total:32.4236\n"
     ]
    },
    {
     "name": "stderr",
     "output_type": "stream",
     "text": [
      "\r",
      "460it [31:23,  3.94s/it]"
     ]
    },
    {
     "name": "stdout",
     "output_type": "stream",
     "text": [
      "Iter 459; Losses: RPN loc 0.2498, RPN cls: 0.5953, ROI loc 54.3662, ROI cls 2.2583, Total:57.4697\n"
     ]
    },
    {
     "name": "stderr",
     "output_type": "stream",
     "text": [
      "\r",
      "461it [31:27,  3.97s/it]"
     ]
    },
    {
     "name": "stdout",
     "output_type": "stream",
     "text": [
      "Iter 460; Losses: RPN loc 0.8803, RPN cls: 1.0330, ROI loc 79.2980, ROI cls 2.3898, Total:83.6012\n"
     ]
    },
    {
     "name": "stderr",
     "output_type": "stream",
     "text": [
      "\r",
      "462it [31:31,  3.98s/it]"
     ]
    },
    {
     "name": "stdout",
     "output_type": "stream",
     "text": [
      "Iter 461; Losses: RPN loc 0.2752, RPN cls: 0.6140, ROI loc 57.6470, ROI cls 2.2941, Total:60.8303\n"
     ]
    },
    {
     "name": "stderr",
     "output_type": "stream",
     "text": [
      "\r",
      "463it [31:35,  3.93s/it]"
     ]
    },
    {
     "name": "stdout",
     "output_type": "stream",
     "text": [
      "Iter 462; Losses: RPN loc 0.0547, RPN cls: 0.5311, ROI loc 66.8088, ROI cls 2.2797, Total:69.6743\n"
     ]
    },
    {
     "name": "stderr",
     "output_type": "stream",
     "text": [
      "\r",
      "464it [31:39,  3.99s/it]"
     ]
    },
    {
     "name": "stdout",
     "output_type": "stream",
     "text": [
      "Iter 463; Losses: RPN loc 0.1417, RPN cls: 0.5722, ROI loc 31.7989, ROI cls 2.2156, Total:34.7284\n"
     ]
    },
    {
     "name": "stderr",
     "output_type": "stream",
     "text": [
      "\r",
      "465it [31:43,  3.92s/it]"
     ]
    },
    {
     "name": "stdout",
     "output_type": "stream",
     "text": [
      "Iter 464; Losses: RPN loc 0.4509, RPN cls: 0.7228, ROI loc 47.4968, ROI cls 2.2540, Total:50.9246\n"
     ]
    },
    {
     "name": "stderr",
     "output_type": "stream",
     "text": [
      "\r",
      "466it [31:47,  3.94s/it]"
     ]
    },
    {
     "name": "stdout",
     "output_type": "stream",
     "text": [
      "Iter 465; Losses: RPN loc 0.7026, RPN cls: 0.8128, ROI loc 80.6681, ROI cls 2.2853, Total:84.4688\n"
     ]
    },
    {
     "name": "stderr",
     "output_type": "stream",
     "text": [
      "\r",
      "467it [31:51,  3.97s/it]"
     ]
    },
    {
     "name": "stdout",
     "output_type": "stream",
     "text": [
      "Iter 466; Losses: RPN loc 1.2557, RPN cls: 0.7003, ROI loc 14.3818, ROI cls 2.1728, Total:18.5105\n"
     ]
    },
    {
     "name": "stderr",
     "output_type": "stream",
     "text": [
      "\r",
      "468it [31:55,  3.96s/it]"
     ]
    },
    {
     "name": "stdout",
     "output_type": "stream",
     "text": [
      "Iter 467; Losses: RPN loc 0.5938, RPN cls: 0.7704, ROI loc 64.8242, ROI cls 2.2595, Total:68.4478\n"
     ]
    },
    {
     "name": "stderr",
     "output_type": "stream",
     "text": [
      "\r",
      "469it [31:59,  4.00s/it]"
     ]
    },
    {
     "name": "stdout",
     "output_type": "stream",
     "text": [
      "Iter 468; Losses: RPN loc 0.9433, RPN cls: 1.0425, ROI loc 102.9497, ROI cls 2.3855, Total:107.3211\n"
     ]
    },
    {
     "name": "stderr",
     "output_type": "stream",
     "text": [
      "\r",
      "470it [32:03,  3.91s/it]"
     ]
    },
    {
     "name": "stdout",
     "output_type": "stream",
     "text": [
      "Iter 469; Losses: RPN loc 0.0391, RPN cls: 0.4457, ROI loc 4.5628, ROI cls 2.1327, Total:7.1803\n"
     ]
    },
    {
     "name": "stderr",
     "output_type": "stream",
     "text": [
      "\r",
      "471it [32:07,  3.93s/it]"
     ]
    },
    {
     "name": "stdout",
     "output_type": "stream",
     "text": [
      "Iter 470; Losses: RPN loc 0.7529, RPN cls: 0.7940, ROI loc 34.5756, ROI cls 2.2172, Total:38.3396\n"
     ]
    },
    {
     "name": "stderr",
     "output_type": "stream",
     "text": [
      "\r",
      "472it [32:11,  4.03s/it]"
     ]
    },
    {
     "name": "stdout",
     "output_type": "stream",
     "text": [
      "Iter 471; Losses: RPN loc 0.1681, RPN cls: 0.5631, ROI loc 53.3588, ROI cls 2.2432, Total:56.3332\n"
     ]
    },
    {
     "name": "stderr",
     "output_type": "stream",
     "text": [
      "\r",
      "473it [32:15,  4.01s/it]"
     ]
    },
    {
     "name": "stdout",
     "output_type": "stream",
     "text": [
      "Iter 472; Losses: RPN loc 0.1080, RPN cls: 0.5068, ROI loc 46.7420, ROI cls 2.2428, Total:49.5996\n"
     ]
    },
    {
     "name": "stderr",
     "output_type": "stream",
     "text": [
      "\r",
      "474it [32:19,  4.06s/it]"
     ]
    },
    {
     "name": "stdout",
     "output_type": "stream",
     "text": [
      "Iter 473; Losses: RPN loc 0.2062, RPN cls: 0.6264, ROI loc 77.9026, ROI cls 2.3128, Total:81.0480\n"
     ]
    },
    {
     "name": "stderr",
     "output_type": "stream",
     "text": [
      "\r",
      "475it [32:23,  4.09s/it]"
     ]
    },
    {
     "name": "stdout",
     "output_type": "stream",
     "text": [
      "Iter 474; Losses: RPN loc 0.1560, RPN cls: 0.6554, ROI loc 77.2256, ROI cls 2.2913, Total:80.3283\n"
     ]
    },
    {
     "name": "stderr",
     "output_type": "stream",
     "text": [
      "\r",
      "476it [32:27,  4.08s/it]"
     ]
    },
    {
     "name": "stdout",
     "output_type": "stream",
     "text": [
      "Iter 475; Losses: RPN loc 0.8383, RPN cls: 0.6587, ROI loc 16.5129, ROI cls 2.1763, Total:20.1861\n"
     ]
    },
    {
     "name": "stderr",
     "output_type": "stream",
     "text": [
      "\r",
      "477it [32:32,  4.13s/it]"
     ]
    },
    {
     "name": "stdout",
     "output_type": "stream",
     "text": [
      "Iter 476; Losses: RPN loc 0.0877, RPN cls: 0.5611, ROI loc 27.3256, ROI cls 2.2625, Total:30.2368\n"
     ]
    },
    {
     "name": "stderr",
     "output_type": "stream",
     "text": [
      "\r",
      "478it [32:36,  4.07s/it]"
     ]
    },
    {
     "name": "stdout",
     "output_type": "stream",
     "text": [
      "Iter 477; Losses: RPN loc 0.2353, RPN cls: 0.6575, ROI loc 40.4876, ROI cls 2.2439, Total:43.6243\n"
     ]
    },
    {
     "name": "stderr",
     "output_type": "stream",
     "text": [
      "\r",
      "479it [32:40,  4.07s/it]"
     ]
    },
    {
     "name": "stdout",
     "output_type": "stream",
     "text": [
      "Iter 478; Losses: RPN loc 0.3101, RPN cls: 0.6925, ROI loc 30.5967, ROI cls 2.2172, Total:33.8165\n"
     ]
    },
    {
     "name": "stderr",
     "output_type": "stream",
     "text": [
      "\r",
      "480it [32:44,  4.16s/it]"
     ]
    },
    {
     "name": "stdout",
     "output_type": "stream",
     "text": [
      "Iter 479; Losses: RPN loc 0.1313, RPN cls: 0.5963, ROI loc 85.7333, ROI cls 2.3445, Total:88.8054\n"
     ]
    },
    {
     "name": "stderr",
     "output_type": "stream",
     "text": [
      "\r",
      "481it [32:48,  4.04s/it]"
     ]
    },
    {
     "name": "stdout",
     "output_type": "stream",
     "text": [
      "Iter 480; Losses: RPN loc 0.4580, RPN cls: 0.7515, ROI loc 30.9538, ROI cls 2.2471, Total:34.4104\n"
     ]
    },
    {
     "name": "stderr",
     "output_type": "stream",
     "text": [
      "\r",
      "482it [32:52,  3.99s/it]"
     ]
    },
    {
     "name": "stdout",
     "output_type": "stream",
     "text": [
      "Iter 481; Losses: RPN loc 0.5567, RPN cls: 0.5682, ROI loc 7.4491, ROI cls 2.1406, Total:10.7146\n"
     ]
    },
    {
     "name": "stderr",
     "output_type": "stream",
     "text": [
      "\r",
      "483it [32:56,  4.09s/it]"
     ]
    },
    {
     "name": "stdout",
     "output_type": "stream",
     "text": [
      "Iter 482; Losses: RPN loc 0.7182, RPN cls: 0.7910, ROI loc 104.9294, ROI cls 2.4014, Total:108.8401\n"
     ]
    },
    {
     "name": "stderr",
     "output_type": "stream",
     "text": [
      "\r",
      "484it [33:00,  4.08s/it]"
     ]
    },
    {
     "name": "stdout",
     "output_type": "stream",
     "text": [
      "Iter 483; Losses: RPN loc 0.4116, RPN cls: 0.5832, ROI loc 15.3741, ROI cls 2.1493, Total:18.5180\n"
     ]
    },
    {
     "name": "stderr",
     "output_type": "stream",
     "text": [
      "\r",
      "485it [33:04,  4.09s/it]"
     ]
    },
    {
     "name": "stdout",
     "output_type": "stream",
     "text": [
      "Iter 484; Losses: RPN loc 0.2368, RPN cls: 0.6388, ROI loc 68.1565, ROI cls 2.3508, Total:71.3829\n"
     ]
    },
    {
     "name": "stderr",
     "output_type": "stream",
     "text": [
      "\r",
      "486it [33:08,  4.03s/it]"
     ]
    },
    {
     "name": "stdout",
     "output_type": "stream",
     "text": [
      "Iter 485; Losses: RPN loc 0.3042, RPN cls: 0.6026, ROI loc 29.7919, ROI cls 2.2294, Total:32.9282\n"
     ]
    },
    {
     "name": "stderr",
     "output_type": "stream",
     "text": [
      "\r",
      "487it [33:12,  4.06s/it]"
     ]
    },
    {
     "name": "stdout",
     "output_type": "stream",
     "text": [
      "Iter 486; Losses: RPN loc 0.3238, RPN cls: 0.5515, ROI loc 35.9029, ROI cls 2.1825, Total:38.9607\n"
     ]
    },
    {
     "name": "stderr",
     "output_type": "stream",
     "text": [
      "\r",
      "488it [33:16,  4.02s/it]"
     ]
    },
    {
     "name": "stdout",
     "output_type": "stream",
     "text": [
      "Iter 487; Losses: RPN loc 0.3087, RPN cls: 0.5007, ROI loc 10.3051, ROI cls 2.1409, Total:13.2553\n"
     ]
    },
    {
     "name": "stderr",
     "output_type": "stream",
     "text": [
      "\r",
      "489it [33:20,  4.03s/it]"
     ]
    },
    {
     "name": "stdout",
     "output_type": "stream",
     "text": [
      "Iter 488; Losses: RPN loc 0.3310, RPN cls: 0.7214, ROI loc 79.6802, ROI cls 2.2783, Total:83.0109\n"
     ]
    },
    {
     "name": "stderr",
     "output_type": "stream",
     "text": [
      "\r",
      "490it [33:24,  4.00s/it]"
     ]
    },
    {
     "name": "stdout",
     "output_type": "stream",
     "text": [
      "Iter 489; Losses: RPN loc 0.4334, RPN cls: 0.7435, ROI loc 45.9703, ROI cls 2.2021, Total:49.3492\n"
     ]
    },
    {
     "name": "stderr",
     "output_type": "stream",
     "text": [
      "\r",
      "491it [33:28,  4.06s/it]"
     ]
    },
    {
     "name": "stdout",
     "output_type": "stream",
     "text": [
      "Iter 490; Losses: RPN loc 0.4168, RPN cls: 0.7959, ROI loc 61.9333, ROI cls 2.2660, Total:65.4120\n"
     ]
    },
    {
     "name": "stderr",
     "output_type": "stream",
     "text": [
      "\r",
      "492it [33:32,  4.02s/it]"
     ]
    },
    {
     "name": "stdout",
     "output_type": "stream",
     "text": [
      "Iter 491; Losses: RPN loc 0.0367, RPN cls: 0.4959, ROI loc 31.9910, ROI cls 2.2382, Total:34.7618\n"
     ]
    },
    {
     "name": "stderr",
     "output_type": "stream",
     "text": [
      "\r",
      "493it [33:36,  4.03s/it]"
     ]
    },
    {
     "name": "stdout",
     "output_type": "stream",
     "text": [
      "Iter 492; Losses: RPN loc 0.3785, RPN cls: 0.5811, ROI loc 19.6164, ROI cls 2.1670, Total:22.7430\n"
     ]
    },
    {
     "name": "stderr",
     "output_type": "stream",
     "text": [
      "\r",
      "494it [33:40,  4.02s/it]"
     ]
    },
    {
     "name": "stdout",
     "output_type": "stream",
     "text": [
      "Iter 493; Losses: RPN loc 0.1948, RPN cls: 0.5335, ROI loc 17.4929, ROI cls 2.1589, Total:20.3802\n"
     ]
    },
    {
     "name": "stderr",
     "output_type": "stream",
     "text": [
      "\r",
      "495it [33:44,  4.02s/it]"
     ]
    },
    {
     "name": "stdout",
     "output_type": "stream",
     "text": [
      "Iter 494; Losses: RPN loc 0.1335, RPN cls: 0.5031, ROI loc 11.0337, ROI cls 2.1404, Total:13.8107\n"
     ]
    },
    {
     "name": "stderr",
     "output_type": "stream",
     "text": [
      "\r",
      "496it [33:48,  4.07s/it]"
     ]
    },
    {
     "name": "stdout",
     "output_type": "stream",
     "text": [
      "Iter 495; Losses: RPN loc 0.3343, RPN cls: 0.6052, ROI loc 108.9577, ROI cls 2.2439, Total:112.1410\n"
     ]
    },
    {
     "name": "stderr",
     "output_type": "stream",
     "text": [
      "\r",
      "497it [33:52,  4.00s/it]"
     ]
    },
    {
     "name": "stdout",
     "output_type": "stream",
     "text": [
      "Iter 496; Losses: RPN loc 1.0095, RPN cls: 0.6290, ROI loc 14.4142, ROI cls 2.1417, Total:18.1943\n"
     ]
    },
    {
     "name": "stderr",
     "output_type": "stream",
     "text": [
      "\r",
      "498it [33:56,  3.93s/it]"
     ]
    },
    {
     "name": "stdout",
     "output_type": "stream",
     "text": [
      "Iter 497; Losses: RPN loc 0.0397, RPN cls: 0.5124, ROI loc 71.7709, ROI cls 2.1952, Total:74.5183\n"
     ]
    },
    {
     "name": "stderr",
     "output_type": "stream",
     "text": [
      "\r",
      "499it [34:00,  3.92s/it]"
     ]
    },
    {
     "name": "stdout",
     "output_type": "stream",
     "text": [
      "Iter 498; Losses: RPN loc 0.2027, RPN cls: 0.5476, ROI loc 30.8535, ROI cls 2.1648, Total:33.7688\n"
     ]
    },
    {
     "name": "stderr",
     "output_type": "stream",
     "text": [
      "\r",
      "500it [34:04,  3.86s/it]"
     ]
    },
    {
     "name": "stdout",
     "output_type": "stream",
     "text": [
      "Iter 499; Losses: RPN loc 0.0953, RPN cls: 0.6128, ROI loc 73.9146, ROI cls 2.2323, Total:76.8549\n"
     ]
    },
    {
     "name": "stderr",
     "output_type": "stream",
     "text": [
      "\r",
      "501it [34:07,  3.86s/it]"
     ]
    },
    {
     "name": "stdout",
     "output_type": "stream",
     "text": [
      "Iter 500; Losses: RPN loc 0.0389, RPN cls: 0.4818, ROI loc 19.3573, ROI cls 2.1490, Total:22.0270\n"
     ]
    },
    {
     "name": "stderr",
     "output_type": "stream",
     "text": [
      "\r",
      "502it [34:11,  3.87s/it]"
     ]
    },
    {
     "name": "stdout",
     "output_type": "stream",
     "text": [
      "Iter 501; Losses: RPN loc 0.1872, RPN cls: 0.6630, ROI loc 53.0584, ROI cls 2.2516, Total:56.1603\n"
     ]
    },
    {
     "name": "stderr",
     "output_type": "stream",
     "text": [
      "\r",
      "503it [34:15,  3.87s/it]"
     ]
    },
    {
     "name": "stdout",
     "output_type": "stream",
     "text": [
      "Iter 502; Losses: RPN loc 0.0329, RPN cls: 0.6058, ROI loc 27.2061, ROI cls 2.2353, Total:30.0801\n"
     ]
    },
    {
     "name": "stderr",
     "output_type": "stream",
     "text": [
      "\r",
      "504it [34:19,  3.97s/it]"
     ]
    },
    {
     "name": "stdout",
     "output_type": "stream",
     "text": [
      "Iter 503; Losses: RPN loc 0.0564, RPN cls: 0.5530, ROI loc 39.9761, ROI cls 2.2660, Total:42.8516\n"
     ]
    },
    {
     "name": "stderr",
     "output_type": "stream",
     "text": [
      "\r",
      "505it [34:23,  3.99s/it]"
     ]
    },
    {
     "name": "stdout",
     "output_type": "stream",
     "text": [
      "Iter 504; Losses: RPN loc 0.6599, RPN cls: 0.8347, ROI loc 36.7242, ROI cls 2.2547, Total:40.4736\n"
     ]
    },
    {
     "name": "stderr",
     "output_type": "stream",
     "text": [
      "\r",
      "506it [34:28,  4.00s/it]"
     ]
    },
    {
     "name": "stdout",
     "output_type": "stream",
     "text": [
      "Iter 505; Losses: RPN loc 0.4736, RPN cls: 0.7851, ROI loc 84.2310, ROI cls 2.3898, Total:87.8796\n"
     ]
    },
    {
     "name": "stderr",
     "output_type": "stream",
     "text": [
      "\r",
      "507it [34:31,  3.96s/it]"
     ]
    },
    {
     "name": "stdout",
     "output_type": "stream",
     "text": [
      "Iter 506; Losses: RPN loc 0.0366, RPN cls: 0.5660, ROI loc 53.0249, ROI cls 2.3145, Total:55.9420\n"
     ]
    },
    {
     "name": "stderr",
     "output_type": "stream",
     "text": [
      "\r",
      "508it [34:35,  3.86s/it]"
     ]
    },
    {
     "name": "stdout",
     "output_type": "stream",
     "text": [
      "Iter 507; Losses: RPN loc 0.2238, RPN cls: 0.5941, ROI loc 17.8637, ROI cls 2.2713, Total:20.9529\n"
     ]
    },
    {
     "name": "stderr",
     "output_type": "stream",
     "text": [
      "\r",
      "509it [34:39,  3.86s/it]"
     ]
    },
    {
     "name": "stdout",
     "output_type": "stream",
     "text": [
      "Iter 508; Losses: RPN loc 0.3215, RPN cls: 0.6509, ROI loc 26.8733, ROI cls 2.2403, Total:30.0860\n"
     ]
    },
    {
     "name": "stderr",
     "output_type": "stream",
     "text": [
      "\r",
      "510it [34:43,  3.84s/it]"
     ]
    },
    {
     "name": "stdout",
     "output_type": "stream",
     "text": [
      "Iter 509; Losses: RPN loc 0.1244, RPN cls: 0.7124, ROI loc 20.7071, ROI cls 2.2257, Total:23.7696\n"
     ]
    },
    {
     "name": "stderr",
     "output_type": "stream",
     "text": [
      "\r",
      "511it [34:47,  3.86s/it]"
     ]
    },
    {
     "name": "stdout",
     "output_type": "stream",
     "text": [
      "Iter 510; Losses: RPN loc 0.1977, RPN cls: 0.7693, ROI loc 82.3844, ROI cls 2.3662, Total:85.7176\n"
     ]
    },
    {
     "name": "stderr",
     "output_type": "stream",
     "text": [
      "\r",
      "512it [34:51,  3.92s/it]"
     ]
    },
    {
     "name": "stdout",
     "output_type": "stream",
     "text": [
      "Iter 511; Losses: RPN loc 0.4267, RPN cls: 0.6745, ROI loc 38.7120, ROI cls 2.2333, Total:42.0465\n"
     ]
    },
    {
     "name": "stderr",
     "output_type": "stream",
     "text": [
      "\r",
      "513it [34:54,  3.82s/it]"
     ]
    },
    {
     "name": "stdout",
     "output_type": "stream",
     "text": [
      "Iter 512; Losses: RPN loc 0.3750, RPN cls: 0.6495, ROI loc 30.2851, ROI cls 2.2532, Total:33.5627\n"
     ]
    },
    {
     "name": "stderr",
     "output_type": "stream",
     "text": [
      "\r",
      "514it [34:58,  3.75s/it]"
     ]
    },
    {
     "name": "stdout",
     "output_type": "stream",
     "text": [
      "Iter 513; Losses: RPN loc 0.0168, RPN cls: 0.4665, ROI loc 10.5595, ROI cls 2.1515, Total:13.1944\n"
     ]
    },
    {
     "name": "stderr",
     "output_type": "stream",
     "text": [
      "\r",
      "515it [35:02,  3.82s/it]"
     ]
    },
    {
     "name": "stdout",
     "output_type": "stream",
     "text": [
      "Iter 514; Losses: RPN loc 0.4939, RPN cls: 0.8178, ROI loc 42.7769, ROI cls 2.2713, Total:46.3599\n"
     ]
    },
    {
     "name": "stderr",
     "output_type": "stream",
     "text": [
      "\r",
      "516it [35:06,  3.80s/it]"
     ]
    },
    {
     "name": "stdout",
     "output_type": "stream",
     "text": [
      "Iter 515; Losses: RPN loc 0.0870, RPN cls: 0.4640, ROI loc 5.8647, ROI cls 2.1325, Total:8.5482\n"
     ]
    },
    {
     "name": "stderr",
     "output_type": "stream",
     "text": [
      "\r",
      "517it [35:10,  3.89s/it]"
     ]
    },
    {
     "name": "stdout",
     "output_type": "stream",
     "text": [
      "Iter 516; Losses: RPN loc 0.3642, RPN cls: 0.6594, ROI loc 22.5901, ROI cls 2.1805, Total:25.7943\n"
     ]
    },
    {
     "name": "stderr",
     "output_type": "stream",
     "text": [
      "\r",
      "518it [35:14,  4.13s/it]"
     ]
    },
    {
     "name": "stdout",
     "output_type": "stream",
     "text": [
      "Iter 517; Losses: RPN loc 0.0343, RPN cls: 0.5744, ROI loc 36.0358, ROI cls 2.2516, Total:38.8961\n"
     ]
    },
    {
     "name": "stderr",
     "output_type": "stream",
     "text": [
      "\r",
      "519it [35:18,  4.00s/it]"
     ]
    },
    {
     "name": "stdout",
     "output_type": "stream",
     "text": [
      "Iter 518; Losses: RPN loc 0.3288, RPN cls: 0.6872, ROI loc 49.3892, ROI cls 2.2820, Total:52.6873\n"
     ]
    },
    {
     "name": "stderr",
     "output_type": "stream",
     "text": [
      "\r",
      "520it [35:22,  3.93s/it]"
     ]
    },
    {
     "name": "stdout",
     "output_type": "stream",
     "text": [
      "Iter 519; Losses: RPN loc 0.0272, RPN cls: 0.5603, ROI loc 27.4544, ROI cls 2.2269, Total:30.2688\n"
     ]
    },
    {
     "name": "stderr",
     "output_type": "stream",
     "text": [
      "\r",
      "521it [35:26,  3.89s/it]"
     ]
    },
    {
     "name": "stdout",
     "output_type": "stream",
     "text": [
      "Iter 520; Losses: RPN loc 0.0489, RPN cls: 0.5107, ROI loc 39.9135, ROI cls 2.2050, Total:42.6780\n"
     ]
    },
    {
     "name": "stderr",
     "output_type": "stream",
     "text": [
      "\r",
      "522it [35:30,  3.94s/it]"
     ]
    },
    {
     "name": "stdout",
     "output_type": "stream",
     "text": [
      "Iter 521; Losses: RPN loc 0.2906, RPN cls: 0.5409, ROI loc 27.2823, ROI cls 2.2156, Total:30.3294\n"
     ]
    },
    {
     "name": "stderr",
     "output_type": "stream",
     "text": [
      "\r",
      "523it [35:34,  3.96s/it]"
     ]
    },
    {
     "name": "stdout",
     "output_type": "stream",
     "text": [
      "Iter 522; Losses: RPN loc 0.1358, RPN cls: 0.4985, ROI loc 40.5137, ROI cls 2.2482, Total:43.3962\n"
     ]
    },
    {
     "name": "stderr",
     "output_type": "stream",
     "text": [
      "\r",
      "524it [35:38,  3.97s/it]"
     ]
    },
    {
     "name": "stdout",
     "output_type": "stream",
     "text": [
      "Iter 523; Losses: RPN loc 0.2965, RPN cls: 0.6261, ROI loc 50.9412, ROI cls 2.3214, Total:54.1852\n"
     ]
    },
    {
     "name": "stderr",
     "output_type": "stream",
     "text": [
      "\r",
      "525it [35:41,  3.90s/it]"
     ]
    },
    {
     "name": "stdout",
     "output_type": "stream",
     "text": [
      "Iter 524; Losses: RPN loc 0.4287, RPN cls: 0.4213, ROI loc 5.6807, ROI cls 2.1324, Total:8.6631\n"
     ]
    },
    {
     "name": "stderr",
     "output_type": "stream",
     "text": [
      "\r",
      "526it [35:45,  3.87s/it]"
     ]
    },
    {
     "name": "stdout",
     "output_type": "stream",
     "text": [
      "Iter 525; Losses: RPN loc 0.2392, RPN cls: 0.5320, ROI loc 18.0312, ROI cls 2.1695, Total:20.9719\n"
     ]
    },
    {
     "name": "stderr",
     "output_type": "stream",
     "text": [
      "\r",
      "527it [35:49,  3.98s/it]"
     ]
    },
    {
     "name": "stdout",
     "output_type": "stream",
     "text": [
      "Iter 526; Losses: RPN loc 0.3594, RPN cls: 0.6358, ROI loc 63.1192, ROI cls 2.2764, Total:66.3907\n"
     ]
    },
    {
     "name": "stderr",
     "output_type": "stream",
     "text": [
      "\r",
      "528it [35:54,  4.03s/it]"
     ]
    },
    {
     "name": "stdout",
     "output_type": "stream",
     "text": [
      "Iter 527; Losses: RPN loc 0.1436, RPN cls: 0.3815, ROI loc 17.4573, ROI cls 2.1753, Total:20.1578\n"
     ]
    },
    {
     "name": "stderr",
     "output_type": "stream",
     "text": [
      "\r",
      "529it [35:58,  4.10s/it]"
     ]
    },
    {
     "name": "stdout",
     "output_type": "stream",
     "text": [
      "Iter 528; Losses: RPN loc 0.6828, RPN cls: 0.7038, ROI loc 24.0490, ROI cls 2.2013, Total:27.6370\n"
     ]
    },
    {
     "name": "stderr",
     "output_type": "stream",
     "text": [
      "\r",
      "530it [36:02,  4.15s/it]"
     ]
    },
    {
     "name": "stdout",
     "output_type": "stream",
     "text": [
      "Iter 529; Losses: RPN loc 0.4952, RPN cls: 0.6628, ROI loc 51.0453, ROI cls 2.2560, Total:54.4593\n"
     ]
    },
    {
     "name": "stderr",
     "output_type": "stream",
     "text": [
      "\r",
      "531it [36:06,  4.16s/it]"
     ]
    },
    {
     "name": "stdout",
     "output_type": "stream",
     "text": [
      "Iter 530; Losses: RPN loc 0.3691, RPN cls: 0.7370, ROI loc 69.0703, ROI cls 2.3417, Total:72.5181\n"
     ]
    },
    {
     "name": "stderr",
     "output_type": "stream",
     "text": [
      "\r",
      "532it [36:10,  4.07s/it]"
     ]
    },
    {
     "name": "stdout",
     "output_type": "stream",
     "text": [
      "Iter 531; Losses: RPN loc 0.0397, RPN cls: 0.5294, ROI loc 19.6671, ROI cls 2.3118, Total:22.5480\n"
     ]
    },
    {
     "name": "stderr",
     "output_type": "stream",
     "text": [
      "\r",
      "533it [36:13,  3.84s/it]"
     ]
    },
    {
     "name": "stdout",
     "output_type": "stream",
     "text": [
      "Iter 532; Losses: RPN loc 0.5400, RPN cls: 0.5729, ROI loc 13.3329, ROI cls 2.1428, Total:16.5885\n"
     ]
    },
    {
     "name": "stderr",
     "output_type": "stream",
     "text": [
      "\r",
      "534it [36:17,  3.84s/it]"
     ]
    },
    {
     "name": "stdout",
     "output_type": "stream",
     "text": [
      "Iter 533; Losses: RPN loc 0.0688, RPN cls: 0.4777, ROI loc 20.9330, ROI cls 2.1952, Total:23.6747\n"
     ]
    },
    {
     "name": "stderr",
     "output_type": "stream",
     "text": [
      "\r",
      "535it [36:21,  3.80s/it]"
     ]
    },
    {
     "name": "stdout",
     "output_type": "stream",
     "text": [
      "Iter 534; Losses: RPN loc 0.1769, RPN cls: 0.5404, ROI loc 69.2706, ROI cls 2.2482, Total:72.2360\n"
     ]
    },
    {
     "name": "stderr",
     "output_type": "stream",
     "text": [
      "\r",
      "536it [36:25,  3.84s/it]"
     ]
    },
    {
     "name": "stdout",
     "output_type": "stream",
     "text": [
      "Iter 535; Losses: RPN loc 0.2179, RPN cls: 0.6116, ROI loc 56.6956, ROI cls 2.2608, Total:59.7859\n"
     ]
    },
    {
     "name": "stderr",
     "output_type": "stream",
     "text": [
      "\r",
      "537it [36:29,  3.91s/it]"
     ]
    },
    {
     "name": "stdout",
     "output_type": "stream",
     "text": [
      "Iter 536; Losses: RPN loc 0.0495, RPN cls: 0.5155, ROI loc 28.0751, ROI cls 2.1874, Total:30.8275\n"
     ]
    },
    {
     "name": "stderr",
     "output_type": "stream",
     "text": [
      "\r",
      "538it [36:32,  3.77s/it]"
     ]
    },
    {
     "name": "stdout",
     "output_type": "stream",
     "text": [
      "Iter 537; Losses: RPN loc 1.0479, RPN cls: 0.6175, ROI loc 20.8554, ROI cls 2.1424, Total:24.6632\n"
     ]
    },
    {
     "name": "stderr",
     "output_type": "stream",
     "text": [
      "\r",
      "539it [36:36,  3.82s/it]"
     ]
    },
    {
     "name": "stdout",
     "output_type": "stream",
     "text": [
      "Iter 538; Losses: RPN loc 0.4301, RPN cls: 0.8570, ROI loc 90.0854, ROI cls 2.3776, Total:93.7501\n"
     ]
    },
    {
     "name": "stderr",
     "output_type": "stream",
     "text": [
      "\r",
      "540it [36:40,  3.78s/it]"
     ]
    },
    {
     "name": "stdout",
     "output_type": "stream",
     "text": [
      "Iter 539; Losses: RPN loc 0.1123, RPN cls: 0.5409, ROI loc 37.1747, ROI cls 2.2591, Total:40.0870\n"
     ]
    },
    {
     "name": "stderr",
     "output_type": "stream",
     "text": [
      "\r",
      "541it [36:44,  3.85s/it]"
     ]
    },
    {
     "name": "stdout",
     "output_type": "stream",
     "text": [
      "Iter 540; Losses: RPN loc 0.5480, RPN cls: 0.7240, ROI loc 42.0014, ROI cls 2.2133, Total:45.4866\n"
     ]
    },
    {
     "name": "stderr",
     "output_type": "stream",
     "text": [
      "\r",
      "542it [36:48,  3.85s/it]"
     ]
    },
    {
     "name": "stdout",
     "output_type": "stream",
     "text": [
      "Iter 541; Losses: RPN loc 0.3397, RPN cls: 0.7257, ROI loc 128.4906, ROI cls 2.3067, Total:131.8626\n"
     ]
    },
    {
     "name": "stderr",
     "output_type": "stream",
     "text": [
      "\r",
      "543it [36:52,  3.93s/it]"
     ]
    },
    {
     "name": "stdout",
     "output_type": "stream",
     "text": [
      "Iter 542; Losses: RPN loc 0.5068, RPN cls: 0.7880, ROI loc 86.8842, ROI cls 2.2571, Total:90.4361\n"
     ]
    },
    {
     "name": "stderr",
     "output_type": "stream",
     "text": [
      "\r",
      "544it [36:56,  3.94s/it]"
     ]
    },
    {
     "name": "stdout",
     "output_type": "stream",
     "text": [
      "Iter 543; Losses: RPN loc 0.3438, RPN cls: 0.5379, ROI loc 69.2176, ROI cls 2.2166, Total:72.3159\n"
     ]
    },
    {
     "name": "stderr",
     "output_type": "stream",
     "text": [
      "\r",
      "545it [37:00,  3.89s/it]"
     ]
    },
    {
     "name": "stdout",
     "output_type": "stream",
     "text": [
      "Iter 544; Losses: RPN loc 0.2484, RPN cls: 0.4672, ROI loc 7.5382, ROI cls 2.1426, Total:10.3963\n"
     ]
    },
    {
     "name": "stderr",
     "output_type": "stream",
     "text": [
      "\r",
      "546it [37:04,  3.88s/it]"
     ]
    },
    {
     "name": "stdout",
     "output_type": "stream",
     "text": [
      "Iter 545; Losses: RPN loc 0.2583, RPN cls: 0.4931, ROI loc 4.8975, ROI cls 2.1323, Total:7.7812\n"
     ]
    },
    {
     "name": "stderr",
     "output_type": "stream",
     "text": [
      "\r",
      "547it [37:08,  3.90s/it]"
     ]
    },
    {
     "name": "stdout",
     "output_type": "stream",
     "text": [
      "Iter 546; Losses: RPN loc 0.0358, RPN cls: 0.4860, ROI loc 22.4441, ROI cls 2.1921, Total:25.1581\n"
     ]
    },
    {
     "name": "stderr",
     "output_type": "stream",
     "text": [
      "\r",
      "548it [37:12,  3.93s/it]"
     ]
    },
    {
     "name": "stdout",
     "output_type": "stream",
     "text": [
      "Iter 547; Losses: RPN loc 0.2738, RPN cls: 0.5647, ROI loc 11.1554, ROI cls 2.1589, Total:14.1528\n"
     ]
    },
    {
     "name": "stderr",
     "output_type": "stream",
     "text": [
      "\r",
      "549it [37:16,  3.99s/it]"
     ]
    },
    {
     "name": "stdout",
     "output_type": "stream",
     "text": [
      "Iter 548; Losses: RPN loc 0.4429, RPN cls: 0.8559, ROI loc 59.1631, ROI cls 2.2648, Total:62.7267\n"
     ]
    },
    {
     "name": "stderr",
     "output_type": "stream",
     "text": [
      "\r",
      "550it [37:19,  3.92s/it]"
     ]
    },
    {
     "name": "stdout",
     "output_type": "stream",
     "text": [
      "Iter 549; Losses: RPN loc 0.0171, RPN cls: 0.4450, ROI loc 29.7027, ROI cls 2.2125, Total:32.3773\n"
     ]
    },
    {
     "name": "stderr",
     "output_type": "stream",
     "text": [
      "\r",
      "551it [37:23,  3.91s/it]"
     ]
    },
    {
     "name": "stdout",
     "output_type": "stream",
     "text": [
      "Iter 550; Losses: RPN loc 0.2548, RPN cls: 0.7021, ROI loc 23.5322, ROI cls 2.2362, Total:26.7253\n"
     ]
    },
    {
     "name": "stderr",
     "output_type": "stream",
     "text": [
      "\r",
      "552it [37:27,  3.94s/it]"
     ]
    },
    {
     "name": "stdout",
     "output_type": "stream",
     "text": [
      "Iter 551; Losses: RPN loc 0.2190, RPN cls: 0.6719, ROI loc 66.1653, ROI cls 2.3164, Total:69.3727\n"
     ]
    },
    {
     "name": "stderr",
     "output_type": "stream",
     "text": [
      "\r",
      "553it [37:31,  3.88s/it]"
     ]
    },
    {
     "name": "stdout",
     "output_type": "stream",
     "text": [
      "Iter 552; Losses: RPN loc 0.5242, RPN cls: 0.5655, ROI loc 9.7377, ROI cls 2.1583, Total:12.9856\n"
     ]
    },
    {
     "name": "stderr",
     "output_type": "stream",
     "text": [
      "\r",
      "554it [37:35,  3.91s/it]"
     ]
    },
    {
     "name": "stdout",
     "output_type": "stream",
     "text": [
      "Iter 553; Losses: RPN loc 0.0455, RPN cls: 0.5973, ROI loc 18.7794, ROI cls 2.2232, Total:21.6454\n"
     ]
    },
    {
     "name": "stderr",
     "output_type": "stream",
     "text": [
      "\r",
      "555it [37:39,  3.97s/it]"
     ]
    },
    {
     "name": "stdout",
     "output_type": "stream",
     "text": [
      "Iter 554; Losses: RPN loc 0.1450, RPN cls: 0.4756, ROI loc 6.7110, ROI cls 2.1317, Total:9.4633\n"
     ]
    },
    {
     "name": "stderr",
     "output_type": "stream",
     "text": [
      "\r",
      "556it [37:43,  3.97s/it]"
     ]
    },
    {
     "name": "stdout",
     "output_type": "stream",
     "text": [
      "Iter 555; Losses: RPN loc 0.0635, RPN cls: 0.4442, ROI loc 5.2688, ROI cls 2.1320, Total:7.9085\n"
     ]
    },
    {
     "name": "stderr",
     "output_type": "stream",
     "text": [
      "\r",
      "557it [37:47,  3.94s/it]"
     ]
    },
    {
     "name": "stdout",
     "output_type": "stream",
     "text": [
      "Iter 556; Losses: RPN loc 0.1886, RPN cls: 0.7228, ROI loc 19.9994, ROI cls 2.2303, Total:23.1411\n"
     ]
    },
    {
     "name": "stderr",
     "output_type": "stream",
     "text": [
      "\r",
      "558it [37:51,  3.90s/it]"
     ]
    },
    {
     "name": "stdout",
     "output_type": "stream",
     "text": [
      "Iter 557; Losses: RPN loc 0.0176, RPN cls: 0.4662, ROI loc 12.4440, ROI cls 2.2043, Total:15.1321\n"
     ]
    },
    {
     "name": "stderr",
     "output_type": "stream",
     "text": [
      "\r",
      "559it [37:55,  3.87s/it]"
     ]
    },
    {
     "name": "stdout",
     "output_type": "stream",
     "text": [
      "Iter 558; Losses: RPN loc 0.5662, RPN cls: 0.7189, ROI loc 44.8354, ROI cls 2.2685, Total:48.3890\n"
     ]
    },
    {
     "name": "stderr",
     "output_type": "stream",
     "text": [
      "\r",
      "560it [37:59,  3.94s/it]"
     ]
    },
    {
     "name": "stdout",
     "output_type": "stream",
     "text": [
      "Iter 559; Losses: RPN loc 0.3350, RPN cls: 0.6877, ROI loc 36.3439, ROI cls 2.2257, Total:39.5924\n"
     ]
    },
    {
     "name": "stderr",
     "output_type": "stream",
     "text": [
      "\r",
      "561it [38:03,  3.98s/it]"
     ]
    },
    {
     "name": "stdout",
     "output_type": "stream",
     "text": [
      "Iter 560; Losses: RPN loc 0.5763, RPN cls: 0.5844, ROI loc 6.4125, ROI cls 2.1406, Total:9.7137\n"
     ]
    },
    {
     "name": "stderr",
     "output_type": "stream",
     "text": [
      "\r",
      "562it [38:07,  4.02s/it]"
     ]
    },
    {
     "name": "stdout",
     "output_type": "stream",
     "text": [
      "Iter 561; Losses: RPN loc 0.1452, RPN cls: 0.4709, ROI loc 2.7154, ROI cls 2.1322, Total:5.4636\n"
     ]
    },
    {
     "name": "stderr",
     "output_type": "stream",
     "text": [
      "\r",
      "563it [38:11,  4.03s/it]"
     ]
    },
    {
     "name": "stdout",
     "output_type": "stream",
     "text": [
      "Iter 562; Losses: RPN loc 0.0772, RPN cls: 0.4855, ROI loc 44.0454, ROI cls 2.2595, Total:46.8677\n"
     ]
    },
    {
     "name": "stderr",
     "output_type": "stream",
     "text": [
      "\r",
      "564it [38:15,  3.99s/it]"
     ]
    },
    {
     "name": "stdout",
     "output_type": "stream",
     "text": [
      "Iter 563; Losses: RPN loc 0.0170, RPN cls: 0.4791, ROI loc 45.0829, ROI cls 2.2621, Total:47.8410\n"
     ]
    },
    {
     "name": "stderr",
     "output_type": "stream",
     "text": [
      "\r",
      "565it [38:19,  4.06s/it]"
     ]
    },
    {
     "name": "stdout",
     "output_type": "stream",
     "text": [
      "Iter 564; Losses: RPN loc 0.0591, RPN cls: 0.4553, ROI loc 1.0862, ROI cls 2.1319, Total:3.7325\n"
     ]
    },
    {
     "name": "stderr",
     "output_type": "stream",
     "text": [
      "\r",
      "566it [38:23,  4.01s/it]"
     ]
    },
    {
     "name": "stdout",
     "output_type": "stream",
     "text": [
      "Iter 565; Losses: RPN loc 0.1976, RPN cls: 0.6431, ROI loc 6.6193, ROI cls 2.2175, Total:9.6775\n"
     ]
    },
    {
     "name": "stderr",
     "output_type": "stream",
     "text": [
      "\r",
      "567it [38:27,  3.93s/it]"
     ]
    },
    {
     "name": "stdout",
     "output_type": "stream",
     "text": [
      "Iter 566; Losses: RPN loc 0.2281, RPN cls: 0.6934, ROI loc 30.2636, ROI cls 2.2117, Total:33.3968\n"
     ]
    },
    {
     "name": "stderr",
     "output_type": "stream",
     "text": [
      "\r",
      "568it [38:31,  3.99s/it]"
     ]
    },
    {
     "name": "stdout",
     "output_type": "stream",
     "text": [
      "Iter 567; Losses: RPN loc 0.6361, RPN cls: 0.7444, ROI loc 40.2066, ROI cls 2.2565, Total:43.8435\n"
     ]
    },
    {
     "name": "stderr",
     "output_type": "stream",
     "text": [
      "\r",
      "569it [38:35,  4.10s/it]"
     ]
    },
    {
     "name": "stdout",
     "output_type": "stream",
     "text": [
      "Iter 568; Losses: RPN loc 0.0060, RPN cls: 0.4488, ROI loc 27.0816, ROI cls 2.2232, Total:29.7596\n"
     ]
    },
    {
     "name": "stderr",
     "output_type": "stream",
     "text": [
      "\r",
      "570it [38:39,  4.13s/it]"
     ]
    },
    {
     "name": "stdout",
     "output_type": "stream",
     "text": [
      "Iter 569; Losses: RPN loc 0.3330, RPN cls: 0.6872, ROI loc 30.0103, ROI cls 2.3035, Total:33.3340\n"
     ]
    },
    {
     "name": "stderr",
     "output_type": "stream",
     "text": [
      "\r",
      "571it [38:44,  4.14s/it]"
     ]
    },
    {
     "name": "stdout",
     "output_type": "stream",
     "text": [
      "Iter 570; Losses: RPN loc 0.2986, RPN cls: 0.7512, ROI loc 6.1644, ROI cls 2.2408, Total:9.4550\n"
     ]
    },
    {
     "name": "stderr",
     "output_type": "stream",
     "text": [
      "\r",
      "572it [38:48,  4.11s/it]"
     ]
    },
    {
     "name": "stdout",
     "output_type": "stream",
     "text": [
      "Iter 571; Losses: RPN loc 0.9478, RPN cls: 0.9054, ROI loc 22.3966, ROI cls 2.2001, Total:26.4499\n"
     ]
    },
    {
     "name": "stderr",
     "output_type": "stream",
     "text": [
      "\r",
      "573it [38:52,  4.06s/it]"
     ]
    },
    {
     "name": "stdout",
     "output_type": "stream",
     "text": [
      "Iter 572; Losses: RPN loc 0.0051, RPN cls: 0.4018, ROI loc 17.1869, ROI cls 2.1830, Total:19.7768\n"
     ]
    },
    {
     "name": "stderr",
     "output_type": "stream",
     "text": [
      "\r",
      "574it [38:55,  4.01s/it]"
     ]
    },
    {
     "name": "stdout",
     "output_type": "stream",
     "text": [
      "Iter 573; Losses: RPN loc 0.3263, RPN cls: 0.6760, ROI loc 23.2082, ROI cls 2.2294, Total:26.4398\n"
     ]
    },
    {
     "name": "stderr",
     "output_type": "stream",
     "text": [
      "\r",
      "575it [39:00,  4.02s/it]"
     ]
    },
    {
     "name": "stdout",
     "output_type": "stream",
     "text": [
      "Iter 574; Losses: RPN loc 0.3924, RPN cls: 0.7470, ROI loc 99.2961, ROI cls 2.3876, Total:102.8231\n"
     ]
    },
    {
     "name": "stderr",
     "output_type": "stream",
     "text": [
      "\r",
      "576it [39:03,  3.97s/it]"
     ]
    },
    {
     "name": "stdout",
     "output_type": "stream",
     "text": [
      "Iter 575; Losses: RPN loc 0.3703, RPN cls: 0.6789, ROI loc 40.0545, ROI cls 2.2736, Total:43.3773\n"
     ]
    },
    {
     "name": "stderr",
     "output_type": "stream",
     "text": [
      "\r",
      "577it [39:07,  3.95s/it]"
     ]
    },
    {
     "name": "stdout",
     "output_type": "stream",
     "text": [
      "Iter 576; Losses: RPN loc 0.3477, RPN cls: 0.6107, ROI loc 24.5245, ROI cls 2.1910, Total:27.6739\n"
     ]
    },
    {
     "name": "stderr",
     "output_type": "stream",
     "text": [
      "\r",
      "578it [39:11,  3.97s/it]"
     ]
    },
    {
     "name": "stdout",
     "output_type": "stream",
     "text": [
      "Iter 577; Losses: RPN loc 0.6234, RPN cls: 0.6540, ROI loc 38.3255, ROI cls 2.2398, Total:41.8427\n"
     ]
    },
    {
     "name": "stderr",
     "output_type": "stream",
     "text": [
      "\r",
      "579it [39:16,  4.05s/it]"
     ]
    },
    {
     "name": "stdout",
     "output_type": "stream",
     "text": [
      "Iter 578; Losses: RPN loc 0.8296, RPN cls: 0.8921, ROI loc 54.4371, ROI cls 2.2716, Total:58.4304\n"
     ]
    },
    {
     "name": "stderr",
     "output_type": "stream",
     "text": [
      "\r",
      "580it [39:20,  4.06s/it]"
     ]
    },
    {
     "name": "stdout",
     "output_type": "stream",
     "text": [
      "Iter 579; Losses: RPN loc 0.4999, RPN cls: 0.6328, ROI loc 52.1855, ROI cls 2.2398, Total:55.5581\n"
     ]
    },
    {
     "name": "stderr",
     "output_type": "stream",
     "text": [
      "\r",
      "581it [39:24,  4.02s/it]"
     ]
    },
    {
     "name": "stdout",
     "output_type": "stream",
     "text": [
      "Iter 580; Losses: RPN loc 0.3745, RPN cls: 0.5871, ROI loc 17.6636, ROI cls 2.1921, Total:20.8173\n"
     ]
    },
    {
     "name": "stderr",
     "output_type": "stream",
     "text": [
      "\r",
      "582it [39:27,  4.00s/it]"
     ]
    },
    {
     "name": "stdout",
     "output_type": "stream",
     "text": [
      "Iter 581; Losses: RPN loc 0.0870, RPN cls: 0.4826, ROI loc 29.2769, ROI cls 2.2180, Total:32.0644\n"
     ]
    },
    {
     "name": "stderr",
     "output_type": "stream",
     "text": [
      "\r",
      "583it [39:31,  3.93s/it]"
     ]
    },
    {
     "name": "stdout",
     "output_type": "stream",
     "text": [
      "Iter 582; Losses: RPN loc 0.0582, RPN cls: 0.4628, ROI loc 2.4968, ROI cls 2.1327, Total:5.1505\n"
     ]
    },
    {
     "name": "stderr",
     "output_type": "stream",
     "text": [
      "\r",
      "584it [39:35,  3.95s/it]"
     ]
    },
    {
     "name": "stdout",
     "output_type": "stream",
     "text": [
      "Iter 583; Losses: RPN loc 0.1172, RPN cls: 0.5750, ROI loc 24.0804, ROI cls 2.2514, Total:27.0239\n"
     ]
    },
    {
     "name": "stderr",
     "output_type": "stream",
     "text": [
      "\r",
      "585it [39:39,  3.91s/it]"
     ]
    },
    {
     "name": "stdout",
     "output_type": "stream",
     "text": [
      "Iter 584; Losses: RPN loc 0.2572, RPN cls: 0.7218, ROI loc 34.4211, ROI cls 2.2333, Total:37.6334\n"
     ]
    },
    {
     "name": "stderr",
     "output_type": "stream",
     "text": [
      "\r",
      "586it [39:43,  3.89s/it]"
     ]
    },
    {
     "name": "stdout",
     "output_type": "stream",
     "text": [
      "Iter 585; Losses: RPN loc 0.7449, RPN cls: 0.8575, ROI loc 38.0600, ROI cls 2.2806, Total:41.9429\n"
     ]
    },
    {
     "name": "stderr",
     "output_type": "stream",
     "text": [
      "\r",
      "587it [39:47,  3.94s/it]"
     ]
    },
    {
     "name": "stdout",
     "output_type": "stream",
     "text": [
      "Iter 586; Losses: RPN loc 0.0173, RPN cls: 0.4277, ROI loc 19.7644, ROI cls 2.2257, Total:22.4351\n"
     ]
    },
    {
     "name": "stderr",
     "output_type": "stream",
     "text": [
      "\r",
      "588it [39:51,  4.01s/it]"
     ]
    },
    {
     "name": "stdout",
     "output_type": "stream",
     "text": [
      "Iter 587; Losses: RPN loc 0.2675, RPN cls: 0.6007, ROI loc 63.9244, ROI cls 2.3774, Total:67.1700\n"
     ]
    },
    {
     "name": "stderr",
     "output_type": "stream",
     "text": [
      "\r",
      "589it [39:55,  3.98s/it]"
     ]
    },
    {
     "name": "stdout",
     "output_type": "stream",
     "text": [
      "Iter 588; Losses: RPN loc 0.2417, RPN cls: 0.7195, ROI loc 36.0100, ROI cls 2.2825, Total:39.2537\n"
     ]
    },
    {
     "name": "stderr",
     "output_type": "stream",
     "text": [
      "\r",
      "590it [39:59,  3.99s/it]"
     ]
    },
    {
     "name": "stdout",
     "output_type": "stream",
     "text": [
      "Iter 589; Losses: RPN loc 0.2051, RPN cls: 0.4655, ROI loc 6.7290, ROI cls 2.1319, Total:9.5314\n"
     ]
    },
    {
     "name": "stderr",
     "output_type": "stream",
     "text": [
      "\r",
      "591it [40:03,  3.96s/it]"
     ]
    },
    {
     "name": "stdout",
     "output_type": "stream",
     "text": [
      "Iter 590; Losses: RPN loc 0.0822, RPN cls: 0.4525, ROI loc 3.4380, ROI cls 2.1321, Total:6.1048\n"
     ]
    },
    {
     "name": "stderr",
     "output_type": "stream",
     "text": [
      "\r",
      "592it [40:07,  3.91s/it]"
     ]
    },
    {
     "name": "stdout",
     "output_type": "stream",
     "text": [
      "Iter 591; Losses: RPN loc 0.0973, RPN cls: 0.4900, ROI loc 31.8031, ROI cls 2.2323, Total:34.6226\n"
     ]
    },
    {
     "name": "stderr",
     "output_type": "stream",
     "text": [
      "\r",
      "593it [40:11,  3.93s/it]"
     ]
    },
    {
     "name": "stdout",
     "output_type": "stream",
     "text": [
      "Iter 592; Losses: RPN loc 0.3935, RPN cls: 0.5885, ROI loc 21.2815, ROI cls 2.1686, Total:24.4321\n"
     ]
    },
    {
     "name": "stderr",
     "output_type": "stream",
     "text": [
      "\r",
      "594it [40:15,  3.94s/it]"
     ]
    },
    {
     "name": "stdout",
     "output_type": "stream",
     "text": [
      "Iter 593; Losses: RPN loc 0.1726, RPN cls: 0.6439, ROI loc 69.0767, ROI cls 2.2868, Total:72.1800\n"
     ]
    },
    {
     "name": "stderr",
     "output_type": "stream",
     "text": [
      "\r",
      "595it [40:18,  3.85s/it]"
     ]
    },
    {
     "name": "stdout",
     "output_type": "stream",
     "text": [
      "Iter 594; Losses: RPN loc 0.2159, RPN cls: 0.7131, ROI loc 26.4457, ROI cls 2.2184, Total:29.5931\n"
     ]
    },
    {
     "name": "stderr",
     "output_type": "stream",
     "text": [
      "\r",
      "596it [40:22,  3.83s/it]"
     ]
    },
    {
     "name": "stdout",
     "output_type": "stream",
     "text": [
      "Iter 595; Losses: RPN loc 0.3129, RPN cls: 0.7787, ROI loc 14.0990, ROI cls 2.2149, Total:17.4056\n"
     ]
    },
    {
     "name": "stderr",
     "output_type": "stream",
     "text": [
      "\r",
      "597it [40:26,  3.81s/it]"
     ]
    },
    {
     "name": "stdout",
     "output_type": "stream",
     "text": [
      "Iter 596; Losses: RPN loc 0.0945, RPN cls: 0.4634, ROI loc 8.1027, ROI cls 2.1415, Total:10.8021\n"
     ]
    },
    {
     "name": "stderr",
     "output_type": "stream",
     "text": [
      "\r",
      "598it [40:30,  3.90s/it]"
     ]
    },
    {
     "name": "stdout",
     "output_type": "stream",
     "text": [
      "Iter 597; Losses: RPN loc 0.6389, RPN cls: 0.8611, ROI loc 46.0549, ROI cls 2.2493, Total:49.8042\n"
     ]
    },
    {
     "name": "stderr",
     "output_type": "stream",
     "text": [
      "\r",
      "599it [40:34,  3.89s/it]"
     ]
    },
    {
     "name": "stdout",
     "output_type": "stream",
     "text": [
      "Iter 598; Losses: RPN loc 0.3176, RPN cls: 0.6568, ROI loc 35.9359, ROI cls 2.2250, Total:39.1354\n"
     ]
    },
    {
     "name": "stderr",
     "output_type": "stream",
     "text": [
      "\r",
      "600it [40:38,  4.05s/it]"
     ]
    },
    {
     "name": "stdout",
     "output_type": "stream",
     "text": [
      "Iter 599; Losses: RPN loc 0.0038, RPN cls: 0.5062, ROI loc 28.3529, ROI cls 2.2184, Total:31.0813\n"
     ]
    },
    {
     "name": "stderr",
     "output_type": "stream",
     "text": [
      "\r",
      "601it [40:44,  4.68s/it]"
     ]
    },
    {
     "name": "stdout",
     "output_type": "stream",
     "text": [
      "Iter 600; Losses: RPN loc 0.0947, RPN cls: 0.5500, ROI loc 41.0206, ROI cls 2.2608, Total:43.9261\n"
     ]
    },
    {
     "name": "stderr",
     "output_type": "stream",
     "text": [
      "\r",
      "602it [40:51,  5.21s/it]"
     ]
    },
    {
     "name": "stdout",
     "output_type": "stream",
     "text": [
      "Iter 601; Losses: RPN loc 0.2581, RPN cls: 0.6963, ROI loc 11.7817, ROI cls 2.2223, Total:14.9584\n"
     ]
    },
    {
     "name": "stderr",
     "output_type": "stream",
     "text": [
      "\r",
      "603it [40:57,  5.54s/it]"
     ]
    },
    {
     "name": "stdout",
     "output_type": "stream",
     "text": [
      "Iter 602; Losses: RPN loc 0.3043, RPN cls: 0.6156, ROI loc 23.1637, ROI cls 2.2685, Total:26.3521\n"
     ]
    },
    {
     "name": "stderr",
     "output_type": "stream",
     "text": [
      "\r",
      "604it [41:04,  5.97s/it]"
     ]
    },
    {
     "name": "stdout",
     "output_type": "stream",
     "text": [
      "Iter 603; Losses: RPN loc 0.0585, RPN cls: 0.4581, ROI loc 3.3019, ROI cls 2.1322, Total:5.9508\n"
     ]
    },
    {
     "name": "stderr",
     "output_type": "stream",
     "text": [
      "\r",
      "605it [41:11,  6.10s/it]"
     ]
    },
    {
     "name": "stdout",
     "output_type": "stream",
     "text": [
      "Iter 604; Losses: RPN loc 0.4165, RPN cls: 0.7385, ROI loc 78.2593, ROI cls 2.3337, Total:81.7480\n"
     ]
    },
    {
     "name": "stderr",
     "output_type": "stream",
     "text": [
      "\r",
      "606it [41:18,  6.55s/it]"
     ]
    },
    {
     "name": "stdout",
     "output_type": "stream",
     "text": [
      "Iter 605; Losses: RPN loc 0.4286, RPN cls: 0.8761, ROI loc 44.0321, ROI cls 2.2763, Total:47.6132\n"
     ]
    },
    {
     "name": "stderr",
     "output_type": "stream",
     "text": [
      "\r",
      "607it [41:25,  6.55s/it]"
     ]
    },
    {
     "name": "stdout",
     "output_type": "stream",
     "text": [
      "Iter 606; Losses: RPN loc 0.0525, RPN cls: 0.4811, ROI loc 4.4596, ROI cls 2.1420, Total:7.1352\n"
     ]
    },
    {
     "name": "stderr",
     "output_type": "stream",
     "text": [
      "\r",
      "608it [41:30,  6.11s/it]"
     ]
    },
    {
     "name": "stdout",
     "output_type": "stream",
     "text": [
      "Iter 607; Losses: RPN loc 0.1057, RPN cls: 0.5019, ROI loc 65.5285, ROI cls 2.3101, Total:68.4462\n"
     ]
    },
    {
     "name": "stderr",
     "output_type": "stream",
     "text": [
      "\r",
      "609it [41:34,  5.40s/it]"
     ]
    },
    {
     "name": "stdout",
     "output_type": "stream",
     "text": [
      "Iter 608; Losses: RPN loc 0.7176, RPN cls: 0.5951, ROI loc 30.6774, ROI cls 2.1868, Total:34.1769\n"
     ]
    },
    {
     "name": "stderr",
     "output_type": "stream",
     "text": [
      "\r",
      "610it [41:37,  4.89s/it]"
     ]
    },
    {
     "name": "stdout",
     "output_type": "stream",
     "text": [
      "Iter 609; Losses: RPN loc 0.2228, RPN cls: 0.6512, ROI loc 35.0047, ROI cls 2.2621, Total:38.1408\n"
     ]
    },
    {
     "name": "stderr",
     "output_type": "stream",
     "text": [
      "\r",
      "611it [41:43,  5.30s/it]"
     ]
    },
    {
     "name": "stdout",
     "output_type": "stream",
     "text": [
      "Iter 610; Losses: RPN loc 0.3730, RPN cls: 0.5905, ROI loc 23.2716, ROI cls 2.2249, Total:26.4600\n"
     ]
    },
    {
     "name": "stderr",
     "output_type": "stream",
     "text": [
      "\r",
      "612it [41:50,  5.67s/it]"
     ]
    },
    {
     "name": "stdout",
     "output_type": "stream",
     "text": [
      "Iter 611; Losses: RPN loc 0.0706, RPN cls: 0.4943, ROI loc 7.3020, ROI cls 2.1507, Total:10.0176\n"
     ]
    },
    {
     "name": "stderr",
     "output_type": "stream",
     "text": [
      "\r",
      "613it [41:57,  5.97s/it]"
     ]
    },
    {
     "name": "stdout",
     "output_type": "stream",
     "text": [
      "Iter 612; Losses: RPN loc 0.3118, RPN cls: 0.5790, ROI loc 20.1062, ROI cls 2.1663, Total:23.1632\n"
     ]
    },
    {
     "name": "stderr",
     "output_type": "stream",
     "text": [
      "\r",
      "614it [42:03,  6.02s/it]"
     ]
    },
    {
     "name": "stdout",
     "output_type": "stream",
     "text": [
      "Iter 613; Losses: RPN loc 0.4030, RPN cls: 0.6241, ROI loc 72.9040, ROI cls 2.2925, Total:76.2236\n"
     ]
    },
    {
     "name": "stderr",
     "output_type": "stream",
     "text": [
      "\r",
      "615it [42:09,  6.17s/it]"
     ]
    },
    {
     "name": "stdout",
     "output_type": "stream",
     "text": [
      "Iter 614; Losses: RPN loc 0.2235, RPN cls: 0.6945, ROI loc 30.3815, ROI cls 2.2125, Total:33.5120\n"
     ]
    },
    {
     "name": "stderr",
     "output_type": "stream",
     "text": [
      "\r",
      "616it [42:17,  6.54s/it]"
     ]
    },
    {
     "name": "stdout",
     "output_type": "stream",
     "text": [
      "Iter 615; Losses: RPN loc 0.0527, RPN cls: 0.4404, ROI loc 15.2019, ROI cls 2.1606, Total:17.8555\n"
     ]
    },
    {
     "name": "stderr",
     "output_type": "stream",
     "text": [
      "\r",
      "617it [42:24,  6.63s/it]"
     ]
    },
    {
     "name": "stdout",
     "output_type": "stream",
     "text": [
      "Iter 616; Losses: RPN loc 0.1305, RPN cls: 0.5013, ROI loc 9.1888, ROI cls 2.1717, Total:11.9924\n"
     ]
    },
    {
     "name": "stderr",
     "output_type": "stream",
     "text": [
      "\r",
      "618it [42:30,  6.49s/it]"
     ]
    },
    {
     "name": "stdout",
     "output_type": "stream",
     "text": [
      "Iter 617; Losses: RPN loc 0.2494, RPN cls: 0.5926, ROI loc 40.5042, ROI cls 2.2634, Total:43.6096\n"
     ]
    },
    {
     "name": "stderr",
     "output_type": "stream",
     "text": [
      "\r",
      "619it [42:36,  6.35s/it]"
     ]
    },
    {
     "name": "stdout",
     "output_type": "stream",
     "text": [
      "Iter 618; Losses: RPN loc 0.1251, RPN cls: 0.4766, ROI loc 4.3907, ROI cls 2.1409, Total:7.1333\n"
     ]
    },
    {
     "name": "stderr",
     "output_type": "stream",
     "text": [
      "\r",
      "620it [42:41,  5.92s/it]"
     ]
    },
    {
     "name": "stdout",
     "output_type": "stream",
     "text": [
      "Iter 619; Losses: RPN loc 0.1154, RPN cls: 0.5752, ROI loc 52.0400, ROI cls 2.2604, Total:54.9911\n"
     ]
    },
    {
     "name": "stderr",
     "output_type": "stream",
     "text": [
      "\r",
      "621it [42:47,  6.06s/it]"
     ]
    },
    {
     "name": "stdout",
     "output_type": "stream",
     "text": [
      "Iter 620; Losses: RPN loc 0.0065, RPN cls: 0.4417, ROI loc 15.3726, ROI cls 2.1589, Total:17.9796\n"
     ]
    },
    {
     "name": "stderr",
     "output_type": "stream",
     "text": [
      "\r",
      "622it [42:54,  6.45s/it]"
     ]
    },
    {
     "name": "stdout",
     "output_type": "stream",
     "text": [
      "Iter 621; Losses: RPN loc 0.2644, RPN cls: 0.6712, ROI loc 34.1642, ROI cls 2.2660, Total:37.3658\n"
     ]
    },
    {
     "name": "stderr",
     "output_type": "stream",
     "text": [
      "\r",
      "623it [43:03,  7.20s/it]"
     ]
    },
    {
     "name": "stdout",
     "output_type": "stream",
     "text": [
      "Iter 622; Losses: RPN loc 0.9452, RPN cls: 0.7206, ROI loc 48.9943, ROI cls 2.2280, Total:52.8881\n"
     ]
    },
    {
     "name": "stderr",
     "output_type": "stream",
     "text": [
      "\r",
      "624it [43:10,  7.10s/it]"
     ]
    },
    {
     "name": "stdout",
     "output_type": "stream",
     "text": [
      "Iter 623; Losses: RPN loc 0.2655, RPN cls: 0.6565, ROI loc 18.1299, ROI cls 2.2333, Total:21.2852\n"
     ]
    },
    {
     "name": "stderr",
     "output_type": "stream",
     "text": [
      "\r",
      "625it [43:14,  6.14s/it]"
     ]
    },
    {
     "name": "stdout",
     "output_type": "stream",
     "text": [
      "Iter 624; Losses: RPN loc 0.0656, RPN cls: 0.5494, ROI loc 54.3232, ROI cls 2.3375, Total:57.2758\n"
     ]
    },
    {
     "name": "stderr",
     "output_type": "stream",
     "text": [
      "\r",
      "626it [43:18,  5.45s/it]"
     ]
    },
    {
     "name": "stdout",
     "output_type": "stream",
     "text": [
      "Iter 625; Losses: RPN loc 0.0306, RPN cls: 0.4418, ROI loc 4.1748, ROI cls 2.1415, Total:6.7887\n"
     ]
    },
    {
     "name": "stderr",
     "output_type": "stream",
     "text": [
      "\r",
      "627it [43:23,  5.18s/it]"
     ]
    },
    {
     "name": "stdout",
     "output_type": "stream",
     "text": [
      "Iter 626; Losses: RPN loc 0.6906, RPN cls: 0.8613, ROI loc 32.1366, ROI cls 2.2447, Total:35.9332\n"
     ]
    },
    {
     "name": "stderr",
     "output_type": "stream",
     "text": [
      "\r",
      "628it [43:27,  5.06s/it]"
     ]
    },
    {
     "name": "stdout",
     "output_type": "stream",
     "text": [
      "Iter 627; Losses: RPN loc 0.0060, RPN cls: 0.4504, ROI loc 11.2821, ROI cls 2.1682, Total:13.9066\n"
     ]
    },
    {
     "name": "stderr",
     "output_type": "stream",
     "text": [
      "\r",
      "629it [43:32,  4.84s/it]"
     ]
    },
    {
     "name": "stdout",
     "output_type": "stream",
     "text": [
      "Iter 628; Losses: RPN loc 0.6111, RPN cls: 0.5857, ROI loc 35.6255, ROI cls 2.2193, Total:39.0416\n"
     ]
    },
    {
     "name": "stderr",
     "output_type": "stream",
     "text": [
      "\r",
      "630it [43:36,  4.73s/it]"
     ]
    },
    {
     "name": "stdout",
     "output_type": "stream",
     "text": [
      "Iter 629; Losses: RPN loc 0.0206, RPN cls: 0.4617, ROI loc 37.0970, ROI cls 2.2559, Total:39.8352\n"
     ]
    },
    {
     "name": "stderr",
     "output_type": "stream",
     "text": [
      "\r",
      "631it [43:40,  4.46s/it]"
     ]
    },
    {
     "name": "stdout",
     "output_type": "stream",
     "text": [
      "Iter 630; Losses: RPN loc 0.0174, RPN cls: 0.4262, ROI loc 4.5028, ROI cls 2.1419, Total:7.0882\n"
     ]
    },
    {
     "name": "stderr",
     "output_type": "stream",
     "text": [
      "\r",
      "632it [43:44,  4.30s/it]"
     ]
    },
    {
     "name": "stdout",
     "output_type": "stream",
     "text": [
      "Iter 631; Losses: RPN loc 0.6214, RPN cls: 0.7282, ROI loc 68.8702, ROI cls 2.2842, Total:72.5040\n"
     ]
    },
    {
     "name": "stderr",
     "output_type": "stream",
     "text": [
      "\r",
      "633it [43:48,  4.23s/it]"
     ]
    },
    {
     "name": "stdout",
     "output_type": "stream",
     "text": [
      "Iter 632; Losses: RPN loc 1.0246, RPN cls: 0.9522, ROI loc 49.8700, ROI cls 2.2871, Total:54.1339\n"
     ]
    },
    {
     "name": "stderr",
     "output_type": "stream",
     "text": [
      "\r",
      "634it [43:52,  4.13s/it]"
     ]
    },
    {
     "name": "stdout",
     "output_type": "stream",
     "text": [
      "Iter 633; Losses: RPN loc 0.1933, RPN cls: 0.5520, ROI loc 26.4356, ROI cls 2.2043, Total:29.3851\n"
     ]
    },
    {
     "name": "stderr",
     "output_type": "stream",
     "text": [
      "\r",
      "635it [43:56,  4.11s/it]"
     ]
    },
    {
     "name": "stdout",
     "output_type": "stream",
     "text": [
      "Iter 634; Losses: RPN loc 0.6776, RPN cls: 0.6944, ROI loc 48.1209, ROI cls 2.2648, Total:51.7577\n"
     ]
    },
    {
     "name": "stderr",
     "output_type": "stream",
     "text": [
      "\r",
      "636it [44:00,  3.96s/it]"
     ]
    },
    {
     "name": "stdout",
     "output_type": "stream",
     "text": [
      "Iter 635; Losses: RPN loc 0.5666, RPN cls: 0.8080, ROI loc 33.2378, ROI cls 2.2386, Total:36.8511\n"
     ]
    },
    {
     "name": "stderr",
     "output_type": "stream",
     "text": [
      "\r",
      "637it [44:03,  3.94s/it]"
     ]
    },
    {
     "name": "stdout",
     "output_type": "stream",
     "text": [
      "Iter 636; Losses: RPN loc 0.1144, RPN cls: 0.5412, ROI loc 28.5355, ROI cls 2.2284, Total:31.4195\n"
     ]
    },
    {
     "name": "stderr",
     "output_type": "stream",
     "text": [
      "\r",
      "638it [44:07,  3.91s/it]"
     ]
    },
    {
     "name": "stdout",
     "output_type": "stream",
     "text": [
      "Iter 637; Losses: RPN loc 0.4242, RPN cls: 0.5695, ROI loc 18.3146, ROI cls 2.1497, Total:21.4580\n"
     ]
    },
    {
     "name": "stderr",
     "output_type": "stream",
     "text": [
      "\r",
      "639it [44:11,  3.79s/it]"
     ]
    },
    {
     "name": "stdout",
     "output_type": "stream",
     "text": [
      "Iter 638; Losses: RPN loc 0.0470, RPN cls: 0.4340, ROI loc 5.9508, ROI cls 2.1422, Total:8.5739\n"
     ]
    },
    {
     "name": "stderr",
     "output_type": "stream",
     "text": [
      "\r",
      "640it [44:14,  3.76s/it]"
     ]
    },
    {
     "name": "stdout",
     "output_type": "stream",
     "text": [
      "Iter 639; Losses: RPN loc 0.1384, RPN cls: 0.6776, ROI loc 43.5838, ROI cls 2.2621, Total:46.6618\n"
     ]
    },
    {
     "name": "stderr",
     "output_type": "stream",
     "text": [
      "\r",
      "641it [44:18,  3.67s/it]"
     ]
    },
    {
     "name": "stdout",
     "output_type": "stream",
     "text": [
      "Iter 640; Losses: RPN loc 0.4774, RPN cls: 0.7237, ROI loc 27.2598, ROI cls 2.2364, Total:30.6973\n"
     ]
    },
    {
     "name": "stderr",
     "output_type": "stream",
     "text": [
      "\r",
      "642it [44:22,  3.68s/it]"
     ]
    },
    {
     "name": "stdout",
     "output_type": "stream",
     "text": [
      "Iter 641; Losses: RPN loc 0.0997, RPN cls: 0.4274, ROI loc 5.4408, ROI cls 2.1322, Total:8.1001\n"
     ]
    },
    {
     "name": "stderr",
     "output_type": "stream",
     "text": [
      "\r",
      "643it [44:25,  3.68s/it]"
     ]
    },
    {
     "name": "stdout",
     "output_type": "stream",
     "text": [
      "Iter 642; Losses: RPN loc 0.0375, RPN cls: 0.4437, ROI loc 16.4584, ROI cls 2.2250, Total:19.1646\n"
     ]
    },
    {
     "name": "stderr",
     "output_type": "stream",
     "text": [
      "\r",
      "644it [44:29,  3.65s/it]"
     ]
    },
    {
     "name": "stdout",
     "output_type": "stream",
     "text": [
      "Iter 643; Losses: RPN loc 0.4228, RPN cls: 0.7034, ROI loc 26.7810, ROI cls 2.2212, Total:30.1284\n"
     ]
    },
    {
     "name": "stderr",
     "output_type": "stream",
     "text": [
      "\r",
      "645it [44:32,  3.58s/it]"
     ]
    },
    {
     "name": "stdout",
     "output_type": "stream",
     "text": [
      "Iter 644; Losses: RPN loc 0.5415, RPN cls: 0.7918, ROI loc 29.4071, ROI cls 2.2778, Total:33.0181\n"
     ]
    },
    {
     "name": "stderr",
     "output_type": "stream",
     "text": [
      "\r",
      "646it [44:36,  3.58s/it]"
     ]
    },
    {
     "name": "stdout",
     "output_type": "stream",
     "text": [
      "Iter 645; Losses: RPN loc 0.1981, RPN cls: 0.5880, ROI loc 11.5184, ROI cls 2.2660, Total:14.5705\n"
     ]
    },
    {
     "name": "stderr",
     "output_type": "stream",
     "text": [
      "\r",
      "647it [44:40,  3.62s/it]"
     ]
    },
    {
     "name": "stdout",
     "output_type": "stream",
     "text": [
      "Iter 646; Losses: RPN loc 0.2915, RPN cls: 0.7032, ROI loc 55.8579, ROI cls 2.3732, Total:59.2258\n"
     ]
    },
    {
     "name": "stderr",
     "output_type": "stream",
     "text": [
      "\r",
      "648it [44:43,  3.57s/it]"
     ]
    },
    {
     "name": "stdout",
     "output_type": "stream",
     "text": [
      "Iter 647; Losses: RPN loc 0.0655, RPN cls: 0.5019, ROI loc 64.5527, ROI cls 2.2864, Total:67.4066\n"
     ]
    },
    {
     "name": "stderr",
     "output_type": "stream",
     "text": [
      "\r",
      "649it [44:46,  3.52s/it]"
     ]
    },
    {
     "name": "stdout",
     "output_type": "stream",
     "text": [
      "Iter 648; Losses: RPN loc 0.3356, RPN cls: 0.6985, ROI loc 33.5659, ROI cls 2.2132, Total:36.8132\n"
     ]
    },
    {
     "name": "stderr",
     "output_type": "stream",
     "text": [
      "\r",
      "650it [44:50,  3.48s/it]"
     ]
    },
    {
     "name": "stdout",
     "output_type": "stream",
     "text": [
      "Iter 649; Losses: RPN loc 0.1138, RPN cls: 0.5335, ROI loc 15.1366, ROI cls 2.2506, Total:18.0345\n"
     ]
    },
    {
     "name": "stderr",
     "output_type": "stream",
     "text": [
      "\r",
      "651it [44:53,  3.47s/it]"
     ]
    },
    {
     "name": "stdout",
     "output_type": "stream",
     "text": [
      "Iter 650; Losses: RPN loc 0.5244, RPN cls: 0.5640, ROI loc 2.8054, ROI cls 2.1335, Total:6.0273\n"
     ]
    },
    {
     "name": "stderr",
     "output_type": "stream",
     "text": [
      "\r",
      "652it [44:57,  3.54s/it]"
     ]
    },
    {
     "name": "stdout",
     "output_type": "stream",
     "text": [
      "Iter 651; Losses: RPN loc 0.4066, RPN cls: 0.7344, ROI loc 30.8283, ROI cls 2.2930, Total:34.2622\n"
     ]
    },
    {
     "name": "stderr",
     "output_type": "stream",
     "text": [
      "\r",
      "653it [45:00,  3.46s/it]"
     ]
    },
    {
     "name": "stdout",
     "output_type": "stream",
     "text": [
      "Iter 652; Losses: RPN loc 0.0043, RPN cls: 0.4287, ROI loc 14.3185, ROI cls 2.1953, Total:16.9468\n"
     ]
    },
    {
     "name": "stderr",
     "output_type": "stream",
     "text": [
      "\r",
      "654it [45:04,  3.52s/it]"
     ]
    },
    {
     "name": "stdout",
     "output_type": "stream",
     "text": [
      "Iter 653; Losses: RPN loc 0.0528, RPN cls: 0.3908, ROI loc 4.6921, ROI cls 2.1419, Total:7.2775\n"
     ]
    },
    {
     "name": "stderr",
     "output_type": "stream",
     "text": [
      "\r",
      "655it [45:07,  3.53s/it]"
     ]
    },
    {
     "name": "stdout",
     "output_type": "stream",
     "text": [
      "Iter 654; Losses: RPN loc 0.1716, RPN cls: 0.4924, ROI loc 10.1867, ROI cls 2.1523, Total:13.0031\n"
     ]
    },
    {
     "name": "stderr",
     "output_type": "stream",
     "text": [
      "\r",
      "656it [45:11,  3.54s/it]"
     ]
    },
    {
     "name": "stdout",
     "output_type": "stream",
     "text": [
      "Iter 655; Losses: RPN loc 0.0285, RPN cls: 0.4221, ROI loc 1.9705, ROI cls 2.1326, Total:4.5538\n"
     ]
    },
    {
     "name": "stderr",
     "output_type": "stream",
     "text": [
      "\r",
      "657it [45:14,  3.49s/it]"
     ]
    },
    {
     "name": "stdout",
     "output_type": "stream",
     "text": [
      "Iter 656; Losses: RPN loc 0.1713, RPN cls: 0.6646, ROI loc 28.1876, ROI cls 2.2332, Total:31.2567\n"
     ]
    },
    {
     "name": "stderr",
     "output_type": "stream",
     "text": [
      "\r",
      "658it [45:18,  3.47s/it]"
     ]
    },
    {
     "name": "stdout",
     "output_type": "stream",
     "text": [
      "Iter 657; Losses: RPN loc 0.0165, RPN cls: 0.4249, ROI loc 29.1216, ROI cls 2.2203, Total:31.7832\n"
     ]
    },
    {
     "name": "stderr",
     "output_type": "stream",
     "text": [
      "\r",
      "659it [45:21,  3.44s/it]"
     ]
    },
    {
     "name": "stdout",
     "output_type": "stream",
     "text": [
      "Iter 658; Losses: RPN loc 0.3545, RPN cls: 0.5939, ROI loc 15.9911, ROI cls 2.2420, Total:19.1815\n"
     ]
    },
    {
     "name": "stderr",
     "output_type": "stream",
     "text": [
      "\r",
      "660it [45:24,  3.37s/it]"
     ]
    },
    {
     "name": "stdout",
     "output_type": "stream",
     "text": [
      "Iter 659; Losses: RPN loc 0.6515, RPN cls: 0.6351, ROI loc 12.1885, ROI cls 2.1870, Total:15.6621\n"
     ]
    },
    {
     "name": "stderr",
     "output_type": "stream",
     "text": [
      "\r",
      "661it [45:28,  3.43s/it]"
     ]
    },
    {
     "name": "stdout",
     "output_type": "stream",
     "text": [
      "Iter 660; Losses: RPN loc 0.1738, RPN cls: 0.4762, ROI loc 6.1598, ROI cls 2.1523, Total:8.9621\n"
     ]
    },
    {
     "name": "stderr",
     "output_type": "stream",
     "text": [
      "\r",
      "662it [45:31,  3.34s/it]"
     ]
    },
    {
     "name": "stdout",
     "output_type": "stream",
     "text": [
      "Iter 661; Losses: RPN loc 0.0341, RPN cls: 0.4195, ROI loc 27.4865, ROI cls 2.2083, Total:30.1483\n"
     ]
    },
    {
     "name": "stderr",
     "output_type": "stream",
     "text": [
      "\r",
      "663it [45:35,  3.36s/it]"
     ]
    },
    {
     "name": "stdout",
     "output_type": "stream",
     "text": [
      "Iter 662; Losses: RPN loc 0.1300, RPN cls: 0.4315, ROI loc 5.3279, ROI cls 2.1334, Total:8.0228\n"
     ]
    },
    {
     "name": "stderr",
     "output_type": "stream",
     "text": [
      "\r",
      "664it [45:38,  3.46s/it]"
     ]
    },
    {
     "name": "stdout",
     "output_type": "stream",
     "text": [
      "Iter 663; Losses: RPN loc 0.2678, RPN cls: 0.6724, ROI loc 81.7924, ROI cls 2.3475, Total:85.0800\n"
     ]
    },
    {
     "name": "stderr",
     "output_type": "stream",
     "text": [
      "\r",
      "665it [45:42,  3.44s/it]"
     ]
    },
    {
     "name": "stdout",
     "output_type": "stream",
     "text": [
      "Iter 664; Losses: RPN loc 0.0213, RPN cls: 0.4259, ROI loc 5.4034, ROI cls 2.1335, Total:7.9840\n"
     ]
    },
    {
     "name": "stderr",
     "output_type": "stream",
     "text": [
      "\r",
      "666it [45:47,  3.89s/it]"
     ]
    },
    {
     "name": "stdout",
     "output_type": "stream",
     "text": [
      "Iter 665; Losses: RPN loc 0.0446, RPN cls: 0.4352, ROI loc 3.7575, ROI cls 2.1343, Total:6.3716\n"
     ]
    },
    {
     "name": "stderr",
     "output_type": "stream",
     "text": [
      "\r",
      "667it [45:52,  4.41s/it]"
     ]
    },
    {
     "name": "stdout",
     "output_type": "stream",
     "text": [
      "Iter 666; Losses: RPN loc 0.2696, RPN cls: 0.6776, ROI loc 55.2867, ROI cls 2.3212, Total:58.5551\n"
     ]
    },
    {
     "name": "stderr",
     "output_type": "stream",
     "text": [
      "\r",
      "668it [45:58,  4.76s/it]"
     ]
    },
    {
     "name": "stdout",
     "output_type": "stream",
     "text": [
      "Iter 667; Losses: RPN loc 0.0543, RPN cls: 0.5652, ROI loc 60.0451, ROI cls 2.3653, Total:63.0299\n"
     ]
    },
    {
     "name": "stderr",
     "output_type": "stream",
     "text": [
      "\r",
      "669it [46:03,  5.05s/it]"
     ]
    },
    {
     "name": "stdout",
     "output_type": "stream",
     "text": [
      "Iter 668; Losses: RPN loc 0.2132, RPN cls: 0.6196, ROI loc 6.6556, ROI cls 2.2169, Total:9.7053\n"
     ]
    },
    {
     "name": "stderr",
     "output_type": "stream",
     "text": [
      "\r",
      "670it [46:10,  5.55s/it]"
     ]
    },
    {
     "name": "stdout",
     "output_type": "stream",
     "text": [
      "Iter 669; Losses: RPN loc 0.0172, RPN cls: 0.4590, ROI loc 19.0641, ROI cls 2.1712, Total:21.7116\n"
     ]
    },
    {
     "name": "stderr",
     "output_type": "stream",
     "text": [
      "\r",
      "671it [46:17,  5.86s/it]"
     ]
    },
    {
     "name": "stdout",
     "output_type": "stream",
     "text": [
      "Iter 670; Losses: RPN loc 0.0202, RPN cls: 0.4759, ROI loc 38.7991, ROI cls 2.2189, Total:41.5141\n"
     ]
    },
    {
     "name": "stderr",
     "output_type": "stream",
     "text": [
      "\r",
      "672it [46:22,  5.74s/it]"
     ]
    },
    {
     "name": "stdout",
     "output_type": "stream",
     "text": [
      "Iter 671; Losses: RPN loc 0.2848, RPN cls: 0.6546, ROI loc 52.8162, ROI cls 2.2545, Total:56.0100\n"
     ]
    },
    {
     "name": "stderr",
     "output_type": "stream",
     "text": [
      "\r",
      "673it [46:27,  5.55s/it]"
     ]
    },
    {
     "name": "stdout",
     "output_type": "stream",
     "text": [
      "Iter 672; Losses: RPN loc 0.1414, RPN cls: 0.5164, ROI loc 54.4019, ROI cls 2.2397, Total:57.2993\n"
     ]
    },
    {
     "name": "stderr",
     "output_type": "stream",
     "text": [
      "\r",
      "674it [46:33,  5.71s/it]"
     ]
    },
    {
     "name": "stdout",
     "output_type": "stream",
     "text": [
      "Iter 673; Losses: RPN loc 0.3746, RPN cls: 0.8034, ROI loc 96.3523, ROI cls 2.3994, Total:99.9297\n"
     ]
    },
    {
     "name": "stderr",
     "output_type": "stream",
     "text": [
      "\r",
      "675it [46:40,  6.09s/it]"
     ]
    },
    {
     "name": "stdout",
     "output_type": "stream",
     "text": [
      "Iter 674; Losses: RPN loc 0.2499, RPN cls: 0.6809, ROI loc 42.5944, ROI cls 2.2848, Total:45.8099\n"
     ]
    },
    {
     "name": "stderr",
     "output_type": "stream",
     "text": [
      "\r",
      "676it [46:47,  6.19s/it]"
     ]
    },
    {
     "name": "stdout",
     "output_type": "stream",
     "text": [
      "Iter 675; Losses: RPN loc 0.2017, RPN cls: 0.6542, ROI loc 73.3542, ROI cls 2.3050, Total:76.5152\n"
     ]
    },
    {
     "name": "stderr",
     "output_type": "stream",
     "text": [
      "\r",
      "677it [46:53,  6.31s/it]"
     ]
    },
    {
     "name": "stdout",
     "output_type": "stream",
     "text": [
      "Iter 676; Losses: RPN loc 0.7866, RPN cls: 0.8416, ROI loc 116.7609, ROI cls 2.3487, Total:120.7377\n"
     ]
    },
    {
     "name": "stderr",
     "output_type": "stream",
     "text": [
      "\r",
      "678it [47:00,  6.46s/it]"
     ]
    },
    {
     "name": "stdout",
     "output_type": "stream",
     "text": [
      "Iter 677; Losses: RPN loc 0.1323, RPN cls: 0.4949, ROI loc 108.1054, ROI cls 2.2984, Total:111.0311\n"
     ]
    },
    {
     "name": "stderr",
     "output_type": "stream",
     "text": [
      "\r",
      "679it [47:03,  5.50s/it]"
     ]
    },
    {
     "name": "stdout",
     "output_type": "stream",
     "text": [
      "Iter 678; Losses: RPN loc 0.5060, RPN cls: 0.9856, ROI loc 58.8190, ROI cls 2.3375, Total:62.6480\n"
     ]
    },
    {
     "name": "stderr",
     "output_type": "stream",
     "text": [
      "\r",
      "680it [47:07,  4.89s/it]"
     ]
    },
    {
     "name": "stdout",
     "output_type": "stream",
     "text": [
      "Iter 679; Losses: RPN loc 0.2864, RPN cls: 0.7087, ROI loc 35.1659, ROI cls 2.2482, Total:38.4092\n"
     ]
    },
    {
     "name": "stderr",
     "output_type": "stream",
     "text": [
      "\r",
      "681it [47:10,  4.43s/it]"
     ]
    },
    {
     "name": "stdout",
     "output_type": "stream",
     "text": [
      "Iter 680; Losses: RPN loc 0.2629, RPN cls: 0.6522, ROI loc 43.9659, ROI cls 2.2444, Total:47.1254\n"
     ]
    },
    {
     "name": "stderr",
     "output_type": "stream",
     "text": [
      "\r",
      "682it [47:14,  4.11s/it]"
     ]
    },
    {
     "name": "stdout",
     "output_type": "stream",
     "text": [
      "Iter 681; Losses: RPN loc 0.0773, RPN cls: 0.5658, ROI loc 68.5748, ROI cls 2.2482, Total:71.4661\n"
     ]
    },
    {
     "name": "stderr",
     "output_type": "stream",
     "text": [
      "\r",
      "683it [47:17,  3.96s/it]"
     ]
    },
    {
     "name": "stdout",
     "output_type": "stream",
     "text": [
      "Iter 682; Losses: RPN loc 0.0307, RPN cls: 0.4124, ROI loc 22.8604, ROI cls 2.1541, Total:25.4576\n"
     ]
    },
    {
     "name": "stderr",
     "output_type": "stream",
     "text": [
      "\r",
      "684it [47:21,  3.79s/it]"
     ]
    },
    {
     "name": "stdout",
     "output_type": "stream",
     "text": [
      "Iter 683; Losses: RPN loc 0.0741, RPN cls: 0.4872, ROI loc 7.0816, ROI cls 2.1333, Total:9.7761\n"
     ]
    },
    {
     "name": "stderr",
     "output_type": "stream",
     "text": [
      "\r",
      "685it [47:24,  3.61s/it]"
     ]
    },
    {
     "name": "stdout",
     "output_type": "stream",
     "text": [
      "Iter 684; Losses: RPN loc 0.7203, RPN cls: 1.0752, ROI loc 199.4455, ROI cls 2.4565, Total:203.6976\n"
     ]
    },
    {
     "name": "stderr",
     "output_type": "stream",
     "text": [
      "\r",
      "686it [47:27,  3.57s/it]"
     ]
    },
    {
     "name": "stdout",
     "output_type": "stream",
     "text": [
      "Iter 685; Losses: RPN loc 0.6890, RPN cls: 0.7520, ROI loc 36.7737, ROI cls 2.1911, Total:40.4058\n"
     ]
    },
    {
     "name": "stderr",
     "output_type": "stream",
     "text": [
      "\r",
      "687it [47:31,  3.51s/it]"
     ]
    },
    {
     "name": "stdout",
     "output_type": "stream",
     "text": [
      "Iter 686; Losses: RPN loc 0.2968, RPN cls: 0.7716, ROI loc 47.9195, ROI cls 2.3167, Total:51.3046\n"
     ]
    },
    {
     "name": "stderr",
     "output_type": "stream",
     "text": [
      "\r",
      "688it [47:34,  3.46s/it]"
     ]
    },
    {
     "name": "stdout",
     "output_type": "stream",
     "text": [
      "Iter 687; Losses: RPN loc 0.2138, RPN cls: 0.6172, ROI loc 35.6460, ROI cls 2.2898, Total:38.7670\n"
     ]
    },
    {
     "name": "stderr",
     "output_type": "stream",
     "text": [
      "\r",
      "689it [47:38,  3.47s/it]"
     ]
    },
    {
     "name": "stdout",
     "output_type": "stream",
     "text": [
      "Iter 688; Losses: RPN loc 0.9117, RPN cls: 0.8741, ROI loc 60.2460, ROI cls 2.2506, Total:64.2824\n"
     ]
    },
    {
     "name": "stderr",
     "output_type": "stream",
     "text": [
      "\r",
      "690it [47:41,  3.39s/it]"
     ]
    },
    {
     "name": "stdout",
     "output_type": "stream",
     "text": [
      "Iter 689; Losses: RPN loc 0.0437, RPN cls: 0.4737, ROI loc 30.1529, ROI cls 2.2001, Total:32.8704\n"
     ]
    },
    {
     "name": "stderr",
     "output_type": "stream",
     "text": [
      "\r",
      "691it [47:44,  3.41s/it]"
     ]
    },
    {
     "name": "stdout",
     "output_type": "stream",
     "text": [
      "Iter 690; Losses: RPN loc 0.0314, RPN cls: 0.4073, ROI loc 16.8128, ROI cls 2.1432, Total:19.3946\n"
     ]
    },
    {
     "name": "stderr",
     "output_type": "stream",
     "text": [
      "\r",
      "692it [47:47,  3.34s/it]"
     ]
    },
    {
     "name": "stdout",
     "output_type": "stream",
     "text": [
      "Iter 691; Losses: RPN loc 0.2073, RPN cls: 0.6039, ROI loc 191.8815, ROI cls 2.4673, Total:195.1600\n"
     ]
    },
    {
     "name": "stderr",
     "output_type": "stream",
     "text": [
      "\r",
      "693it [47:51,  3.41s/it]"
     ]
    },
    {
     "name": "stdout",
     "output_type": "stream",
     "text": [
      "Iter 692; Losses: RPN loc 0.5791, RPN cls: 0.6411, ROI loc 37.8325, ROI cls 2.1868, Total:41.2394\n"
     ]
    },
    {
     "name": "stderr",
     "output_type": "stream",
     "text": [
      "\r",
      "694it [47:54,  3.39s/it]"
     ]
    },
    {
     "name": "stdout",
     "output_type": "stream",
     "text": [
      "Iter 693; Losses: RPN loc 0.1162, RPN cls: 0.6433, ROI loc 62.5115, ROI cls 2.2660, Total:65.5370\n"
     ]
    },
    {
     "name": "stderr",
     "output_type": "stream",
     "text": [
      "\r",
      "695it [47:58,  3.52s/it]"
     ]
    },
    {
     "name": "stdout",
     "output_type": "stream",
     "text": [
      "Iter 694; Losses: RPN loc 0.4355, RPN cls: 0.6058, ROI loc 10.9504, ROI cls 2.1415, Total:14.1331\n"
     ]
    },
    {
     "name": "stderr",
     "output_type": "stream",
     "text": [
      "\r",
      "696it [48:02,  3.49s/it]"
     ]
    },
    {
     "name": "stdout",
     "output_type": "stream",
     "text": [
      "Iter 695; Losses: RPN loc 0.1385, RPN cls: 0.4475, ROI loc 3.5484, ROI cls 2.1333, Total:6.2677\n"
     ]
    },
    {
     "name": "stderr",
     "output_type": "stream",
     "text": [
      "\r",
      "697it [48:05,  3.38s/it]"
     ]
    },
    {
     "name": "stdout",
     "output_type": "stream",
     "text": [
      "Iter 696; Losses: RPN loc 0.2825, RPN cls: 0.6488, ROI loc 72.3893, ROI cls 2.2770, Total:75.5976\n"
     ]
    },
    {
     "name": "stderr",
     "output_type": "stream",
     "text": [
      "\r",
      "698it [48:08,  3.39s/it]"
     ]
    },
    {
     "name": "stdout",
     "output_type": "stream",
     "text": [
      "Iter 697; Losses: RPN loc 0.2225, RPN cls: 0.7044, ROI loc 66.7279, ROI cls 2.2519, Total:69.9066\n"
     ]
    },
    {
     "name": "stderr",
     "output_type": "stream",
     "text": [
      "\r",
      "699it [48:12,  3.50s/it]"
     ]
    },
    {
     "name": "stdout",
     "output_type": "stream",
     "text": [
      "Iter 698; Losses: RPN loc 0.4236, RPN cls: 0.5480, ROI loc 14.7754, ROI cls 2.1428, Total:17.8898\n"
     ]
    },
    {
     "name": "stderr",
     "output_type": "stream",
     "text": [
      "\r",
      "700it [48:16,  3.55s/it]"
     ]
    },
    {
     "name": "stdout",
     "output_type": "stream",
     "text": [
      "Iter 699; Losses: RPN loc 0.9242, RPN cls: 0.5651, ROI loc 83.4970, ROI cls 2.2353, Total:87.2217\n"
     ]
    },
    {
     "name": "stderr",
     "output_type": "stream",
     "text": [
      "\r",
      "701it [48:19,  3.53s/it]"
     ]
    },
    {
     "name": "stdout",
     "output_type": "stream",
     "text": [
      "Iter 700; Losses: RPN loc 0.1536, RPN cls: 0.4839, ROI loc 10.8532, ROI cls 2.1532, Total:13.6439\n"
     ]
    },
    {
     "name": "stderr",
     "output_type": "stream",
     "text": [
      "\r",
      "702it [48:22,  3.45s/it]"
     ]
    },
    {
     "name": "stdout",
     "output_type": "stream",
     "text": [
      "Iter 701; Losses: RPN loc 0.0890, RPN cls: 0.4878, ROI loc 43.8687, ROI cls 2.2065, Total:46.6520\n"
     ]
    },
    {
     "name": "stderr",
     "output_type": "stream",
     "text": [
      "\r",
      "703it [48:25,  3.32s/it]"
     ]
    },
    {
     "name": "stdout",
     "output_type": "stream",
     "text": [
      "Iter 702; Losses: RPN loc 0.0938, RPN cls: 0.6003, ROI loc 84.6464, ROI cls 2.3050, Total:87.6455\n"
     ]
    },
    {
     "name": "stderr",
     "output_type": "stream",
     "text": [
      "\r",
      "704it [48:29,  3.39s/it]"
     ]
    },
    {
     "name": "stdout",
     "output_type": "stream",
     "text": [
      "Iter 703; Losses: RPN loc 0.0315, RPN cls: 0.4542, ROI loc 21.6626, ROI cls 2.2048, Total:24.3531\n"
     ]
    },
    {
     "name": "stderr",
     "output_type": "stream",
     "text": [
      "\r",
      "705it [48:32,  3.41s/it]"
     ]
    },
    {
     "name": "stdout",
     "output_type": "stream",
     "text": [
      "Iter 704; Losses: RPN loc 0.0534, RPN cls: 0.5025, ROI loc 57.9896, ROI cls 2.3585, Total:60.9040\n"
     ]
    },
    {
     "name": "stderr",
     "output_type": "stream",
     "text": [
      "\r",
      "706it [48:36,  3.49s/it]"
     ]
    },
    {
     "name": "stdout",
     "output_type": "stream",
     "text": [
      "Iter 705; Losses: RPN loc 0.0095, RPN cls: 0.4228, ROI loc 20.9393, ROI cls 2.2158, Total:23.5873\n"
     ]
    },
    {
     "name": "stderr",
     "output_type": "stream",
     "text": [
      "\r",
      "707it [48:39,  3.49s/it]"
     ]
    },
    {
     "name": "stdout",
     "output_type": "stream",
     "text": [
      "Iter 706; Losses: RPN loc 0.1593, RPN cls: 0.5634, ROI loc 44.7415, ROI cls 2.2762, Total:47.7404\n"
     ]
    },
    {
     "name": "stderr",
     "output_type": "stream",
     "text": [
      "\r",
      "708it [48:43,  3.54s/it]"
     ]
    },
    {
     "name": "stdout",
     "output_type": "stream",
     "text": [
      "Iter 707; Losses: RPN loc 0.3597, RPN cls: 0.6898, ROI loc 37.1827, ROI cls 2.2444, Total:40.4766\n"
     ]
    },
    {
     "name": "stderr",
     "output_type": "stream",
     "text": [
      "\r",
      "709it [48:47,  3.52s/it]"
     ]
    },
    {
     "name": "stdout",
     "output_type": "stream",
     "text": [
      "Iter 708; Losses: RPN loc 0.4543, RPN cls: 0.7103, ROI loc 42.7698, ROI cls 2.2263, Total:46.1607\n"
     ]
    },
    {
     "name": "stderr",
     "output_type": "stream",
     "text": [
      "\r",
      "710it [48:50,  3.48s/it]"
     ]
    },
    {
     "name": "stdout",
     "output_type": "stream",
     "text": [
      "Iter 709; Losses: RPN loc 0.0115, RPN cls: 0.4261, ROI loc 18.7490, ROI cls 2.1742, Total:21.3609\n"
     ]
    },
    {
     "name": "stderr",
     "output_type": "stream",
     "text": [
      "\r",
      "711it [48:53,  3.47s/it]"
     ]
    },
    {
     "name": "stdout",
     "output_type": "stream",
     "text": [
      "Iter 710; Losses: RPN loc 0.2943, RPN cls: 0.5030, ROI loc 52.5640, ROI cls 2.2141, Total:55.5754\n"
     ]
    },
    {
     "name": "stderr",
     "output_type": "stream",
     "text": [
      "\r",
      "712it [48:57,  3.51s/it]"
     ]
    },
    {
     "name": "stdout",
     "output_type": "stream",
     "text": [
      "Iter 711; Losses: RPN loc 0.4309, RPN cls: 0.4962, ROI loc 7.8575, ROI cls 2.1334, Total:10.9180\n"
     ]
    },
    {
     "name": "stderr",
     "output_type": "stream",
     "text": [
      "\r",
      "713it [49:01,  3.50s/it]"
     ]
    },
    {
     "name": "stdout",
     "output_type": "stream",
     "text": [
      "Iter 712; Losses: RPN loc 0.0538, RPN cls: 0.4780, ROI loc 15.0260, ROI cls 2.1969, Total:17.7547\n"
     ]
    },
    {
     "name": "stderr",
     "output_type": "stream",
     "text": [
      "\r",
      "714it [49:04,  3.46s/it]"
     ]
    },
    {
     "name": "stdout",
     "output_type": "stream",
     "text": [
      "Iter 713; Losses: RPN loc 0.2557, RPN cls: 0.5955, ROI loc 30.8299, ROI cls 2.2660, Total:33.9471\n"
     ]
    },
    {
     "name": "stderr",
     "output_type": "stream",
     "text": [
      "\r",
      "715it [49:07,  3.46s/it]"
     ]
    },
    {
     "name": "stdout",
     "output_type": "stream",
     "text": [
      "Iter 714; Losses: RPN loc 0.0968, RPN cls: 0.4800, ROI loc 16.5393, ROI cls 2.1961, Total:19.3122\n"
     ]
    },
    {
     "name": "stderr",
     "output_type": "stream",
     "text": [
      "\r",
      "716it [49:11,  3.58s/it]"
     ]
    },
    {
     "name": "stdout",
     "output_type": "stream",
     "text": [
      "Iter 715; Losses: RPN loc 0.1707, RPN cls: 0.4938, ROI loc 16.7457, ROI cls 2.1620, Total:19.5722\n"
     ]
    },
    {
     "name": "stderr",
     "output_type": "stream",
     "text": [
      "\r",
      "717it [49:15,  3.51s/it]"
     ]
    },
    {
     "name": "stdout",
     "output_type": "stream",
     "text": [
      "Iter 716; Losses: RPN loc 0.0162, RPN cls: 0.4365, ROI loc 33.1332, ROI cls 2.2150, Total:35.8010\n"
     ]
    },
    {
     "name": "stderr",
     "output_type": "stream",
     "text": [
      "\r",
      "718it [49:18,  3.44s/it]"
     ]
    },
    {
     "name": "stdout",
     "output_type": "stream",
     "text": [
      "Iter 717; Losses: RPN loc 0.5076, RPN cls: 0.8532, ROI loc 69.2541, ROI cls 2.2690, Total:72.8839\n"
     ]
    },
    {
     "name": "stderr",
     "output_type": "stream",
     "text": [
      "\r",
      "719it [49:21,  3.39s/it]"
     ]
    },
    {
     "name": "stdout",
     "output_type": "stream",
     "text": [
      "Iter 718; Losses: RPN loc 0.0580, RPN cls: 0.4563, ROI loc 38.8180, ROI cls 2.2273, Total:41.5596\n"
     ]
    },
    {
     "name": "stderr",
     "output_type": "stream",
     "text": [
      "\r",
      "720it [49:25,  3.56s/it]"
     ]
    },
    {
     "name": "stdout",
     "output_type": "stream",
     "text": [
      "Iter 719; Losses: RPN loc 0.2123, RPN cls: 0.6749, ROI loc 68.9863, ROI cls 2.3613, Total:72.2348\n"
     ]
    },
    {
     "name": "stderr",
     "output_type": "stream",
     "text": [
      "\r",
      "721it [49:29,  3.56s/it]"
     ]
    },
    {
     "name": "stdout",
     "output_type": "stream",
     "text": [
      "Iter 720; Losses: RPN loc 0.1445, RPN cls: 0.4671, ROI loc 13.0224, ROI cls 2.1624, Total:15.7963\n"
     ]
    },
    {
     "name": "stderr",
     "output_type": "stream",
     "text": [
      "\r",
      "722it [49:32,  3.55s/it]"
     ]
    },
    {
     "name": "stdout",
     "output_type": "stream",
     "text": [
      "Iter 721; Losses: RPN loc 0.5482, RPN cls: 0.5631, ROI loc 32.5687, ROI cls 2.1857, Total:35.8657\n"
     ]
    },
    {
     "name": "stderr",
     "output_type": "stream",
     "text": [
      "\r",
      "723it [49:35,  3.46s/it]"
     ]
    },
    {
     "name": "stdout",
     "output_type": "stream",
     "text": [
      "Iter 722; Losses: RPN loc 0.1383, RPN cls: 0.4931, ROI loc 16.4577, ROI cls 2.1451, Total:19.2343\n"
     ]
    },
    {
     "name": "stderr",
     "output_type": "stream",
     "text": [
      "\r",
      "724it [49:39,  3.49s/it]"
     ]
    },
    {
     "name": "stdout",
     "output_type": "stream",
     "text": [
      "Iter 723; Losses: RPN loc 0.1009, RPN cls: 0.4293, ROI loc 13.4904, ROI cls 2.1428, Total:16.1634\n"
     ]
    },
    {
     "name": "stderr",
     "output_type": "stream",
     "text": [
      "\r",
      "725it [49:43,  3.55s/it]"
     ]
    },
    {
     "name": "stdout",
     "output_type": "stream",
     "text": [
      "Iter 724; Losses: RPN loc 0.2379, RPN cls: 0.8038, ROI loc 156.6510, ROI cls 2.3755, Total:160.0682\n"
     ]
    },
    {
     "name": "stderr",
     "output_type": "stream",
     "text": [
      "\r",
      "726it [49:46,  3.40s/it]"
     ]
    },
    {
     "name": "stdout",
     "output_type": "stream",
     "text": [
      "Iter 725; Losses: RPN loc 0.0543, RPN cls: 0.3691, ROI loc 74.7443, ROI cls 2.2643, Total:77.4321\n"
     ]
    },
    {
     "name": "stderr",
     "output_type": "stream",
     "text": [
      "\r",
      "727it [49:49,  3.43s/it]"
     ]
    },
    {
     "name": "stdout",
     "output_type": "stream",
     "text": [
      "Iter 726; Losses: RPN loc 0.6095, RPN cls: 0.9556, ROI loc 76.2602, ROI cls 2.3232, Total:80.1484\n"
     ]
    },
    {
     "name": "stderr",
     "output_type": "stream",
     "text": [
      "\r",
      "728it [49:53,  3.46s/it]"
     ]
    },
    {
     "name": "stdout",
     "output_type": "stream",
     "text": [
      "Iter 727; Losses: RPN loc 1.0419, RPN cls: 0.6754, ROI loc 28.5166, ROI cls 2.1911, Total:32.4251\n"
     ]
    },
    {
     "name": "stderr",
     "output_type": "stream",
     "text": [
      "\r",
      "729it [49:56,  3.47s/it]"
     ]
    },
    {
     "name": "stdout",
     "output_type": "stream",
     "text": [
      "Iter 728; Losses: RPN loc 0.2256, RPN cls: 0.4848, ROI loc 10.8330, ROI cls 2.1628, Total:13.7063\n"
     ]
    },
    {
     "name": "stderr",
     "output_type": "stream",
     "text": [
      "\r",
      "730it [49:59,  3.40s/it]"
     ]
    },
    {
     "name": "stdout",
     "output_type": "stream",
     "text": [
      "Iter 729; Losses: RPN loc 0.0422, RPN cls: 0.4831, ROI loc 45.7005, ROI cls 2.2083, Total:48.4340\n"
     ]
    },
    {
     "name": "stderr",
     "output_type": "stream",
     "text": [
      "\r",
      "731it [50:03,  3.35s/it]"
     ]
    },
    {
     "name": "stdout",
     "output_type": "stream",
     "text": [
      "Iter 730; Losses: RPN loc 0.0050, RPN cls: 0.3688, ROI loc 48.1074, ROI cls 2.1976, Total:50.6788\n"
     ]
    },
    {
     "name": "stderr",
     "output_type": "stream",
     "text": [
      "\r",
      "732it [50:06,  3.41s/it]"
     ]
    },
    {
     "name": "stdout",
     "output_type": "stream",
     "text": [
      "Iter 731; Losses: RPN loc 0.1454, RPN cls: 0.5141, ROI loc 104.5153, ROI cls 2.2732, Total:107.4478\n"
     ]
    },
    {
     "name": "stderr",
     "output_type": "stream",
     "text": [
      "\r",
      "733it [50:09,  3.35s/it]"
     ]
    },
    {
     "name": "stdout",
     "output_type": "stream",
     "text": [
      "Iter 732; Losses: RPN loc 1.2885, RPN cls: 0.9725, ROI loc 83.0982, ROI cls 2.2495, Total:87.6086\n"
     ]
    },
    {
     "name": "stderr",
     "output_type": "stream",
     "text": [
      "\r",
      "734it [50:13,  3.38s/it]"
     ]
    },
    {
     "name": "stdout",
     "output_type": "stream",
     "text": [
      "Iter 733; Losses: RPN loc 0.5483, RPN cls: 0.9346, ROI loc 77.7629, ROI cls 2.2778, Total:81.5236\n"
     ]
    },
    {
     "name": "stderr",
     "output_type": "stream",
     "text": [
      "\r",
      "735it [50:16,  3.33s/it]"
     ]
    },
    {
     "name": "stdout",
     "output_type": "stream",
     "text": [
      "Iter 734; Losses: RPN loc 0.3207, RPN cls: 0.6188, ROI loc 100.4902, ROI cls 2.3597, Total:103.7894\n"
     ]
    },
    {
     "name": "stderr",
     "output_type": "stream",
     "text": [
      "\r",
      "736it [50:19,  3.35s/it]"
     ]
    },
    {
     "name": "stdout",
     "output_type": "stream",
     "text": [
      "Iter 735; Losses: RPN loc 0.3243, RPN cls: 0.5667, ROI loc 26.6911, ROI cls 2.1826, Total:29.7647\n"
     ]
    },
    {
     "name": "stderr",
     "output_type": "stream",
     "text": [
      "\r",
      "737it [50:23,  3.40s/it]"
     ]
    },
    {
     "name": "stdout",
     "output_type": "stream",
     "text": [
      "Iter 736; Losses: RPN loc 0.9296, RPN cls: 0.5479, ROI loc 38.9499, ROI cls 2.1636, Total:42.5909\n"
     ]
    },
    {
     "name": "stderr",
     "output_type": "stream",
     "text": [
      "\r",
      "738it [50:27,  3.53s/it]"
     ]
    },
    {
     "name": "stdout",
     "output_type": "stream",
     "text": [
      "Iter 737; Losses: RPN loc 0.2150, RPN cls: 0.3975, ROI loc 11.5245, ROI cls 2.1515, Total:14.2885\n"
     ]
    },
    {
     "name": "stderr",
     "output_type": "stream",
     "text": [
      "\r",
      "739it [50:31,  3.61s/it]"
     ]
    },
    {
     "name": "stdout",
     "output_type": "stream",
     "text": [
      "Iter 738; Losses: RPN loc 0.5993, RPN cls: 0.9193, ROI loc 76.0774, ROI cls 2.2558, Total:79.8519\n"
     ]
    },
    {
     "name": "stderr",
     "output_type": "stream",
     "text": [
      "\r",
      "740it [50:34,  3.67s/it]"
     ]
    },
    {
     "name": "stdout",
     "output_type": "stream",
     "text": [
      "Iter 739; Losses: RPN loc 0.1784, RPN cls: 0.5767, ROI loc 30.5627, ROI cls 2.2073, Total:33.5251\n"
     ]
    },
    {
     "name": "stderr",
     "output_type": "stream",
     "text": [
      "\r",
      "741it [50:38,  3.65s/it]"
     ]
    },
    {
     "name": "stdout",
     "output_type": "stream",
     "text": [
      "Iter 740; Losses: RPN loc 0.1650, RPN cls: 0.6420, ROI loc 50.3978, ROI cls 2.2260, Total:53.4308\n"
     ]
    },
    {
     "name": "stderr",
     "output_type": "stream",
     "text": [
      "\r",
      "742it [50:42,  3.62s/it]"
     ]
    },
    {
     "name": "stdout",
     "output_type": "stream",
     "text": [
      "Iter 741; Losses: RPN loc 0.0733, RPN cls: 0.4322, ROI loc 3.4469, ROI cls 2.1332, Total:6.0855\n"
     ]
    },
    {
     "name": "stderr",
     "output_type": "stream",
     "text": [
      "\r",
      "743it [50:45,  3.61s/it]"
     ]
    },
    {
     "name": "stdout",
     "output_type": "stream",
     "text": [
      "Iter 742; Losses: RPN loc 0.2153, RPN cls: 0.5991, ROI loc 69.3935, ROI cls 2.3136, Total:72.5215\n"
     ]
    },
    {
     "name": "stderr",
     "output_type": "stream",
     "text": [
      "\r",
      "744it [50:49,  3.59s/it]"
     ]
    },
    {
     "name": "stdout",
     "output_type": "stream",
     "text": [
      "Iter 743; Losses: RPN loc 0.9440, RPN cls: 1.0430, ROI loc 64.5883, ROI cls 2.3271, Total:68.9023\n"
     ]
    },
    {
     "name": "stderr",
     "output_type": "stream",
     "text": [
      "\r",
      "745it [50:52,  3.64s/it]"
     ]
    },
    {
     "name": "stdout",
     "output_type": "stream",
     "text": [
      "Iter 744; Losses: RPN loc 0.5821, RPN cls: 0.6925, ROI loc 35.2695, ROI cls 2.2166, Total:38.7608\n"
     ]
    },
    {
     "name": "stderr",
     "output_type": "stream",
     "text": [
      "\r",
      "746it [50:57,  3.81s/it]"
     ]
    },
    {
     "name": "stdout",
     "output_type": "stream",
     "text": [
      "Iter 745; Losses: RPN loc 0.6317, RPN cls: 0.7886, ROI loc 47.5731, ROI cls 2.3074, Total:51.3008\n"
     ]
    },
    {
     "name": "stderr",
     "output_type": "stream",
     "text": [
      "\r",
      "747it [51:00,  3.72s/it]"
     ]
    },
    {
     "name": "stdout",
     "output_type": "stream",
     "text": [
      "Iter 746; Losses: RPN loc 0.2082, RPN cls: 0.4492, ROI loc 30.2570, ROI cls 2.1826, Total:33.0969\n"
     ]
    },
    {
     "name": "stderr",
     "output_type": "stream",
     "text": [
      "\r",
      "748it [51:03,  3.58s/it]"
     ]
    },
    {
     "name": "stdout",
     "output_type": "stream",
     "text": [
      "Iter 747; Losses: RPN loc 0.0139, RPN cls: 0.4248, ROI loc 14.9480, ROI cls 2.1640, Total:17.5507\n"
     ]
    },
    {
     "name": "stderr",
     "output_type": "stream",
     "text": [
      "\r",
      "749it [51:07,  3.49s/it]"
     ]
    },
    {
     "name": "stdout",
     "output_type": "stream",
     "text": [
      "Iter 748; Losses: RPN loc 0.0557, RPN cls: 0.4060, ROI loc 22.5647, ROI cls 2.1644, Total:25.1908\n"
     ]
    },
    {
     "name": "stderr",
     "output_type": "stream",
     "text": [
      "\r",
      "750it [51:10,  3.54s/it]"
     ]
    },
    {
     "name": "stdout",
     "output_type": "stream",
     "text": [
      "Iter 749; Losses: RPN loc 0.5265, RPN cls: 0.8651, ROI loc 80.7784, ROI cls 2.2898, Total:84.4597\n"
     ]
    },
    {
     "name": "stderr",
     "output_type": "stream",
     "text": [
      "\r",
      "751it [51:14,  3.46s/it]"
     ]
    },
    {
     "name": "stdout",
     "output_type": "stream",
     "text": [
      "Iter 750; Losses: RPN loc 0.2036, RPN cls: 0.4852, ROI loc 47.2646, ROI cls 2.2169, Total:50.1704\n"
     ]
    },
    {
     "name": "stderr",
     "output_type": "stream",
     "text": [
      "\r",
      "752it [51:17,  3.46s/it]"
     ]
    },
    {
     "name": "stdout",
     "output_type": "stream",
     "text": [
      "Iter 751; Losses: RPN loc 0.3525, RPN cls: 0.6118, ROI loc 24.4575, ROI cls 2.1918, Total:27.6136\n"
     ]
    },
    {
     "name": "stderr",
     "output_type": "stream",
     "text": [
      "\r",
      "753it [51:21,  3.45s/it]"
     ]
    },
    {
     "name": "stdout",
     "output_type": "stream",
     "text": [
      "Iter 752; Losses: RPN loc 0.1242, RPN cls: 0.4426, ROI loc 8.9289, ROI cls 2.1434, Total:11.6390\n"
     ]
    },
    {
     "name": "stderr",
     "output_type": "stream",
     "text": [
      "\r",
      "754it [51:24,  3.49s/it]"
     ]
    },
    {
     "name": "stdout",
     "output_type": "stream",
     "text": [
      "Iter 753; Losses: RPN loc 0.1747, RPN cls: 0.5554, ROI loc 34.2038, ROI cls 2.2397, Total:37.1736\n"
     ]
    },
    {
     "name": "stderr",
     "output_type": "stream",
     "text": [
      "\r",
      "755it [51:28,  3.49s/it]"
     ]
    },
    {
     "name": "stdout",
     "output_type": "stream",
     "text": [
      "Iter 754; Losses: RPN loc 0.0681, RPN cls: 0.4277, ROI loc 2.9500, ROI cls 2.1334, Total:5.5792\n"
     ]
    },
    {
     "name": "stderr",
     "output_type": "stream",
     "text": [
      "\r",
      "756it [51:31,  3.40s/it]"
     ]
    },
    {
     "name": "stdout",
     "output_type": "stream",
     "text": [
      "Iter 755; Losses: RPN loc 0.2869, RPN cls: 0.6644, ROI loc 26.4153, ROI cls 2.2645, Total:29.6311\n"
     ]
    },
    {
     "name": "stderr",
     "output_type": "stream",
     "text": [
      "\r",
      "757it [51:34,  3.43s/it]"
     ]
    },
    {
     "name": "stdout",
     "output_type": "stream",
     "text": [
      "Iter 756; Losses: RPN loc 0.0488, RPN cls: 0.4225, ROI loc 8.0220, ROI cls 2.1628, Total:10.6560\n"
     ]
    },
    {
     "name": "stderr",
     "output_type": "stream",
     "text": [
      "\r",
      "758it [51:38,  3.51s/it]"
     ]
    },
    {
     "name": "stdout",
     "output_type": "stream",
     "text": [
      "Iter 757; Losses: RPN loc 0.6567, RPN cls: 0.8668, ROI loc 128.6843, ROI cls 2.4167, Total:132.6244\n"
     ]
    },
    {
     "name": "stderr",
     "output_type": "stream",
     "text": [
      "\r",
      "759it [51:42,  3.51s/it]"
     ]
    },
    {
     "name": "stdout",
     "output_type": "stream",
     "text": [
      "Iter 758; Losses: RPN loc 0.4370, RPN cls: 0.4614, ROI loc 4.2807, ROI cls 2.1326, Total:7.3116\n"
     ]
    },
    {
     "name": "stderr",
     "output_type": "stream",
     "text": [
      "\r",
      "760it [51:45,  3.60s/it]"
     ]
    },
    {
     "name": "stdout",
     "output_type": "stream",
     "text": [
      "Iter 759; Losses: RPN loc 0.0846, RPN cls: 0.4363, ROI loc 22.2390, ROI cls 2.1826, Total:24.9426\n"
     ]
    },
    {
     "name": "stderr",
     "output_type": "stream",
     "text": [
      "\r",
      "761it [51:49,  3.68s/it]"
     ]
    },
    {
     "name": "stdout",
     "output_type": "stream",
     "text": [
      "Iter 760; Losses: RPN loc 0.0467, RPN cls: 0.5223, ROI loc 33.2391, ROI cls 2.2333, Total:36.0413\n"
     ]
    },
    {
     "name": "stderr",
     "output_type": "stream",
     "text": [
      "\r",
      "762it [51:53,  3.66s/it]"
     ]
    },
    {
     "name": "stdout",
     "output_type": "stream",
     "text": [
      "Iter 761; Losses: RPN loc 0.5123, RPN cls: 0.6631, ROI loc 62.7744, ROI cls 2.2447, Total:66.1944\n"
     ]
    },
    {
     "name": "stderr",
     "output_type": "stream",
     "text": [
      "\r",
      "763it [51:57,  3.69s/it]"
     ]
    },
    {
     "name": "stdout",
     "output_type": "stream",
     "text": [
      "Iter 762; Losses: RPN loc 0.3206, RPN cls: 0.6350, ROI loc 47.6710, ROI cls 2.2583, Total:50.8850\n"
     ]
    },
    {
     "name": "stderr",
     "output_type": "stream",
     "text": [
      "\r",
      "764it [52:00,  3.61s/it]"
     ]
    },
    {
     "name": "stdout",
     "output_type": "stream",
     "text": [
      "Iter 763; Losses: RPN loc 0.2167, RPN cls: 0.6407, ROI loc 26.8054, ROI cls 2.2321, Total:29.8948\n"
     ]
    },
    {
     "name": "stderr",
     "output_type": "stream",
     "text": [
      "\r",
      "765it [52:04,  3.61s/it]"
     ]
    },
    {
     "name": "stdout",
     "output_type": "stream",
     "text": [
      "Iter 764; Losses: RPN loc 0.0409, RPN cls: 0.4065, ROI loc 12.4481, ROI cls 2.1803, Total:15.0758\n"
     ]
    },
    {
     "name": "stderr",
     "output_type": "stream",
     "text": [
      "\r",
      "766it [52:07,  3.48s/it]"
     ]
    },
    {
     "name": "stdout",
     "output_type": "stream",
     "text": [
      "Iter 765; Losses: RPN loc 0.1442, RPN cls: 0.5086, ROI loc 35.4218, ROI cls 2.2600, Total:38.3346\n"
     ]
    },
    {
     "name": "stderr",
     "output_type": "stream",
     "text": [
      "\r",
      "767it [52:10,  3.50s/it]"
     ]
    },
    {
     "name": "stdout",
     "output_type": "stream",
     "text": [
      "Iter 766; Losses: RPN loc 0.0555, RPN cls: 0.4246, ROI loc 8.5757, ROI cls 2.1424, Total:11.1982\n"
     ]
    },
    {
     "name": "stderr",
     "output_type": "stream",
     "text": [
      "\r",
      "768it [52:14,  3.54s/it]"
     ]
    },
    {
     "name": "stdout",
     "output_type": "stream",
     "text": [
      "Iter 767; Losses: RPN loc 0.4897, RPN cls: 0.8719, ROI loc 75.2979, ROI cls 2.3194, Total:78.9789\n"
     ]
    },
    {
     "name": "stderr",
     "output_type": "stream",
     "text": [
      "\r",
      "769it [52:17,  3.47s/it]"
     ]
    },
    {
     "name": "stdout",
     "output_type": "stream",
     "text": [
      "Iter 768; Losses: RPN loc 0.0249, RPN cls: 0.4498, ROI loc 38.4015, ROI cls 2.2074, Total:41.0835\n"
     ]
    },
    {
     "name": "stderr",
     "output_type": "stream",
     "text": [
      "\r",
      "770it [52:21,  3.43s/it]"
     ]
    },
    {
     "name": "stdout",
     "output_type": "stream",
     "text": [
      "Iter 769; Losses: RPN loc 0.2073, RPN cls: 0.6283, ROI loc 35.6189, ROI cls 2.2444, Total:38.6989\n"
     ]
    },
    {
     "name": "stderr",
     "output_type": "stream",
     "text": [
      "\r",
      "771it [52:24,  3.47s/it]"
     ]
    },
    {
     "name": "stdout",
     "output_type": "stream",
     "text": [
      "Iter 770; Losses: RPN loc 0.0985, RPN cls: 0.5792, ROI loc 66.4321, ROI cls 2.3192, Total:69.4291\n"
     ]
    },
    {
     "name": "stderr",
     "output_type": "stream",
     "text": [
      "\r",
      "772it [52:28,  3.47s/it]"
     ]
    },
    {
     "name": "stdout",
     "output_type": "stream",
     "text": [
      "Iter 771; Losses: RPN loc 0.3175, RPN cls: 0.6842, ROI loc 55.4235, ROI cls 2.2966, Total:58.7219\n"
     ]
    },
    {
     "name": "stderr",
     "output_type": "stream",
     "text": [
      "\r",
      "773it [52:31,  3.46s/it]"
     ]
    },
    {
     "name": "stdout",
     "output_type": "stream",
     "text": [
      "Iter 772; Losses: RPN loc 0.1833, RPN cls: 0.6114, ROI loc 17.6109, ROI cls 2.2222, Total:20.6278\n"
     ]
    },
    {
     "name": "stderr",
     "output_type": "stream",
     "text": [
      "\r",
      "774it [52:35,  3.48s/it]"
     ]
    },
    {
     "name": "stdout",
     "output_type": "stream",
     "text": [
      "Iter 773; Losses: RPN loc 0.2854, RPN cls: 0.8435, ROI loc 57.7721, ROI cls 2.3465, Total:61.2475\n"
     ]
    },
    {
     "name": "stderr",
     "output_type": "stream",
     "text": [
      "\r",
      "775it [52:38,  3.46s/it]"
     ]
    },
    {
     "name": "stdout",
     "output_type": "stream",
     "text": [
      "Iter 774; Losses: RPN loc 0.2198, RPN cls: 0.5331, ROI loc 21.0887, ROI cls 2.2397, Total:24.0812\n"
     ]
    },
    {
     "name": "stderr",
     "output_type": "stream",
     "text": [
      "\r",
      "776it [52:42,  3.54s/it]"
     ]
    },
    {
     "name": "stdout",
     "output_type": "stream",
     "text": [
      "Iter 775; Losses: RPN loc 0.5118, RPN cls: 0.5785, ROI loc 31.1222, ROI cls 2.2050, Total:34.4176\n"
     ]
    },
    {
     "name": "stderr",
     "output_type": "stream",
     "text": [
      "\r",
      "777it [52:45,  3.55s/it]"
     ]
    },
    {
     "name": "stdout",
     "output_type": "stream",
     "text": [
      "Iter 776; Losses: RPN loc 0.1126, RPN cls: 0.6611, ROI loc 46.8984, ROI cls 2.2420, Total:49.9141\n"
     ]
    },
    {
     "name": "stderr",
     "output_type": "stream",
     "text": [
      "\r",
      "778it [52:49,  3.51s/it]"
     ]
    },
    {
     "name": "stdout",
     "output_type": "stream",
     "text": [
      "Iter 777; Losses: RPN loc 0.0631, RPN cls: 0.4806, ROI loc 42.5125, ROI cls 2.2604, Total:45.3166\n"
     ]
    },
    {
     "name": "stderr",
     "output_type": "stream",
     "text": [
      "\r",
      "779it [52:52,  3.54s/it]"
     ]
    },
    {
     "name": "stdout",
     "output_type": "stream",
     "text": [
      "Iter 778; Losses: RPN loc 0.8999, RPN cls: 0.5762, ROI loc 26.3131, ROI cls 2.1712, Total:29.9605\n"
     ]
    },
    {
     "name": "stderr",
     "output_type": "stream",
     "text": [
      "\r",
      "780it [52:56,  3.57s/it]"
     ]
    },
    {
     "name": "stdout",
     "output_type": "stream",
     "text": [
      "Iter 779; Losses: RPN loc 0.0311, RPN cls: 0.4324, ROI loc 54.8505, ROI cls 2.2674, Total:57.5815\n"
     ]
    },
    {
     "name": "stderr",
     "output_type": "stream",
     "text": [
      "\r",
      "781it [53:00,  3.58s/it]"
     ]
    },
    {
     "name": "stdout",
     "output_type": "stream",
     "text": [
      "Iter 780; Losses: RPN loc 0.0266, RPN cls: 0.5320, ROI loc 14.3991, ROI cls 2.2506, Total:17.2083\n"
     ]
    },
    {
     "name": "stderr",
     "output_type": "stream",
     "text": [
      "\r",
      "782it [53:03,  3.58s/it]"
     ]
    },
    {
     "name": "stdout",
     "output_type": "stream",
     "text": [
      "Iter 781; Losses: RPN loc 0.1966, RPN cls: 0.6073, ROI loc 27.0705, ROI cls 2.2770, Total:30.1513\n"
     ]
    },
    {
     "name": "stderr",
     "output_type": "stream",
     "text": [
      "\r",
      "783it [53:07,  3.63s/it]"
     ]
    },
    {
     "name": "stdout",
     "output_type": "stream",
     "text": [
      "Iter 782; Losses: RPN loc 0.1841, RPN cls: 0.6394, ROI loc 36.6146, ROI cls 2.3323, Total:39.7703\n"
     ]
    },
    {
     "name": "stderr",
     "output_type": "stream",
     "text": [
      "\r",
      "784it [53:11,  3.75s/it]"
     ]
    },
    {
     "name": "stdout",
     "output_type": "stream",
     "text": [
      "Iter 783; Losses: RPN loc 0.2136, RPN cls: 0.7186, ROI loc 64.1067, ROI cls 2.3836, Total:67.4224\n"
     ]
    },
    {
     "name": "stderr",
     "output_type": "stream",
     "text": [
      "\r",
      "785it [53:15,  3.89s/it]"
     ]
    },
    {
     "name": "stdout",
     "output_type": "stream",
     "text": [
      "Iter 784; Losses: RPN loc 0.0070, RPN cls: 0.4128, ROI loc 20.2528, ROI cls 2.1911, Total:22.8637\n"
     ]
    },
    {
     "name": "stderr",
     "output_type": "stream",
     "text": [
      "\r",
      "786it [53:19,  3.85s/it]"
     ]
    },
    {
     "name": "stdout",
     "output_type": "stream",
     "text": [
      "Iter 785; Losses: RPN loc 0.0372, RPN cls: 0.4793, ROI loc 36.9119, ROI cls 2.2621, Total:39.6904\n"
     ]
    },
    {
     "name": "stderr",
     "output_type": "stream",
     "text": [
      "\r",
      "787it [53:22,  3.72s/it]"
     ]
    },
    {
     "name": "stdout",
     "output_type": "stream",
     "text": [
      "Iter 786; Losses: RPN loc 0.1222, RPN cls: 0.4297, ROI loc 28.3564, ROI cls 2.1918, Total:31.1002\n"
     ]
    },
    {
     "name": "stderr",
     "output_type": "stream",
     "text": [
      "\r",
      "788it [53:25,  3.52s/it]"
     ]
    },
    {
     "name": "stdout",
     "output_type": "stream",
     "text": [
      "Iter 787; Losses: RPN loc 0.4344, RPN cls: 0.5169, ROI loc 18.7849, ROI cls 2.1449, Total:21.8811\n"
     ]
    },
    {
     "name": "stderr",
     "output_type": "stream",
     "text": [
      "\r",
      "789it [53:29,  3.53s/it]"
     ]
    },
    {
     "name": "stdout",
     "output_type": "stream",
     "text": [
      "Iter 788; Losses: RPN loc 0.2885, RPN cls: 0.7733, ROI loc 34.8583, ROI cls 2.2591, Total:38.1792\n"
     ]
    },
    {
     "name": "stderr",
     "output_type": "stream",
     "text": [
      "\r",
      "790it [53:32,  3.54s/it]"
     ]
    },
    {
     "name": "stdout",
     "output_type": "stream",
     "text": [
      "Iter 789; Losses: RPN loc 0.5046, RPN cls: 0.5634, ROI loc 13.1130, ROI cls 2.1616, Total:16.3427\n"
     ]
    },
    {
     "name": "stderr",
     "output_type": "stream",
     "text": [
      "\r",
      "791it [53:36,  3.58s/it]"
     ]
    },
    {
     "name": "stdout",
     "output_type": "stream",
     "text": [
      "Iter 790; Losses: RPN loc 0.1573, RPN cls: 0.4591, ROI loc 6.1685, ROI cls 2.1424, Total:8.9273\n"
     ]
    },
    {
     "name": "stderr",
     "output_type": "stream",
     "text": [
      "\r",
      "792it [53:40,  3.62s/it]"
     ]
    },
    {
     "name": "stdout",
     "output_type": "stream",
     "text": [
      "Iter 791; Losses: RPN loc 0.1009, RPN cls: 0.4082, ROI loc 8.0554, ROI cls 2.1424, Total:10.7069\n"
     ]
    },
    {
     "name": "stderr",
     "output_type": "stream",
     "text": [
      "\r",
      "793it [53:43,  3.55s/it]"
     ]
    },
    {
     "name": "stdout",
     "output_type": "stream",
     "text": [
      "Iter 792; Losses: RPN loc 0.0433, RPN cls: 0.5033, ROI loc 16.5630, ROI cls 2.1939, Total:19.3034\n"
     ]
    },
    {
     "name": "stderr",
     "output_type": "stream",
     "text": [
      "\r",
      "794it [53:47,  3.49s/it]"
     ]
    },
    {
     "name": "stdout",
     "output_type": "stream",
     "text": [
      "Iter 793; Losses: RPN loc 0.1068, RPN cls: 0.4365, ROI loc 5.7833, ROI cls 2.1335, Total:8.4600\n"
     ]
    },
    {
     "name": "stderr",
     "output_type": "stream",
     "text": [
      "\r",
      "795it [53:50,  3.60s/it]"
     ]
    },
    {
     "name": "stdout",
     "output_type": "stream",
     "text": [
      "Iter 794; Losses: RPN loc 0.0262, RPN cls: 0.3538, ROI loc 14.9314, ROI cls 2.2081, Total:17.5195\n"
     ]
    },
    {
     "name": "stderr",
     "output_type": "stream",
     "text": [
      "\r",
      "796it [53:54,  3.61s/it]"
     ]
    },
    {
     "name": "stdout",
     "output_type": "stream",
     "text": [
      "Iter 795; Losses: RPN loc 0.0121, RPN cls: 0.4226, ROI loc 44.8737, ROI cls 2.2420, Total:47.5504\n"
     ]
    },
    {
     "name": "stderr",
     "output_type": "stream",
     "text": [
      "\r",
      "797it [53:58,  3.67s/it]"
     ]
    },
    {
     "name": "stdout",
     "output_type": "stream",
     "text": [
      "Iter 796; Losses: RPN loc 0.2525, RPN cls: 0.5560, ROI loc 12.4035, ROI cls 2.1613, Total:15.3733\n"
     ]
    },
    {
     "name": "stderr",
     "output_type": "stream",
     "text": [
      "\r",
      "798it [54:02,  3.72s/it]"
     ]
    },
    {
     "name": "stdout",
     "output_type": "stream",
     "text": [
      "Iter 797; Losses: RPN loc 0.0419, RPN cls: 0.4227, ROI loc 18.0959, ROI cls 2.2279, Total:20.7885\n"
     ]
    },
    {
     "name": "stderr",
     "output_type": "stream",
     "text": [
      "\r",
      "799it [54:06,  3.75s/it]"
     ]
    },
    {
     "name": "stdout",
     "output_type": "stream",
     "text": [
      "Iter 798; Losses: RPN loc 0.3052, RPN cls: 0.5951, ROI loc 40.3244, ROI cls 2.3079, Total:43.5326\n"
     ]
    },
    {
     "name": "stderr",
     "output_type": "stream",
     "text": [
      "\r",
      "800it [54:09,  3.65s/it]"
     ]
    },
    {
     "name": "stdout",
     "output_type": "stream",
     "text": [
      "Iter 799; Losses: RPN loc 0.0211, RPN cls: 0.4320, ROI loc 13.1964, ROI cls 2.2232, Total:15.8727\n"
     ]
    },
    {
     "name": "stderr",
     "output_type": "stream",
     "text": [
      "\r",
      "801it [54:13,  3.64s/it]"
     ]
    },
    {
     "name": "stdout",
     "output_type": "stream",
     "text": [
      "Iter 800; Losses: RPN loc 0.1195, RPN cls: 0.4239, ROI loc 10.9771, ROI cls 2.1616, Total:13.6821\n"
     ]
    },
    {
     "name": "stderr",
     "output_type": "stream",
     "text": [
      "\r",
      "802it [54:16,  3.59s/it]"
     ]
    },
    {
     "name": "stdout",
     "output_type": "stream",
     "text": [
      "Iter 801; Losses: RPN loc 0.0544, RPN cls: 0.4227, ROI loc 5.4677, ROI cls 2.1334, Total:8.0781\n"
     ]
    },
    {
     "name": "stderr",
     "output_type": "stream",
     "text": [
      "\r",
      "803it [54:19,  3.54s/it]"
     ]
    },
    {
     "name": "stdout",
     "output_type": "stream",
     "text": [
      "Iter 802; Losses: RPN loc 1.1481, RPN cls: 0.5819, ROI loc 6.0575, ROI cls 2.1328, Total:9.9203\n"
     ]
    },
    {
     "name": "stderr",
     "output_type": "stream",
     "text": [
      "\r",
      "804it [54:23,  3.64s/it]"
     ]
    },
    {
     "name": "stdout",
     "output_type": "stream",
     "text": [
      "Iter 803; Losses: RPN loc 0.0505, RPN cls: 0.4087, ROI loc 4.7182, ROI cls 2.1325, Total:7.3098\n"
     ]
    },
    {
     "name": "stderr",
     "output_type": "stream",
     "text": [
      "\r",
      "805it [54:27,  3.71s/it]"
     ]
    },
    {
     "name": "stdout",
     "output_type": "stream",
     "text": [
      "Iter 804; Losses: RPN loc 0.2103, RPN cls: 0.5852, ROI loc 66.1223, ROI cls 2.2868, Total:69.2046\n"
     ]
    },
    {
     "name": "stderr",
     "output_type": "stream",
     "text": [
      "\r",
      "806it [54:31,  3.68s/it]"
     ]
    },
    {
     "name": "stdout",
     "output_type": "stream",
     "text": [
      "Iter 805; Losses: RPN loc 0.0843, RPN cls: 0.5292, ROI loc 93.0977, ROI cls 2.3014, Total:96.0125\n"
     ]
    },
    {
     "name": "stderr",
     "output_type": "stream",
     "text": [
      "\r",
      "807it [54:35,  3.83s/it]"
     ]
    },
    {
     "name": "stdout",
     "output_type": "stream",
     "text": [
      "Iter 806; Losses: RPN loc 0.7425, RPN cls: 0.9703, ROI loc 95.2272, ROI cls 2.3346, Total:99.2745\n"
     ]
    },
    {
     "name": "stderr",
     "output_type": "stream",
     "text": [
      "\r",
      "808it [54:39,  3.80s/it]"
     ]
    },
    {
     "name": "stdout",
     "output_type": "stream",
     "text": [
      "Iter 807; Losses: RPN loc 0.2657, RPN cls: 0.6860, ROI loc 29.5938, ROI cls 2.2621, Total:32.8076\n"
     ]
    },
    {
     "name": "stderr",
     "output_type": "stream",
     "text": [
      "\r",
      "809it [54:43,  3.82s/it]"
     ]
    },
    {
     "name": "stdout",
     "output_type": "stream",
     "text": [
      "Iter 808; Losses: RPN loc 0.1901, RPN cls: 0.6138, ROI loc 21.7554, ROI cls 2.2028, Total:24.7620\n"
     ]
    },
    {
     "name": "stderr",
     "output_type": "stream",
     "text": [
      "\r",
      "810it [54:47,  3.89s/it]"
     ]
    },
    {
     "name": "stdout",
     "output_type": "stream",
     "text": [
      "Iter 809; Losses: RPN loc 0.4622, RPN cls: 0.5877, ROI loc 56.8679, ROI cls 2.2588, Total:60.1766\n"
     ]
    },
    {
     "name": "stderr",
     "output_type": "stream",
     "text": [
      "\r",
      "811it [54:50,  3.76s/it]"
     ]
    },
    {
     "name": "stdout",
     "output_type": "stream",
     "text": [
      "Iter 810; Losses: RPN loc 0.1718, RPN cls: 0.4914, ROI loc 39.6097, ROI cls 2.2132, Total:42.4861\n"
     ]
    },
    {
     "name": "stderr",
     "output_type": "stream",
     "text": [
      "\r",
      "812it [54:54,  3.74s/it]"
     ]
    },
    {
     "name": "stdout",
     "output_type": "stream",
     "text": [
      "Iter 811; Losses: RPN loc 0.3373, RPN cls: 0.8616, ROI loc 59.8881, ROI cls 2.2618, Total:63.3489\n"
     ]
    },
    {
     "name": "stderr",
     "output_type": "stream",
     "text": [
      "\r",
      "813it [54:58,  3.74s/it]"
     ]
    },
    {
     "name": "stdout",
     "output_type": "stream",
     "text": [
      "Iter 812; Losses: RPN loc 0.1752, RPN cls: 0.8266, ROI loc 70.5568, ROI cls 2.3136, Total:73.8722\n"
     ]
    },
    {
     "name": "stderr",
     "output_type": "stream",
     "text": [
      "\r",
      "814it [55:01,  3.68s/it]"
     ]
    },
    {
     "name": "stdout",
     "output_type": "stream",
     "text": [
      "Iter 813; Losses: RPN loc 0.0259, RPN cls: 0.5316, ROI loc 40.6248, ROI cls 2.2506, Total:43.4329\n"
     ]
    },
    {
     "name": "stderr",
     "output_type": "stream",
     "text": [
      "\r",
      "815it [55:05,  3.63s/it]"
     ]
    },
    {
     "name": "stdout",
     "output_type": "stream",
     "text": [
      "Iter 814; Losses: RPN loc 0.3425, RPN cls: 0.8813, ROI loc 63.5312, ROI cls 2.3683, Total:67.1233\n"
     ]
    },
    {
     "name": "stderr",
     "output_type": "stream",
     "text": [
      "\r",
      "816it [55:08,  3.51s/it]"
     ]
    },
    {
     "name": "stdout",
     "output_type": "stream",
     "text": [
      "Iter 815; Losses: RPN loc 1.0671, RPN cls: 0.5281, ROI loc 2.9851, ROI cls 2.1342, Total:6.7144\n"
     ]
    },
    {
     "name": "stderr",
     "output_type": "stream",
     "text": [
      "\r",
      "817it [55:11,  3.51s/it]"
     ]
    },
    {
     "name": "stdout",
     "output_type": "stream",
     "text": [
      "Iter 816; Losses: RPN loc 0.4371, RPN cls: 0.7488, ROI loc 41.3934, ROI cls 2.2263, Total:44.8055\n"
     ]
    },
    {
     "name": "stderr",
     "output_type": "stream",
     "text": [
      "\r",
      "818it [55:15,  3.55s/it]"
     ]
    },
    {
     "name": "stdout",
     "output_type": "stream",
     "text": [
      "Iter 817; Losses: RPN loc 0.0472, RPN cls: 0.4292, ROI loc 15.7093, ROI cls 2.1523, Total:18.3380\n"
     ]
    },
    {
     "name": "stderr",
     "output_type": "stream",
     "text": [
      "\r",
      "819it [55:19,  3.65s/it]"
     ]
    },
    {
     "name": "stdout",
     "output_type": "stream",
     "text": [
      "Iter 818; Losses: RPN loc 0.0278, RPN cls: 0.4135, ROI loc 34.0305, ROI cls 2.1722, Total:36.6440\n"
     ]
    },
    {
     "name": "stderr",
     "output_type": "stream",
     "text": [
      "\r",
      "820it [55:22,  3.62s/it]"
     ]
    },
    {
     "name": "stdout",
     "output_type": "stream",
     "text": [
      "Iter 819; Losses: RPN loc 0.1774, RPN cls: 0.5428, ROI loc 34.9971, ROI cls 2.1826, Total:37.8998\n"
     ]
    },
    {
     "name": "stderr",
     "output_type": "stream",
     "text": [
      "\r",
      "821it [55:26,  3.69s/it]"
     ]
    },
    {
     "name": "stdout",
     "output_type": "stream",
     "text": [
      "Iter 820; Losses: RPN loc 0.1407, RPN cls: 0.4369, ROI loc 6.3678, ROI cls 2.1328, Total:9.0782\n"
     ]
    },
    {
     "name": "stderr",
     "output_type": "stream",
     "text": [
      "\r",
      "822it [55:30,  3.77s/it]"
     ]
    },
    {
     "name": "stdout",
     "output_type": "stream",
     "text": [
      "Iter 821; Losses: RPN loc 0.8047, RPN cls: 0.7769, ROI loc 183.9435, ROI cls 2.3990, Total:187.9241\n"
     ]
    },
    {
     "name": "stderr",
     "output_type": "stream",
     "text": [
      "\r",
      "823it [55:34,  3.71s/it]"
     ]
    },
    {
     "name": "stdout",
     "output_type": "stream",
     "text": [
      "Iter 822; Losses: RPN loc 0.2151, RPN cls: 0.4417, ROI loc 28.9038, ROI cls 2.1722, Total:31.7327\n"
     ]
    },
    {
     "name": "stderr",
     "output_type": "stream",
     "text": [
      "\r",
      "824it [55:37,  3.59s/it]"
     ]
    },
    {
     "name": "stdout",
     "output_type": "stream",
     "text": [
      "Iter 823; Losses: RPN loc 0.0632, RPN cls: 0.4901, ROI loc 100.9754, ROI cls 2.3466, Total:103.8753\n"
     ]
    },
    {
     "name": "stderr",
     "output_type": "stream",
     "text": [
      "\r",
      "825it [55:41,  3.60s/it]"
     ]
    },
    {
     "name": "stdout",
     "output_type": "stream",
     "text": [
      "Iter 824; Losses: RPN loc 0.0197, RPN cls: 0.4642, ROI loc 21.1273, ROI cls 2.2269, Total:23.8381\n"
     ]
    },
    {
     "name": "stderr",
     "output_type": "stream",
     "text": [
      "\r",
      "826it [55:44,  3.52s/it]"
     ]
    },
    {
     "name": "stdout",
     "output_type": "stream",
     "text": [
      "Iter 825; Losses: RPN loc 0.1900, RPN cls: 0.5361, ROI loc 19.9962, ROI cls 2.1857, Total:22.9079\n"
     ]
    },
    {
     "name": "stderr",
     "output_type": "stream",
     "text": [
      "\r",
      "827it [55:47,  3.47s/it]"
     ]
    },
    {
     "name": "stdout",
     "output_type": "stream",
     "text": [
      "Iter 826; Losses: RPN loc 0.0451, RPN cls: 0.4214, ROI loc 3.0951, ROI cls 2.1334, Total:5.6949\n"
     ]
    },
    {
     "name": "stderr",
     "output_type": "stream",
     "text": [
      "\r",
      "828it [55:51,  3.58s/it]"
     ]
    },
    {
     "name": "stdout",
     "output_type": "stream",
     "text": [
      "Iter 827; Losses: RPN loc 0.5467, RPN cls: 0.7358, ROI loc 64.3835, ROI cls 2.2392, Total:67.9052\n"
     ]
    },
    {
     "name": "stderr",
     "output_type": "stream",
     "text": [
      "\r",
      "829it [55:55,  3.62s/it]"
     ]
    },
    {
     "name": "stdout",
     "output_type": "stream",
     "text": [
      "Iter 828; Losses: RPN loc 0.1898, RPN cls: 0.4284, ROI loc 6.3034, ROI cls 2.1331, Total:9.0547\n"
     ]
    },
    {
     "name": "stderr",
     "output_type": "stream",
     "text": [
      "\r",
      "830it [55:58,  3.51s/it]"
     ]
    },
    {
     "name": "stdout",
     "output_type": "stream",
     "text": [
      "Iter 829; Losses: RPN loc 0.2398, RPN cls: 0.4872, ROI loc 111.9260, ROI cls 2.2420, Total:114.8951\n"
     ]
    },
    {
     "name": "stderr",
     "output_type": "stream",
     "text": [
      "\r",
      "831it [56:02,  3.53s/it]"
     ]
    },
    {
     "name": "stdout",
     "output_type": "stream",
     "text": [
      "Iter 830; Losses: RPN loc 0.0422, RPN cls: 0.4580, ROI loc 101.3541, ROI cls 2.2470, Total:104.1012\n"
     ]
    },
    {
     "name": "stderr",
     "output_type": "stream",
     "text": [
      "\r",
      "832it [56:06,  3.69s/it]"
     ]
    },
    {
     "name": "stdout",
     "output_type": "stream",
     "text": [
      "Iter 831; Losses: RPN loc 0.4065, RPN cls: 0.9299, ROI loc 208.5670, ROI cls 2.4115, Total:212.3148\n"
     ]
    },
    {
     "name": "stderr",
     "output_type": "stream",
     "text": [
      "\r",
      "833it [56:10,  3.74s/it]"
     ]
    },
    {
     "name": "stdout",
     "output_type": "stream",
     "text": [
      "Iter 832; Losses: RPN loc 0.3339, RPN cls: 0.5073, ROI loc 23.3479, ROI cls 2.1497, Total:26.3388\n"
     ]
    },
    {
     "name": "stderr",
     "output_type": "stream",
     "text": [
      "\r",
      "834it [56:13,  3.70s/it]"
     ]
    },
    {
     "name": "stdout",
     "output_type": "stream",
     "text": [
      "Iter 833; Losses: RPN loc 0.2562, RPN cls: 0.6467, ROI loc 71.1397, ROI cls 2.3118, Total:74.3545\n"
     ]
    },
    {
     "name": "stderr",
     "output_type": "stream",
     "text": [
      "\r",
      "835it [56:17,  3.76s/it]"
     ]
    },
    {
     "name": "stdout",
     "output_type": "stream",
     "text": [
      "Iter 834; Losses: RPN loc 0.1059, RPN cls: 0.5823, ROI loc 63.3969, ROI cls 2.2540, Total:66.3392\n"
     ]
    },
    {
     "name": "stderr",
     "output_type": "stream",
     "text": [
      "\r",
      "836it [56:21,  3.84s/it]"
     ]
    },
    {
     "name": "stdout",
     "output_type": "stream",
     "text": [
      "Iter 835; Losses: RPN loc 0.0109, RPN cls: 0.3956, ROI loc 20.5643, ROI cls 2.1874, Total:23.1582\n"
     ]
    },
    {
     "name": "stderr",
     "output_type": "stream",
     "text": [
      "\r",
      "837it [56:25,  3.82s/it]"
     ]
    },
    {
     "name": "stdout",
     "output_type": "stream",
     "text": [
      "Iter 836; Losses: RPN loc 0.2156, RPN cls: 0.7951, ROI loc 45.3549, ROI cls 2.2504, Total:48.6160\n"
     ]
    },
    {
     "name": "stderr",
     "output_type": "stream",
     "text": [
      "\r",
      "838it [56:29,  3.94s/it]"
     ]
    },
    {
     "name": "stdout",
     "output_type": "stream",
     "text": [
      "Iter 837; Losses: RPN loc 2.1250, RPN cls: 1.1945, ROI loc 80.6352, ROI cls 2.2856, Total:86.2403\n"
     ]
    },
    {
     "name": "stderr",
     "output_type": "stream",
     "text": [
      "\r",
      "839it [56:33,  3.97s/it]"
     ]
    },
    {
     "name": "stdout",
     "output_type": "stream",
     "text": [
      "Iter 838; Losses: RPN loc 0.2415, RPN cls: 0.5651, ROI loc 60.9014, ROI cls 2.2392, Total:63.9472\n"
     ]
    },
    {
     "name": "stderr",
     "output_type": "stream",
     "text": [
      "\r",
      "840it [56:37,  3.94s/it]"
     ]
    },
    {
     "name": "stdout",
     "output_type": "stream",
     "text": [
      "Iter 839; Losses: RPN loc 0.2759, RPN cls: 0.6076, ROI loc 99.9669, ROI cls 2.3232, Total:103.1735\n"
     ]
    },
    {
     "name": "stderr",
     "output_type": "stream",
     "text": [
      "\r",
      "841it [56:41,  3.92s/it]"
     ]
    },
    {
     "name": "stdout",
     "output_type": "stream",
     "text": [
      "Iter 840; Losses: RPN loc 0.3474, RPN cls: 0.8060, ROI loc 137.8325, ROI cls 2.4014, Total:141.3873\n"
     ]
    },
    {
     "name": "stderr",
     "output_type": "stream",
     "text": [
      "\r",
      "842it [56:45,  3.90s/it]"
     ]
    },
    {
     "name": "stdout",
     "output_type": "stream",
     "text": [
      "Iter 841; Losses: RPN loc 0.5325, RPN cls: 0.6925, ROI loc 76.2139, ROI cls 2.2839, Total:79.7227\n"
     ]
    },
    {
     "name": "stderr",
     "output_type": "stream",
     "text": [
      "\r",
      "843it [56:49,  4.02s/it]"
     ]
    },
    {
     "name": "stdout",
     "output_type": "stream",
     "text": [
      "Iter 842; Losses: RPN loc 0.6027, RPN cls: 0.8619, ROI loc 35.7712, ROI cls 2.2815, Total:39.5174\n"
     ]
    },
    {
     "name": "stderr",
     "output_type": "stream",
     "text": [
      "\r",
      "844it [56:53,  3.95s/it]"
     ]
    },
    {
     "name": "stdout",
     "output_type": "stream",
     "text": [
      "Iter 843; Losses: RPN loc 0.2611, RPN cls: 0.7563, ROI loc 98.6934, ROI cls 2.3892, Total:102.1000\n"
     ]
    },
    {
     "name": "stderr",
     "output_type": "stream",
     "text": [
      "\r",
      "845it [56:57,  3.97s/it]"
     ]
    },
    {
     "name": "stdout",
     "output_type": "stream",
     "text": [
      "Iter 844; Losses: RPN loc 0.6943, RPN cls: 0.7847, ROI loc 71.2956, ROI cls 2.3214, Total:75.0961\n"
     ]
    },
    {
     "name": "stderr",
     "output_type": "stream",
     "text": [
      "\r",
      "846it [57:01,  3.95s/it]"
     ]
    },
    {
     "name": "stdout",
     "output_type": "stream",
     "text": [
      "Iter 845; Losses: RPN loc 0.0511, RPN cls: 0.4231, ROI loc 27.9917, ROI cls 2.1927, Total:30.6586\n"
     ]
    },
    {
     "name": "stderr",
     "output_type": "stream",
     "text": [
      "\r",
      "847it [57:05,  3.88s/it]"
     ]
    },
    {
     "name": "stdout",
     "output_type": "stream",
     "text": [
      "Iter 846; Losses: RPN loc 0.3973, RPN cls: 0.4525, ROI loc 4.4263, ROI cls 2.1414, Total:7.4175\n"
     ]
    },
    {
     "name": "stderr",
     "output_type": "stream",
     "text": [
      "\r",
      "848it [57:08,  3.84s/it]"
     ]
    },
    {
     "name": "stdout",
     "output_type": "stream",
     "text": [
      "Iter 847; Losses: RPN loc 0.2974, RPN cls: 0.8034, ROI loc 68.7752, ROI cls 2.3368, Total:72.2127\n"
     ]
    },
    {
     "name": "stderr",
     "output_type": "stream",
     "text": [
      "\r",
      "849it [57:12,  3.82s/it]"
     ]
    },
    {
     "name": "stdout",
     "output_type": "stream",
     "text": [
      "Iter 848; Losses: RPN loc 0.0576, RPN cls: 0.5104, ROI loc 25.6910, ROI cls 2.2375, Total:28.4965\n"
     ]
    },
    {
     "name": "stderr",
     "output_type": "stream",
     "text": [
      "\r",
      "850it [57:16,  3.84s/it]"
     ]
    },
    {
     "name": "stdout",
     "output_type": "stream",
     "text": [
      "Iter 849; Losses: RPN loc 0.0883, RPN cls: 0.7479, ROI loc 40.4889, ROI cls 2.2962, Total:43.6215\n"
     ]
    },
    {
     "name": "stderr",
     "output_type": "stream",
     "text": [
      "\r",
      "851it [57:20,  3.79s/it]"
     ]
    },
    {
     "name": "stdout",
     "output_type": "stream",
     "text": [
      "Iter 850; Losses: RPN loc 0.4799, RPN cls: 0.7239, ROI loc 35.1171, ROI cls 2.2835, Total:38.6045\n"
     ]
    },
    {
     "name": "stderr",
     "output_type": "stream",
     "text": [
      "\r",
      "852it [57:23,  3.76s/it]"
     ]
    },
    {
     "name": "stdout",
     "output_type": "stream",
     "text": [
      "Iter 851; Losses: RPN loc 0.0239, RPN cls: 0.3811, ROI loc 14.8726, ROI cls 2.1868, Total:17.4644\n"
     ]
    },
    {
     "name": "stderr",
     "output_type": "stream",
     "text": [
      "\r",
      "853it [57:28,  3.91s/it]"
     ]
    },
    {
     "name": "stdout",
     "output_type": "stream",
     "text": [
      "Iter 852; Losses: RPN loc 0.0947, RPN cls: 0.4493, ROI loc 18.1477, ROI cls 2.2156, Total:20.9073\n"
     ]
    },
    {
     "name": "stderr",
     "output_type": "stream",
     "text": [
      "\r",
      "854it [57:32,  3.90s/it]"
     ]
    },
    {
     "name": "stdout",
     "output_type": "stream",
     "text": [
      "Iter 853; Losses: RPN loc 0.0589, RPN cls: 0.5618, ROI loc 37.9603, ROI cls 2.2713, Total:40.8524\n"
     ]
    },
    {
     "name": "stderr",
     "output_type": "stream",
     "text": [
      "\r",
      "855it [57:35,  3.90s/it]"
     ]
    },
    {
     "name": "stdout",
     "output_type": "stream",
     "text": [
      "Iter 854; Losses: RPN loc 0.1438, RPN cls: 0.5109, ROI loc 35.3477, ROI cls 2.2482, Total:38.2505\n"
     ]
    },
    {
     "name": "stderr",
     "output_type": "stream",
     "text": [
      "\r",
      "856it [57:39,  3.86s/it]"
     ]
    },
    {
     "name": "stdout",
     "output_type": "stream",
     "text": [
      "Iter 855; Losses: RPN loc 0.2868, RPN cls: 0.5753, ROI loc 61.2029, ROI cls 2.3590, Total:64.4239\n"
     ]
    },
    {
     "name": "stderr",
     "output_type": "stream",
     "text": [
      "\r",
      "857it [57:43,  3.85s/it]"
     ]
    },
    {
     "name": "stdout",
     "output_type": "stream",
     "text": [
      "Iter 856; Losses: RPN loc 0.3086, RPN cls: 0.5325, ROI loc 47.9659, ROI cls 2.2791, Total:51.0861\n"
     ]
    },
    {
     "name": "stderr",
     "output_type": "stream",
     "text": [
      "\r",
      "858it [57:47,  3.91s/it]"
     ]
    },
    {
     "name": "stdout",
     "output_type": "stream",
     "text": [
      "Iter 857; Losses: RPN loc 0.2401, RPN cls: 0.3997, ROI loc 32.1522, ROI cls 2.2492, Total:35.0412\n"
     ]
    },
    {
     "name": "stderr",
     "output_type": "stream",
     "text": [
      "\r",
      "859it [57:51,  3.85s/it]"
     ]
    },
    {
     "name": "stdout",
     "output_type": "stream",
     "text": [
      "Iter 858; Losses: RPN loc 0.5220, RPN cls: 1.0425, ROI loc 38.5031, ROI cls 2.3547, Total:42.4223\n"
     ]
    },
    {
     "name": "stderr",
     "output_type": "stream",
     "text": [
      "\r",
      "860it [57:54,  3.78s/it]"
     ]
    },
    {
     "name": "stdout",
     "output_type": "stream",
     "text": [
      "Iter 859; Losses: RPN loc 0.1429, RPN cls: 0.7893, ROI loc 21.8483, ROI cls 2.2375, Total:25.0179\n"
     ]
    },
    {
     "name": "stderr",
     "output_type": "stream",
     "text": [
      "\r",
      "861it [57:58,  3.84s/it]"
     ]
    },
    {
     "name": "stdout",
     "output_type": "stream",
     "text": [
      "Iter 860; Losses: RPN loc 0.5902, RPN cls: 0.5610, ROI loc 10.8875, ROI cls 2.1497, Total:14.1885\n"
     ]
    },
    {
     "name": "stderr",
     "output_type": "stream",
     "text": [
      "\r",
      "862it [58:02,  3.84s/it]"
     ]
    },
    {
     "name": "stdout",
     "output_type": "stream",
     "text": [
      "Iter 861; Losses: RPN loc 0.1504, RPN cls: 0.4712, ROI loc 11.0054, ROI cls 2.1415, Total:13.7686\n"
     ]
    },
    {
     "name": "stderr",
     "output_type": "stream",
     "text": [
      "\r",
      "863it [58:07,  4.01s/it]"
     ]
    },
    {
     "name": "stdout",
     "output_type": "stream",
     "text": [
      "Iter 862; Losses: RPN loc 0.3554, RPN cls: 0.7367, ROI loc 109.8602, ROI cls 2.3356, Total:113.2878\n"
     ]
    },
    {
     "name": "stderr",
     "output_type": "stream",
     "text": [
      "\r",
      "864it [58:10,  3.96s/it]"
     ]
    },
    {
     "name": "stdout",
     "output_type": "stream",
     "text": [
      "Iter 863; Losses: RPN loc 0.5524, RPN cls: 0.8787, ROI loc 62.1548, ROI cls 2.2713, Total:65.8573\n"
     ]
    },
    {
     "name": "stderr",
     "output_type": "stream",
     "text": [
      "\r",
      "865it [58:14,  3.87s/it]"
     ]
    },
    {
     "name": "stdout",
     "output_type": "stream",
     "text": [
      "Iter 864; Losses: RPN loc 0.0346, RPN cls: 0.4570, ROI loc 16.9034, ROI cls 2.2081, Total:19.6030\n"
     ]
    },
    {
     "name": "stderr",
     "output_type": "stream",
     "text": [
      "\r",
      "866it [58:18,  3.82s/it]"
     ]
    },
    {
     "name": "stdout",
     "output_type": "stream",
     "text": [
      "Iter 865; Losses: RPN loc 0.1107, RPN cls: 0.4947, ROI loc 9.8435, ROI cls 2.1979, Total:12.6468\n"
     ]
    },
    {
     "name": "stderr",
     "output_type": "stream",
     "text": [
      "\r",
      "867it [58:21,  3.62s/it]"
     ]
    },
    {
     "name": "stdout",
     "output_type": "stream",
     "text": [
      "Iter 866; Losses: RPN loc 0.1481, RPN cls: 0.5497, ROI loc 41.3533, ROI cls 2.2210, Total:44.2720\n"
     ]
    },
    {
     "name": "stderr",
     "output_type": "stream",
     "text": [
      "\r",
      "868it [58:25,  3.66s/it]"
     ]
    },
    {
     "name": "stdout",
     "output_type": "stream",
     "text": [
      "Iter 867; Losses: RPN loc 0.2655, RPN cls: 0.6544, ROI loc 57.8440, ROI cls 2.2424, Total:61.0063\n"
     ]
    },
    {
     "name": "stderr",
     "output_type": "stream",
     "text": [
      "\r",
      "869it [58:29,  3.73s/it]"
     ]
    },
    {
     "name": "stdout",
     "output_type": "stream",
     "text": [
      "Iter 868; Losses: RPN loc 0.0767, RPN cls: 0.4399, ROI loc 28.7457, ROI cls 2.2158, Total:31.4780\n"
     ]
    },
    {
     "name": "stderr",
     "output_type": "stream",
     "text": [
      "\r",
      "870it [58:33,  3.78s/it]"
     ]
    },
    {
     "name": "stdout",
     "output_type": "stream",
     "text": [
      "Iter 869; Losses: RPN loc 1.1339, RPN cls: 1.0714, ROI loc 63.7041, ROI cls 2.2971, Total:68.2065\n"
     ]
    },
    {
     "name": "stderr",
     "output_type": "stream",
     "text": [
      "\r",
      "871it [58:36,  3.71s/it]"
     ]
    },
    {
     "name": "stdout",
     "output_type": "stream",
     "text": [
      "Iter 870; Losses: RPN loc 0.1523, RPN cls: 0.6726, ROI loc 26.4500, ROI cls 2.3192, Total:29.5942\n"
     ]
    },
    {
     "name": "stderr",
     "output_type": "stream",
     "text": [
      "\r",
      "872it [58:40,  3.70s/it]"
     ]
    },
    {
     "name": "stdout",
     "output_type": "stream",
     "text": [
      "Iter 871; Losses: RPN loc 0.0517, RPN cls: 0.4110, ROI loc 7.4539, ROI cls 2.1430, Total:10.0595\n"
     ]
    },
    {
     "name": "stderr",
     "output_type": "stream",
     "text": [
      "\r",
      "873it [58:43,  3.56s/it]"
     ]
    },
    {
     "name": "stdout",
     "output_type": "stream",
     "text": [
      "Iter 872; Losses: RPN loc 0.0241, RPN cls: 0.4847, ROI loc 28.2142, ROI cls 2.2705, Total:30.9935\n"
     ]
    },
    {
     "name": "stderr",
     "output_type": "stream",
     "text": [
      "\r",
      "874it [58:47,  3.57s/it]"
     ]
    },
    {
     "name": "stdout",
     "output_type": "stream",
     "text": [
      "Iter 873; Losses: RPN loc 0.0429, RPN cls: 0.4993, ROI loc 32.8377, ROI cls 2.2660, Total:35.6460\n"
     ]
    },
    {
     "name": "stderr",
     "output_type": "stream",
     "text": [
      "\r",
      "875it [58:50,  3.58s/it]"
     ]
    },
    {
     "name": "stdout",
     "output_type": "stream",
     "text": [
      "Iter 874; Losses: RPN loc 0.4741, RPN cls: 0.9898, ROI loc 34.7976, ROI cls 2.2851, Total:38.5466\n"
     ]
    },
    {
     "name": "stderr",
     "output_type": "stream",
     "text": [
      "\r",
      "876it [58:54,  3.77s/it]"
     ]
    },
    {
     "name": "stdout",
     "output_type": "stream",
     "text": [
      "Iter 875; Losses: RPN loc 0.4793, RPN cls: 0.4838, ROI loc 3.1000, ROI cls 2.1319, Total:6.1949\n"
     ]
    },
    {
     "name": "stderr",
     "output_type": "stream",
     "text": [
      "\r",
      "877it [58:58,  3.79s/it]"
     ]
    },
    {
     "name": "stdout",
     "output_type": "stream",
     "text": [
      "Iter 876; Losses: RPN loc 0.0516, RPN cls: 0.4195, ROI loc 16.2597, ROI cls 2.1703, Total:18.9011\n"
     ]
    },
    {
     "name": "stderr",
     "output_type": "stream",
     "text": [
      "\r",
      "878it [59:02,  3.81s/it]"
     ]
    },
    {
     "name": "stdout",
     "output_type": "stream",
     "text": [
      "Iter 877; Losses: RPN loc 0.1577, RPN cls: 0.5082, ROI loc 6.9718, ROI cls 2.1424, Total:9.7801\n"
     ]
    },
    {
     "name": "stderr",
     "output_type": "stream",
     "text": [
      "\r",
      "879it [59:06,  3.72s/it]"
     ]
    },
    {
     "name": "stdout",
     "output_type": "stream",
     "text": [
      "Iter 878; Losses: RPN loc 0.5465, RPN cls: 0.8817, ROI loc 41.4522, ROI cls 2.3076, Total:45.1880\n"
     ]
    },
    {
     "name": "stderr",
     "output_type": "stream",
     "text": [
      "\r",
      "880it [59:10,  3.87s/it]"
     ]
    },
    {
     "name": "stdout",
     "output_type": "stream",
     "text": [
      "Iter 879; Losses: RPN loc 0.1120, RPN cls: 0.5874, ROI loc 19.3333, ROI cls 2.2372, Total:22.2700\n"
     ]
    },
    {
     "name": "stderr",
     "output_type": "stream",
     "text": [
      "\r",
      "881it [59:13,  3.79s/it]"
     ]
    },
    {
     "name": "stdout",
     "output_type": "stream",
     "text": [
      "Iter 880; Losses: RPN loc 0.1994, RPN cls: 0.6771, ROI loc 16.7243, ROI cls 2.2506, Total:19.8515\n"
     ]
    },
    {
     "name": "stderr",
     "output_type": "stream",
     "text": [
      "\r",
      "882it [59:17,  3.75s/it]"
     ]
    },
    {
     "name": "stdout",
     "output_type": "stream",
     "text": [
      "Iter 881; Losses: RPN loc 0.1638, RPN cls: 0.4676, ROI loc 31.5004, ROI cls 2.2458, Total:34.3776\n"
     ]
    },
    {
     "name": "stderr",
     "output_type": "stream",
     "text": [
      "\r",
      "883it [59:21,  3.74s/it]"
     ]
    },
    {
     "name": "stdout",
     "output_type": "stream",
     "text": [
      "Iter 882; Losses: RPN loc 0.4404, RPN cls: 0.9607, ROI loc 44.7700, ROI cls 2.3342, Total:48.5053\n"
     ]
    },
    {
     "name": "stderr",
     "output_type": "stream",
     "text": [
      "\r",
      "884it [59:25,  3.78s/it]"
     ]
    },
    {
     "name": "stdout",
     "output_type": "stream",
     "text": [
      "Iter 883; Losses: RPN loc 0.5096, RPN cls: 0.6521, ROI loc 17.9442, ROI cls 2.1666, Total:21.2726\n"
     ]
    },
    {
     "ename": "KeyboardInterrupt",
     "evalue": "",
     "output_type": "error",
     "traceback": [
      "\u001b[0;31m\u001b[0m",
      "\u001b[0;31mKeyboardInterrupt\u001b[0mTraceback (most recent call last)",
      "\u001b[0;32m<ipython-input-30-95183230d096>\u001b[0m in \u001b[0;36m<module>\u001b[0;34m()\u001b[0m\n\u001b[1;32m      1\u001b[0m \u001b[0;34m\u001b[0m\u001b[0m\n\u001b[0;32m----> 2\u001b[0;31m \u001b[0mtrain\u001b[0m\u001b[0;34m(\u001b[0m\u001b[0mtrain_set\u001b[0m\u001b[0;34m,\u001b[0m\u001b[0mval_set\u001b[0m\u001b[0;34m,\u001b[0m \u001b[0mload_path\u001b[0m \u001b[0;34m=\u001b[0m \u001b[0;32mFalse\u001b[0m\u001b[0;34m,\u001b[0m \u001b[0mepochs\u001b[0m \u001b[0;34m=\u001b[0m \u001b[0;36m1\u001b[0m\u001b[0;34m,\u001b[0m \u001b[0mlr\u001b[0m\u001b[0;34m=\u001b[0m\u001b[0;36m1e-3\u001b[0m\u001b[0;34m,\u001b[0m \u001b[0mrecord_every\u001b[0m \u001b[0;34m=\u001b[0m\u001b[0;36m40\u001b[0m\u001b[0;34m)\u001b[0m\u001b[0;34m\u001b[0m\u001b[0;34m\u001b[0m\u001b[0m\n\u001b[0m",
      "\u001b[0;32m<ipython-input-28-48c13e734b44>\u001b[0m in \u001b[0;36mtrain\u001b[0;34m(train_set, val_set, load_path, epochs, lr, record_every, lr_decay, test_num)\u001b[0m\n\u001b[1;32m     64\u001b[0m             \u001b[0mscale\u001b[0m \u001b[0;34m=\u001b[0m \u001b[0mat\u001b[0m\u001b[0;34m.\u001b[0m\u001b[0mscalar\u001b[0m\u001b[0;34m(\u001b[0m\u001b[0mscale\u001b[0m\u001b[0;34m)\u001b[0m\u001b[0;34m\u001b[0m\u001b[0;34m\u001b[0m\u001b[0m\n\u001b[1;32m     65\u001b[0m             \u001b[0mimg\u001b[0m\u001b[0;34m,\u001b[0m \u001b[0mbbox\u001b[0m\u001b[0;34m,\u001b[0m \u001b[0mlabel\u001b[0m \u001b[0;34m=\u001b[0m \u001b[0mimg\u001b[0m\u001b[0;34m.\u001b[0m\u001b[0mcuda\u001b[0m\u001b[0;34m(\u001b[0m\u001b[0;34m)\u001b[0m\u001b[0;34m.\u001b[0m\u001b[0mfloat\u001b[0m\u001b[0;34m(\u001b[0m\u001b[0;34m)\u001b[0m\u001b[0;34m,\u001b[0m \u001b[0mbbox_\u001b[0m\u001b[0;34m.\u001b[0m\u001b[0mcuda\u001b[0m\u001b[0;34m(\u001b[0m\u001b[0;34m)\u001b[0m\u001b[0;34m,\u001b[0m \u001b[0mlabel_\u001b[0m\u001b[0;34m.\u001b[0m\u001b[0mcuda\u001b[0m\u001b[0;34m(\u001b[0m\u001b[0;34m)\u001b[0m\u001b[0;34m\u001b[0m\u001b[0;34m\u001b[0m\u001b[0m\n\u001b[0;32m---> 66\u001b[0;31m             \u001b[0mlosses\u001b[0m \u001b[0;34m=\u001b[0m \u001b[0mtrainer\u001b[0m\u001b[0;34m.\u001b[0m\u001b[0mtrain_step\u001b[0m\u001b[0;34m(\u001b[0m\u001b[0mimg\u001b[0m\u001b[0;34m,\u001b[0m \u001b[0mbbox\u001b[0m\u001b[0;34m,\u001b[0m \u001b[0mlabel\u001b[0m\u001b[0;34m,\u001b[0m \u001b[0mscale\u001b[0m\u001b[0;34m)\u001b[0m\u001b[0;34m\u001b[0m\u001b[0;34m\u001b[0m\u001b[0m\n\u001b[0m\u001b[1;32m     67\u001b[0m             loss_info = 'Iter {}; Losses: RPN loc {}, RPN cls: {}, ROI loc {}, ROI cls {}, Total:{}'.format(\n\u001b[1;32m     68\u001b[0m                                                 \u001b[0mstr\u001b[0m\u001b[0;34m(\u001b[0m\u001b[0mii\u001b[0m\u001b[0;34m)\u001b[0m\u001b[0;34m,\u001b[0m\u001b[0;34m\u001b[0m\u001b[0;34m\u001b[0m\u001b[0m\n",
      "\u001b[0;32m/datasets/home/home-02/50/150/prvo/Multi-Object-Detection/trainer.py\u001b[0m in \u001b[0;36mtrain_step\u001b[0;34m(self, imgs, bboxes, labels, scale)\u001b[0m\n\u001b[1;32m    173\u001b[0m         \u001b[0mself\u001b[0m\u001b[0;34m.\u001b[0m\u001b[0moptimizer\u001b[0m\u001b[0;34m.\u001b[0m\u001b[0mzero_grad\u001b[0m\u001b[0;34m(\u001b[0m\u001b[0;34m)\u001b[0m\u001b[0;34m\u001b[0m\u001b[0;34m\u001b[0m\u001b[0m\n\u001b[1;32m    174\u001b[0m         \u001b[0mlosses\u001b[0m \u001b[0;34m=\u001b[0m \u001b[0mself\u001b[0m\u001b[0;34m.\u001b[0m\u001b[0mforward\u001b[0m\u001b[0;34m(\u001b[0m\u001b[0mimgs\u001b[0m\u001b[0;34m,\u001b[0m \u001b[0mbboxes\u001b[0m\u001b[0;34m,\u001b[0m \u001b[0mlabels\u001b[0m\u001b[0;34m,\u001b[0m \u001b[0mscale\u001b[0m\u001b[0;34m)\u001b[0m\u001b[0;34m\u001b[0m\u001b[0;34m\u001b[0m\u001b[0m\n\u001b[0;32m--> 175\u001b[0;31m         \u001b[0mlosses\u001b[0m\u001b[0;34m.\u001b[0m\u001b[0mtotal_loss\u001b[0m\u001b[0;34m.\u001b[0m\u001b[0mbackward\u001b[0m\u001b[0;34m(\u001b[0m\u001b[0;34m)\u001b[0m\u001b[0;34m\u001b[0m\u001b[0;34m\u001b[0m\u001b[0m\n\u001b[0m\u001b[1;32m    176\u001b[0m         \u001b[0mself\u001b[0m\u001b[0;34m.\u001b[0m\u001b[0moptimizer\u001b[0m\u001b[0;34m.\u001b[0m\u001b[0mstep\u001b[0m\u001b[0;34m(\u001b[0m\u001b[0;34m)\u001b[0m\u001b[0;34m\u001b[0m\u001b[0;34m\u001b[0m\u001b[0m\n\u001b[1;32m    177\u001b[0m         \u001b[0;32mwith\u001b[0m \u001b[0mtorch\u001b[0m\u001b[0;34m.\u001b[0m\u001b[0mno_grad\u001b[0m\u001b[0;34m(\u001b[0m\u001b[0;34m)\u001b[0m\u001b[0;34m:\u001b[0m\u001b[0;34m\u001b[0m\u001b[0;34m\u001b[0m\u001b[0m\n",
      "\u001b[0;32m/opt/conda/lib/python3.6/site-packages/torch/tensor.py\u001b[0m in \u001b[0;36mbackward\u001b[0;34m(self, gradient, retain_graph, create_graph)\u001b[0m\n\u001b[1;32m    100\u001b[0m                 \u001b[0mproducts\u001b[0m\u001b[0;34m.\u001b[0m \u001b[0mDefaults\u001b[0m \u001b[0mto\u001b[0m\u001b[0;31m \u001b[0m\u001b[0;31m`\u001b[0m\u001b[0;31m`\u001b[0m\u001b[0;32mFalse\u001b[0m\u001b[0;31m`\u001b[0m\u001b[0;31m`\u001b[0m\u001b[0;34m.\u001b[0m\u001b[0;34m\u001b[0m\u001b[0;34m\u001b[0m\u001b[0m\n\u001b[1;32m    101\u001b[0m         \"\"\"\n\u001b[0;32m--> 102\u001b[0;31m         \u001b[0mtorch\u001b[0m\u001b[0;34m.\u001b[0m\u001b[0mautograd\u001b[0m\u001b[0;34m.\u001b[0m\u001b[0mbackward\u001b[0m\u001b[0;34m(\u001b[0m\u001b[0mself\u001b[0m\u001b[0;34m,\u001b[0m \u001b[0mgradient\u001b[0m\u001b[0;34m,\u001b[0m \u001b[0mretain_graph\u001b[0m\u001b[0;34m,\u001b[0m \u001b[0mcreate_graph\u001b[0m\u001b[0;34m)\u001b[0m\u001b[0;34m\u001b[0m\u001b[0;34m\u001b[0m\u001b[0m\n\u001b[0m\u001b[1;32m    103\u001b[0m \u001b[0;34m\u001b[0m\u001b[0m\n\u001b[1;32m    104\u001b[0m     \u001b[0;32mdef\u001b[0m \u001b[0mregister_hook\u001b[0m\u001b[0;34m(\u001b[0m\u001b[0mself\u001b[0m\u001b[0;34m,\u001b[0m \u001b[0mhook\u001b[0m\u001b[0;34m)\u001b[0m\u001b[0;34m:\u001b[0m\u001b[0;34m\u001b[0m\u001b[0;34m\u001b[0m\u001b[0m\n",
      "\u001b[0;32m/opt/conda/lib/python3.6/site-packages/torch/autograd/__init__.py\u001b[0m in \u001b[0;36mbackward\u001b[0;34m(tensors, grad_tensors, retain_graph, create_graph, grad_variables)\u001b[0m\n\u001b[1;32m     88\u001b[0m     Variable._execution_engine.run_backward(\n\u001b[1;32m     89\u001b[0m         \u001b[0mtensors\u001b[0m\u001b[0;34m,\u001b[0m \u001b[0mgrad_tensors\u001b[0m\u001b[0;34m,\u001b[0m \u001b[0mretain_graph\u001b[0m\u001b[0;34m,\u001b[0m \u001b[0mcreate_graph\u001b[0m\u001b[0;34m,\u001b[0m\u001b[0;34m\u001b[0m\u001b[0;34m\u001b[0m\u001b[0m\n\u001b[0;32m---> 90\u001b[0;31m         allow_unreachable=True)  # allow_unreachable flag\n\u001b[0m\u001b[1;32m     91\u001b[0m \u001b[0;34m\u001b[0m\u001b[0m\n\u001b[1;32m     92\u001b[0m \u001b[0;34m\u001b[0m\u001b[0m\n",
      "\u001b[0;31mKeyboardInterrupt\u001b[0m: "
     ]
    }
   ],
   "source": [
    "\n",
    "train(train_set,val_set, load_path = False, epochs = 1, lr=1e-3, record_every =40)"
   ]
  },
  {
   "cell_type": "code",
   "execution_count": 10,
   "metadata": {},
   "outputs": [
    {
     "name": "stderr",
     "output_type": "stream",
     "text": [
      "\n",
      "0it [00:00, ?it/s]\u001b[A\n",
      "\u001b[A"
     ]
    },
    {
     "ename": "ValueError",
     "evalue": "only one element tensors can be converted to Python scalars",
     "output_type": "error",
     "traceback": [
      "\u001b[0;31m\u001b[0m",
      "\u001b[0;31mValueError\u001b[0mTraceback (most recent call last)",
      "\u001b[0;32m<ipython-input-10-65430a026b43>\u001b[0m in \u001b[0;36m<module>\u001b[0;34m()\u001b[0m\n\u001b[0;32m----> 1\u001b[0;31m \u001b[0meval\u001b[0m\u001b[0;34m(\u001b[0m\u001b[0mval_loader\u001b[0m\u001b[0;34m,\u001b[0m\u001b[0mrfcn\u001b[0m\u001b[0;34m,\u001b[0m\u001b[0mtest_num\u001b[0m\u001b[0;34m=\u001b[0m\u001b[0;36m10\u001b[0m\u001b[0;34m)\u001b[0m\u001b[0;34m\u001b[0m\u001b[0;34m\u001b[0m\u001b[0m\n\u001b[0m",
      "\u001b[0;32m<ipython-input-9-1847fa10b337>\u001b[0m in \u001b[0;36meval\u001b[0;34m(dataloader, faster_rcnn, test_num)\u001b[0m\n\u001b[1;32m     31\u001b[0m     \u001b[0mgt_bboxes\u001b[0m\u001b[0;34m,\u001b[0m \u001b[0mgt_labels\u001b[0m\u001b[0;34m,\u001b[0m \u001b[0mgt_difficults\u001b[0m \u001b[0;34m=\u001b[0m \u001b[0mlist\u001b[0m\u001b[0;34m(\u001b[0m\u001b[0;34m)\u001b[0m\u001b[0;34m,\u001b[0m \u001b[0mlist\u001b[0m\u001b[0;34m(\u001b[0m\u001b[0;34m)\u001b[0m\u001b[0;34m,\u001b[0m \u001b[0mlist\u001b[0m\u001b[0;34m(\u001b[0m\u001b[0;34m)\u001b[0m\u001b[0;34m\u001b[0m\u001b[0;34m\u001b[0m\u001b[0m\n\u001b[1;32m     32\u001b[0m     \u001b[0;32mfor\u001b[0m \u001b[0mii\u001b[0m\u001b[0;34m,\u001b[0m \u001b[0;34m(\u001b[0m\u001b[0mimgs\u001b[0m\u001b[0;34m,\u001b[0m \u001b[0msizes\u001b[0m\u001b[0;34m,\u001b[0m \u001b[0mgt_bboxes_\u001b[0m\u001b[0;34m,\u001b[0m \u001b[0mgt_labels_\u001b[0m\u001b[0;34m)\u001b[0m \u001b[0;32min\u001b[0m \u001b[0mtqdm\u001b[0m\u001b[0;34m(\u001b[0m\u001b[0menumerate\u001b[0m\u001b[0;34m(\u001b[0m\u001b[0mdataloader\u001b[0m\u001b[0;34m)\u001b[0m\u001b[0;34m)\u001b[0m\u001b[0;34m:\u001b[0m\u001b[0;34m\u001b[0m\u001b[0;34m\u001b[0m\u001b[0m\n\u001b[0;32m---> 33\u001b[0;31m         \u001b[0msizes\u001b[0m \u001b[0;34m=\u001b[0m \u001b[0;34m[\u001b[0m\u001b[0msizes\u001b[0m\u001b[0;34m[\u001b[0m\u001b[0;36m0\u001b[0m\u001b[0;34m]\u001b[0m\u001b[0;34m[\u001b[0m\u001b[0;36m0\u001b[0m\u001b[0;34m]\u001b[0m\u001b[0;34m.\u001b[0m\u001b[0mitem\u001b[0m\u001b[0;34m(\u001b[0m\u001b[0;34m)\u001b[0m\u001b[0;34m,\u001b[0m \u001b[0msizes\u001b[0m\u001b[0;34m[\u001b[0m\u001b[0;36m1\u001b[0m\u001b[0;34m]\u001b[0m\u001b[0;34m[\u001b[0m\u001b[0;36m0\u001b[0m\u001b[0;34m]\u001b[0m\u001b[0;34m.\u001b[0m\u001b[0mitem\u001b[0m\u001b[0;34m(\u001b[0m\u001b[0;34m)\u001b[0m\u001b[0;34m]\u001b[0m\u001b[0;34m\u001b[0m\u001b[0;34m\u001b[0m\u001b[0m\n\u001b[0m\u001b[1;32m     34\u001b[0m         \u001b[0mpred_bboxes_\u001b[0m\u001b[0;34m,\u001b[0m \u001b[0mpred_labels_\u001b[0m\u001b[0;34m,\u001b[0m \u001b[0mpred_scores_\u001b[0m \u001b[0;34m=\u001b[0m \u001b[0mfaster_rcnn\u001b[0m\u001b[0;34m.\u001b[0m\u001b[0mpredict\u001b[0m\u001b[0;34m(\u001b[0m\u001b[0mimgs\u001b[0m\u001b[0;34m,\u001b[0m \u001b[0;34m[\u001b[0m\u001b[0msizes\u001b[0m\u001b[0;34m]\u001b[0m\u001b[0;34m)\u001b[0m\u001b[0;34m\u001b[0m\u001b[0;34m\u001b[0m\u001b[0m\n\u001b[1;32m     35\u001b[0m         \u001b[0mgt_bboxes\u001b[0m \u001b[0;34m+=\u001b[0m \u001b[0mlist\u001b[0m\u001b[0;34m(\u001b[0m\u001b[0mgt_bboxes_\u001b[0m\u001b[0;34m.\u001b[0m\u001b[0mnumpy\u001b[0m\u001b[0;34m(\u001b[0m\u001b[0;34m)\u001b[0m\u001b[0;34m)\u001b[0m\u001b[0;34m\u001b[0m\u001b[0;34m\u001b[0m\u001b[0m\n",
      "\u001b[0;31mValueError\u001b[0m: only one element tensors can be converted to Python scalars"
     ]
    }
   ],
   "source": [
    "eval(val_loader,rfcn,test_num=10)"
   ]
  },
  {
   "cell_type": "code",
   "execution_count": 11,
   "metadata": {},
   "outputs": [
    {
     "data": {
      "text/plain": [
       "'checkpoints/fasterrcnn_06090145'"
      ]
     },
     "execution_count": 11,
     "metadata": {},
     "output_type": "execute_result"
    }
   ],
   "source": [
    "trainer.save()"
   ]
  },
  {
   "cell_type": "code",
   "execution_count": 7,
   "metadata": {
    "scrolled": true
   },
   "outputs": [
    {
     "ename": "NameError",
     "evalue": "name 'trainer' is not defined",
     "output_type": "error",
     "traceback": [
      "\u001b[0;31m\u001b[0m",
      "\u001b[0;31mNameError\u001b[0mTraceback (most recent call last)",
      "\u001b[0;32m<ipython-input-7-d1c90381d8a4>\u001b[0m in \u001b[0;36m<module>\u001b[0;34m()\u001b[0m\n\u001b[0;32m----> 1\u001b[0;31m \u001b[0mtrainer\u001b[0m\u001b[0;34m.\u001b[0m\u001b[0mload\u001b[0m\u001b[0;34m(\u001b[0m\u001b[0;34m'checkpoints/fasterrcnn_06090145'\u001b[0m\u001b[0;34m)\u001b[0m\u001b[0;34m\u001b[0m\u001b[0;34m\u001b[0m\u001b[0m\n\u001b[0m",
      "\u001b[0;31mNameError\u001b[0m: name 'trainer' is not defined"
     ]
    }
   ],
   "source": [
    "trainer.load('checkpoints/fasterrcnn_06090145')"
   ]
  },
  {
   "cell_type": "code",
   "execution_count": 15,
   "metadata": {},
   "outputs": [
    {
     "data": {
      "text/plain": [
       "nan"
      ]
     },
     "execution_count": 15,
     "metadata": {},
     "output_type": "execute_result"
    }
   ],
   "source": [
    "trainer.get_meter_data()['rpn_loc_loss']"
   ]
  },
  {
   "cell_type": "code",
   "execution_count": 13,
   "metadata": {},
   "outputs": [
    {
     "data": {
      "text/plain": [
       "([], [], [])"
      ]
     },
     "execution_count": 13,
     "metadata": {},
     "output_type": "execute_result"
    }
   ],
   "source": [
    "img, bboxes, lbls, scale = next(iter(val_loader))\n",
    "img = img.to(device)\n",
    "rfcn.predict(img)"
   ]
  },
  {
   "cell_type": "code",
   "execution_count": 10,
   "metadata": {},
   "outputs": [
    {
     "ename": "NameError",
     "evalue": "name 'vis_bbox' is not defined",
     "output_type": "error",
     "traceback": [
      "\u001b[0;31m\u001b[0m",
      "\u001b[0;31mNameError\u001b[0mTraceback (most recent call last)",
      "\u001b[0;32m<ipython-input-10-7287f1308d22>\u001b[0m in \u001b[0;36m<module>\u001b[0;34m()\u001b[0m\n\u001b[1;32m      1\u001b[0m \u001b[0m_bboxes\u001b[0m\u001b[0;34m,\u001b[0m \u001b[0m_labels\u001b[0m\u001b[0;34m,\u001b[0m \u001b[0m_scores\u001b[0m \u001b[0;34m=\u001b[0m \u001b[0mtrainer\u001b[0m\u001b[0;34m.\u001b[0m\u001b[0mfaster_rcnn\u001b[0m\u001b[0;34m.\u001b[0m\u001b[0mpredict\u001b[0m\u001b[0;34m(\u001b[0m\u001b[0mimg\u001b[0m\u001b[0;34m,\u001b[0m\u001b[0mvisualize\u001b[0m\u001b[0;34m=\u001b[0m\u001b[0;32mTrue\u001b[0m\u001b[0;34m)\u001b[0m\u001b[0;34m\u001b[0m\u001b[0;34m\u001b[0m\u001b[0m\n\u001b[0;32m----> 2\u001b[0;31m vis_bbox(at.tonumpy(img[0]),\n\u001b[0m\u001b[1;32m      3\u001b[0m          \u001b[0mat\u001b[0m\u001b[0;34m.\u001b[0m\u001b[0mtonumpy\u001b[0m\u001b[0;34m(\u001b[0m\u001b[0m_bboxes\u001b[0m\u001b[0;34m[\u001b[0m\u001b[0;36m0\u001b[0m\u001b[0;34m]\u001b[0m\u001b[0;34m)\u001b[0m\u001b[0;34m,\u001b[0m\u001b[0;34m\u001b[0m\u001b[0;34m\u001b[0m\u001b[0m\n\u001b[1;32m      4\u001b[0m          \u001b[0mat\u001b[0m\u001b[0;34m.\u001b[0m\u001b[0mtonumpy\u001b[0m\u001b[0;34m(\u001b[0m\u001b[0m_labels\u001b[0m\u001b[0;34m[\u001b[0m\u001b[0;36m0\u001b[0m\u001b[0;34m]\u001b[0m\u001b[0;34m)\u001b[0m\u001b[0;34m.\u001b[0m\u001b[0mreshape\u001b[0m\u001b[0;34m(\u001b[0m\u001b[0;34m-\u001b[0m\u001b[0;36m1\u001b[0m\u001b[0;34m)\u001b[0m\u001b[0;34m,\u001b[0m\u001b[0;34m\u001b[0m\u001b[0;34m\u001b[0m\u001b[0m\n\u001b[1;32m      5\u001b[0m          at.tonumpy(_scores[0]).reshape(-1))\n",
      "\u001b[0;31mNameError\u001b[0m: name 'vis_bbox' is not defined"
     ]
    }
   ],
   "source": [
    "_bboxes, _labels, _scores = trainer.faster_rcnn.predict(img,visualize=True)\n",
    "vis_bbox(at.tonumpy(img[0]),\n",
    "         at.tonumpy(_bboxes[0]),\n",
    "         at.tonumpy(_labels[0]).reshape(-1),\n",
    "         at.tonumpy(_scores[0]).reshape(-1))"
   ]
  },
  {
   "cell_type": "code",
   "execution_count": 16,
   "metadata": {},
   "outputs": [
    {
     "name": "stdout",
     "output_type": "stream",
     "text": [
      "0 1\n"
     ]
    }
   ],
   "source": [
    "l = {0:1}\n",
    "l.items()\n",
    "for i,j in l.items():\n",
    "    print(i,j)"
   ]
  },
  {
   "cell_type": "code",
   "execution_count": 27,
   "metadata": {},
   "outputs": [
    {
     "data": {
      "text/plain": [
       "'5.00'"
      ]
     },
     "execution_count": 27,
     "metadata": {},
     "output_type": "execute_result"
    }
   ],
   "source": [
    "\"{}\".format(\"%.2f\" % 5.002)"
   ]
  },
  {
   "cell_type": "code",
   "execution_count": null,
   "metadata": {},
   "outputs": [],
   "source": []
  }
 ],
 "metadata": {
  "kernelspec": {
   "display_name": "Python 3",
   "language": "python",
   "name": "python3"
  }
 },
 "nbformat": 4,
 "nbformat_minor": 2
}
