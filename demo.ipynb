{
 "cells": [
  {
   "cell_type": "code",
   "execution_count": null,
   "metadata": {},
   "outputs": [],
   "source": [
    "%matplotlib notebook\n",
    "from utils.dataloader import PascalVOCDataset\n",
    "from utils.dataloader import myimshow\n",
    "import torch\n",
    "import torch.utils.data as td\n",
    "import torchvision as tv\n",
    "import numpy as np\n",
    "from matplotlib import pyplot as plt"
   ]
  },
  {
   "cell_type": "code",
   "execution_count": null,
   "metadata": {},
   "outputs": [],
   "source": [
    "dataset_root_dir = \"/datasets/ee285f-public/PascalVOC2012/\"\n",
    "\n",
    "#Creating training and validation sets. Go to utils/dataloader.py for info on important PascalVOCDataset arguments & attributes\n",
    "train_set = PascalVOCDataset(dataset_root_dir, mode= 'train')\n",
    "val_set = PascalVOCDataset(dataset_root_dir, mode= 'val')\n",
    "\n",
    "#Create dataloaders\n",
    "B = 50\n",
    "train_loader = td.DataLoader(train_set, batch_size = B, pin_memory = True, shuffle = True)\n",
    "val_loader = td.DataLoader(val_set, batch_size = B, pin_memory = True)"
   ]
  },
  {
   "cell_type": "code",
   "execution_count": null,
   "metadata": {},
   "outputs": [],
   "source": [
    "#Training set image demo\n",
    "fig, ax = plt.subplots()\n",
    "x, mask, objects = train_set.__getitem__(10)\n",
    "h = myimshow(x, ax)\n",
    "for i in range(len(objects)):\n",
    "    print(\"Bounding box corners\": objects[i]['bbox'])"
   ]
  },
  {
   "cell_type": "code",
   "execution_count": null,
   "metadata": {},
   "outputs": [],
   "source": []
  }
 ],
 "metadata": {
  "kernelspec": {
   "display_name": "Python 3",
   "language": "python",
   "name": "python3"
  },
  "language_info": {
   "codemirror_mode": {
    "name": "ipython",
    "version": 3
   },
   "file_extension": ".py",
   "mimetype": "text/x-python",
   "name": "python",
   "nbconvert_exporter": "python",
   "pygments_lexer": "ipython3",
   "version": "3.6.8"
  }
 },
 "nbformat": 4,
 "nbformat_minor": 2
}
